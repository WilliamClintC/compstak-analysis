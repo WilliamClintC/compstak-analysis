{
 "cells": [
  {
   "cell_type": "code",
   "execution_count": 1,
   "id": "8f830655",
   "metadata": {},
   "outputs": [],
   "source": [
    "import pandas as pd\n",
    "import matplotlib.pyplot as plt\n",
    "import numpy as np\n",
    "import seaborn as sns\n",
    "from matplotlib_venn import venn2\n",
    "\n",
    "# Load the CSV files as DataFrames\n",
    "compstak_df = pd.read_csv(r'C:\\Users\\clint\\Desktop\\compstak-analysis\\Data\\compstak.csv')\n",
    "doe_df = pd.read_csv(r'C:\\Users\\clint\\Desktop\\compstak-analysis\\Data\\DOE.csv')"
   ]
  },
  {
   "cell_type": "code",
   "execution_count": 2,
   "id": "4063ec82",
   "metadata": {},
   "outputs": [],
   "source": [
    "mapping_data = [\n",
    "    # Direct mappings\n",
    "    [\"Industrial\", \"All\", \"Industrial\"],\n",
    "    [\"Multi-Family\", \"All\", \"Multi-Family\"],\n",
    "    [\"Office\", \"All\", \"Office\"],\n",
    "    [\"Retail\", \"All\", \"Retail\"],\n",
    "    [\"General Retail\", \"All\", \"Retail\"],\n",
    "    [\"Hospitality\", \"All\", \"Hotel\"],\n",
    "\n",
    "    # Flex\n",
    "    [\"Flex\", \"Light Distribution\", \"Industrial\"],\n",
    "    [\"Flex\", \"Light Manufacturing\", \"Industrial\"],\n",
    "    [\"Flex\", \"R&D\", \"Industrial\"],\n",
    "    [\"Flex\", \"Showroom\", \"Retail\"],\n",
    "    [\"Flex\", \"Telecom Hotel/Data Hosting\", \"Other\"],\n",
    "    [\"Flex\", \"All Others\", \"Industrial\"],\n",
    "\n",
    "    # Health Care\n",
    "    [\"Health Care\", \"Assisted Living\", \"Other\"],\n",
    "    [\"Health Care\", \"Congregate Senior Housing\", \"Other\"],\n",
    "    [\"Health Care\", \"Continuing Care Retirement Community\", \"Other\"],\n",
    "    [\"Health Care\", \"Hospital\", \"Hotel\"],\n",
    "    [\"Health Care\", \"Rehabilitation Center\", \"Other\"],\n",
    "    [\"Health Care\", \"Skilled Nursing Facility\", \"Other\"],\n",
    "\n",
    "    # Specialty\n",
    "    [\"Specialty\", \"Airplane Hangar\", \"Other\"],\n",
    "    [\"Specialty\", \"Airport\", \"Other\"],\n",
    "    [\"Specialty\", \"Auto Salvage Facility\", \"Other\"],\n",
    "    [\"Specialty\", \"Car Wash\", \"Retail\"],\n",
    "    [\"Specialty\", \"Cement/Gravel Plant\", \"Industrial\"],\n",
    "    [\"Specialty\", \"Cemetery/Mausoleum\", \"Other\"],\n",
    "    [\"Specialty\", \"Chemical/Oil Refinery\", \"Industrial\"],\n",
    "    [\"Specialty\", \"Contractor Storage Yard\", \"Industrial\"],\n",
    "    [\"Specialty\", \"Correctional Facility\", \"Other\"],\n",
    "    [\"Specialty\", \"Drive-in Movie\", \"Other\"],\n",
    "    [\"Specialty\", \"Landfill\", \"Other\"],\n",
    "    [\"Specialty\", \"Lodge/Meeting Hall\", \"Hotel\"],\n",
    "    [\"Specialty\", \"Lumberyard\", \"Industrial\"],\n",
    "    [\"Specialty\", \"Marina\", \"Other\"],\n",
    "    [\"Specialty\", \"Movie/Radio/TV Studio\", \"Other\"],\n",
    "    [\"Specialty\", \"Parking Garage\", \"Other\"],\n",
    "    [\"Specialty\", \"Parking Lot\", \"Other\"],\n",
    "    [\"Specialty\", \"Police/Fire Station\", \"Other\"],\n",
    "    [\"Specialty\", \"Post Office\", \"Other\"],\n",
    "    [\"Specialty\", \"Public Library\", \"Other\"],\n",
    "    [\"Specialty\", \"Radio/TV Transmission Facilities\", \"Other\"],\n",
    "    [\"Specialty\", \"Railroad Yard\", \"Industrial\"],\n",
    "    [\"Specialty\", \"Recycling Center\", \"Industrial\"],\n",
    "    [\"Specialty\", \"Religious Facility\", \"Other\"],\n",
    "    [\"Specialty\", \"Residential Income\", \"Multi-Family\"],\n",
    "    [\"Specialty\", \"Schools\", \"Other\"],\n",
    "    [\"Specialty\", \"Self-Storage\", \"Other\"],\n",
    "    [\"Specialty\", \"Shelter\", \"Other\"],\n",
    "    [\"Specialty\", \"Shipyard\", \"Industrial\"],\n",
    "    [\"Specialty\", \"Sorority/Fraternity House\", \"Other\"],\n",
    "    [\"Specialty\", \"Trailer/Camper Park\", \"Other\"],\n",
    "    [\"Specialty\", \"Utility Sub-Station\", \"Other\"],\n",
    "    [\"Specialty\", \"Water Retention Facility\", \"Other\"],\n",
    "    [\"Specialty\", \"Water Treatment Facility\", \"Other\"],\n",
    "    [\"Specialty\", \"Winery/Vineyard\", \"Other\"],\n",
    "    [\"Specialty\", \"All Others\", \"Other\"],\n",
    "\n",
    "    # Sports & Entertainment\n",
    "    [\"Sports & Entertainment\", \"Amusement Park\", \"Other\"],\n",
    "    [\"Sports & Entertainment\", \"Baseball Field\", \"Other\"],\n",
    "    [\"Sports & Entertainment\", \"Casino\", \"Hotel\"],\n",
    "    [\"Sports & Entertainment\", \"Golf Course/Driving Range\", \"Other\"],\n",
    "    [\"Sports & Entertainment\", \"Horse Stables\", \"Other\"],\n",
    "    [\"Sports & Entertainment\", \"Race Track\", \"Other\"],\n",
    "    [\"Sports & Entertainment\", \"Skating Rink\", \"Other\"],\n",
    "    [\"Sports & Entertainment\", \"Swimming Pool\", \"Other\"],\n",
    "    [\"Sports & Entertainment\", \"Theater/Concert Hall\", \"Other\"],\n",
    "    [\"Sports & Entertainment\", \"All Others\", \"Other\"],\n",
    "\n",
    "    # Unknown\n",
    "    [\"Unknown\", \"All\", \"Other\"]\n",
    "]\n",
    "\n",
    "# Step 2: Create mapping DataFrame\n",
    "mapping_df = pd.DataFrame(mapping_data, columns=[\"DOE Property Type\", \"DOE Subtype\", \"Mapped Compstak Property Type\"])"
   ]
  },
  {
   "cell_type": "code",
   "execution_count": 3,
   "id": "7655aa44",
   "metadata": {},
   "outputs": [],
   "source": [
    "# Define the mapping function\n",
    "def map_compstak_category(row):\n",
    "    prop_type = row['reported_propertytype']\n",
    "    prop_subtype = row['reported_propertysubtype']\n",
    "\n",
    "    # First: look for exact match on property type where DOE Subtype == 'All'\n",
    "    match = mapping_df[\n",
    "        (mapping_df['DOE Property Type'] == prop_type) &\n",
    "        (mapping_df['DOE Subtype'] == 'All')\n",
    "    ]\n",
    "    if not match.empty:\n",
    "        return match.iloc[0]['Mapped Compstak Property Type']\n",
    "\n",
    "    # Second: look for match on subtype\n",
    "    subtype_match = mapping_df[\n",
    "        (mapping_df['DOE Property Type'] == prop_type) &\n",
    "        (mapping_df['DOE Subtype'] == prop_subtype)\n",
    "    ]\n",
    "    if not subtype_match.empty:\n",
    "        return subtype_match.iloc[0]['Mapped Compstak Property Type']\n",
    "\n",
    "    # Third: if subtype is empty or NaN, treat as 'All Others' for ambiguous types\n",
    "    if (pd.isna(prop_subtype) or str(prop_subtype).strip() == ''):\n",
    "        fallback_match = mapping_df[\n",
    "            (mapping_df['DOE Property Type'] == prop_type) &\n",
    "            (mapping_df['DOE Subtype'] == 'All Others')\n",
    "        ]\n",
    "        if not fallback_match.empty:\n",
    "            return fallback_match.iloc[0]['Mapped Compstak Property Type']\n",
    "\n",
    "    # If nothing matches\n",
    "    return 'Unmapped'"
   ]
  },
  {
   "cell_type": "code",
   "execution_count": 4,
   "id": "c0f505fe",
   "metadata": {},
   "outputs": [
    {
     "data": {
      "application/vnd.microsoft.datawrangler.viewer.v0+json": {
       "columns": [
        {
         "name": "index",
         "rawType": "int64",
         "type": "integer"
        },
        {
         "name": "statecode",
         "rawType": "object",
         "type": "string"
        },
        {
         "name": "reported_propertytype",
         "rawType": "object",
         "type": "string"
        },
        {
         "name": "reported_propertysubtype",
         "rawType": "object",
         "type": "unknown"
        },
        {
         "name": "compstak_equivalent_category",
         "rawType": "object",
         "type": "string"
        }
       ],
       "conversionMethod": "pd.DataFrame",
       "ref": "cbe71173-b4ed-4ab9-8138-0c9cf2189952",
       "rows": [
        [
         "0",
         "CT",
         "Flex",
         "Light Manufacturing",
         "Industrial"
        ],
        [
         "1",
         "CT",
         "Industrial",
         "Warehouse",
         "Industrial"
        ],
        [
         "2",
         "CT",
         "Industrial",
         null,
         "Industrial"
        ],
        [
         "3",
         "CT",
         "Multi-Family",
         "Apartments",
         "Multi-Family"
        ],
        [
         "4",
         "CT",
         "Multi-Family",
         "Apartments",
         "Multi-Family"
        ],
        [
         "5",
         "CT",
         "Office",
         "Office Live/Work Unit",
         "Office"
        ],
        [
         "6",
         "CT",
         "Office",
         "Office/Residential",
         "Office"
        ],
        [
         "7",
         "CT",
         "Office",
         null,
         "Office"
        ],
        [
         "8",
         "CT",
         "Office",
         null,
         "Office"
        ],
        [
         "9",
         "CT",
         "Retail",
         "Convenience Store",
         "Retail"
        ],
        [
         "10",
         "CT",
         "Retail",
         "Freestanding",
         "Retail"
        ],
        [
         "11",
         "CT",
         "Retail",
         "Freestanding",
         "Retail"
        ],
        [
         "12",
         "CT",
         "Retail",
         "Freestanding",
         "Retail"
        ],
        [
         "13",
         "CT",
         "Retail",
         "Service Station",
         "Retail"
        ],
        [
         "14",
         "CT",
         "Retail",
         "Service Station",
         "Retail"
        ],
        [
         "15",
         "CT",
         "Retail",
         null,
         "Retail"
        ],
        [
         "16",
         "CT",
         "Retail",
         null,
         "Retail"
        ],
        [
         "17",
         "CT",
         "Specialty",
         "Self-Storage",
         "Other"
        ],
        [
         "18",
         "CT",
         "Flex",
         "Light Manufacturing",
         "Industrial"
        ],
        [
         "19",
         "CT",
         "Flex",
         null,
         "Industrial"
        ],
        [
         "20",
         "CT",
         "Health Care",
         "Rehabilitation Center",
         "Other"
        ],
        [
         "21",
         "CT",
         "Industrial",
         "Distribution",
         "Industrial"
        ],
        [
         "22",
         "CT",
         "Industrial",
         "Distribution",
         "Industrial"
        ],
        [
         "23",
         "CT",
         "Industrial",
         "Manufacturing",
         "Industrial"
        ],
        [
         "24",
         "CT",
         "Industrial",
         "Manufacturing",
         "Industrial"
        ],
        [
         "25",
         "CT",
         "Industrial",
         "Manufacturing",
         "Industrial"
        ],
        [
         "26",
         "CT",
         "Industrial",
         "Manufacturing",
         "Industrial"
        ],
        [
         "27",
         "CT",
         "Industrial",
         "Service",
         "Industrial"
        ],
        [
         "28",
         "CT",
         "Industrial",
         "Service",
         "Industrial"
        ],
        [
         "29",
         "CT",
         "Industrial",
         "Warehouse",
         "Industrial"
        ],
        [
         "30",
         "CT",
         "Industrial",
         "Warehouse",
         "Industrial"
        ],
        [
         "31",
         "CT",
         "Industrial",
         "Warehouse",
         "Industrial"
        ],
        [
         "32",
         "CT",
         "Industrial",
         "Warehouse",
         "Industrial"
        ],
        [
         "33",
         "CT",
         "Industrial",
         "Warehouse",
         "Industrial"
        ],
        [
         "34",
         "CT",
         "Industrial",
         "Warehouse",
         "Industrial"
        ],
        [
         "35",
         "CT",
         "Industrial",
         "Warehouse",
         "Industrial"
        ],
        [
         "36",
         "CT",
         "Industrial",
         "Warehouse",
         "Industrial"
        ],
        [
         "37",
         "CT",
         "Industrial",
         "Warehouse",
         "Industrial"
        ],
        [
         "38",
         "CT",
         "Industrial",
         "Warehouse",
         "Industrial"
        ],
        [
         "39",
         "CT",
         "Industrial",
         "Warehouse",
         "Industrial"
        ],
        [
         "40",
         "CT",
         "Industrial",
         "Warehouse",
         "Industrial"
        ],
        [
         "41",
         "CT",
         "Industrial",
         "Warehouse",
         "Industrial"
        ],
        [
         "42",
         "CT",
         "Industrial",
         "Warehouse",
         "Industrial"
        ],
        [
         "43",
         "CT",
         "Industrial",
         null,
         "Industrial"
        ],
        [
         "44",
         "CT",
         "Industrial",
         null,
         "Industrial"
        ],
        [
         "45",
         "CT",
         "Multi-Family",
         "Apartments",
         "Multi-Family"
        ],
        [
         "46",
         "CT",
         "Multi-Family",
         "Apartments",
         "Multi-Family"
        ],
        [
         "47",
         "CT",
         "Multi-Family",
         "Apartments",
         "Multi-Family"
        ],
        [
         "48",
         "CT",
         "Multi-Family",
         "Apartments",
         "Multi-Family"
        ],
        [
         "49",
         "CT",
         "Multi-Family",
         "Apartments",
         "Multi-Family"
        ]
       ],
       "shape": {
        "columns": 4,
        "rows": 2246485
       }
      },
      "text/html": [
       "<div>\n",
       "<style scoped>\n",
       "    .dataframe tbody tr th:only-of-type {\n",
       "        vertical-align: middle;\n",
       "    }\n",
       "\n",
       "    .dataframe tbody tr th {\n",
       "        vertical-align: top;\n",
       "    }\n",
       "\n",
       "    .dataframe thead th {\n",
       "        text-align: right;\n",
       "    }\n",
       "</style>\n",
       "<table border=\"1\" class=\"dataframe\">\n",
       "  <thead>\n",
       "    <tr style=\"text-align: right;\">\n",
       "      <th></th>\n",
       "      <th>statecode</th>\n",
       "      <th>reported_propertytype</th>\n",
       "      <th>reported_propertysubtype</th>\n",
       "      <th>compstak_equivalent_category</th>\n",
       "    </tr>\n",
       "  </thead>\n",
       "  <tbody>\n",
       "    <tr>\n",
       "      <th>0</th>\n",
       "      <td>CT</td>\n",
       "      <td>Flex</td>\n",
       "      <td>Light Manufacturing</td>\n",
       "      <td>Industrial</td>\n",
       "    </tr>\n",
       "    <tr>\n",
       "      <th>1</th>\n",
       "      <td>CT</td>\n",
       "      <td>Industrial</td>\n",
       "      <td>Warehouse</td>\n",
       "      <td>Industrial</td>\n",
       "    </tr>\n",
       "    <tr>\n",
       "      <th>2</th>\n",
       "      <td>CT</td>\n",
       "      <td>Industrial</td>\n",
       "      <td>NaN</td>\n",
       "      <td>Industrial</td>\n",
       "    </tr>\n",
       "    <tr>\n",
       "      <th>3</th>\n",
       "      <td>CT</td>\n",
       "      <td>Multi-Family</td>\n",
       "      <td>Apartments</td>\n",
       "      <td>Multi-Family</td>\n",
       "    </tr>\n",
       "    <tr>\n",
       "      <th>4</th>\n",
       "      <td>CT</td>\n",
       "      <td>Multi-Family</td>\n",
       "      <td>Apartments</td>\n",
       "      <td>Multi-Family</td>\n",
       "    </tr>\n",
       "    <tr>\n",
       "      <th>...</th>\n",
       "      <td>...</td>\n",
       "      <td>...</td>\n",
       "      <td>...</td>\n",
       "      <td>...</td>\n",
       "    </tr>\n",
       "    <tr>\n",
       "      <th>2246480</th>\n",
       "      <td>WI</td>\n",
       "      <td>Retail</td>\n",
       "      <td>Storefront Retail/Office</td>\n",
       "      <td>Retail</td>\n",
       "    </tr>\n",
       "    <tr>\n",
       "      <th>2246481</th>\n",
       "      <td>WI</td>\n",
       "      <td>Retail</td>\n",
       "      <td>Storefront Retail/Office</td>\n",
       "      <td>Retail</td>\n",
       "    </tr>\n",
       "    <tr>\n",
       "      <th>2246482</th>\n",
       "      <td>WI</td>\n",
       "      <td>Retail</td>\n",
       "      <td>NaN</td>\n",
       "      <td>Retail</td>\n",
       "    </tr>\n",
       "    <tr>\n",
       "      <th>2246483</th>\n",
       "      <td>WI</td>\n",
       "      <td>Retail</td>\n",
       "      <td>NaN</td>\n",
       "      <td>Retail</td>\n",
       "    </tr>\n",
       "    <tr>\n",
       "      <th>2246484</th>\n",
       "      <td>WI</td>\n",
       "      <td>Specialty</td>\n",
       "      <td>Post Office</td>\n",
       "      <td>Other</td>\n",
       "    </tr>\n",
       "  </tbody>\n",
       "</table>\n",
       "<p>2246485 rows × 4 columns</p>\n",
       "</div>"
      ],
      "text/plain": [
       "        statecode reported_propertytype  reported_propertysubtype  \\\n",
       "0              CT                  Flex       Light Manufacturing   \n",
       "1              CT            Industrial                 Warehouse   \n",
       "2              CT            Industrial                       NaN   \n",
       "3              CT          Multi-Family                Apartments   \n",
       "4              CT          Multi-Family                Apartments   \n",
       "...           ...                   ...                       ...   \n",
       "2246480        WI                Retail  Storefront Retail/Office   \n",
       "2246481        WI                Retail  Storefront Retail/Office   \n",
       "2246482        WI                Retail                       NaN   \n",
       "2246483        WI                Retail                       NaN   \n",
       "2246484        WI             Specialty               Post Office   \n",
       "\n",
       "        compstak_equivalent_category  \n",
       "0                         Industrial  \n",
       "1                         Industrial  \n",
       "2                         Industrial  \n",
       "3                       Multi-Family  \n",
       "4                       Multi-Family  \n",
       "...                              ...  \n",
       "2246480                       Retail  \n",
       "2246481                       Retail  \n",
       "2246482                       Retail  \n",
       "2246483                       Retail  \n",
       "2246484                        Other  \n",
       "\n",
       "[2246485 rows x 4 columns]"
      ]
     },
     "execution_count": 4,
     "metadata": {},
     "output_type": "execute_result"
    }
   ],
   "source": [
    "# Apply the mapping function to the DOE DataFrame\n",
    "doe_df['compstak_equivalent_category'] = doe_df.apply(map_compstak_category, axis=1)\n",
    "doe_df"
   ]
  },
  {
   "cell_type": "code",
   "execution_count": 5,
   "id": "e0559fac",
   "metadata": {},
   "outputs": [],
   "source": [
    "doe_df.to_csv('DOE.csv', index=False)"
   ]
  },
  {
   "cell_type": "code",
   "execution_count": null,
   "id": "276133a4",
   "metadata": {},
   "outputs": [],
   "source": []
  }
 ],
 "metadata": {
  "kernelspec": {
   "display_name": "Python 3",
   "language": "python",
   "name": "python3"
  },
  "language_info": {
   "codemirror_mode": {
    "name": "ipython",
    "version": 3
   },
   "file_extension": ".py",
   "mimetype": "text/x-python",
   "name": "python",
   "nbconvert_exporter": "python",
   "pygments_lexer": "ipython3",
   "version": "3.11.9"
  }
 },
 "nbformat": 4,
 "nbformat_minor": 5
}
