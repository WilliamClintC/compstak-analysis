{
 "cells": [
  {
   "cell_type": "markdown",
   "id": "35953757",
   "metadata": {},
   "source": [
    "**Understanding industry classifications**\n",
    "\n",
    "1. we must first understand what industry classification is best to use and the nuances between each one."
   ]
  },
  {
   "cell_type": "code",
   "execution_count": 2,
   "id": "01105c77",
   "metadata": {},
   "outputs": [
    {
     "name": "stderr",
     "output_type": "stream",
     "text": [
      "C:\\Users\\clint\\AppData\\Local\\Temp\\ipykernel_20252\\1621790509.py:14: DtypeWarning: Columns (8,52,73,77) have mixed types. Specify dtype option on import or set low_memory=False.\n",
      "  sales = pd.read_csv(path + 'university-of-british-columbia-sales-2025-04-02.csv')\n",
      "C:\\Users\\clint\\AppData\\Local\\Temp\\ipykernel_20252\\1621790509.py:15: DtypeWarning: Columns (15,35,37,59,61,67,71,73,76,77,78,80,82,85) have mixed types. Specify dtype option on import or set low_memory=False.\n",
      "  leases = pd.read_csv(path + 'university-of-british-columbia-leases-2025-04-02.csv')\n"
     ]
    }
   ],
   "source": [
    "import pandas as pd\n",
    "import matplotlib.pyplot as plt\n",
    "import numpy as np\n",
    "\n",
    "# Set paths here C:\\Users\\clint\\Desktop\\compstak-ra\\src\\exploration_1.ipynb\n",
    "#C:\\Users\\clint\\Desktop\\compstak-ra\\data\\data\\university-of-british-columbia-leases-2025-04-02.csv\n",
    "#C:\\Users\\clint\\Desktop\\compstak-ra\\data\\data\\university-of-british-columbia-sales-2025-04-02.csv\n",
    "#C:\\Users\\clint\\Desktop\\compstak-ra\\data\\data\\cb_2018_us_state_5m\\cb_2018_us_state_5m.shp\n",
    "path = 'C:/Users/clint/Desktop/data/data/'\n",
    "# Update the shapefile path to the correct location\n",
    "shapefile_path = 'C:/Users/clint/Desktop/data/data/cb_2018_us_state_5m/cb_2018_us_state_5m.shp'\n",
    "\n",
    "# Load the data\n",
    "sales = pd.read_csv(path + 'university-of-british-columbia-sales-2025-04-02.csv')\n",
    "leases = pd.read_csv(path + 'university-of-british-columbia-leases-2025-04-02.csv')"
   ]
  },
  {
   "cell_type": "code",
   "execution_count": 3,
   "id": "f351c501",
   "metadata": {},
   "outputs": [],
   "source": [
    "# Combine sales and leases data\n",
    "sales['Source'] = 'Sales'\n",
    "leases['Source'] = 'Leases'\n",
    "combined_data = pd.concat([sales, leases], ignore_index=True)"
   ]
  },
  {
   "cell_type": "markdown",
   "id": "a6f51076",
   "metadata": {},
   "source": [
    "# Property Type and Subtype Analysis\n",
    "\n",
    "Let's analyze the coverage and distribution by Property Type and Property Subtype, similar to our state-level analysis."
   ]
  },
  {
   "cell_type": "code",
   "execution_count": 4,
   "id": "1a20b8a7",
   "metadata": {},
   "outputs": [
    {
     "name": "stdout",
     "output_type": "stream",
     "text": [
      "Property Types in sales data:\n",
      "Property Type\n",
      "Retail          173102\n",
      "Industrial      112989\n",
      "Multi-Family     92561\n",
      "Office           88399\n",
      "Land             50548\n",
      "Other             8907\n",
      "Hotel             5500\n",
      "Mixed-Use         3028\n",
      "Name: count, dtype: int64\n",
      "\n",
      "Property Subtypes in sales data:\n",
      "Property Subtype\n",
      "Apartments                96603\n",
      "Warehouse/Distribution    48725\n",
      "General Retail            27493\n",
      "Vacant Land               22973\n",
      "Flex/R&D                  22733\n",
      "Medical/Healthcare        22585\n",
      "Mixed-Use                 21812\n",
      "Restaurant/Bar            21720\n",
      "Automotive                13323\n",
      "Condominium               10213\n",
      "Name: count, dtype: int64\n",
      "\n",
      "Property Types in leases data:\n",
      "Property Type\n",
      "Office          659897\n",
      "Industrial      296444\n",
      "Retail          172828\n",
      "Multi-Family     15391\n",
      "Mixed-Use         6636\n",
      "Land              3037\n",
      "Other             2118\n",
      "Hotel              643\n",
      "Name: count, dtype: int64\n",
      "\n",
      "Property Subtypes in leases data:\n",
      "Property Subtype\n",
      "Medical/Healthcare              139366\n",
      "Warehouse/Distribution          132875\n",
      "Flex/R&D                        112559\n",
      "Mixed-Use                        67369\n",
      "General Retail                   34198\n",
      "Super-Regional Center/Mall       30946\n",
      "Business Park                    19554\n",
      "Life Science/Lab                 18717\n",
      "Neighborhood Shopping Center     17611\n",
      "Manufacturing                    17365\n",
      "Apartments                       16741\n",
      "Light Industrial                 15608\n",
      "Financial Building               14298\n",
      "Restaurant/Bar                   13523\n",
      "Condominium                      12734\n",
      "Parking                          10794\n",
      "Convenience/Strip Center         10426\n",
      "Vacant Land                      10263\n",
      "Freestanding                      9308\n",
      "Shopping Centers                  8796\n",
      "Community Shopping Center         7211\n",
      "Automotive                        4516\n",
      "Sports & Recreation               4178\n",
      "Creative                          4120\n",
      "Hospitality Related               3077\n",
      "Educational/School                3069\n",
      "Refrigerated/Cold Storage         2737\n",
      "Street Retail/Storefront          2283\n",
      "Inline                            1859\n",
      "Municipality/Public Service       1824\n",
      "Special Industrial                1744\n",
      "Showroom                          1632\n",
      "Community/Recreation Center       1404\n",
      "Department Store                  1321\n",
      "Self-Storage                      1206\n",
      "Outlet                            1069\n",
      "Communication/Data Center         1041\n",
      "Fuel & Service Station             983\n",
      "Special Purpose                    939\n",
      "Bank                               939\n",
      "Professional Building              860\n",
      "Heavy Industrial                   706\n",
      "Transportation                     579\n",
      "Industrial Outdoor Storage         574\n",
      "Processing                         496\n",
      "Hospital/Healthcare Facility       400\n",
      "Day Care Facility                  385\n",
      "Mobile Home Park                   349\n",
      "Assembly/Meeting Place             342\n",
      "Live/Work                          141\n",
      "Funeral/Mortuary                    66\n",
      "Drive Thru                          64\n",
      "Student Housing                     54\n",
      "Senior Housing                      32\n",
      "Housing                             15\n",
      "Under Construction                  15\n",
      "Name: count, dtype: int64\n"
     ]
    }
   ],
   "source": [
    "# First, let's explore what Property Types and Subtypes are available in our data\n",
    "print('Property Types in sales data:')\n",
    "print(sales['Property Type'].value_counts())\n",
    "print('\\nProperty Subtypes in sales data:')\n",
    "print(sales['Property Subtype'].value_counts().head(10))  # Show top 10 subtypes\n",
    "\n",
    "print('\\nProperty Types in leases data:')\n",
    "print(leases['Property Type'].value_counts())\n",
    "print('\\nProperty Subtypes in leases data:')\n",
    "print(leases['Property Subtype'].value_counts())  # Show top 10 subtypes"
   ]
  },
  {
   "cell_type": "code",
   "execution_count": 5,
   "id": "bcae04c4",
   "metadata": {},
   "outputs": [
    {
     "name": "stdout",
     "output_type": "stream",
     "text": [
      "[nan 'Hospitality Related' 'Mobile Home Park' 'Vacant Land'\n",
      " 'Warehouse/Distribution' 'Apartments' 'Assembly/Meeting Place'\n",
      " 'Mixed-Use' 'Neighborhood Shopping Center' 'Refrigerated/Cold Storage'\n",
      " 'Flex/R&D' 'Self-Storage' 'Communication/Data Center'\n",
      " 'Educational/School' 'Freestanding' 'Fuel & Service Station'\n",
      " 'General Retail' 'Restaurant/Bar' 'Medical/Healthcare' 'Parking'\n",
      " 'Shopping Centers' 'Special Purpose' 'Financial Building'\n",
      " 'Industrial Outdoor Storage' 'Light Industrial' 'Heavy Industrial'\n",
      " 'Super-Regional Center/Mall' 'Transportation'\n",
      " 'Hospital/Healthcare Facility' 'Student Housing' 'Manufacturing'\n",
      " 'Senior Housing' 'Community Shopping Center' 'Inline' 'Automotive'\n",
      " 'Condominium' 'Sports & Recreation' 'Business Park'\n",
      " 'Community/Recreation Center' 'Special Industrial' 'Life Science/Lab'\n",
      " 'Processing' 'Outlet' 'Convenience/Strip Center'\n",
      " 'Municipality/Public Service' 'Drive Thru' 'Department Store'\n",
      " 'Street Retail/Storefront' 'Bank' 'Housing' 'Creative' 'Showroom'\n",
      " 'Professional Building' 'Funeral/Mortuary' 'Day Care Facility'\n",
      " 'Live/Work' 'Under Construction']\n"
     ]
    }
   ],
   "source": [
    "print(combined_data['Property Subtype'].unique())"
   ]
  },
  {
   "cell_type": "code",
   "execution_count": null,
   "id": "7efd7a77",
   "metadata": {},
   "outputs": [],
   "source": []
  }
 ],
 "metadata": {
  "kernelspec": {
   "display_name": "Python 3",
   "language": "python",
   "name": "python3"
  },
  "language_info": {
   "codemirror_mode": {
    "name": "ipython",
    "version": 3
   },
   "file_extension": ".py",
   "mimetype": "text/x-python",
   "name": "python",
   "nbconvert_exporter": "python",
   "pygments_lexer": "ipython3",
   "version": "3.11.9"
  }
 },
 "nbformat": 4,
 "nbformat_minor": 5
}
