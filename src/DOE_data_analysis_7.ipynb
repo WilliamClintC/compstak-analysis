{
 "cells": [
  {
   "cell_type": "code",
   "execution_count": 1,
   "id": "8f830655",
   "metadata": {},
   "outputs": [],
   "source": [
    "import pandas as pd\n",
    "import matplotlib.pyplot as plt\n",
    "import numpy as np\n",
    "import seaborn as sns\n",
    "from matplotlib_venn import venn2\n",
    "import plotly.express as px\n",
    "import plotly.graph_objects as go\n",
    "import os\n",
    "from datetime import datetime\n",
    "\n"
   ]
  },
  {
   "cell_type": "code",
   "execution_count": 2,
   "id": "276133a4",
   "metadata": {},
   "outputs": [],
   "source": [
    "compstak_df = pd.read_csv(r'C:\\Users\\clint\\Desktop\\compstak-analysis\\Data\\compstak_mapped.csv')\n",
    "doe_df = pd.read_csv(r'C:\\Users\\clint\\Desktop\\compstak-analysis\\Data\\DOE_mapped.csv')"
   ]
  },
  {
   "cell_type": "code",
   "execution_count": 3,
   "id": "25bedea5",
   "metadata": {},
   "outputs": [
    {
     "data": {
      "application/vnd.microsoft.datawrangler.viewer.v0+json": {
       "columns": [
        {
         "name": "index",
         "rawType": "int64",
         "type": "integer"
        },
        {
         "name": "Property Type",
         "rawType": "object",
         "type": "unknown"
        },
        {
         "name": "Property Subtype",
         "rawType": "object",
         "type": "unknown"
        },
        {
         "name": "Property Id",
         "rawType": "int64",
         "type": "integer"
        },
        {
         "name": "State",
         "rawType": "object",
         "type": "string"
        },
        {
         "name": "DOE_Compliant_Property_Type",
         "rawType": "object",
         "type": "string"
        }
       ],
       "conversionMethod": "pd.DataFrame",
       "ref": "9a332cb0-c04c-4173-a5e6-570fc8d085da",
       "rows": [
        [
         "0",
         "Retail",
         "Parking",
         "1",
         "NY",
         "Other"
        ],
        [
         "1",
         "Retail",
         "Apartments",
         "2",
         "NY",
         "Multi-Family"
        ],
        [
         "2",
         "Office",
         null,
         "3",
         "NY",
         "Office"
        ],
        [
         "3",
         "Retail",
         null,
         "4",
         "NY",
         "Retail"
        ],
        [
         "4",
         "Office",
         "Mixed-Use",
         "5",
         "NY",
         "Other"
        ],
        [
         "5",
         "Office",
         "Creative",
         "6",
         "NY",
         "Office"
        ],
        [
         "6",
         "Office",
         null,
         "7",
         "NY",
         "Office"
        ],
        [
         "7",
         "Office",
         "Apartments",
         "9",
         "NY",
         "Multi-Family"
        ],
        [
         "8",
         "Office",
         "Medical/Healthcare",
         "10",
         "NY",
         "Other"
        ],
        [
         "9",
         "Retail",
         "Mixed-Use",
         "11",
         "NY",
         "Other"
        ],
        [
         "10",
         "Office",
         "Mixed-Use",
         "12",
         "NY",
         "Other"
        ],
        [
         "11",
         "Retail",
         "General Retail",
         "13",
         "NY",
         "Retail"
        ],
        [
         "12",
         "Multi-Family",
         "Condominium",
         "14",
         "NY",
         "Multi-Family"
        ],
        [
         "13",
         "Office",
         "Medical/Healthcare",
         "15",
         "NY",
         "Other"
        ],
        [
         "14",
         "Retail",
         "Apartments",
         "16",
         "NY",
         "Multi-Family"
        ],
        [
         "15",
         "Mixed-Use",
         "Street Retail/Storefront",
         "17",
         "NY",
         "Retail"
        ],
        [
         "16",
         "Office",
         "Mixed-Use",
         "18",
         "NY",
         "Other"
        ],
        [
         "17",
         "Office",
         "Mixed-Use",
         "19",
         "NY",
         "Other"
        ],
        [
         "18",
         "Multi-Family",
         "Condominium",
         "20",
         "NY",
         "Multi-Family"
        ],
        [
         "19",
         "Office",
         "Mixed-Use",
         "21",
         "NY",
         "Other"
        ],
        [
         "20",
         "Office",
         null,
         "22",
         "NY",
         "Office"
        ],
        [
         "21",
         "Retail",
         null,
         "23",
         "NY",
         "Retail"
        ],
        [
         "22",
         "Office",
         null,
         "24",
         "NY",
         "Office"
        ],
        [
         "23",
         "Retail",
         "General Retail",
         "25",
         "NY",
         "Retail"
        ],
        [
         "24",
         "Office",
         "General Retail",
         "26",
         "NY",
         "Retail"
        ],
        [
         "25",
         "Office",
         null,
         "27",
         "NY",
         "Office"
        ],
        [
         "26",
         "Office",
         "Sports & Recreation",
         "28",
         "NY",
         "Other"
        ],
        [
         "27",
         "Office",
         "Apartments",
         "29",
         "NY",
         "Multi-Family"
        ],
        [
         "28",
         "Office",
         "Medical/Healthcare",
         "30",
         "NY",
         "Other"
        ],
        [
         "29",
         "Office",
         "Medical/Healthcare",
         "31",
         "NY",
         "Other"
        ],
        [
         "30",
         "Office",
         "General Retail",
         "33",
         "NY",
         "Retail"
        ],
        [
         "31",
         "Office",
         null,
         "34",
         "NY",
         "Office"
        ],
        [
         "32",
         "Office",
         null,
         "35",
         "NY",
         "Office"
        ],
        [
         "33",
         "Office",
         "Mixed-Use",
         "36",
         "NY",
         "Other"
        ],
        [
         "34",
         "Office",
         "Medical/Healthcare",
         "37",
         "NY",
         "Other"
        ],
        [
         "35",
         "Office",
         null,
         "38",
         "NY",
         "Office"
        ],
        [
         "36",
         "Mixed-Use",
         "Mixed-Use",
         "39",
         "NY",
         "Other"
        ],
        [
         "37",
         "Mixed-Use",
         "Condominium",
         "40",
         "NY",
         "Multi-Family"
        ],
        [
         "38",
         "Retail",
         "Mixed-Use",
         "41",
         "NY",
         "Other"
        ],
        [
         "39",
         "Office",
         "Mixed-Use",
         "42",
         "NY",
         "Other"
        ],
        [
         "40",
         "Office",
         null,
         "43",
         "NY",
         "Office"
        ],
        [
         "41",
         "Retail",
         "General Retail",
         "44",
         "NY",
         "Retail"
        ],
        [
         "42",
         "Multi-Family",
         "Apartments",
         "45",
         "NY",
         "Multi-Family"
        ],
        [
         "43",
         "Retail",
         "Street Retail/Storefront",
         "46",
         "NY",
         "Retail"
        ],
        [
         "44",
         "Office",
         "Financial Building",
         "47",
         "NY",
         "Office"
        ],
        [
         "45",
         "Office",
         null,
         "48",
         "NY",
         "Office"
        ],
        [
         "46",
         "Office",
         null,
         "49",
         "NY",
         "Office"
        ],
        [
         "47",
         "Retail",
         "Apartments",
         "50",
         "NY",
         "Multi-Family"
        ],
        [
         "48",
         "Office",
         null,
         "51",
         "NY",
         "Office"
        ],
        [
         "49",
         "Retail",
         "General Retail",
         "52",
         "NY",
         "Retail"
        ]
       ],
       "shape": {
        "columns": 5,
        "rows": 759623
       }
      },
      "text/html": [
       "<div>\n",
       "<style scoped>\n",
       "    .dataframe tbody tr th:only-of-type {\n",
       "        vertical-align: middle;\n",
       "    }\n",
       "\n",
       "    .dataframe tbody tr th {\n",
       "        vertical-align: top;\n",
       "    }\n",
       "\n",
       "    .dataframe thead th {\n",
       "        text-align: right;\n",
       "    }\n",
       "</style>\n",
       "<table border=\"1\" class=\"dataframe\">\n",
       "  <thead>\n",
       "    <tr style=\"text-align: right;\">\n",
       "      <th></th>\n",
       "      <th>Property Type</th>\n",
       "      <th>Property Subtype</th>\n",
       "      <th>Property Id</th>\n",
       "      <th>State</th>\n",
       "      <th>DOE_Compliant_Property_Type</th>\n",
       "    </tr>\n",
       "  </thead>\n",
       "  <tbody>\n",
       "    <tr>\n",
       "      <th>0</th>\n",
       "      <td>Retail</td>\n",
       "      <td>Parking</td>\n",
       "      <td>1</td>\n",
       "      <td>NY</td>\n",
       "      <td>Other</td>\n",
       "    </tr>\n",
       "    <tr>\n",
       "      <th>1</th>\n",
       "      <td>Retail</td>\n",
       "      <td>Apartments</td>\n",
       "      <td>2</td>\n",
       "      <td>NY</td>\n",
       "      <td>Multi-Family</td>\n",
       "    </tr>\n",
       "    <tr>\n",
       "      <th>2</th>\n",
       "      <td>Office</td>\n",
       "      <td>NaN</td>\n",
       "      <td>3</td>\n",
       "      <td>NY</td>\n",
       "      <td>Office</td>\n",
       "    </tr>\n",
       "    <tr>\n",
       "      <th>3</th>\n",
       "      <td>Retail</td>\n",
       "      <td>NaN</td>\n",
       "      <td>4</td>\n",
       "      <td>NY</td>\n",
       "      <td>Retail</td>\n",
       "    </tr>\n",
       "    <tr>\n",
       "      <th>4</th>\n",
       "      <td>Office</td>\n",
       "      <td>Mixed-Use</td>\n",
       "      <td>5</td>\n",
       "      <td>NY</td>\n",
       "      <td>Other</td>\n",
       "    </tr>\n",
       "    <tr>\n",
       "      <th>...</th>\n",
       "      <td>...</td>\n",
       "      <td>...</td>\n",
       "      <td>...</td>\n",
       "      <td>...</td>\n",
       "      <td>...</td>\n",
       "    </tr>\n",
       "    <tr>\n",
       "      <th>759618</th>\n",
       "      <td>NaN</td>\n",
       "      <td>NaN</td>\n",
       "      <td>3611385</td>\n",
       "      <td>NY</td>\n",
       "      <td>Other</td>\n",
       "    </tr>\n",
       "    <tr>\n",
       "      <th>759619</th>\n",
       "      <td>Industrial</td>\n",
       "      <td>Flex/R&amp;D</td>\n",
       "      <td>3611389</td>\n",
       "      <td>FL</td>\n",
       "      <td>Industrial</td>\n",
       "    </tr>\n",
       "    <tr>\n",
       "      <th>759620</th>\n",
       "      <td>Industrial</td>\n",
       "      <td>Flex/R&amp;D</td>\n",
       "      <td>3611390</td>\n",
       "      <td>FL</td>\n",
       "      <td>Industrial</td>\n",
       "    </tr>\n",
       "    <tr>\n",
       "      <th>759621</th>\n",
       "      <td>NaN</td>\n",
       "      <td>NaN</td>\n",
       "      <td>3611391</td>\n",
       "      <td>CA</td>\n",
       "      <td>Other</td>\n",
       "    </tr>\n",
       "    <tr>\n",
       "      <th>759622</th>\n",
       "      <td>NaN</td>\n",
       "      <td>NaN</td>\n",
       "      <td>3611399</td>\n",
       "      <td>NY</td>\n",
       "      <td>Other</td>\n",
       "    </tr>\n",
       "  </tbody>\n",
       "</table>\n",
       "<p>759623 rows × 5 columns</p>\n",
       "</div>"
      ],
      "text/plain": [
       "       Property Type Property Subtype  Property Id State  \\\n",
       "0             Retail          Parking            1    NY   \n",
       "1             Retail       Apartments            2    NY   \n",
       "2             Office              NaN            3    NY   \n",
       "3             Retail              NaN            4    NY   \n",
       "4             Office        Mixed-Use            5    NY   \n",
       "...              ...              ...          ...   ...   \n",
       "759618           NaN              NaN      3611385    NY   \n",
       "759619    Industrial         Flex/R&D      3611389    FL   \n",
       "759620    Industrial         Flex/R&D      3611390    FL   \n",
       "759621           NaN              NaN      3611391    CA   \n",
       "759622           NaN              NaN      3611399    NY   \n",
       "\n",
       "       DOE_Compliant_Property_Type  \n",
       "0                            Other  \n",
       "1                     Multi-Family  \n",
       "2                           Office  \n",
       "3                           Retail  \n",
       "4                            Other  \n",
       "...                            ...  \n",
       "759618                       Other  \n",
       "759619                  Industrial  \n",
       "759620                  Industrial  \n",
       "759621                       Other  \n",
       "759622                       Other  \n",
       "\n",
       "[759623 rows x 5 columns]"
      ]
     },
     "execution_count": 3,
     "metadata": {},
     "output_type": "execute_result"
    }
   ],
   "source": [
    "compstak_df"
   ]
  },
  {
   "cell_type": "code",
   "execution_count": 4,
   "id": "b7ba218c",
   "metadata": {},
   "outputs": [
    {
     "data": {
      "application/vnd.microsoft.datawrangler.viewer.v0+json": {
       "columns": [
        {
         "name": "index",
         "rawType": "int64",
         "type": "integer"
        },
        {
         "name": "statecode",
         "rawType": "object",
         "type": "string"
        },
        {
         "name": "reported_propertytype",
         "rawType": "object",
         "type": "string"
        },
        {
         "name": "reported_propertysubtype",
         "rawType": "object",
         "type": "unknown"
        },
        {
         "name": "compstak_equivalent_category",
         "rawType": "object",
         "type": "string"
        }
       ],
       "conversionMethod": "pd.DataFrame",
       "ref": "c2760017-d77d-4423-9245-cfcd3f120bda",
       "rows": [
        [
         "0",
         "CT",
         "Flex",
         "Light Manufacturing",
         "Industrial"
        ],
        [
         "1",
         "CT",
         "Industrial",
         "Warehouse",
         "Industrial"
        ],
        [
         "2",
         "CT",
         "Industrial",
         null,
         "Industrial"
        ],
        [
         "3",
         "CT",
         "Multi-Family",
         "Apartments",
         "Multi-Family"
        ],
        [
         "4",
         "CT",
         "Multi-Family",
         "Apartments",
         "Multi-Family"
        ],
        [
         "5",
         "CT",
         "Office",
         "Office Live/Work Unit",
         "Office"
        ],
        [
         "6",
         "CT",
         "Office",
         "Office/Residential",
         "Office"
        ],
        [
         "7",
         "CT",
         "Office",
         null,
         "Office"
        ],
        [
         "8",
         "CT",
         "Office",
         null,
         "Office"
        ],
        [
         "9",
         "CT",
         "Retail",
         "Convenience Store",
         "Retail"
        ],
        [
         "10",
         "CT",
         "Retail",
         "Freestanding",
         "Retail"
        ],
        [
         "11",
         "CT",
         "Retail",
         "Freestanding",
         "Retail"
        ],
        [
         "12",
         "CT",
         "Retail",
         "Freestanding",
         "Retail"
        ],
        [
         "13",
         "CT",
         "Retail",
         "Service Station",
         "Retail"
        ],
        [
         "14",
         "CT",
         "Retail",
         "Service Station",
         "Retail"
        ],
        [
         "15",
         "CT",
         "Retail",
         null,
         "Retail"
        ],
        [
         "16",
         "CT",
         "Retail",
         null,
         "Retail"
        ],
        [
         "17",
         "CT",
         "Specialty",
         "Self-Storage",
         "Other"
        ],
        [
         "18",
         "CT",
         "Flex",
         "Light Manufacturing",
         "Industrial"
        ],
        [
         "19",
         "CT",
         "Flex",
         null,
         "Industrial"
        ],
        [
         "20",
         "CT",
         "Health Care",
         "Rehabilitation Center",
         "Other"
        ],
        [
         "21",
         "CT",
         "Industrial",
         "Distribution",
         "Industrial"
        ],
        [
         "22",
         "CT",
         "Industrial",
         "Distribution",
         "Industrial"
        ],
        [
         "23",
         "CT",
         "Industrial",
         "Manufacturing",
         "Industrial"
        ],
        [
         "24",
         "CT",
         "Industrial",
         "Manufacturing",
         "Industrial"
        ],
        [
         "25",
         "CT",
         "Industrial",
         "Manufacturing",
         "Industrial"
        ],
        [
         "26",
         "CT",
         "Industrial",
         "Manufacturing",
         "Industrial"
        ],
        [
         "27",
         "CT",
         "Industrial",
         "Service",
         "Industrial"
        ],
        [
         "28",
         "CT",
         "Industrial",
         "Service",
         "Industrial"
        ],
        [
         "29",
         "CT",
         "Industrial",
         "Warehouse",
         "Industrial"
        ],
        [
         "30",
         "CT",
         "Industrial",
         "Warehouse",
         "Industrial"
        ],
        [
         "31",
         "CT",
         "Industrial",
         "Warehouse",
         "Industrial"
        ],
        [
         "32",
         "CT",
         "Industrial",
         "Warehouse",
         "Industrial"
        ],
        [
         "33",
         "CT",
         "Industrial",
         "Warehouse",
         "Industrial"
        ],
        [
         "34",
         "CT",
         "Industrial",
         "Warehouse",
         "Industrial"
        ],
        [
         "35",
         "CT",
         "Industrial",
         "Warehouse",
         "Industrial"
        ],
        [
         "36",
         "CT",
         "Industrial",
         "Warehouse",
         "Industrial"
        ],
        [
         "37",
         "CT",
         "Industrial",
         "Warehouse",
         "Industrial"
        ],
        [
         "38",
         "CT",
         "Industrial",
         "Warehouse",
         "Industrial"
        ],
        [
         "39",
         "CT",
         "Industrial",
         "Warehouse",
         "Industrial"
        ],
        [
         "40",
         "CT",
         "Industrial",
         "Warehouse",
         "Industrial"
        ],
        [
         "41",
         "CT",
         "Industrial",
         "Warehouse",
         "Industrial"
        ],
        [
         "42",
         "CT",
         "Industrial",
         "Warehouse",
         "Industrial"
        ],
        [
         "43",
         "CT",
         "Industrial",
         null,
         "Industrial"
        ],
        [
         "44",
         "CT",
         "Industrial",
         null,
         "Industrial"
        ],
        [
         "45",
         "CT",
         "Multi-Family",
         "Apartments",
         "Multi-Family"
        ],
        [
         "46",
         "CT",
         "Multi-Family",
         "Apartments",
         "Multi-Family"
        ],
        [
         "47",
         "CT",
         "Multi-Family",
         "Apartments",
         "Multi-Family"
        ],
        [
         "48",
         "CT",
         "Multi-Family",
         "Apartments",
         "Multi-Family"
        ],
        [
         "49",
         "CT",
         "Multi-Family",
         "Apartments",
         "Multi-Family"
        ]
       ],
       "shape": {
        "columns": 4,
        "rows": 2246485
       }
      },
      "text/html": [
       "<div>\n",
       "<style scoped>\n",
       "    .dataframe tbody tr th:only-of-type {\n",
       "        vertical-align: middle;\n",
       "    }\n",
       "\n",
       "    .dataframe tbody tr th {\n",
       "        vertical-align: top;\n",
       "    }\n",
       "\n",
       "    .dataframe thead th {\n",
       "        text-align: right;\n",
       "    }\n",
       "</style>\n",
       "<table border=\"1\" class=\"dataframe\">\n",
       "  <thead>\n",
       "    <tr style=\"text-align: right;\">\n",
       "      <th></th>\n",
       "      <th>statecode</th>\n",
       "      <th>reported_propertytype</th>\n",
       "      <th>reported_propertysubtype</th>\n",
       "      <th>compstak_equivalent_category</th>\n",
       "    </tr>\n",
       "  </thead>\n",
       "  <tbody>\n",
       "    <tr>\n",
       "      <th>0</th>\n",
       "      <td>CT</td>\n",
       "      <td>Flex</td>\n",
       "      <td>Light Manufacturing</td>\n",
       "      <td>Industrial</td>\n",
       "    </tr>\n",
       "    <tr>\n",
       "      <th>1</th>\n",
       "      <td>CT</td>\n",
       "      <td>Industrial</td>\n",
       "      <td>Warehouse</td>\n",
       "      <td>Industrial</td>\n",
       "    </tr>\n",
       "    <tr>\n",
       "      <th>2</th>\n",
       "      <td>CT</td>\n",
       "      <td>Industrial</td>\n",
       "      <td>NaN</td>\n",
       "      <td>Industrial</td>\n",
       "    </tr>\n",
       "    <tr>\n",
       "      <th>3</th>\n",
       "      <td>CT</td>\n",
       "      <td>Multi-Family</td>\n",
       "      <td>Apartments</td>\n",
       "      <td>Multi-Family</td>\n",
       "    </tr>\n",
       "    <tr>\n",
       "      <th>4</th>\n",
       "      <td>CT</td>\n",
       "      <td>Multi-Family</td>\n",
       "      <td>Apartments</td>\n",
       "      <td>Multi-Family</td>\n",
       "    </tr>\n",
       "    <tr>\n",
       "      <th>...</th>\n",
       "      <td>...</td>\n",
       "      <td>...</td>\n",
       "      <td>...</td>\n",
       "      <td>...</td>\n",
       "    </tr>\n",
       "    <tr>\n",
       "      <th>2246480</th>\n",
       "      <td>WI</td>\n",
       "      <td>Retail</td>\n",
       "      <td>Storefront Retail/Office</td>\n",
       "      <td>Retail</td>\n",
       "    </tr>\n",
       "    <tr>\n",
       "      <th>2246481</th>\n",
       "      <td>WI</td>\n",
       "      <td>Retail</td>\n",
       "      <td>Storefront Retail/Office</td>\n",
       "      <td>Retail</td>\n",
       "    </tr>\n",
       "    <tr>\n",
       "      <th>2246482</th>\n",
       "      <td>WI</td>\n",
       "      <td>Retail</td>\n",
       "      <td>NaN</td>\n",
       "      <td>Retail</td>\n",
       "    </tr>\n",
       "    <tr>\n",
       "      <th>2246483</th>\n",
       "      <td>WI</td>\n",
       "      <td>Retail</td>\n",
       "      <td>NaN</td>\n",
       "      <td>Retail</td>\n",
       "    </tr>\n",
       "    <tr>\n",
       "      <th>2246484</th>\n",
       "      <td>WI</td>\n",
       "      <td>Specialty</td>\n",
       "      <td>Post Office</td>\n",
       "      <td>Other</td>\n",
       "    </tr>\n",
       "  </tbody>\n",
       "</table>\n",
       "<p>2246485 rows × 4 columns</p>\n",
       "</div>"
      ],
      "text/plain": [
       "        statecode reported_propertytype  reported_propertysubtype  \\\n",
       "0              CT                  Flex       Light Manufacturing   \n",
       "1              CT            Industrial                 Warehouse   \n",
       "2              CT            Industrial                       NaN   \n",
       "3              CT          Multi-Family                Apartments   \n",
       "4              CT          Multi-Family                Apartments   \n",
       "...           ...                   ...                       ...   \n",
       "2246480        WI                Retail  Storefront Retail/Office   \n",
       "2246481        WI                Retail  Storefront Retail/Office   \n",
       "2246482        WI                Retail                       NaN   \n",
       "2246483        WI                Retail                       NaN   \n",
       "2246484        WI             Specialty               Post Office   \n",
       "\n",
       "        compstak_equivalent_category  \n",
       "0                         Industrial  \n",
       "1                         Industrial  \n",
       "2                         Industrial  \n",
       "3                       Multi-Family  \n",
       "4                       Multi-Family  \n",
       "...                              ...  \n",
       "2246480                       Retail  \n",
       "2246481                       Retail  \n",
       "2246482                       Retail  \n",
       "2246483                       Retail  \n",
       "2246484                        Other  \n",
       "\n",
       "[2246485 rows x 4 columns]"
      ]
     },
     "execution_count": 4,
     "metadata": {},
     "output_type": "execute_result"
    }
   ],
   "source": [
    "doe_df"
   ]
  },
  {
   "cell_type": "code",
   "execution_count": 5,
   "id": "c92e62d4",
   "metadata": {},
   "outputs": [
    {
     "name": "stdout",
     "output_type": "stream",
     "text": [
      "Total rows found: 0\n"
     ]
    },
    {
     "data": {
      "application/vnd.microsoft.datawrangler.viewer.v0+json": {
       "columns": [
        {
         "name": "index",
         "rawType": "int64",
         "type": "integer"
        },
        {
         "name": "Property Type",
         "rawType": "object",
         "type": "string"
        },
        {
         "name": "Property Subtype",
         "rawType": "object",
         "type": "string"
        },
        {
         "name": "Property Id",
         "rawType": "int64",
         "type": "integer"
        },
        {
         "name": "State",
         "rawType": "object",
         "type": "string"
        },
        {
         "name": "DOE_Compliant_Property_Type",
         "rawType": "object",
         "type": "string"
        }
       ],
       "conversionMethod": "pd.DataFrame",
       "ref": "cadaa652-210e-4599-8eef-59660a6ade74",
       "rows": [],
       "shape": {
        "columns": 5,
        "rows": 0
       }
      },
      "text/html": [
       "<div>\n",
       "<style scoped>\n",
       "    .dataframe tbody tr th:only-of-type {\n",
       "        vertical-align: middle;\n",
       "    }\n",
       "\n",
       "    .dataframe tbody tr th {\n",
       "        vertical-align: top;\n",
       "    }\n",
       "\n",
       "    .dataframe thead th {\n",
       "        text-align: right;\n",
       "    }\n",
       "</style>\n",
       "<table border=\"1\" class=\"dataframe\">\n",
       "  <thead>\n",
       "    <tr style=\"text-align: right;\">\n",
       "      <th></th>\n",
       "      <th>Property Type</th>\n",
       "      <th>Property Subtype</th>\n",
       "      <th>Property Id</th>\n",
       "      <th>State</th>\n",
       "      <th>DOE_Compliant_Property_Type</th>\n",
       "    </tr>\n",
       "  </thead>\n",
       "  <tbody>\n",
       "  </tbody>\n",
       "</table>\n",
       "</div>"
      ],
      "text/plain": [
       "Empty DataFrame\n",
       "Columns: [Property Type, Property Subtype, Property Id, State, DOE_Compliant_Property_Type]\n",
       "Index: []"
      ]
     },
     "metadata": {},
     "output_type": "display_data"
    },
    {
     "name": "stdout",
     "output_type": "stream",
     "text": [
      "\n",
      "Counts by DOE_Compliant_Property_Type:\n"
     ]
    },
    {
     "data": {
      "text/plain": [
       "Series([], Name: count, dtype: int64)"
      ]
     },
     "metadata": {},
     "output_type": "display_data"
    }
   ],
   "source": [
    "# Filter the DataFrame to show only Land and Mixed-Use properties\n",
    "land_mixed_rows = compstak_df[compstak_df['DOE_Compliant_Property_Type'].isin(['Land', 'Mixed-Use'])]\n",
    "\n",
    "# Display the filtered rows\n",
    "print(f\"Total rows found: {len(land_mixed_rows)}\")\n",
    "display(land_mixed_rows)\n",
    "\n",
    "# If you want to see counts by type\n",
    "type_counts = land_mixed_rows['DOE_Compliant_Property_Type'].value_counts()\n",
    "print(\"\\nCounts by DOE_Compliant_Property_Type:\")\n",
    "display(type_counts)"
   ]
  },
  {
   "cell_type": "code",
   "execution_count": 6,
   "id": "859993ea",
   "metadata": {},
   "outputs": [
    {
     "ename": "NameError",
     "evalue": "name 'filtered_compstak_df' is not defined",
     "output_type": "error",
     "traceback": [
      "\u001b[1;31m---------------------------------------------------------------------------\u001b[0m",
      "\u001b[1;31mNameError\u001b[0m                                 Traceback (most recent call last)",
      "Cell \u001b[1;32mIn[6], line 5\u001b[0m\n\u001b[0;32m      1\u001b[0m \u001b[38;5;66;03m# Drop rows with 'Land' and 'Mixed-Use' DOE-compliant property types from CompStak dataset\u001b[39;00m\n\u001b[0;32m      2\u001b[0m \u001b[38;5;66;03m# Create a filtered version of the CompStak dataframe\u001b[39;00m\n\u001b[0;32m      3\u001b[0m \n\u001b[0;32m      4\u001b[0m \u001b[38;5;66;03m# Calculate how many rows were removed\u001b[39;00m\n\u001b[1;32m----> 5\u001b[0m num_rows_removed \u001b[38;5;241m=\u001b[39m \u001b[38;5;28mlen\u001b[39m(compstak_df) \u001b[38;5;241m-\u001b[39m \u001b[38;5;28mlen\u001b[39m(\u001b[43mfiltered_compstak_df\u001b[49m)\n\u001b[0;32m      6\u001b[0m percent_removed \u001b[38;5;241m=\u001b[39m (num_rows_removed \u001b[38;5;241m/\u001b[39m \u001b[38;5;28mlen\u001b[39m(compstak_df)) \u001b[38;5;241m*\u001b[39m \u001b[38;5;241m100\u001b[39m\n\u001b[0;32m      8\u001b[0m \u001b[38;5;66;03m# Print statistics about the filtering\u001b[39;00m\n",
      "\u001b[1;31mNameError\u001b[0m: name 'filtered_compstak_df' is not defined"
     ]
    }
   ],
   "source": [
    "# Drop rows with 'Land' and 'Mixed-Use' DOE-compliant property types from CompStak dataset\n",
    "# Create a filtered version of the CompStak dataframe\n",
    "\n",
    "# Calculate how many rows were removed\n",
    "num_rows_removed = len(compstak_df) - len(filtered_compstak_df)\n",
    "percent_removed = (num_rows_removed / len(compstak_df)) * 100\n",
    "\n",
    "# Print statistics about the filtering\n",
    "print(f\"Original CompStak dataset: {len(compstak_df):,} rows\")\n",
    "print(f\"Filtered CompStak dataset: {len(filtered_compstak_df):,} rows\")\n",
    "print(f\"Removed {num_rows_removed:,} rows ({percent_removed:.2f}% of original dataset)\")\n",
    "\n",
    "# Display the distribution of property types after filtering\n",
    "filtered_counts = filtered_compstak_df['DOE_Compliant_Property_Type'].value_counts().reset_index()\n",
    "filtered_counts.columns = ['Property Type', 'Count']\n",
    "print(\"\\nDOE-Compliant Property Type distribution after filtering:\")\n",
    "print(filtered_counts)\n",
    "\n",
    "print(\"\\nCompStak dataframe has been updated to the filtered version\")"
   ]
  },
  {
   "cell_type": "code",
   "execution_count": null,
   "id": "5a82f4f7",
   "metadata": {},
   "outputs": [],
   "source": []
  },
  {
   "cell_type": "code",
   "execution_count": null,
   "id": "f6b128a5",
   "metadata": {},
   "outputs": [
    {
     "data": {
      "application/vnd.microsoft.datawrangler.viewer.v0+json": {
       "columns": [
        {
         "name": "index",
         "rawType": "int64",
         "type": "integer"
        },
        {
         "name": "Property Type",
         "rawType": "object",
         "type": "unknown"
        },
        {
         "name": "Property Subtype",
         "rawType": "object",
         "type": "unknown"
        },
        {
         "name": "Property Id",
         "rawType": "int64",
         "type": "integer"
        },
        {
         "name": "State",
         "rawType": "object",
         "type": "string"
        },
        {
         "name": "DOE_Compliant_Property_Type",
         "rawType": "object",
         "type": "string"
        }
       ],
       "conversionMethod": "pd.DataFrame",
       "ref": "34016751-bdf7-4fd2-b996-6c6e4bfd8b8f",
       "rows": [
        [
         "0",
         "Retail",
         "Parking",
         "1",
         "NY",
         "Other"
        ],
        [
         "1",
         "Retail",
         "Apartments",
         "2",
         "NY",
         "Multi-Family"
        ],
        [
         "2",
         "Office",
         null,
         "3",
         "NY",
         "Office"
        ],
        [
         "3",
         "Retail",
         null,
         "4",
         "NY",
         "Retail"
        ],
        [
         "4",
         "Office",
         "Mixed-Use",
         "5",
         "NY",
         "Other"
        ],
        [
         "5",
         "Office",
         "Creative",
         "6",
         "NY",
         "Office"
        ],
        [
         "6",
         "Office",
         null,
         "7",
         "NY",
         "Office"
        ],
        [
         "7",
         "Office",
         "Apartments",
         "9",
         "NY",
         "Multi-Family"
        ],
        [
         "8",
         "Office",
         "Medical/Healthcare",
         "10",
         "NY",
         "Other"
        ],
        [
         "9",
         "Retail",
         "Mixed-Use",
         "11",
         "NY",
         "Other"
        ],
        [
         "10",
         "Office",
         "Mixed-Use",
         "12",
         "NY",
         "Other"
        ],
        [
         "11",
         "Retail",
         "General Retail",
         "13",
         "NY",
         "Retail"
        ],
        [
         "12",
         "Multi-Family",
         "Condominium",
         "14",
         "NY",
         "Multi-Family"
        ],
        [
         "13",
         "Office",
         "Medical/Healthcare",
         "15",
         "NY",
         "Other"
        ],
        [
         "14",
         "Retail",
         "Apartments",
         "16",
         "NY",
         "Multi-Family"
        ],
        [
         "15",
         "Mixed-Use",
         "Street Retail/Storefront",
         "17",
         "NY",
         "Retail"
        ],
        [
         "16",
         "Office",
         "Mixed-Use",
         "18",
         "NY",
         "Other"
        ],
        [
         "17",
         "Office",
         "Mixed-Use",
         "19",
         "NY",
         "Other"
        ],
        [
         "18",
         "Multi-Family",
         "Condominium",
         "20",
         "NY",
         "Multi-Family"
        ],
        [
         "19",
         "Office",
         "Mixed-Use",
         "21",
         "NY",
         "Other"
        ],
        [
         "20",
         "Office",
         null,
         "22",
         "NY",
         "Office"
        ],
        [
         "21",
         "Retail",
         null,
         "23",
         "NY",
         "Retail"
        ],
        [
         "22",
         "Office",
         null,
         "24",
         "NY",
         "Office"
        ],
        [
         "23",
         "Retail",
         "General Retail",
         "25",
         "NY",
         "Retail"
        ],
        [
         "24",
         "Office",
         "General Retail",
         "26",
         "NY",
         "Retail"
        ],
        [
         "25",
         "Office",
         null,
         "27",
         "NY",
         "Office"
        ],
        [
         "26",
         "Office",
         "Sports & Recreation",
         "28",
         "NY",
         "Other"
        ],
        [
         "27",
         "Office",
         "Apartments",
         "29",
         "NY",
         "Multi-Family"
        ],
        [
         "28",
         "Office",
         "Medical/Healthcare",
         "30",
         "NY",
         "Other"
        ],
        [
         "29",
         "Office",
         "Medical/Healthcare",
         "31",
         "NY",
         "Other"
        ],
        [
         "30",
         "Office",
         "General Retail",
         "33",
         "NY",
         "Retail"
        ],
        [
         "31",
         "Office",
         null,
         "34",
         "NY",
         "Office"
        ],
        [
         "32",
         "Office",
         null,
         "35",
         "NY",
         "Office"
        ],
        [
         "33",
         "Office",
         "Mixed-Use",
         "36",
         "NY",
         "Other"
        ],
        [
         "34",
         "Office",
         "Medical/Healthcare",
         "37",
         "NY",
         "Other"
        ],
        [
         "35",
         "Office",
         null,
         "38",
         "NY",
         "Office"
        ],
        [
         "36",
         "Mixed-Use",
         "Mixed-Use",
         "39",
         "NY",
         "Other"
        ],
        [
         "37",
         "Mixed-Use",
         "Condominium",
         "40",
         "NY",
         "Multi-Family"
        ],
        [
         "38",
         "Retail",
         "Mixed-Use",
         "41",
         "NY",
         "Other"
        ],
        [
         "39",
         "Office",
         "Mixed-Use",
         "42",
         "NY",
         "Other"
        ],
        [
         "40",
         "Office",
         null,
         "43",
         "NY",
         "Office"
        ],
        [
         "41",
         "Retail",
         "General Retail",
         "44",
         "NY",
         "Retail"
        ],
        [
         "42",
         "Multi-Family",
         "Apartments",
         "45",
         "NY",
         "Multi-Family"
        ],
        [
         "43",
         "Retail",
         "Street Retail/Storefront",
         "46",
         "NY",
         "Retail"
        ],
        [
         "44",
         "Office",
         "Financial Building",
         "47",
         "NY",
         "Office"
        ],
        [
         "45",
         "Office",
         null,
         "48",
         "NY",
         "Office"
        ],
        [
         "46",
         "Office",
         null,
         "49",
         "NY",
         "Office"
        ],
        [
         "47",
         "Retail",
         "Apartments",
         "50",
         "NY",
         "Multi-Family"
        ],
        [
         "48",
         "Office",
         null,
         "51",
         "NY",
         "Office"
        ],
        [
         "49",
         "Retail",
         "General Retail",
         "52",
         "NY",
         "Retail"
        ]
       ],
       "shape": {
        "columns": 5,
        "rows": 759623
       }
      },
      "text/html": [
       "<div>\n",
       "<style scoped>\n",
       "    .dataframe tbody tr th:only-of-type {\n",
       "        vertical-align: middle;\n",
       "    }\n",
       "\n",
       "    .dataframe tbody tr th {\n",
       "        vertical-align: top;\n",
       "    }\n",
       "\n",
       "    .dataframe thead th {\n",
       "        text-align: right;\n",
       "    }\n",
       "</style>\n",
       "<table border=\"1\" class=\"dataframe\">\n",
       "  <thead>\n",
       "    <tr style=\"text-align: right;\">\n",
       "      <th></th>\n",
       "      <th>Property Type</th>\n",
       "      <th>Property Subtype</th>\n",
       "      <th>Property Id</th>\n",
       "      <th>State</th>\n",
       "      <th>DOE_Compliant_Property_Type</th>\n",
       "    </tr>\n",
       "  </thead>\n",
       "  <tbody>\n",
       "    <tr>\n",
       "      <th>0</th>\n",
       "      <td>Retail</td>\n",
       "      <td>Parking</td>\n",
       "      <td>1</td>\n",
       "      <td>NY</td>\n",
       "      <td>Other</td>\n",
       "    </tr>\n",
       "    <tr>\n",
       "      <th>1</th>\n",
       "      <td>Retail</td>\n",
       "      <td>Apartments</td>\n",
       "      <td>2</td>\n",
       "      <td>NY</td>\n",
       "      <td>Multi-Family</td>\n",
       "    </tr>\n",
       "    <tr>\n",
       "      <th>2</th>\n",
       "      <td>Office</td>\n",
       "      <td>NaN</td>\n",
       "      <td>3</td>\n",
       "      <td>NY</td>\n",
       "      <td>Office</td>\n",
       "    </tr>\n",
       "    <tr>\n",
       "      <th>3</th>\n",
       "      <td>Retail</td>\n",
       "      <td>NaN</td>\n",
       "      <td>4</td>\n",
       "      <td>NY</td>\n",
       "      <td>Retail</td>\n",
       "    </tr>\n",
       "    <tr>\n",
       "      <th>4</th>\n",
       "      <td>Office</td>\n",
       "      <td>Mixed-Use</td>\n",
       "      <td>5</td>\n",
       "      <td>NY</td>\n",
       "      <td>Other</td>\n",
       "    </tr>\n",
       "    <tr>\n",
       "      <th>...</th>\n",
       "      <td>...</td>\n",
       "      <td>...</td>\n",
       "      <td>...</td>\n",
       "      <td>...</td>\n",
       "      <td>...</td>\n",
       "    </tr>\n",
       "    <tr>\n",
       "      <th>759618</th>\n",
       "      <td>NaN</td>\n",
       "      <td>NaN</td>\n",
       "      <td>3611385</td>\n",
       "      <td>NY</td>\n",
       "      <td>Other</td>\n",
       "    </tr>\n",
       "    <tr>\n",
       "      <th>759619</th>\n",
       "      <td>Industrial</td>\n",
       "      <td>Flex/R&amp;D</td>\n",
       "      <td>3611389</td>\n",
       "      <td>FL</td>\n",
       "      <td>Industrial</td>\n",
       "    </tr>\n",
       "    <tr>\n",
       "      <th>759620</th>\n",
       "      <td>Industrial</td>\n",
       "      <td>Flex/R&amp;D</td>\n",
       "      <td>3611390</td>\n",
       "      <td>FL</td>\n",
       "      <td>Industrial</td>\n",
       "    </tr>\n",
       "    <tr>\n",
       "      <th>759621</th>\n",
       "      <td>NaN</td>\n",
       "      <td>NaN</td>\n",
       "      <td>3611391</td>\n",
       "      <td>CA</td>\n",
       "      <td>Other</td>\n",
       "    </tr>\n",
       "    <tr>\n",
       "      <th>759622</th>\n",
       "      <td>NaN</td>\n",
       "      <td>NaN</td>\n",
       "      <td>3611399</td>\n",
       "      <td>NY</td>\n",
       "      <td>Other</td>\n",
       "    </tr>\n",
       "  </tbody>\n",
       "</table>\n",
       "<p>759623 rows × 5 columns</p>\n",
       "</div>"
      ],
      "text/plain": [
       "       Property Type Property Subtype  Property Id State  \\\n",
       "0             Retail          Parking            1    NY   \n",
       "1             Retail       Apartments            2    NY   \n",
       "2             Office              NaN            3    NY   \n",
       "3             Retail              NaN            4    NY   \n",
       "4             Office        Mixed-Use            5    NY   \n",
       "...              ...              ...          ...   ...   \n",
       "759618           NaN              NaN      3611385    NY   \n",
       "759619    Industrial         Flex/R&D      3611389    FL   \n",
       "759620    Industrial         Flex/R&D      3611390    FL   \n",
       "759621           NaN              NaN      3611391    CA   \n",
       "759622           NaN              NaN      3611399    NY   \n",
       "\n",
       "       DOE_Compliant_Property_Type  \n",
       "0                            Other  \n",
       "1                     Multi-Family  \n",
       "2                           Office  \n",
       "3                           Retail  \n",
       "4                            Other  \n",
       "...                            ...  \n",
       "759618                       Other  \n",
       "759619                  Industrial  \n",
       "759620                  Industrial  \n",
       "759621                       Other  \n",
       "759622                       Other  \n",
       "\n",
       "[759623 rows x 5 columns]"
      ]
     },
     "execution_count": 201,
     "metadata": {},
     "output_type": "execute_result"
    }
   ],
   "source": [
    "compstak_df"
   ]
  },
  {
   "cell_type": "code",
   "execution_count": null,
   "id": "037e2add",
   "metadata": {},
   "outputs": [
    {
     "name": "stdout",
     "output_type": "stream",
     "text": [
      "['Other' 'Multi-Family' 'Office' 'Retail' 'Industrial' 'Hotel']\n"
     ]
    }
   ],
   "source": [
    "unique_categories = compstak_df['DOE_Compliant_Property_Type'].unique()\n",
    "print(unique_categories)"
   ]
  },
  {
   "cell_type": "code",
   "execution_count": null,
   "id": "9c300d28",
   "metadata": {},
   "outputs": [
    {
     "data": {
      "text/plain": [
       "array(['Industrial', 'Multi-Family', 'Office', 'Retail', 'Other', 'Hotel'],\n",
       "      dtype=object)"
      ]
     },
     "execution_count": 203,
     "metadata": {},
     "output_type": "execute_result"
    }
   ],
   "source": [
    "doe_df['compstak_equivalent_category'].unique()"
   ]
  },
  {
   "cell_type": "code",
   "execution_count": null,
   "id": "9b67b51c",
   "metadata": {},
   "outputs": [],
   "source": []
  },
  {
   "cell_type": "markdown",
   "id": "bb51f942",
   "metadata": {},
   "source": [
    "# Creating a Sunburst Diagram of DOE and CompStak Data\n",
    "\n",
    "This sunburst diagram visualizes the DOE dataset as the total, with the first level showing the DOE categories and the second level showing corresponding CompStak property types."
   ]
  },
  {
   "cell_type": "markdown",
   "id": "be411446",
   "metadata": {},
   "source": [
    "## Fixed Sunburst Visualization\n",
    "\n",
    "Let's create a more reliable sunburst visualization that properly shows the relationship between DOE and CompStak property types."
   ]
  },
  {
   "cell_type": "code",
   "execution_count": null,
   "id": "427c447d",
   "metadata": {},
   "outputs": [
    {
     "data": {
      "application/vnd.microsoft.datawrangler.viewer.v0+json": {
       "columns": [
        {
         "name": "index",
         "rawType": "int64",
         "type": "integer"
        },
        {
         "name": "id",
         "rawType": "object",
         "type": "string"
        },
        {
         "name": "parent",
         "rawType": "object",
         "type": "string"
        },
        {
         "name": "value",
         "rawType": "int64",
         "type": "integer"
        },
        {
         "name": "label",
         "rawType": "object",
         "type": "string"
        }
       ],
       "conversionMethod": "pd.DataFrame",
       "ref": "4faffd1c-ac10-43c0-b10d-9aabe49f6a76",
       "rows": [
        [
         "0",
         "root",
         "",
         "1",
         "Property Types"
        ],
        [
         "1",
         "DOE",
         "root",
         "1513487",
         "DOE (1,513,487)"
        ],
        [
         "2",
         "CompStak",
         "root",
         "759623",
         "CompStak (759,623)"
        ],
        [
         "3",
         "DOE_Retail",
         "DOE",
         "625146",
         "Retail (625,146)"
        ],
        [
         "4",
         "DOE_Industrial",
         "DOE",
         "289287",
         "Industrial (289,287)"
        ],
        [
         "5",
         "DOE_Office",
         "DOE",
         "268883",
         "Office (268,883)"
        ],
        [
         "6",
         "DOE_Multi-Family",
         "DOE",
         "170267",
         "Multi-Family (170,267)"
        ],
        [
         "7",
         "DOE_Other",
         "DOE",
         "108770",
         "Other (108,770)"
        ],
        [
         "8",
         "DOE_Hotel",
         "DOE",
         "51134",
         "Hotel (51,134)"
        ],
        [
         "9",
         "CompStak_Retail",
         "CompStak",
         "195522",
         "Retail (195,522)"
        ],
        [
         "10",
         "CompStak_Industrial",
         "CompStak",
         "183106",
         "Industrial (183,106)"
        ],
        [
         "11",
         "CompStak_Other",
         "CompStak",
         "167732",
         "Other (167,732)"
        ],
        [
         "12",
         "CompStak_Multi-Family",
         "CompStak",
         "114427",
         "Multi-Family (114,427)"
        ],
        [
         "13",
         "CompStak_Office",
         "CompStak",
         "88768",
         "Office (88,768)"
        ],
        [
         "14",
         "CompStak_Hotel",
         "CompStak",
         "10068",
         "Hotel (10,068)"
        ]
       ],
       "shape": {
        "columns": 4,
        "rows": 15
       }
      },
      "text/html": [
       "<div>\n",
       "<style scoped>\n",
       "    .dataframe tbody tr th:only-of-type {\n",
       "        vertical-align: middle;\n",
       "    }\n",
       "\n",
       "    .dataframe tbody tr th {\n",
       "        vertical-align: top;\n",
       "    }\n",
       "\n",
       "    .dataframe thead th {\n",
       "        text-align: right;\n",
       "    }\n",
       "</style>\n",
       "<table border=\"1\" class=\"dataframe\">\n",
       "  <thead>\n",
       "    <tr style=\"text-align: right;\">\n",
       "      <th></th>\n",
       "      <th>id</th>\n",
       "      <th>parent</th>\n",
       "      <th>value</th>\n",
       "      <th>label</th>\n",
       "    </tr>\n",
       "  </thead>\n",
       "  <tbody>\n",
       "    <tr>\n",
       "      <th>0</th>\n",
       "      <td>root</td>\n",
       "      <td></td>\n",
       "      <td>1</td>\n",
       "      <td>Property Types</td>\n",
       "    </tr>\n",
       "    <tr>\n",
       "      <th>1</th>\n",
       "      <td>DOE</td>\n",
       "      <td>root</td>\n",
       "      <td>1513487</td>\n",
       "      <td>DOE (1,513,487)</td>\n",
       "    </tr>\n",
       "    <tr>\n",
       "      <th>2</th>\n",
       "      <td>CompStak</td>\n",
       "      <td>root</td>\n",
       "      <td>759623</td>\n",
       "      <td>CompStak (759,623)</td>\n",
       "    </tr>\n",
       "    <tr>\n",
       "      <th>3</th>\n",
       "      <td>DOE_Retail</td>\n",
       "      <td>DOE</td>\n",
       "      <td>625146</td>\n",
       "      <td>Retail (625,146)</td>\n",
       "    </tr>\n",
       "    <tr>\n",
       "      <th>4</th>\n",
       "      <td>DOE_Industrial</td>\n",
       "      <td>DOE</td>\n",
       "      <td>289287</td>\n",
       "      <td>Industrial (289,287)</td>\n",
       "    </tr>\n",
       "    <tr>\n",
       "      <th>5</th>\n",
       "      <td>DOE_Office</td>\n",
       "      <td>DOE</td>\n",
       "      <td>268883</td>\n",
       "      <td>Office (268,883)</td>\n",
       "    </tr>\n",
       "    <tr>\n",
       "      <th>6</th>\n",
       "      <td>DOE_Multi-Family</td>\n",
       "      <td>DOE</td>\n",
       "      <td>170267</td>\n",
       "      <td>Multi-Family (170,267)</td>\n",
       "    </tr>\n",
       "    <tr>\n",
       "      <th>7</th>\n",
       "      <td>DOE_Other</td>\n",
       "      <td>DOE</td>\n",
       "      <td>108770</td>\n",
       "      <td>Other (108,770)</td>\n",
       "    </tr>\n",
       "    <tr>\n",
       "      <th>8</th>\n",
       "      <td>DOE_Hotel</td>\n",
       "      <td>DOE</td>\n",
       "      <td>51134</td>\n",
       "      <td>Hotel (51,134)</td>\n",
       "    </tr>\n",
       "    <tr>\n",
       "      <th>9</th>\n",
       "      <td>CompStak_Retail</td>\n",
       "      <td>CompStak</td>\n",
       "      <td>195522</td>\n",
       "      <td>Retail (195,522)</td>\n",
       "    </tr>\n",
       "    <tr>\n",
       "      <th>10</th>\n",
       "      <td>CompStak_Industrial</td>\n",
       "      <td>CompStak</td>\n",
       "      <td>183106</td>\n",
       "      <td>Industrial (183,106)</td>\n",
       "    </tr>\n",
       "    <tr>\n",
       "      <th>11</th>\n",
       "      <td>CompStak_Other</td>\n",
       "      <td>CompStak</td>\n",
       "      <td>167732</td>\n",
       "      <td>Other (167,732)</td>\n",
       "    </tr>\n",
       "    <tr>\n",
       "      <th>12</th>\n",
       "      <td>CompStak_Multi-Family</td>\n",
       "      <td>CompStak</td>\n",
       "      <td>114427</td>\n",
       "      <td>Multi-Family (114,427)</td>\n",
       "    </tr>\n",
       "    <tr>\n",
       "      <th>13</th>\n",
       "      <td>CompStak_Office</td>\n",
       "      <td>CompStak</td>\n",
       "      <td>88768</td>\n",
       "      <td>Office (88,768)</td>\n",
       "    </tr>\n",
       "    <tr>\n",
       "      <th>14</th>\n",
       "      <td>CompStak_Hotel</td>\n",
       "      <td>CompStak</td>\n",
       "      <td>10068</td>\n",
       "      <td>Hotel (10,068)</td>\n",
       "    </tr>\n",
       "  </tbody>\n",
       "</table>\n",
       "</div>"
      ],
      "text/plain": [
       "                       id    parent    value                   label\n",
       "0                    root                  1          Property Types\n",
       "1                     DOE      root  1513487         DOE (1,513,487)\n",
       "2                CompStak      root   759623      CompStak (759,623)\n",
       "3              DOE_Retail       DOE   625146        Retail (625,146)\n",
       "4          DOE_Industrial       DOE   289287    Industrial (289,287)\n",
       "5              DOE_Office       DOE   268883        Office (268,883)\n",
       "6        DOE_Multi-Family       DOE   170267  Multi-Family (170,267)\n",
       "7               DOE_Other       DOE   108770         Other (108,770)\n",
       "8               DOE_Hotel       DOE    51134          Hotel (51,134)\n",
       "9         CompStak_Retail  CompStak   195522        Retail (195,522)\n",
       "10    CompStak_Industrial  CompStak   183106    Industrial (183,106)\n",
       "11         CompStak_Other  CompStak   167732         Other (167,732)\n",
       "12  CompStak_Multi-Family  CompStak   114427  Multi-Family (114,427)\n",
       "13        CompStak_Office  CompStak    88768         Office (88,768)\n",
       "14         CompStak_Hotel  CompStak    10068          Hotel (10,068)"
      ]
     },
     "execution_count": 204,
     "metadata": {},
     "output_type": "execute_result"
    }
   ],
   "source": [
    "# Get counts from both datasets\n",
    "doe_counts = doe_df['compstak_equivalent_category'].value_counts().reset_index()\n",
    "doe_counts.columns = ['Category', 'DOE_Count']\n",
    "\n",
    "compstak_counts = compstak_df['DOE_Compliant_Property_Type'].value_counts().reset_index()\n",
    "compstak_counts.columns = ['Category', 'CompStak_Count']\n",
    "\n",
    "# Create a simplified data structure for the sunburst\n",
    "sunburst_data = []\n",
    "\n",
    "# Root node\n",
    "sunburst_data.append({\n",
    "    \"id\": \"root\",\n",
    "    \"parent\": \"\",\n",
    "    \"value\": 1,  # Just a placeholder\n",
    "    \"label\": \"Property Types\"\n",
    "})\n",
    "\n",
    "# Add DOE as a first-level node\n",
    "sunburst_data.append({\n",
    "    \"id\": \"DOE\",\n",
    "    \"parent\": \"root\",\n",
    "    \"value\": len(doe_df),\n",
    "    \"label\": f\"DOE ({len(doe_df):,})\"\n",
    "})\n",
    "\n",
    "# Add CompStak as a first-level node\n",
    "sunburst_data.append({\n",
    "    \"id\": \"CompStak\",\n",
    "    \"parent\": \"root\",\n",
    "    \"value\": len(compstak_df),\n",
    "    \"label\": f\"CompStak ({len(compstak_df):,})\"\n",
    "})\n",
    "\n",
    "# Add DOE categories\n",
    "for _, row in doe_counts.iterrows():\n",
    "    category = row['Category']\n",
    "    count = row['DOE_Count']\n",
    "    sunburst_data.append({\n",
    "        \"id\": f\"DOE_{category}\",\n",
    "        \"parent\": \"DOE\",\n",
    "        \"value\": count,\n",
    "        \"label\": f\"{category} ({count:,})\"\n",
    "    })\n",
    "\n",
    "# Add CompStak categories\n",
    "for _, row in compstak_counts.iterrows():\n",
    "    category = row['Category']\n",
    "    count = row['CompStak_Count']\n",
    "    sunburst_data.append({\n",
    "        \"id\": f\"CompStak_{category}\",\n",
    "        \"parent\": \"CompStak\",\n",
    "        \"value\": count,\n",
    "        \"label\": f\"{category} ({count:,})\"\n",
    "    })\n",
    "\n",
    "# Convert to DataFrame for the plot\n",
    "sunburst_df = pd.DataFrame(sunburst_data)\n",
    "sunburst_df"
   ]
  },
  {
   "cell_type": "code",
   "execution_count": null,
   "id": "0e6e1665",
   "metadata": {},
   "outputs": [
    {
     "data": {
      "application/vnd.plotly.v1+json": {
       "config": {
        "plotlyServerURL": "https://plot.ly"
       },
       "data": [
        {
         "marker": {
          "color": "#1E88E5"
         },
         "name": "DOE",
         "text": [
          "625,146",
          "289,287",
          "268,883",
          "170,267",
          "108,770",
          "51,134"
         ],
         "textposition": "outside",
         "type": "bar",
         "x": [
          "Retail",
          "Industrial",
          "Office",
          "Multi-Family",
          "Other",
          "Hotel"
         ],
         "y": [
          625146,
          289287,
          268883,
          170267,
          108770,
          51134
         ]
        },
        {
         "marker": {
          "color": "#FF8F00"
         },
         "name": "CompStak",
         "text": [
          "195,522",
          "183,106",
          "88,768",
          "114,427",
          "167,732",
          "10,068"
         ],
         "textposition": "outside",
         "type": "bar",
         "x": [
          "Retail",
          "Industrial",
          "Office",
          "Multi-Family",
          "Other",
          "Hotel"
         ],
         "y": [
          195522,
          183106,
          88768,
          114427,
          167732,
          10068
         ]
        }
       ],
       "layout": {
        "barmode": "group",
        "height": 600,
        "template": {
         "data": {
          "bar": [
           {
            "error_x": {
             "color": "#2a3f5f"
            },
            "error_y": {
             "color": "#2a3f5f"
            },
            "marker": {
             "line": {
              "color": "white",
              "width": 0.5
             },
             "pattern": {
              "fillmode": "overlay",
              "size": 10,
              "solidity": 0.2
             }
            },
            "type": "bar"
           }
          ],
          "barpolar": [
           {
            "marker": {
             "line": {
              "color": "white",
              "width": 0.5
             },
             "pattern": {
              "fillmode": "overlay",
              "size": 10,
              "solidity": 0.2
             }
            },
            "type": "barpolar"
           }
          ],
          "carpet": [
           {
            "aaxis": {
             "endlinecolor": "#2a3f5f",
             "gridcolor": "#C8D4E3",
             "linecolor": "#C8D4E3",
             "minorgridcolor": "#C8D4E3",
             "startlinecolor": "#2a3f5f"
            },
            "baxis": {
             "endlinecolor": "#2a3f5f",
             "gridcolor": "#C8D4E3",
             "linecolor": "#C8D4E3",
             "minorgridcolor": "#C8D4E3",
             "startlinecolor": "#2a3f5f"
            },
            "type": "carpet"
           }
          ],
          "choropleth": [
           {
            "colorbar": {
             "outlinewidth": 0,
             "ticks": ""
            },
            "type": "choropleth"
           }
          ],
          "contour": [
           {
            "colorbar": {
             "outlinewidth": 0,
             "ticks": ""
            },
            "colorscale": [
             [
              0,
              "#0d0887"
             ],
             [
              0.1111111111111111,
              "#46039f"
             ],
             [
              0.2222222222222222,
              "#7201a8"
             ],
             [
              0.3333333333333333,
              "#9c179e"
             ],
             [
              0.4444444444444444,
              "#bd3786"
             ],
             [
              0.5555555555555556,
              "#d8576b"
             ],
             [
              0.6666666666666666,
              "#ed7953"
             ],
             [
              0.7777777777777778,
              "#fb9f3a"
             ],
             [
              0.8888888888888888,
              "#fdca26"
             ],
             [
              1,
              "#f0f921"
             ]
            ],
            "type": "contour"
           }
          ],
          "contourcarpet": [
           {
            "colorbar": {
             "outlinewidth": 0,
             "ticks": ""
            },
            "type": "contourcarpet"
           }
          ],
          "heatmap": [
           {
            "colorbar": {
             "outlinewidth": 0,
             "ticks": ""
            },
            "colorscale": [
             [
              0,
              "#0d0887"
             ],
             [
              0.1111111111111111,
              "#46039f"
             ],
             [
              0.2222222222222222,
              "#7201a8"
             ],
             [
              0.3333333333333333,
              "#9c179e"
             ],
             [
              0.4444444444444444,
              "#bd3786"
             ],
             [
              0.5555555555555556,
              "#d8576b"
             ],
             [
              0.6666666666666666,
              "#ed7953"
             ],
             [
              0.7777777777777778,
              "#fb9f3a"
             ],
             [
              0.8888888888888888,
              "#fdca26"
             ],
             [
              1,
              "#f0f921"
             ]
            ],
            "type": "heatmap"
           }
          ],
          "heatmapgl": [
           {
            "colorbar": {
             "outlinewidth": 0,
             "ticks": ""
            },
            "colorscale": [
             [
              0,
              "#0d0887"
             ],
             [
              0.1111111111111111,
              "#46039f"
             ],
             [
              0.2222222222222222,
              "#7201a8"
             ],
             [
              0.3333333333333333,
              "#9c179e"
             ],
             [
              0.4444444444444444,
              "#bd3786"
             ],
             [
              0.5555555555555556,
              "#d8576b"
             ],
             [
              0.6666666666666666,
              "#ed7953"
             ],
             [
              0.7777777777777778,
              "#fb9f3a"
             ],
             [
              0.8888888888888888,
              "#fdca26"
             ],
             [
              1,
              "#f0f921"
             ]
            ],
            "type": "heatmapgl"
           }
          ],
          "histogram": [
           {
            "marker": {
             "pattern": {
              "fillmode": "overlay",
              "size": 10,
              "solidity": 0.2
             }
            },
            "type": "histogram"
           }
          ],
          "histogram2d": [
           {
            "colorbar": {
             "outlinewidth": 0,
             "ticks": ""
            },
            "colorscale": [
             [
              0,
              "#0d0887"
             ],
             [
              0.1111111111111111,
              "#46039f"
             ],
             [
              0.2222222222222222,
              "#7201a8"
             ],
             [
              0.3333333333333333,
              "#9c179e"
             ],
             [
              0.4444444444444444,
              "#bd3786"
             ],
             [
              0.5555555555555556,
              "#d8576b"
             ],
             [
              0.6666666666666666,
              "#ed7953"
             ],
             [
              0.7777777777777778,
              "#fb9f3a"
             ],
             [
              0.8888888888888888,
              "#fdca26"
             ],
             [
              1,
              "#f0f921"
             ]
            ],
            "type": "histogram2d"
           }
          ],
          "histogram2dcontour": [
           {
            "colorbar": {
             "outlinewidth": 0,
             "ticks": ""
            },
            "colorscale": [
             [
              0,
              "#0d0887"
             ],
             [
              0.1111111111111111,
              "#46039f"
             ],
             [
              0.2222222222222222,
              "#7201a8"
             ],
             [
              0.3333333333333333,
              "#9c179e"
             ],
             [
              0.4444444444444444,
              "#bd3786"
             ],
             [
              0.5555555555555556,
              "#d8576b"
             ],
             [
              0.6666666666666666,
              "#ed7953"
             ],
             [
              0.7777777777777778,
              "#fb9f3a"
             ],
             [
              0.8888888888888888,
              "#fdca26"
             ],
             [
              1,
              "#f0f921"
             ]
            ],
            "type": "histogram2dcontour"
           }
          ],
          "mesh3d": [
           {
            "colorbar": {
             "outlinewidth": 0,
             "ticks": ""
            },
            "type": "mesh3d"
           }
          ],
          "parcoords": [
           {
            "line": {
             "colorbar": {
              "outlinewidth": 0,
              "ticks": ""
             }
            },
            "type": "parcoords"
           }
          ],
          "pie": [
           {
            "automargin": true,
            "type": "pie"
           }
          ],
          "scatter": [
           {
            "fillpattern": {
             "fillmode": "overlay",
             "size": 10,
             "solidity": 0.2
            },
            "type": "scatter"
           }
          ],
          "scatter3d": [
           {
            "line": {
             "colorbar": {
              "outlinewidth": 0,
              "ticks": ""
             }
            },
            "marker": {
             "colorbar": {
              "outlinewidth": 0,
              "ticks": ""
             }
            },
            "type": "scatter3d"
           }
          ],
          "scattercarpet": [
           {
            "marker": {
             "colorbar": {
              "outlinewidth": 0,
              "ticks": ""
             }
            },
            "type": "scattercarpet"
           }
          ],
          "scattergeo": [
           {
            "marker": {
             "colorbar": {
              "outlinewidth": 0,
              "ticks": ""
             }
            },
            "type": "scattergeo"
           }
          ],
          "scattergl": [
           {
            "marker": {
             "colorbar": {
              "outlinewidth": 0,
              "ticks": ""
             }
            },
            "type": "scattergl"
           }
          ],
          "scattermapbox": [
           {
            "marker": {
             "colorbar": {
              "outlinewidth": 0,
              "ticks": ""
             }
            },
            "type": "scattermapbox"
           }
          ],
          "scatterpolar": [
           {
            "marker": {
             "colorbar": {
              "outlinewidth": 0,
              "ticks": ""
             }
            },
            "type": "scatterpolar"
           }
          ],
          "scatterpolargl": [
           {
            "marker": {
             "colorbar": {
              "outlinewidth": 0,
              "ticks": ""
             }
            },
            "type": "scatterpolargl"
           }
          ],
          "scatterternary": [
           {
            "marker": {
             "colorbar": {
              "outlinewidth": 0,
              "ticks": ""
             }
            },
            "type": "scatterternary"
           }
          ],
          "surface": [
           {
            "colorbar": {
             "outlinewidth": 0,
             "ticks": ""
            },
            "colorscale": [
             [
              0,
              "#0d0887"
             ],
             [
              0.1111111111111111,
              "#46039f"
             ],
             [
              0.2222222222222222,
              "#7201a8"
             ],
             [
              0.3333333333333333,
              "#9c179e"
             ],
             [
              0.4444444444444444,
              "#bd3786"
             ],
             [
              0.5555555555555556,
              "#d8576b"
             ],
             [
              0.6666666666666666,
              "#ed7953"
             ],
             [
              0.7777777777777778,
              "#fb9f3a"
             ],
             [
              0.8888888888888888,
              "#fdca26"
             ],
             [
              1,
              "#f0f921"
             ]
            ],
            "type": "surface"
           }
          ],
          "table": [
           {
            "cells": {
             "fill": {
              "color": "#EBF0F8"
             },
             "line": {
              "color": "white"
             }
            },
            "header": {
             "fill": {
              "color": "#C8D4E3"
             },
             "line": {
              "color": "white"
             }
            },
            "type": "table"
           }
          ]
         },
         "layout": {
          "annotationdefaults": {
           "arrowcolor": "#2a3f5f",
           "arrowhead": 0,
           "arrowwidth": 1
          },
          "autotypenumbers": "strict",
          "coloraxis": {
           "colorbar": {
            "outlinewidth": 0,
            "ticks": ""
           }
          },
          "colorscale": {
           "diverging": [
            [
             0,
             "#8e0152"
            ],
            [
             0.1,
             "#c51b7d"
            ],
            [
             0.2,
             "#de77ae"
            ],
            [
             0.3,
             "#f1b6da"
            ],
            [
             0.4,
             "#fde0ef"
            ],
            [
             0.5,
             "#f7f7f7"
            ],
            [
             0.6,
             "#e6f5d0"
            ],
            [
             0.7,
             "#b8e186"
            ],
            [
             0.8,
             "#7fbc41"
            ],
            [
             0.9,
             "#4d9221"
            ],
            [
             1,
             "#276419"
            ]
           ],
           "sequential": [
            [
             0,
             "#0d0887"
            ],
            [
             0.1111111111111111,
             "#46039f"
            ],
            [
             0.2222222222222222,
             "#7201a8"
            ],
            [
             0.3333333333333333,
             "#9c179e"
            ],
            [
             0.4444444444444444,
             "#bd3786"
            ],
            [
             0.5555555555555556,
             "#d8576b"
            ],
            [
             0.6666666666666666,
             "#ed7953"
            ],
            [
             0.7777777777777778,
             "#fb9f3a"
            ],
            [
             0.8888888888888888,
             "#fdca26"
            ],
            [
             1,
             "#f0f921"
            ]
           ],
           "sequentialminus": [
            [
             0,
             "#0d0887"
            ],
            [
             0.1111111111111111,
             "#46039f"
            ],
            [
             0.2222222222222222,
             "#7201a8"
            ],
            [
             0.3333333333333333,
             "#9c179e"
            ],
            [
             0.4444444444444444,
             "#bd3786"
            ],
            [
             0.5555555555555556,
             "#d8576b"
            ],
            [
             0.6666666666666666,
             "#ed7953"
            ],
            [
             0.7777777777777778,
             "#fb9f3a"
            ],
            [
             0.8888888888888888,
             "#fdca26"
            ],
            [
             1,
             "#f0f921"
            ]
           ]
          },
          "colorway": [
           "#636efa",
           "#EF553B",
           "#00cc96",
           "#ab63fa",
           "#FFA15A",
           "#19d3f3",
           "#FF6692",
           "#B6E880",
           "#FF97FF",
           "#FECB52"
          ],
          "font": {
           "color": "#2a3f5f"
          },
          "geo": {
           "bgcolor": "white",
           "lakecolor": "white",
           "landcolor": "white",
           "showlakes": true,
           "showland": true,
           "subunitcolor": "#C8D4E3"
          },
          "hoverlabel": {
           "align": "left"
          },
          "hovermode": "closest",
          "mapbox": {
           "style": "light"
          },
          "paper_bgcolor": "white",
          "plot_bgcolor": "white",
          "polar": {
           "angularaxis": {
            "gridcolor": "#EBF0F8",
            "linecolor": "#EBF0F8",
            "ticks": ""
           },
           "bgcolor": "white",
           "radialaxis": {
            "gridcolor": "#EBF0F8",
            "linecolor": "#EBF0F8",
            "ticks": ""
           }
          },
          "scene": {
           "xaxis": {
            "backgroundcolor": "white",
            "gridcolor": "#DFE8F3",
            "gridwidth": 2,
            "linecolor": "#EBF0F8",
            "showbackground": true,
            "ticks": "",
            "zerolinecolor": "#EBF0F8"
           },
           "yaxis": {
            "backgroundcolor": "white",
            "gridcolor": "#DFE8F3",
            "gridwidth": 2,
            "linecolor": "#EBF0F8",
            "showbackground": true,
            "ticks": "",
            "zerolinecolor": "#EBF0F8"
           },
           "zaxis": {
            "backgroundcolor": "white",
            "gridcolor": "#DFE8F3",
            "gridwidth": 2,
            "linecolor": "#EBF0F8",
            "showbackground": true,
            "ticks": "",
            "zerolinecolor": "#EBF0F8"
           }
          },
          "shapedefaults": {
           "line": {
            "color": "#2a3f5f"
           }
          },
          "ternary": {
           "aaxis": {
            "gridcolor": "#DFE8F3",
            "linecolor": "#A2B1C6",
            "ticks": ""
           },
           "baxis": {
            "gridcolor": "#DFE8F3",
            "linecolor": "#A2B1C6",
            "ticks": ""
           },
           "bgcolor": "white",
           "caxis": {
            "gridcolor": "#DFE8F3",
            "linecolor": "#A2B1C6",
            "ticks": ""
           }
          },
          "title": {
           "x": 0.05
          },
          "xaxis": {
           "automargin": true,
           "gridcolor": "#EBF0F8",
           "linecolor": "#EBF0F8",
           "ticks": "",
           "title": {
            "standoff": 15
           },
           "zerolinecolor": "#EBF0F8",
           "zerolinewidth": 2
          },
          "yaxis": {
           "automargin": true,
           "gridcolor": "#EBF0F8",
           "linecolor": "#EBF0F8",
           "ticks": "",
           "title": {
            "standoff": 15
           },
           "zerolinecolor": "#EBF0F8",
           "zerolinewidth": 2
          }
         }
        },
        "title": {
         "text": "DOE vs CompStak Property Type Counts"
        },
        "width": 900,
        "xaxis": {
         "title": {
          "text": "Property Type"
         }
        },
        "yaxis": {
         "title": {
          "text": "Count"
         },
         "type": "log"
        }
       }
      }
     },
     "metadata": {},
     "output_type": "display_data"
    }
   ],
   "source": [
    "# Alternative visualization: Create a bar chart comparing DOE and CompStak\n",
    "# Merge the counts\n",
    "comparison_df = pd.merge(doe_counts, compstak_counts, on='Category', how='outer').fillna(0)\n",
    "comparison_df = comparison_df.sort_values(by='DOE_Count', ascending=False)\n",
    "\n",
    "# Create a grouped bar chart\n",
    "fig = go.Figure()\n",
    "\n",
    "fig.add_trace(go.Bar(\n",
    "    x=comparison_df['Category'],\n",
    "    y=comparison_df['DOE_Count'],\n",
    "    name='DOE',\n",
    "    marker_color='#1E88E5',\n",
    "    text=comparison_df['DOE_Count'].apply(lambda x: f\"{x:,.0f}\"),\n",
    "    textposition='outside'\n",
    "))\n",
    "\n",
    "fig.add_trace(go.Bar(\n",
    "    x=comparison_df['Category'],\n",
    "    y=comparison_df['CompStak_Count'],\n",
    "    name='CompStak',\n",
    "    marker_color='#FF8F00',\n",
    "    text=comparison_df['CompStak_Count'].apply(lambda x: f\"{x:,.0f}\"),\n",
    "    textposition='outside'\n",
    "))\n",
    "\n",
    "fig.update_layout(\n",
    "    title='DOE vs CompStak Property Type Counts',\n",
    "    xaxis_title='Property Type',\n",
    "    yaxis_title='Count',\n",
    "    barmode='group',\n",
    "    width=900,\n",
    "    height=600,\n",
    "    template='plotly_white',\n",
    "    yaxis=dict(\n",
    "        type='log'  # Use log scale to better show the differences\n",
    "    )\n",
    ")\n",
    "\n",
    "fig.show()\n",
    "\n",
    "# Save the figure as a PNG image\n",
    "fig.write_image(r'C:\\Users\\clint\\Desktop\\compstak-analysis\\Images\\Corrected Data\\DOE_vs_CompStak.png')"
   ]
  },
  {
   "cell_type": "markdown",
   "id": "58d31d8e",
   "metadata": {},
   "source": [
    "## Remove 'Other' Category from Visualizations\n",
    "\n",
    "The following cells filter out the 'Other' category from both DOE and CompStak datasets and recreate the sunburst and bar chart visualizations without it."
   ]
  },
  {
   "cell_type": "code",
   "execution_count": null,
   "id": "e47786ce",
   "metadata": {},
   "outputs": [
    {
     "data": {
      "application/vnd.microsoft.datawrangler.viewer.v0+json": {
       "columns": [
        {
         "name": "index",
         "rawType": "int64",
         "type": "integer"
        },
        {
         "name": "id",
         "rawType": "object",
         "type": "string"
        },
        {
         "name": "parent",
         "rawType": "object",
         "type": "string"
        },
        {
         "name": "value",
         "rawType": "int64",
         "type": "integer"
        },
        {
         "name": "label",
         "rawType": "object",
         "type": "string"
        }
       ],
       "conversionMethod": "pd.DataFrame",
       "ref": "2167b11c-6e8b-4f8d-b691-dc9de9c44145",
       "rows": [
        [
         "0",
         "root",
         "",
         "1",
         "Property Types"
        ],
        [
         "1",
         "DOE",
         "root",
         "1404717",
         "DOE (1,404,717)"
        ],
        [
         "2",
         "CompStak",
         "root",
         "591891",
         "CompStak (591,891)"
        ],
        [
         "3",
         "DOE_Retail",
         "DOE",
         "625146",
         "Retail (625,146)"
        ],
        [
         "4",
         "DOE_Industrial",
         "DOE",
         "289287",
         "Industrial (289,287)"
        ],
        [
         "5",
         "DOE_Office",
         "DOE",
         "268883",
         "Office (268,883)"
        ],
        [
         "6",
         "DOE_Multi-Family",
         "DOE",
         "170267",
         "Multi-Family (170,267)"
        ],
        [
         "7",
         "DOE_Hotel",
         "DOE",
         "51134",
         "Hotel (51,134)"
        ],
        [
         "8",
         "CompStak_Retail",
         "CompStak",
         "195522",
         "Retail (195,522)"
        ],
        [
         "9",
         "CompStak_Industrial",
         "CompStak",
         "183106",
         "Industrial (183,106)"
        ],
        [
         "10",
         "CompStak_Multi-Family",
         "CompStak",
         "114427",
         "Multi-Family (114,427)"
        ],
        [
         "11",
         "CompStak_Office",
         "CompStak",
         "88768",
         "Office (88,768)"
        ],
        [
         "12",
         "CompStak_Hotel",
         "CompStak",
         "10068",
         "Hotel (10,068)"
        ]
       ],
       "shape": {
        "columns": 4,
        "rows": 13
       }
      },
      "text/html": [
       "<div>\n",
       "<style scoped>\n",
       "    .dataframe tbody tr th:only-of-type {\n",
       "        vertical-align: middle;\n",
       "    }\n",
       "\n",
       "    .dataframe tbody tr th {\n",
       "        vertical-align: top;\n",
       "    }\n",
       "\n",
       "    .dataframe thead th {\n",
       "        text-align: right;\n",
       "    }\n",
       "</style>\n",
       "<table border=\"1\" class=\"dataframe\">\n",
       "  <thead>\n",
       "    <tr style=\"text-align: right;\">\n",
       "      <th></th>\n",
       "      <th>id</th>\n",
       "      <th>parent</th>\n",
       "      <th>value</th>\n",
       "      <th>label</th>\n",
       "    </tr>\n",
       "  </thead>\n",
       "  <tbody>\n",
       "    <tr>\n",
       "      <th>0</th>\n",
       "      <td>root</td>\n",
       "      <td></td>\n",
       "      <td>1</td>\n",
       "      <td>Property Types</td>\n",
       "    </tr>\n",
       "    <tr>\n",
       "      <th>1</th>\n",
       "      <td>DOE</td>\n",
       "      <td>root</td>\n",
       "      <td>1404717</td>\n",
       "      <td>DOE (1,404,717)</td>\n",
       "    </tr>\n",
       "    <tr>\n",
       "      <th>2</th>\n",
       "      <td>CompStak</td>\n",
       "      <td>root</td>\n",
       "      <td>591891</td>\n",
       "      <td>CompStak (591,891)</td>\n",
       "    </tr>\n",
       "    <tr>\n",
       "      <th>3</th>\n",
       "      <td>DOE_Retail</td>\n",
       "      <td>DOE</td>\n",
       "      <td>625146</td>\n",
       "      <td>Retail (625,146)</td>\n",
       "    </tr>\n",
       "    <tr>\n",
       "      <th>4</th>\n",
       "      <td>DOE_Industrial</td>\n",
       "      <td>DOE</td>\n",
       "      <td>289287</td>\n",
       "      <td>Industrial (289,287)</td>\n",
       "    </tr>\n",
       "    <tr>\n",
       "      <th>5</th>\n",
       "      <td>DOE_Office</td>\n",
       "      <td>DOE</td>\n",
       "      <td>268883</td>\n",
       "      <td>Office (268,883)</td>\n",
       "    </tr>\n",
       "    <tr>\n",
       "      <th>6</th>\n",
       "      <td>DOE_Multi-Family</td>\n",
       "      <td>DOE</td>\n",
       "      <td>170267</td>\n",
       "      <td>Multi-Family (170,267)</td>\n",
       "    </tr>\n",
       "    <tr>\n",
       "      <th>7</th>\n",
       "      <td>DOE_Hotel</td>\n",
       "      <td>DOE</td>\n",
       "      <td>51134</td>\n",
       "      <td>Hotel (51,134)</td>\n",
       "    </tr>\n",
       "    <tr>\n",
       "      <th>8</th>\n",
       "      <td>CompStak_Retail</td>\n",
       "      <td>CompStak</td>\n",
       "      <td>195522</td>\n",
       "      <td>Retail (195,522)</td>\n",
       "    </tr>\n",
       "    <tr>\n",
       "      <th>9</th>\n",
       "      <td>CompStak_Industrial</td>\n",
       "      <td>CompStak</td>\n",
       "      <td>183106</td>\n",
       "      <td>Industrial (183,106)</td>\n",
       "    </tr>\n",
       "    <tr>\n",
       "      <th>10</th>\n",
       "      <td>CompStak_Multi-Family</td>\n",
       "      <td>CompStak</td>\n",
       "      <td>114427</td>\n",
       "      <td>Multi-Family (114,427)</td>\n",
       "    </tr>\n",
       "    <tr>\n",
       "      <th>11</th>\n",
       "      <td>CompStak_Office</td>\n",
       "      <td>CompStak</td>\n",
       "      <td>88768</td>\n",
       "      <td>Office (88,768)</td>\n",
       "    </tr>\n",
       "    <tr>\n",
       "      <th>12</th>\n",
       "      <td>CompStak_Hotel</td>\n",
       "      <td>CompStak</td>\n",
       "      <td>10068</td>\n",
       "      <td>Hotel (10,068)</td>\n",
       "    </tr>\n",
       "  </tbody>\n",
       "</table>\n",
       "</div>"
      ],
      "text/plain": [
       "                       id    parent    value                   label\n",
       "0                    root                  1          Property Types\n",
       "1                     DOE      root  1404717         DOE (1,404,717)\n",
       "2                CompStak      root   591891      CompStak (591,891)\n",
       "3              DOE_Retail       DOE   625146        Retail (625,146)\n",
       "4          DOE_Industrial       DOE   289287    Industrial (289,287)\n",
       "5              DOE_Office       DOE   268883        Office (268,883)\n",
       "6        DOE_Multi-Family       DOE   170267  Multi-Family (170,267)\n",
       "7               DOE_Hotel       DOE    51134          Hotel (51,134)\n",
       "8         CompStak_Retail  CompStak   195522        Retail (195,522)\n",
       "9     CompStak_Industrial  CompStak   183106    Industrial (183,106)\n",
       "10  CompStak_Multi-Family  CompStak   114427  Multi-Family (114,427)\n",
       "11        CompStak_Office  CompStak    88768         Office (88,768)\n",
       "12         CompStak_Hotel  CompStak    10068          Hotel (10,068)"
      ]
     },
     "execution_count": 206,
     "metadata": {},
     "output_type": "execute_result"
    }
   ],
   "source": [
    "# Filter out 'Other' from DOE and CompStak counts\n",
    "doe_counts_no_other = doe_counts[doe_counts['Category'] != 'Other'].reset_index(drop=True)\n",
    "compstak_counts_no_other = compstak_counts[compstak_counts['Category'] != 'Other'].reset_index(drop=True)\n",
    "\n",
    "# Create sunburst data without 'Other'\n",
    "sunburst_data_no_other = []\n",
    "sunburst_data_no_other.append({\n",
    "    \"id\": \"root\",\n",
    "    \"parent\": \"\",\n",
    "    \"value\": 1,\n",
    "    \"label\": \"Property Types\"\n",
    "})\n",
    "sunburst_data_no_other.append({\n",
    "    \"id\": \"DOE\",\n",
    "    \"parent\": \"root\",\n",
    "    \"value\": doe_counts_no_other['DOE_Count'].sum(),\n",
    "    \"label\": f\"DOE ({doe_counts_no_other['DOE_Count'].sum():,})\"\n",
    "})\n",
    "sunburst_data_no_other.append({\n",
    "    \"id\": \"CompStak\",\n",
    "    \"parent\": \"root\",\n",
    "    \"value\": compstak_counts_no_other['CompStak_Count'].sum(),\n",
    "    \"label\": f\"CompStak ({compstak_counts_no_other['CompStak_Count'].sum():,})\"\n",
    "})\n",
    "for _, row in doe_counts_no_other.iterrows():\n",
    "    sunburst_data_no_other.append({\n",
    "        \"id\": f\"DOE_{row['Category']}\",\n",
    "        \"parent\": \"DOE\",\n",
    "        \"value\": row['DOE_Count'],\n",
    "        \"label\": f\"{row['Category']} ({row['DOE_Count']:,})\"\n",
    "    })\n",
    "for _, row in compstak_counts_no_other.iterrows():\n",
    "    sunburst_data_no_other.append({\n",
    "        \"id\": f\"CompStak_{row['Category']}\",\n",
    "        \"parent\": \"CompStak\",\n",
    "        \"value\": row['CompStak_Count'],\n",
    "        \"label\": f\"{row['Category']} ({row['CompStak_Count']:,})\"\n",
    "    })\n",
    "sunburst_df_no_other = pd.DataFrame(sunburst_data_no_other)\n",
    "sunburst_df_no_other"
   ]
  },
  {
   "cell_type": "code",
   "execution_count": null,
   "id": "120cd6d4",
   "metadata": {},
   "outputs": [
    {
     "data": {
      "application/vnd.plotly.v1+json": {
       "config": {
        "plotlyServerURL": "https://plot.ly"
       },
       "data": [
        {
         "marker": {
          "color": "#1E88E5"
         },
         "name": "DOE",
         "text": [
          "625,146",
          "289,287",
          "268,883",
          "170,267",
          "51,134"
         ],
         "textposition": "outside",
         "type": "bar",
         "x": [
          "Retail",
          "Industrial",
          "Office",
          "Multi-Family",
          "Hotel"
         ],
         "y": [
          625146,
          289287,
          268883,
          170267,
          51134
         ]
        },
        {
         "marker": {
          "color": "#FF8F00"
         },
         "name": "CompStak",
         "text": [
          "195,522",
          "183,106",
          "88,768",
          "114,427",
          "10,068"
         ],
         "textposition": "outside",
         "type": "bar",
         "x": [
          "Retail",
          "Industrial",
          "Office",
          "Multi-Family",
          "Hotel"
         ],
         "y": [
          195522,
          183106,
          88768,
          114427,
          10068
         ]
        }
       ],
       "layout": {
        "barmode": "group",
        "height": 600,
        "template": {
         "data": {
          "bar": [
           {
            "error_x": {
             "color": "#2a3f5f"
            },
            "error_y": {
             "color": "#2a3f5f"
            },
            "marker": {
             "line": {
              "color": "white",
              "width": 0.5
             },
             "pattern": {
              "fillmode": "overlay",
              "size": 10,
              "solidity": 0.2
             }
            },
            "type": "bar"
           }
          ],
          "barpolar": [
           {
            "marker": {
             "line": {
              "color": "white",
              "width": 0.5
             },
             "pattern": {
              "fillmode": "overlay",
              "size": 10,
              "solidity": 0.2
             }
            },
            "type": "barpolar"
           }
          ],
          "carpet": [
           {
            "aaxis": {
             "endlinecolor": "#2a3f5f",
             "gridcolor": "#C8D4E3",
             "linecolor": "#C8D4E3",
             "minorgridcolor": "#C8D4E3",
             "startlinecolor": "#2a3f5f"
            },
            "baxis": {
             "endlinecolor": "#2a3f5f",
             "gridcolor": "#C8D4E3",
             "linecolor": "#C8D4E3",
             "minorgridcolor": "#C8D4E3",
             "startlinecolor": "#2a3f5f"
            },
            "type": "carpet"
           }
          ],
          "choropleth": [
           {
            "colorbar": {
             "outlinewidth": 0,
             "ticks": ""
            },
            "type": "choropleth"
           }
          ],
          "contour": [
           {
            "colorbar": {
             "outlinewidth": 0,
             "ticks": ""
            },
            "colorscale": [
             [
              0,
              "#0d0887"
             ],
             [
              0.1111111111111111,
              "#46039f"
             ],
             [
              0.2222222222222222,
              "#7201a8"
             ],
             [
              0.3333333333333333,
              "#9c179e"
             ],
             [
              0.4444444444444444,
              "#bd3786"
             ],
             [
              0.5555555555555556,
              "#d8576b"
             ],
             [
              0.6666666666666666,
              "#ed7953"
             ],
             [
              0.7777777777777778,
              "#fb9f3a"
             ],
             [
              0.8888888888888888,
              "#fdca26"
             ],
             [
              1,
              "#f0f921"
             ]
            ],
            "type": "contour"
           }
          ],
          "contourcarpet": [
           {
            "colorbar": {
             "outlinewidth": 0,
             "ticks": ""
            },
            "type": "contourcarpet"
           }
          ],
          "heatmap": [
           {
            "colorbar": {
             "outlinewidth": 0,
             "ticks": ""
            },
            "colorscale": [
             [
              0,
              "#0d0887"
             ],
             [
              0.1111111111111111,
              "#46039f"
             ],
             [
              0.2222222222222222,
              "#7201a8"
             ],
             [
              0.3333333333333333,
              "#9c179e"
             ],
             [
              0.4444444444444444,
              "#bd3786"
             ],
             [
              0.5555555555555556,
              "#d8576b"
             ],
             [
              0.6666666666666666,
              "#ed7953"
             ],
             [
              0.7777777777777778,
              "#fb9f3a"
             ],
             [
              0.8888888888888888,
              "#fdca26"
             ],
             [
              1,
              "#f0f921"
             ]
            ],
            "type": "heatmap"
           }
          ],
          "heatmapgl": [
           {
            "colorbar": {
             "outlinewidth": 0,
             "ticks": ""
            },
            "colorscale": [
             [
              0,
              "#0d0887"
             ],
             [
              0.1111111111111111,
              "#46039f"
             ],
             [
              0.2222222222222222,
              "#7201a8"
             ],
             [
              0.3333333333333333,
              "#9c179e"
             ],
             [
              0.4444444444444444,
              "#bd3786"
             ],
             [
              0.5555555555555556,
              "#d8576b"
             ],
             [
              0.6666666666666666,
              "#ed7953"
             ],
             [
              0.7777777777777778,
              "#fb9f3a"
             ],
             [
              0.8888888888888888,
              "#fdca26"
             ],
             [
              1,
              "#f0f921"
             ]
            ],
            "type": "heatmapgl"
           }
          ],
          "histogram": [
           {
            "marker": {
             "pattern": {
              "fillmode": "overlay",
              "size": 10,
              "solidity": 0.2
             }
            },
            "type": "histogram"
           }
          ],
          "histogram2d": [
           {
            "colorbar": {
             "outlinewidth": 0,
             "ticks": ""
            },
            "colorscale": [
             [
              0,
              "#0d0887"
             ],
             [
              0.1111111111111111,
              "#46039f"
             ],
             [
              0.2222222222222222,
              "#7201a8"
             ],
             [
              0.3333333333333333,
              "#9c179e"
             ],
             [
              0.4444444444444444,
              "#bd3786"
             ],
             [
              0.5555555555555556,
              "#d8576b"
             ],
             [
              0.6666666666666666,
              "#ed7953"
             ],
             [
              0.7777777777777778,
              "#fb9f3a"
             ],
             [
              0.8888888888888888,
              "#fdca26"
             ],
             [
              1,
              "#f0f921"
             ]
            ],
            "type": "histogram2d"
           }
          ],
          "histogram2dcontour": [
           {
            "colorbar": {
             "outlinewidth": 0,
             "ticks": ""
            },
            "colorscale": [
             [
              0,
              "#0d0887"
             ],
             [
              0.1111111111111111,
              "#46039f"
             ],
             [
              0.2222222222222222,
              "#7201a8"
             ],
             [
              0.3333333333333333,
              "#9c179e"
             ],
             [
              0.4444444444444444,
              "#bd3786"
             ],
             [
              0.5555555555555556,
              "#d8576b"
             ],
             [
              0.6666666666666666,
              "#ed7953"
             ],
             [
              0.7777777777777778,
              "#fb9f3a"
             ],
             [
              0.8888888888888888,
              "#fdca26"
             ],
             [
              1,
              "#f0f921"
             ]
            ],
            "type": "histogram2dcontour"
           }
          ],
          "mesh3d": [
           {
            "colorbar": {
             "outlinewidth": 0,
             "ticks": ""
            },
            "type": "mesh3d"
           }
          ],
          "parcoords": [
           {
            "line": {
             "colorbar": {
              "outlinewidth": 0,
              "ticks": ""
             }
            },
            "type": "parcoords"
           }
          ],
          "pie": [
           {
            "automargin": true,
            "type": "pie"
           }
          ],
          "scatter": [
           {
            "fillpattern": {
             "fillmode": "overlay",
             "size": 10,
             "solidity": 0.2
            },
            "type": "scatter"
           }
          ],
          "scatter3d": [
           {
            "line": {
             "colorbar": {
              "outlinewidth": 0,
              "ticks": ""
             }
            },
            "marker": {
             "colorbar": {
              "outlinewidth": 0,
              "ticks": ""
             }
            },
            "type": "scatter3d"
           }
          ],
          "scattercarpet": [
           {
            "marker": {
             "colorbar": {
              "outlinewidth": 0,
              "ticks": ""
             }
            },
            "type": "scattercarpet"
           }
          ],
          "scattergeo": [
           {
            "marker": {
             "colorbar": {
              "outlinewidth": 0,
              "ticks": ""
             }
            },
            "type": "scattergeo"
           }
          ],
          "scattergl": [
           {
            "marker": {
             "colorbar": {
              "outlinewidth": 0,
              "ticks": ""
             }
            },
            "type": "scattergl"
           }
          ],
          "scattermapbox": [
           {
            "marker": {
             "colorbar": {
              "outlinewidth": 0,
              "ticks": ""
             }
            },
            "type": "scattermapbox"
           }
          ],
          "scatterpolar": [
           {
            "marker": {
             "colorbar": {
              "outlinewidth": 0,
              "ticks": ""
             }
            },
            "type": "scatterpolar"
           }
          ],
          "scatterpolargl": [
           {
            "marker": {
             "colorbar": {
              "outlinewidth": 0,
              "ticks": ""
             }
            },
            "type": "scatterpolargl"
           }
          ],
          "scatterternary": [
           {
            "marker": {
             "colorbar": {
              "outlinewidth": 0,
              "ticks": ""
             }
            },
            "type": "scatterternary"
           }
          ],
          "surface": [
           {
            "colorbar": {
             "outlinewidth": 0,
             "ticks": ""
            },
            "colorscale": [
             [
              0,
              "#0d0887"
             ],
             [
              0.1111111111111111,
              "#46039f"
             ],
             [
              0.2222222222222222,
              "#7201a8"
             ],
             [
              0.3333333333333333,
              "#9c179e"
             ],
             [
              0.4444444444444444,
              "#bd3786"
             ],
             [
              0.5555555555555556,
              "#d8576b"
             ],
             [
              0.6666666666666666,
              "#ed7953"
             ],
             [
              0.7777777777777778,
              "#fb9f3a"
             ],
             [
              0.8888888888888888,
              "#fdca26"
             ],
             [
              1,
              "#f0f921"
             ]
            ],
            "type": "surface"
           }
          ],
          "table": [
           {
            "cells": {
             "fill": {
              "color": "#EBF0F8"
             },
             "line": {
              "color": "white"
             }
            },
            "header": {
             "fill": {
              "color": "#C8D4E3"
             },
             "line": {
              "color": "white"
             }
            },
            "type": "table"
           }
          ]
         },
         "layout": {
          "annotationdefaults": {
           "arrowcolor": "#2a3f5f",
           "arrowhead": 0,
           "arrowwidth": 1
          },
          "autotypenumbers": "strict",
          "coloraxis": {
           "colorbar": {
            "outlinewidth": 0,
            "ticks": ""
           }
          },
          "colorscale": {
           "diverging": [
            [
             0,
             "#8e0152"
            ],
            [
             0.1,
             "#c51b7d"
            ],
            [
             0.2,
             "#de77ae"
            ],
            [
             0.3,
             "#f1b6da"
            ],
            [
             0.4,
             "#fde0ef"
            ],
            [
             0.5,
             "#f7f7f7"
            ],
            [
             0.6,
             "#e6f5d0"
            ],
            [
             0.7,
             "#b8e186"
            ],
            [
             0.8,
             "#7fbc41"
            ],
            [
             0.9,
             "#4d9221"
            ],
            [
             1,
             "#276419"
            ]
           ],
           "sequential": [
            [
             0,
             "#0d0887"
            ],
            [
             0.1111111111111111,
             "#46039f"
            ],
            [
             0.2222222222222222,
             "#7201a8"
            ],
            [
             0.3333333333333333,
             "#9c179e"
            ],
            [
             0.4444444444444444,
             "#bd3786"
            ],
            [
             0.5555555555555556,
             "#d8576b"
            ],
            [
             0.6666666666666666,
             "#ed7953"
            ],
            [
             0.7777777777777778,
             "#fb9f3a"
            ],
            [
             0.8888888888888888,
             "#fdca26"
            ],
            [
             1,
             "#f0f921"
            ]
           ],
           "sequentialminus": [
            [
             0,
             "#0d0887"
            ],
            [
             0.1111111111111111,
             "#46039f"
            ],
            [
             0.2222222222222222,
             "#7201a8"
            ],
            [
             0.3333333333333333,
             "#9c179e"
            ],
            [
             0.4444444444444444,
             "#bd3786"
            ],
            [
             0.5555555555555556,
             "#d8576b"
            ],
            [
             0.6666666666666666,
             "#ed7953"
            ],
            [
             0.7777777777777778,
             "#fb9f3a"
            ],
            [
             0.8888888888888888,
             "#fdca26"
            ],
            [
             1,
             "#f0f921"
            ]
           ]
          },
          "colorway": [
           "#636efa",
           "#EF553B",
           "#00cc96",
           "#ab63fa",
           "#FFA15A",
           "#19d3f3",
           "#FF6692",
           "#B6E880",
           "#FF97FF",
           "#FECB52"
          ],
          "font": {
           "color": "#2a3f5f"
          },
          "geo": {
           "bgcolor": "white",
           "lakecolor": "white",
           "landcolor": "white",
           "showlakes": true,
           "showland": true,
           "subunitcolor": "#C8D4E3"
          },
          "hoverlabel": {
           "align": "left"
          },
          "hovermode": "closest",
          "mapbox": {
           "style": "light"
          },
          "paper_bgcolor": "white",
          "plot_bgcolor": "white",
          "polar": {
           "angularaxis": {
            "gridcolor": "#EBF0F8",
            "linecolor": "#EBF0F8",
            "ticks": ""
           },
           "bgcolor": "white",
           "radialaxis": {
            "gridcolor": "#EBF0F8",
            "linecolor": "#EBF0F8",
            "ticks": ""
           }
          },
          "scene": {
           "xaxis": {
            "backgroundcolor": "white",
            "gridcolor": "#DFE8F3",
            "gridwidth": 2,
            "linecolor": "#EBF0F8",
            "showbackground": true,
            "ticks": "",
            "zerolinecolor": "#EBF0F8"
           },
           "yaxis": {
            "backgroundcolor": "white",
            "gridcolor": "#DFE8F3",
            "gridwidth": 2,
            "linecolor": "#EBF0F8",
            "showbackground": true,
            "ticks": "",
            "zerolinecolor": "#EBF0F8"
           },
           "zaxis": {
            "backgroundcolor": "white",
            "gridcolor": "#DFE8F3",
            "gridwidth": 2,
            "linecolor": "#EBF0F8",
            "showbackground": true,
            "ticks": "",
            "zerolinecolor": "#EBF0F8"
           }
          },
          "shapedefaults": {
           "line": {
            "color": "#2a3f5f"
           }
          },
          "ternary": {
           "aaxis": {
            "gridcolor": "#DFE8F3",
            "linecolor": "#A2B1C6",
            "ticks": ""
           },
           "baxis": {
            "gridcolor": "#DFE8F3",
            "linecolor": "#A2B1C6",
            "ticks": ""
           },
           "bgcolor": "white",
           "caxis": {
            "gridcolor": "#DFE8F3",
            "linecolor": "#A2B1C6",
            "ticks": ""
           }
          },
          "title": {
           "x": 0.05
          },
          "xaxis": {
           "automargin": true,
           "gridcolor": "#EBF0F8",
           "linecolor": "#EBF0F8",
           "ticks": "",
           "title": {
            "standoff": 15
           },
           "zerolinecolor": "#EBF0F8",
           "zerolinewidth": 2
          },
          "yaxis": {
           "automargin": true,
           "gridcolor": "#EBF0F8",
           "linecolor": "#EBF0F8",
           "ticks": "",
           "title": {
            "standoff": 15
           },
           "zerolinecolor": "#EBF0F8",
           "zerolinewidth": 2
          }
         }
        },
        "title": {
         "text": "DOE vs CompStak Property Type Counts (No Other)"
        },
        "width": 900,
        "xaxis": {
         "title": {
          "text": "Property Type"
         }
        },
        "yaxis": {
         "title": {
          "text": "Count"
         },
         "type": "log"
        }
       }
      }
     },
     "metadata": {},
     "output_type": "display_data"
    }
   ],
   "source": [
    "# Bar chart without 'Other' category\n",
    "comparison_df_no_other = pd.merge(doe_counts_no_other, compstak_counts_no_other, on='Category', how='outer').fillna(0)\n",
    "comparison_df_no_other = comparison_df_no_other.sort_values(by='DOE_Count', ascending=False)\n",
    "\n",
    "fig_no_other = go.Figure()\n",
    "fig_no_other.add_trace(go.Bar(\n",
    "    x=comparison_df_no_other['Category'],\n",
    "    y=comparison_df_no_other['DOE_Count'],\n",
    "    name='DOE',\n",
    "    marker_color='#1E88E5',\n",
    "    text=comparison_df_no_other['DOE_Count'].apply(lambda x: f\"{x:,.0f}\"),\n",
    "    textposition='outside'\n",
    "))\n",
    "fig_no_other.add_trace(go.Bar(\n",
    "    x=comparison_df_no_other['Category'],\n",
    "    y=comparison_df_no_other['CompStak_Count'],\n",
    "    name='CompStak',\n",
    "    marker_color='#FF8F00',\n",
    "    text=comparison_df_no_other['CompStak_Count'].apply(lambda x: f\"{x:,.0f}\"),\n",
    "    textposition='outside'\n",
    "))\n",
    "fig_no_other.update_layout(\n",
    "    title='DOE vs CompStak Property Type Counts (No Other)',\n",
    "    xaxis_title='Property Type',\n",
    "    yaxis_title='Count',\n",
    "    barmode='group',\n",
    "    width=900,\n",
    "    height=600,\n",
    "    template='plotly_white',\n",
    "    yaxis=dict(type='log')\n",
    ")\n",
    "fig_no_other.show()\n",
    "\n",
    "# Save the figure as a PNG image\n",
    "fig_no_other.write_image(r'C:\\Users\\clint\\Desktop\\compstak-analysis\\Images\\Corrected Data\\DOE_vs_CompStak_no_other.png')"
   ]
  },
  {
   "cell_type": "code",
   "execution_count": null,
   "id": "3d9a8d2c",
   "metadata": {},
   "outputs": [
    {
     "name": "stdout",
     "output_type": "stream",
     "text": [
      "All figures saved to C:\\Users\\clint\\Desktop\\compstak-analysis\\Images\\Corrected Data\n"
     ]
    }
   ],
   "source": [
    "# Save all figures to the Images/Corrected Data directory\n",
    "\n",
    "# Create a timestamp for unique filenames\n",
    "timestamp = datetime.now().strftime('%Y%m%d_%H%M%S')\n",
    "\n",
    "# Ensure the directory exists\n",
    "save_dir = r'C:\\Users\\clint\\Desktop\\compstak-analysis\\Images\\Corrected Data'\n",
    "os.makedirs(save_dir, exist_ok=True)\n",
    "\n",
    "# Create a sunburst chart and save it\n",
    "fig_sunburst = px.sunburst(\n",
    "    sunburst_df,\n",
    "    ids='id',\n",
    "    parents='parent',\n",
    "    values='value',\n",
    "    names='label',\n",
    "    title='Property Type Distribution in DOE and CompStak Datasets'\n",
    ")\n",
    "\n",
    "fig_sunburst.update_layout(\n",
    "    width=800,\n",
    "    height=800\n",
    ")\n",
    "\n",
    "# Save the sunburst figure\n",
    "fig_sunburst.write_image(os.path.join(save_dir, f'property_type_sunburst_{timestamp}.png'))\n",
    "fig_sunburst.write_html(os.path.join(save_dir, f'property_type_sunburst_{timestamp}.html'))\n",
    "\n",
    "# Create a stacked bar chart\n",
    "fig_stacked = px.bar(\n",
    "    treemap_df,\n",
    "    x='Property Type',\n",
    "    y='Count',\n",
    "    color='Source',\n",
    "    barmode='group',\n",
    "    title='Property Type Distribution by Source',\n",
    "    color_discrete_map={'DOE': '#1E88E5', 'CompStak': '#FF8F00'}\n",
    ")\n",
    "\n",
    "fig_stacked.update_layout(\n",
    "    width=900,\n",
    "    height=600\n",
    ")\n",
    "\n",
    "# Save the stacked bar figure\n",
    "fig_stacked.write_image(os.path.join(save_dir, f'property_type_comparison_{timestamp}.png'))\n",
    "\n",
    "print(f\"All figures saved to {save_dir}\")"
   ]
  },
  {
   "cell_type": "code",
   "execution_count": null,
   "id": "bdbf7967",
   "metadata": {},
   "outputs": [],
   "source": [
    "# Save compstak_df and doe_df to CSV files\n",
    "compstak_df.to_csv(r'C:\\Users\\clint\\Desktop\\compstak-analysis\\Data\\compstak_mapped.csv', index=False)\n",
    "doe_df.to_csv(r'C:\\Users\\clint\\Desktop\\compstak-analysis\\Data\\DOE_mapped.csv', index=False)"
   ]
  }
 ],
 "metadata": {
  "kernelspec": {
   "display_name": "Python 3",
   "language": "python",
   "name": "python3"
  },
  "language_info": {
   "codemirror_mode": {
    "name": "ipython",
    "version": 3
   },
   "file_extension": ".py",
   "mimetype": "text/x-python",
   "name": "python",
   "nbconvert_exporter": "python",
   "pygments_lexer": "ipython3",
   "version": "3.11.9"
  }
 },
 "nbformat": 4,
 "nbformat_minor": 5
}
