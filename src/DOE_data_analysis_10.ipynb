{
 "cells": [
  {
   "cell_type": "code",
   "execution_count": 40,
   "id": "8f830655",
   "metadata": {},
   "outputs": [],
   "source": [
    "import pandas as pd\n",
    "import matplotlib.pyplot as plt\n",
    "import numpy as np\n",
    "import seaborn as sns\n",
    "from matplotlib_venn import venn2\n",
    "import plotly.express as px\n",
    "import os\n"
   ]
  },
  {
   "cell_type": "code",
   "execution_count": 41,
   "id": "261b39c0",
   "metadata": {},
   "outputs": [
    {
     "name": "stdout",
     "output_type": "stream",
     "text": [
      "Output directory created/verified: C:\\Users\\clint\\Desktop\\compstak-analysis\\Images\\Corrected Data\n"
     ]
    }
   ],
   "source": [
    "# Create output directory for saved visualizations if it doesn't exist\n",
    "output_dir = r'C:\\Users\\clint\\Desktop\\compstak-analysis\\Images\\Corrected Data'\n",
    "os.makedirs(output_dir, exist_ok=True)\n",
    "print(f\"Output directory created/verified: {output_dir}\")"
   ]
  },
  {
   "cell_type": "code",
   "execution_count": 42,
   "id": "276133a4",
   "metadata": {},
   "outputs": [],
   "source": [
    "compstak_df = pd.read_csv(r'C:\\Users\\clint\\Desktop\\compstak-analysis\\Data\\compstak_mapped.csv')\n",
    "doe_df = pd.read_csv(r'C:\\Users\\clint\\Desktop\\compstak-analysis\\Data\\DOE_mapped.csv')"
   ]
  },
  {
   "cell_type": "code",
   "execution_count": 43,
   "id": "f9624a5c",
   "metadata": {},
   "outputs": [
    {
     "name": "stdout",
     "output_type": "stream",
     "text": [
      "ComptStak DF columns: ['Property Type', 'Property Subtype', 'Property Id', 'statecode', 'DOE_Compliant_Property_Type']\n",
      "DOE DF columns: ['statecode', 'reported_propertytype', 'reported_propertysubtype', 'compstak_equivalent_category']\n"
     ]
    }
   ],
   "source": [
    "# Rename 'State' column to 'statecode' in compstak_df for consistent analysis\n",
    "compstak_df = compstak_df.rename(columns={'State': 'statecode'})\n",
    "\n",
    "# Verify column names in both dataframes\n",
    "print(\"ComptStak DF columns:\", compstak_df.columns.tolist())\n",
    "print(\"DOE DF columns:\", doe_df.columns.tolist())"
   ]
  },
  {
   "cell_type": "code",
   "execution_count": 44,
   "id": "25bedea5",
   "metadata": {},
   "outputs": [
    {
     "data": {
      "application/vnd.microsoft.datawrangler.viewer.v0+json": {
       "columns": [
        {
         "name": "index",
         "rawType": "int64",
         "type": "integer"
        },
        {
         "name": "Property Type",
         "rawType": "object",
         "type": "unknown"
        },
        {
         "name": "Property Subtype",
         "rawType": "object",
         "type": "unknown"
        },
        {
         "name": "Property Id",
         "rawType": "int64",
         "type": "integer"
        },
        {
         "name": "statecode",
         "rawType": "object",
         "type": "string"
        },
        {
         "name": "DOE_Compliant_Property_Type",
         "rawType": "object",
         "type": "string"
        }
       ],
       "conversionMethod": "pd.DataFrame",
       "ref": "5fa42a41-735f-4bf0-a12e-109df0d1a687",
       "rows": [
        [
         "0",
         "Retail",
         "Parking",
         "1",
         "NY",
         "Other"
        ],
        [
         "1",
         "Retail",
         "Apartments",
         "2",
         "NY",
         "Multi-Family"
        ],
        [
         "2",
         "Office",
         null,
         "3",
         "NY",
         "Office"
        ],
        [
         "3",
         "Retail",
         null,
         "4",
         "NY",
         "Retail"
        ],
        [
         "4",
         "Office",
         "Mixed-Use",
         "5",
         "NY",
         "Other"
        ],
        [
         "5",
         "Office",
         "Creative",
         "6",
         "NY",
         "Office"
        ],
        [
         "6",
         "Office",
         null,
         "7",
         "NY",
         "Office"
        ],
        [
         "7",
         "Office",
         "Apartments",
         "9",
         "NY",
         "Multi-Family"
        ],
        [
         "8",
         "Office",
         "Medical/Healthcare",
         "10",
         "NY",
         "Other"
        ],
        [
         "9",
         "Retail",
         "Mixed-Use",
         "11",
         "NY",
         "Other"
        ],
        [
         "10",
         "Office",
         "Mixed-Use",
         "12",
         "NY",
         "Other"
        ],
        [
         "11",
         "Retail",
         "General Retail",
         "13",
         "NY",
         "Retail"
        ],
        [
         "12",
         "Multi-Family",
         "Condominium",
         "14",
         "NY",
         "Multi-Family"
        ],
        [
         "13",
         "Office",
         "Medical/Healthcare",
         "15",
         "NY",
         "Other"
        ],
        [
         "14",
         "Retail",
         "Apartments",
         "16",
         "NY",
         "Multi-Family"
        ],
        [
         "15",
         "Mixed-Use",
         "Street Retail/Storefront",
         "17",
         "NY",
         "Retail"
        ],
        [
         "16",
         "Office",
         "Mixed-Use",
         "18",
         "NY",
         "Other"
        ],
        [
         "17",
         "Office",
         "Mixed-Use",
         "19",
         "NY",
         "Other"
        ],
        [
         "18",
         "Multi-Family",
         "Condominium",
         "20",
         "NY",
         "Multi-Family"
        ],
        [
         "19",
         "Office",
         "Mixed-Use",
         "21",
         "NY",
         "Other"
        ],
        [
         "20",
         "Office",
         null,
         "22",
         "NY",
         "Office"
        ],
        [
         "21",
         "Retail",
         null,
         "23",
         "NY",
         "Retail"
        ],
        [
         "22",
         "Office",
         null,
         "24",
         "NY",
         "Office"
        ],
        [
         "23",
         "Retail",
         "General Retail",
         "25",
         "NY",
         "Retail"
        ],
        [
         "24",
         "Office",
         "General Retail",
         "26",
         "NY",
         "Retail"
        ],
        [
         "25",
         "Office",
         null,
         "27",
         "NY",
         "Office"
        ],
        [
         "26",
         "Office",
         "Sports & Recreation",
         "28",
         "NY",
         "Other"
        ],
        [
         "27",
         "Office",
         "Apartments",
         "29",
         "NY",
         "Multi-Family"
        ],
        [
         "28",
         "Office",
         "Medical/Healthcare",
         "30",
         "NY",
         "Other"
        ],
        [
         "29",
         "Office",
         "Medical/Healthcare",
         "31",
         "NY",
         "Other"
        ],
        [
         "30",
         "Office",
         "General Retail",
         "33",
         "NY",
         "Retail"
        ],
        [
         "31",
         "Office",
         null,
         "34",
         "NY",
         "Office"
        ],
        [
         "32",
         "Office",
         null,
         "35",
         "NY",
         "Office"
        ],
        [
         "33",
         "Office",
         "Mixed-Use",
         "36",
         "NY",
         "Other"
        ],
        [
         "34",
         "Office",
         "Medical/Healthcare",
         "37",
         "NY",
         "Other"
        ],
        [
         "35",
         "Office",
         null,
         "38",
         "NY",
         "Office"
        ],
        [
         "36",
         "Mixed-Use",
         "Mixed-Use",
         "39",
         "NY",
         "Other"
        ],
        [
         "37",
         "Mixed-Use",
         "Condominium",
         "40",
         "NY",
         "Multi-Family"
        ],
        [
         "38",
         "Retail",
         "Mixed-Use",
         "41",
         "NY",
         "Other"
        ],
        [
         "39",
         "Office",
         "Mixed-Use",
         "42",
         "NY",
         "Other"
        ],
        [
         "40",
         "Office",
         null,
         "43",
         "NY",
         "Office"
        ],
        [
         "41",
         "Retail",
         "General Retail",
         "44",
         "NY",
         "Retail"
        ],
        [
         "42",
         "Multi-Family",
         "Apartments",
         "45",
         "NY",
         "Multi-Family"
        ],
        [
         "43",
         "Retail",
         "Street Retail/Storefront",
         "46",
         "NY",
         "Retail"
        ],
        [
         "44",
         "Office",
         "Financial Building",
         "47",
         "NY",
         "Office"
        ],
        [
         "45",
         "Office",
         null,
         "48",
         "NY",
         "Office"
        ],
        [
         "46",
         "Office",
         null,
         "49",
         "NY",
         "Office"
        ],
        [
         "47",
         "Retail",
         "Apartments",
         "50",
         "NY",
         "Multi-Family"
        ],
        [
         "48",
         "Office",
         null,
         "51",
         "NY",
         "Office"
        ],
        [
         "49",
         "Retail",
         "General Retail",
         "52",
         "NY",
         "Retail"
        ]
       ],
       "shape": {
        "columns": 5,
        "rows": 759617
       }
      },
      "text/html": [
       "<div>\n",
       "<style scoped>\n",
       "    .dataframe tbody tr th:only-of-type {\n",
       "        vertical-align: middle;\n",
       "    }\n",
       "\n",
       "    .dataframe tbody tr th {\n",
       "        vertical-align: top;\n",
       "    }\n",
       "\n",
       "    .dataframe thead th {\n",
       "        text-align: right;\n",
       "    }\n",
       "</style>\n",
       "<table border=\"1\" class=\"dataframe\">\n",
       "  <thead>\n",
       "    <tr style=\"text-align: right;\">\n",
       "      <th></th>\n",
       "      <th>Property Type</th>\n",
       "      <th>Property Subtype</th>\n",
       "      <th>Property Id</th>\n",
       "      <th>statecode</th>\n",
       "      <th>DOE_Compliant_Property_Type</th>\n",
       "    </tr>\n",
       "  </thead>\n",
       "  <tbody>\n",
       "    <tr>\n",
       "      <th>0</th>\n",
       "      <td>Retail</td>\n",
       "      <td>Parking</td>\n",
       "      <td>1</td>\n",
       "      <td>NY</td>\n",
       "      <td>Other</td>\n",
       "    </tr>\n",
       "    <tr>\n",
       "      <th>1</th>\n",
       "      <td>Retail</td>\n",
       "      <td>Apartments</td>\n",
       "      <td>2</td>\n",
       "      <td>NY</td>\n",
       "      <td>Multi-Family</td>\n",
       "    </tr>\n",
       "    <tr>\n",
       "      <th>2</th>\n",
       "      <td>Office</td>\n",
       "      <td>NaN</td>\n",
       "      <td>3</td>\n",
       "      <td>NY</td>\n",
       "      <td>Office</td>\n",
       "    </tr>\n",
       "    <tr>\n",
       "      <th>3</th>\n",
       "      <td>Retail</td>\n",
       "      <td>NaN</td>\n",
       "      <td>4</td>\n",
       "      <td>NY</td>\n",
       "      <td>Retail</td>\n",
       "    </tr>\n",
       "    <tr>\n",
       "      <th>4</th>\n",
       "      <td>Office</td>\n",
       "      <td>Mixed-Use</td>\n",
       "      <td>5</td>\n",
       "      <td>NY</td>\n",
       "      <td>Other</td>\n",
       "    </tr>\n",
       "    <tr>\n",
       "      <th>...</th>\n",
       "      <td>...</td>\n",
       "      <td>...</td>\n",
       "      <td>...</td>\n",
       "      <td>...</td>\n",
       "      <td>...</td>\n",
       "    </tr>\n",
       "    <tr>\n",
       "      <th>759612</th>\n",
       "      <td>NaN</td>\n",
       "      <td>NaN</td>\n",
       "      <td>3611385</td>\n",
       "      <td>NY</td>\n",
       "      <td>Other</td>\n",
       "    </tr>\n",
       "    <tr>\n",
       "      <th>759613</th>\n",
       "      <td>Industrial</td>\n",
       "      <td>Flex/R&amp;D</td>\n",
       "      <td>3611389</td>\n",
       "      <td>FL</td>\n",
       "      <td>Industrial</td>\n",
       "    </tr>\n",
       "    <tr>\n",
       "      <th>759614</th>\n",
       "      <td>Industrial</td>\n",
       "      <td>Flex/R&amp;D</td>\n",
       "      <td>3611390</td>\n",
       "      <td>FL</td>\n",
       "      <td>Industrial</td>\n",
       "    </tr>\n",
       "    <tr>\n",
       "      <th>759615</th>\n",
       "      <td>NaN</td>\n",
       "      <td>NaN</td>\n",
       "      <td>3611391</td>\n",
       "      <td>CA</td>\n",
       "      <td>Other</td>\n",
       "    </tr>\n",
       "    <tr>\n",
       "      <th>759616</th>\n",
       "      <td>NaN</td>\n",
       "      <td>NaN</td>\n",
       "      <td>3611399</td>\n",
       "      <td>NY</td>\n",
       "      <td>Other</td>\n",
       "    </tr>\n",
       "  </tbody>\n",
       "</table>\n",
       "<p>759617 rows × 5 columns</p>\n",
       "</div>"
      ],
      "text/plain": [
       "       Property Type Property Subtype  Property Id statecode  \\\n",
       "0             Retail          Parking            1        NY   \n",
       "1             Retail       Apartments            2        NY   \n",
       "2             Office              NaN            3        NY   \n",
       "3             Retail              NaN            4        NY   \n",
       "4             Office        Mixed-Use            5        NY   \n",
       "...              ...              ...          ...       ...   \n",
       "759612           NaN              NaN      3611385        NY   \n",
       "759613    Industrial         Flex/R&D      3611389        FL   \n",
       "759614    Industrial         Flex/R&D      3611390        FL   \n",
       "759615           NaN              NaN      3611391        CA   \n",
       "759616           NaN              NaN      3611399        NY   \n",
       "\n",
       "       DOE_Compliant_Property_Type  \n",
       "0                            Other  \n",
       "1                     Multi-Family  \n",
       "2                           Office  \n",
       "3                           Retail  \n",
       "4                            Other  \n",
       "...                            ...  \n",
       "759612                       Other  \n",
       "759613                  Industrial  \n",
       "759614                  Industrial  \n",
       "759615                       Other  \n",
       "759616                       Other  \n",
       "\n",
       "[759617 rows x 5 columns]"
      ]
     },
     "execution_count": 44,
     "metadata": {},
     "output_type": "execute_result"
    }
   ],
   "source": [
    "compstak_df"
   ]
  },
  {
   "cell_type": "code",
   "execution_count": 45,
   "id": "b7ba218c",
   "metadata": {},
   "outputs": [
    {
     "data": {
      "application/vnd.microsoft.datawrangler.viewer.v0+json": {
       "columns": [
        {
         "name": "index",
         "rawType": "int64",
         "type": "integer"
        },
        {
         "name": "statecode",
         "rawType": "object",
         "type": "string"
        },
        {
         "name": "reported_propertytype",
         "rawType": "object",
         "type": "string"
        },
        {
         "name": "reported_propertysubtype",
         "rawType": "object",
         "type": "unknown"
        },
        {
         "name": "compstak_equivalent_category",
         "rawType": "object",
         "type": "string"
        }
       ],
       "conversionMethod": "pd.DataFrame",
       "ref": "038f3346-c9a4-4c56-a700-91d2618eb4ab",
       "rows": [
        [
         "0",
         "CT",
         "Flex",
         "Light Manufacturing",
         "Industrial"
        ],
        [
         "1",
         "CT",
         "Industrial",
         "Warehouse",
         "Industrial"
        ],
        [
         "2",
         "CT",
         "Industrial",
         null,
         "Industrial"
        ],
        [
         "3",
         "CT",
         "Multi-Family",
         "Apartments",
         "Multi-Family"
        ],
        [
         "4",
         "CT",
         "Multi-Family",
         "Apartments",
         "Multi-Family"
        ],
        [
         "5",
         "CT",
         "Office",
         "Office Live/Work Unit",
         "Office"
        ],
        [
         "6",
         "CT",
         "Office",
         "Office/Residential",
         "Office"
        ],
        [
         "7",
         "CT",
         "Office",
         null,
         "Office"
        ],
        [
         "8",
         "CT",
         "Office",
         null,
         "Office"
        ],
        [
         "9",
         "CT",
         "Retail",
         "Convenience Store",
         "Retail"
        ],
        [
         "10",
         "CT",
         "Retail",
         "Freestanding",
         "Retail"
        ],
        [
         "11",
         "CT",
         "Retail",
         "Freestanding",
         "Retail"
        ],
        [
         "12",
         "CT",
         "Retail",
         "Freestanding",
         "Retail"
        ],
        [
         "13",
         "CT",
         "Retail",
         "Service Station",
         "Retail"
        ],
        [
         "14",
         "CT",
         "Retail",
         "Service Station",
         "Retail"
        ],
        [
         "15",
         "CT",
         "Retail",
         null,
         "Retail"
        ],
        [
         "16",
         "CT",
         "Retail",
         null,
         "Retail"
        ],
        [
         "17",
         "CT",
         "Specialty",
         "Self-Storage",
         "Other"
        ],
        [
         "18",
         "CT",
         "Flex",
         "Light Manufacturing",
         "Industrial"
        ],
        [
         "19",
         "CT",
         "Flex",
         null,
         "Industrial"
        ],
        [
         "20",
         "CT",
         "Health Care",
         "Rehabilitation Center",
         "Other"
        ],
        [
         "21",
         "CT",
         "Industrial",
         "Distribution",
         "Industrial"
        ],
        [
         "22",
         "CT",
         "Industrial",
         "Distribution",
         "Industrial"
        ],
        [
         "23",
         "CT",
         "Industrial",
         "Manufacturing",
         "Industrial"
        ],
        [
         "24",
         "CT",
         "Industrial",
         "Manufacturing",
         "Industrial"
        ],
        [
         "25",
         "CT",
         "Industrial",
         "Manufacturing",
         "Industrial"
        ],
        [
         "26",
         "CT",
         "Industrial",
         "Manufacturing",
         "Industrial"
        ],
        [
         "27",
         "CT",
         "Industrial",
         "Service",
         "Industrial"
        ],
        [
         "28",
         "CT",
         "Industrial",
         "Service",
         "Industrial"
        ],
        [
         "29",
         "CT",
         "Industrial",
         "Warehouse",
         "Industrial"
        ],
        [
         "30",
         "CT",
         "Industrial",
         "Warehouse",
         "Industrial"
        ],
        [
         "31",
         "CT",
         "Industrial",
         "Warehouse",
         "Industrial"
        ],
        [
         "32",
         "CT",
         "Industrial",
         "Warehouse",
         "Industrial"
        ],
        [
         "33",
         "CT",
         "Industrial",
         "Warehouse",
         "Industrial"
        ],
        [
         "34",
         "CT",
         "Industrial",
         "Warehouse",
         "Industrial"
        ],
        [
         "35",
         "CT",
         "Industrial",
         "Warehouse",
         "Industrial"
        ],
        [
         "36",
         "CT",
         "Industrial",
         "Warehouse",
         "Industrial"
        ],
        [
         "37",
         "CT",
         "Industrial",
         "Warehouse",
         "Industrial"
        ],
        [
         "38",
         "CT",
         "Industrial",
         "Warehouse",
         "Industrial"
        ],
        [
         "39",
         "CT",
         "Industrial",
         "Warehouse",
         "Industrial"
        ],
        [
         "40",
         "CT",
         "Industrial",
         "Warehouse",
         "Industrial"
        ],
        [
         "41",
         "CT",
         "Industrial",
         "Warehouse",
         "Industrial"
        ],
        [
         "42",
         "CT",
         "Industrial",
         "Warehouse",
         "Industrial"
        ],
        [
         "43",
         "CT",
         "Industrial",
         null,
         "Industrial"
        ],
        [
         "44",
         "CT",
         "Industrial",
         null,
         "Industrial"
        ],
        [
         "45",
         "CT",
         "Multi-Family",
         "Apartments",
         "Multi-Family"
        ],
        [
         "46",
         "CT",
         "Multi-Family",
         "Apartments",
         "Multi-Family"
        ],
        [
         "47",
         "CT",
         "Multi-Family",
         "Apartments",
         "Multi-Family"
        ],
        [
         "48",
         "CT",
         "Multi-Family",
         "Apartments",
         "Multi-Family"
        ],
        [
         "49",
         "CT",
         "Multi-Family",
         "Apartments",
         "Multi-Family"
        ]
       ],
       "shape": {
        "columns": 4,
        "rows": 2246485
       }
      },
      "text/html": [
       "<div>\n",
       "<style scoped>\n",
       "    .dataframe tbody tr th:only-of-type {\n",
       "        vertical-align: middle;\n",
       "    }\n",
       "\n",
       "    .dataframe tbody tr th {\n",
       "        vertical-align: top;\n",
       "    }\n",
       "\n",
       "    .dataframe thead th {\n",
       "        text-align: right;\n",
       "    }\n",
       "</style>\n",
       "<table border=\"1\" class=\"dataframe\">\n",
       "  <thead>\n",
       "    <tr style=\"text-align: right;\">\n",
       "      <th></th>\n",
       "      <th>statecode</th>\n",
       "      <th>reported_propertytype</th>\n",
       "      <th>reported_propertysubtype</th>\n",
       "      <th>compstak_equivalent_category</th>\n",
       "    </tr>\n",
       "  </thead>\n",
       "  <tbody>\n",
       "    <tr>\n",
       "      <th>0</th>\n",
       "      <td>CT</td>\n",
       "      <td>Flex</td>\n",
       "      <td>Light Manufacturing</td>\n",
       "      <td>Industrial</td>\n",
       "    </tr>\n",
       "    <tr>\n",
       "      <th>1</th>\n",
       "      <td>CT</td>\n",
       "      <td>Industrial</td>\n",
       "      <td>Warehouse</td>\n",
       "      <td>Industrial</td>\n",
       "    </tr>\n",
       "    <tr>\n",
       "      <th>2</th>\n",
       "      <td>CT</td>\n",
       "      <td>Industrial</td>\n",
       "      <td>NaN</td>\n",
       "      <td>Industrial</td>\n",
       "    </tr>\n",
       "    <tr>\n",
       "      <th>3</th>\n",
       "      <td>CT</td>\n",
       "      <td>Multi-Family</td>\n",
       "      <td>Apartments</td>\n",
       "      <td>Multi-Family</td>\n",
       "    </tr>\n",
       "    <tr>\n",
       "      <th>4</th>\n",
       "      <td>CT</td>\n",
       "      <td>Multi-Family</td>\n",
       "      <td>Apartments</td>\n",
       "      <td>Multi-Family</td>\n",
       "    </tr>\n",
       "    <tr>\n",
       "      <th>...</th>\n",
       "      <td>...</td>\n",
       "      <td>...</td>\n",
       "      <td>...</td>\n",
       "      <td>...</td>\n",
       "    </tr>\n",
       "    <tr>\n",
       "      <th>2246480</th>\n",
       "      <td>WI</td>\n",
       "      <td>Retail</td>\n",
       "      <td>Storefront Retail/Office</td>\n",
       "      <td>Retail</td>\n",
       "    </tr>\n",
       "    <tr>\n",
       "      <th>2246481</th>\n",
       "      <td>WI</td>\n",
       "      <td>Retail</td>\n",
       "      <td>Storefront Retail/Office</td>\n",
       "      <td>Retail</td>\n",
       "    </tr>\n",
       "    <tr>\n",
       "      <th>2246482</th>\n",
       "      <td>WI</td>\n",
       "      <td>Retail</td>\n",
       "      <td>NaN</td>\n",
       "      <td>Retail</td>\n",
       "    </tr>\n",
       "    <tr>\n",
       "      <th>2246483</th>\n",
       "      <td>WI</td>\n",
       "      <td>Retail</td>\n",
       "      <td>NaN</td>\n",
       "      <td>Retail</td>\n",
       "    </tr>\n",
       "    <tr>\n",
       "      <th>2246484</th>\n",
       "      <td>WI</td>\n",
       "      <td>Specialty</td>\n",
       "      <td>Post Office</td>\n",
       "      <td>Other</td>\n",
       "    </tr>\n",
       "  </tbody>\n",
       "</table>\n",
       "<p>2246485 rows × 4 columns</p>\n",
       "</div>"
      ],
      "text/plain": [
       "        statecode reported_propertytype  reported_propertysubtype  \\\n",
       "0              CT                  Flex       Light Manufacturing   \n",
       "1              CT            Industrial                 Warehouse   \n",
       "2              CT            Industrial                       NaN   \n",
       "3              CT          Multi-Family                Apartments   \n",
       "4              CT          Multi-Family                Apartments   \n",
       "...           ...                   ...                       ...   \n",
       "2246480        WI                Retail  Storefront Retail/Office   \n",
       "2246481        WI                Retail  Storefront Retail/Office   \n",
       "2246482        WI                Retail                       NaN   \n",
       "2246483        WI                Retail                       NaN   \n",
       "2246484        WI             Specialty               Post Office   \n",
       "\n",
       "        compstak_equivalent_category  \n",
       "0                         Industrial  \n",
       "1                         Industrial  \n",
       "2                         Industrial  \n",
       "3                       Multi-Family  \n",
       "4                       Multi-Family  \n",
       "...                              ...  \n",
       "2246480                       Retail  \n",
       "2246481                       Retail  \n",
       "2246482                       Retail  \n",
       "2246483                       Retail  \n",
       "2246484                        Other  \n",
       "\n",
       "[2246485 rows x 4 columns]"
      ]
     },
     "execution_count": 45,
     "metadata": {},
     "output_type": "execute_result"
    }
   ],
   "source": [
    "doe_df"
   ]
  },
  {
   "cell_type": "markdown",
   "id": "4569afa9",
   "metadata": {},
   "source": [
    "## Coverage Rate Analysis\n",
    "\n",
    "Analyzing the relationship between the number of properties and coverage rate.\n",
    "Coverage Rate = (Number of properties in CompStak / Number of properties in DOE) * 100"
   ]
  },
  {
   "cell_type": "code",
   "execution_count": 46,
   "id": "f14f9266",
   "metadata": {},
   "outputs": [
    {
     "data": {
      "application/vnd.microsoft.datawrangler.viewer.v0+json": {
       "columns": [
        {
         "name": "index",
         "rawType": "int64",
         "type": "integer"
        },
        {
         "name": "statecode",
         "rawType": "object",
         "type": "string"
        },
        {
         "name": "compstak_count",
         "rawType": "int64",
         "type": "integer"
        },
        {
         "name": "doe_count",
         "rawType": "int64",
         "type": "integer"
        },
        {
         "name": "coverage_rate",
         "rawType": "float64",
         "type": "float"
        }
       ],
       "conversionMethod": "pd.DataFrame",
       "ref": "9f0520c2-7863-4ab9-bc6d-42cc32712e56",
       "rows": [
        [
         "33",
         "NV",
         "10816",
         "15179",
         "71.25634099743066"
        ],
        [
         "4",
         "CA",
         "162159",
         "238844",
         "67.89326924687244"
        ],
        [
         "3",
         "AZ",
         "20836",
         "33274",
         "62.61946264350544"
        ],
        [
         "7",
         "DC",
         "2456",
         "4440",
         "55.31531531531532"
        ],
        [
         "44",
         "UT",
         "11964",
         "23016",
         "51.981230448383734"
        ],
        [
         "37",
         "OR",
         "15008",
         "33979",
         "44.16845698813973"
        ],
        [
         "43",
         "TX",
         "64219",
         "157912",
         "40.667587010486855"
        ],
        [
         "34",
         "NY",
         "43117",
         "113724",
         "37.9137209384123"
        ],
        [
         "14",
         "IL",
         "31389",
         "83364",
         "37.65294371671225"
        ],
        [
         "9",
         "FL",
         "54836",
         "145821",
         "37.60500888075106"
        ]
       ],
       "shape": {
        "columns": 4,
        "rows": 10
       }
      },
      "text/html": [
       "<div>\n",
       "<style scoped>\n",
       "    .dataframe tbody tr th:only-of-type {\n",
       "        vertical-align: middle;\n",
       "    }\n",
       "\n",
       "    .dataframe tbody tr th {\n",
       "        vertical-align: top;\n",
       "    }\n",
       "\n",
       "    .dataframe thead th {\n",
       "        text-align: right;\n",
       "    }\n",
       "</style>\n",
       "<table border=\"1\" class=\"dataframe\">\n",
       "  <thead>\n",
       "    <tr style=\"text-align: right;\">\n",
       "      <th></th>\n",
       "      <th>statecode</th>\n",
       "      <th>compstak_count</th>\n",
       "      <th>doe_count</th>\n",
       "      <th>coverage_rate</th>\n",
       "    </tr>\n",
       "  </thead>\n",
       "  <tbody>\n",
       "    <tr>\n",
       "      <th>33</th>\n",
       "      <td>NV</td>\n",
       "      <td>10816</td>\n",
       "      <td>15179</td>\n",
       "      <td>71.256341</td>\n",
       "    </tr>\n",
       "    <tr>\n",
       "      <th>4</th>\n",
       "      <td>CA</td>\n",
       "      <td>162159</td>\n",
       "      <td>238844</td>\n",
       "      <td>67.893269</td>\n",
       "    </tr>\n",
       "    <tr>\n",
       "      <th>3</th>\n",
       "      <td>AZ</td>\n",
       "      <td>20836</td>\n",
       "      <td>33274</td>\n",
       "      <td>62.619463</td>\n",
       "    </tr>\n",
       "    <tr>\n",
       "      <th>7</th>\n",
       "      <td>DC</td>\n",
       "      <td>2456</td>\n",
       "      <td>4440</td>\n",
       "      <td>55.315315</td>\n",
       "    </tr>\n",
       "    <tr>\n",
       "      <th>44</th>\n",
       "      <td>UT</td>\n",
       "      <td>11964</td>\n",
       "      <td>23016</td>\n",
       "      <td>51.981230</td>\n",
       "    </tr>\n",
       "    <tr>\n",
       "      <th>37</th>\n",
       "      <td>OR</td>\n",
       "      <td>15008</td>\n",
       "      <td>33979</td>\n",
       "      <td>44.168457</td>\n",
       "    </tr>\n",
       "    <tr>\n",
       "      <th>43</th>\n",
       "      <td>TX</td>\n",
       "      <td>64219</td>\n",
       "      <td>157912</td>\n",
       "      <td>40.667587</td>\n",
       "    </tr>\n",
       "    <tr>\n",
       "      <th>34</th>\n",
       "      <td>NY</td>\n",
       "      <td>43117</td>\n",
       "      <td>113724</td>\n",
       "      <td>37.913721</td>\n",
       "    </tr>\n",
       "    <tr>\n",
       "      <th>14</th>\n",
       "      <td>IL</td>\n",
       "      <td>31389</td>\n",
       "      <td>83364</td>\n",
       "      <td>37.652944</td>\n",
       "    </tr>\n",
       "    <tr>\n",
       "      <th>9</th>\n",
       "      <td>FL</td>\n",
       "      <td>54836</td>\n",
       "      <td>145821</td>\n",
       "      <td>37.605009</td>\n",
       "    </tr>\n",
       "  </tbody>\n",
       "</table>\n",
       "</div>"
      ],
      "text/plain": [
       "   statecode  compstak_count  doe_count  coverage_rate\n",
       "33        NV           10816      15179      71.256341\n",
       "4         CA          162159     238844      67.893269\n",
       "3         AZ           20836      33274      62.619463\n",
       "7         DC            2456       4440      55.315315\n",
       "44        UT           11964      23016      51.981230\n",
       "37        OR           15008      33979      44.168457\n",
       "43        TX           64219     157912      40.667587\n",
       "34        NY           43117     113724      37.913721\n",
       "14        IL           31389      83364      37.652944\n",
       "9         FL           54836     145821      37.605009"
      ]
     },
     "execution_count": 46,
     "metadata": {},
     "output_type": "execute_result"
    }
   ],
   "source": [
    "# Count properties by state in both datasets\n",
    "compstak_state_counts = compstak_df.groupby('statecode').size().reset_index(name='compstak_count')\n",
    "doe_state_counts = doe_df.groupby('statecode').size().reset_index(name='doe_count')\n",
    "\n",
    "# Merge the counts\n",
    "coverage_df = compstak_state_counts.merge(doe_state_counts, on='statecode', how='outer')\n",
    "\n",
    "# Fill any NaN values with 0\n",
    "coverage_df = coverage_df.fillna(0)\n",
    "\n",
    "# Calculate coverage rate\n",
    "coverage_df['coverage_rate'] = (coverage_df['compstak_count'] / coverage_df['doe_count']) * 100\n",
    "\n",
    "# Handle states where DOE has 0 properties\n",
    "coverage_df['coverage_rate'] = coverage_df['coverage_rate'].replace([np.inf, -np.inf], np.nan)\n",
    "\n",
    "# Display the coverage dataframe\n",
    "coverage_df.sort_values('coverage_rate', ascending=False).head(10)"
   ]
  },
  {
   "cell_type": "code",
   "execution_count": 47,
   "id": "5c5644cd",
   "metadata": {},
   "outputs": [
    {
     "data": {
      "image/png": "[encoded data removed]",
      "text/plain": [
       "<Figure size 1200x800 with 1 Axes>"
      ]
     },
     "metadata": {},
     "output_type": "display_data"
    },
    {
     "name": "stdout",
     "output_type": "stream",
     "text": [
      "Correlation coefficient (log10 scale): 0.3763\n",
      "Regression equation: Coverage Rate = 12.4937 * log10(DOE count) + -28.2236\n"
     ]
    }
   ],
   "source": [
    "# Create a scatter plot to visualize the relationship between property count and coverage rate\n",
    "plt.figure(figsize=(12, 8))\n",
    "plt.scatter(coverage_df['doe_count'], coverage_df['coverage_rate'], alpha=0.7)\n",
    "\n",
    "# Add regression line\n",
    "# Use log of x values since we're using log scale\n",
    "log_x = np.log10(coverage_df['doe_count'])\n",
    "mask = ~np.isnan(log_x) & ~np.isnan(coverage_df['coverage_rate'])\n",
    "slope, intercept = np.polyfit(log_x[mask], coverage_df['coverage_rate'][mask], 1)\n",
    "\n",
    "# Create x values for the line spanning the range of data\n",
    "x_range = np.logspace(np.log10(coverage_df['doe_count'].min()), \n",
    "                     np.log10(coverage_df['doe_count'].max()), 100)\n",
    "y_range = slope * np.log10(x_range) + intercept\n",
    "\n",
    "# Plot the regression line\n",
    "plt.plot(x_range, y_range, 'r--', linewidth=2, \n",
    "         label=f'Regression line: y = {slope:.2f}*log10(x) + {intercept:.2f}')\n",
    "\n",
    "# Add state labels to the points\n",
    "for i, row in coverage_df.iterrows():\n",
    "    plt.annotate(row['statecode'], \n",
    "                (row['doe_count'], row['coverage_rate']),\n",
    "                textcoords=\"offset points\",\n",
    "                xytext=(0,5),\n",
    "                ha='center')\n",
    "\n",
    "plt.title('Relationship between Property Count (DOE) and Coverage Rate')\n",
    "plt.xlabel('Number of Properties in DOE')\n",
    "plt.ylabel('Coverage Rate (%)')\n",
    "plt.grid(True, alpha=0.3)\n",
    "plt.legend()\n",
    "\n",
    "# Log scale may be useful if data is spread across orders of magnitude\n",
    "plt.xscale('log')\n",
    "\n",
    "# Save the figure\n",
    "plt.savefig(os.path.join(output_dir, 'doe_compstak_coverage_rate_scatter.png'), dpi=300, bbox_inches='tight')\n",
    "plt.show()\n",
    "\n",
    "# Print the correlation coefficient for log-transformed data\n",
    "log_corr = np.corrcoef(log_x[mask], coverage_df['coverage_rate'][mask])[0,1]\n",
    "print(f\"Correlation coefficient (log10 scale): {log_corr:.4f}\")\n",
    "print(f\"Regression equation: Coverage Rate = {slope:.4f} * log10(DOE count) + {intercept:.4f}\")"
   ]
  },
  {
   "cell_type": "code",
   "execution_count": 48,
   "id": "4dba4081",
   "metadata": {},
   "outputs": [
    {
     "data": {
      "application/vnd.plotly.v1+json": {
       "config": {
        "plotlyServerURL": "https://plot.ly"
       },
       "data": [
        {
         "alignmentgroup": "True",
         "customdata": [
          [
           10816,
           15179
          ],
          [
           162159,
           238844
          ],
          [
           20836,
           33274
          ],
          [
           2456,
           4440
          ],
          [
           11964,
           23016
          ],
          [
           15008,
           33979
          ],
          [
           64219,
           157912
          ],
          [
           43117,
           113724
          ],
          [
           31389,
           83364
          ],
          [
           54836,
           145821
          ],
          [
           15696,
           42236
          ],
          [
           18495,
           52239
          ],
          [
           27085,
           79107
          ],
          [
           22802,
           66598
          ],
          [
           25218,
           74036
          ]
         ],
         "hovertemplate": "State Code=%{x}<br>Coverage Rate (%)=%{marker.color}<br>compstak_count=%{customdata[0]}<br>doe_count=%{customdata[1]}<extra></extra>",
         "legendgroup": "",
         "marker": {
          "color": [
           71.25634099743066,
           67.89326924687244,
           62.61946264350544,
           55.31531531531532,
           51.981230448383734,
           44.16845698813973,
           40.667587010486855,
           37.9137209384123,
           37.65294371671225,
           37.60500888075106,
           37.162610095653,
           35.40458278297823,
           34.23843654796668,
           34.23826541337578,
           34.061807769193365
          ],
          "coloraxis": "coloraxis",
          "pattern": {
           "shape": ""
          }
         },
         "name": "",
         "offsetgroup": "",
         "orientation": "v",
         "showlegend": false,
         "textposition": "auto",
         "type": "bar",
         "x": [
          "NV",
          "CA",
          "AZ",
          "DC",
          "UT",
          "OR",
          "TX",
          "NY",
          "IL",
          "FL",
          "CO",
          "WA",
          "NC",
          "NJ",
          "GA"
         ],
         "xaxis": "x",
         "y": [
          71.25634099743066,
          67.89326924687244,
          62.61946264350544,
          55.31531531531532,
          51.981230448383734,
          44.16845698813973,
          40.667587010486855,
          37.9137209384123,
          37.65294371671225,
          37.60500888075106,
          37.162610095653,
          35.40458278297823,
          34.23843654796668,
          34.23826541337578,
          34.061807769193365
         ],
         "yaxis": "y"
        }
       ],
       "layout": {
        "barmode": "relative",
        "coloraxis": {
         "colorbar": {
          "title": {
           "text": "Coverage Rate (%)"
          }
         },
         "colorscale": [
          [
           0,
           "#440154"
          ],
          [
           0.1111111111111111,
           "#482878"
          ],
          [
           0.2222222222222222,
           "#3e4989"
          ],
          [
           0.3333333333333333,
           "#31688e"
          ],
          [
           0.4444444444444444,
           "#26828e"
          ],
          [
           0.5555555555555556,
           "#1f9e89"
          ],
          [
           0.6666666666666666,
           "#35b779"
          ],
          [
           0.7777777777777778,
           "#6ece58"
          ],
          [
           0.8888888888888888,
           "#b5de2b"
          ],
          [
           1,
           "#fde725"
          ]
         ]
        },
        "legend": {
         "tracegroupgap": 0
        },
        "template": {
         "data": {
          "bar": [
           {
            "error_x": {
             "color": "#2a3f5f"
            },
            "error_y": {
             "color": "#2a3f5f"
            },
            "marker": {
             "line": {
              "color": "#E5ECF6",
              "width": 0.5
             },
             "pattern": {
              "fillmode": "overlay",
              "size": 10,
              "solidity": 0.2
             }
            },
            "type": "bar"
           }
          ],
          "barpolar": [
           {
            "marker": {
             "line": {
              "color": "#E5ECF6",
              "width": 0.5
             },
             "pattern": {
              "fillmode": "overlay",
              "size": 10,
              "solidity": 0.2
             }
            },
            "type": "barpolar"
           }
          ],
          "carpet": [
           {
            "aaxis": {
             "endlinecolor": "#2a3f5f",
             "gridcolor": "white",
             "linecolor": "white",
             "minorgridcolor": "white",
             "startlinecolor": "#2a3f5f"
            },
            "baxis": {
             "endlinecolor": "#2a3f5f",
             "gridcolor": "white",
             "linecolor": "white",
             "minorgridcolor": "white",
             "startlinecolor": "#2a3f5f"
            },
            "type": "carpet"
           }
          ],
          "choropleth": [
           {
            "colorbar": {
             "outlinewidth": 0,
             "ticks": ""
            },
            "type": "choropleth"
           }
          ],
          "contour": [
           {
            "colorbar": {
             "outlinewidth": 0,
             "ticks": ""
            },
            "colorscale": [
             [
              0,
              "#0d0887"
             ],
             [
              0.1111111111111111,
              "#46039f"
             ],
             [
              0.2222222222222222,
              "#7201a8"
             ],
             [
              0.3333333333333333,
              "#9c179e"
             ],
             [
              0.4444444444444444,
              "#bd3786"
             ],
             [
              0.5555555555555556,
              "#d8576b"
             ],
             [
              0.6666666666666666,
              "#ed7953"
             ],
             [
              0.7777777777777778,
              "#fb9f3a"
             ],
             [
              0.8888888888888888,
              "#fdca26"
             ],
             [
              1,
              "#f0f921"
             ]
            ],
            "type": "contour"
           }
          ],
          "contourcarpet": [
           {
            "colorbar": {
             "outlinewidth": 0,
             "ticks": ""
            },
            "type": "contourcarpet"
           }
          ],
          "heatmap": [
           {
            "colorbar": {
             "outlinewidth": 0,
             "ticks": ""
            },
            "colorscale": [
             [
              0,
              "#0d0887"
             ],
             [
              0.1111111111111111,
              "#46039f"
             ],
             [
              0.2222222222222222,
              "#7201a8"
             ],
             [
              0.3333333333333333,
              "#9c179e"
             ],
             [
              0.4444444444444444,
              "#bd3786"
             ],
             [
              0.5555555555555556,
              "#d8576b"
             ],
             [
              0.6666666666666666,
              "#ed7953"
             ],
             [
              0.7777777777777778,
              "#fb9f3a"
             ],
             [
              0.8888888888888888,
              "#fdca26"
             ],
             [
              1,
              "#f0f921"
             ]
            ],
            "type": "heatmap"
           }
          ],
          "heatmapgl": [
           {
            "colorbar": {
             "outlinewidth": 0,
             "ticks": ""
            },
            "colorscale": [
             [
              0,
              "#0d0887"
             ],
             [
              0.1111111111111111,
              "#46039f"
             ],
             [
              0.2222222222222222,
              "#7201a8"
             ],
             [
              0.3333333333333333,
              "#9c179e"
             ],
             [
              0.4444444444444444,
              "#bd3786"
             ],
             [
              0.5555555555555556,
              "#d8576b"
             ],
             [
              0.6666666666666666,
              "#ed7953"
             ],
             [
              0.7777777777777778,
              "#fb9f3a"
             ],
             [
              0.8888888888888888,
              "#fdca26"
             ],
             [
              1,
              "#f0f921"
             ]
            ],
            "type": "heatmapgl"
           }
          ],
          "histogram": [
           {
            "marker": {
             "pattern": {
              "fillmode": "overlay",
              "size": 10,
              "solidity": 0.2
             }
            },
            "type": "histogram"
           }
          ],
          "histogram2d": [
           {
            "colorbar": {
             "outlinewidth": 0,
             "ticks": ""
            },
            "colorscale": [
             [
              0,
              "#0d0887"
             ],
             [
              0.1111111111111111,
              "#46039f"
             ],
             [
              0.2222222222222222,
              "#7201a8"
             ],
             [
              0.3333333333333333,
              "#9c179e"
             ],
             [
              0.4444444444444444,
              "#bd3786"
             ],
             [
              0.5555555555555556,
              "#d8576b"
             ],
             [
              0.6666666666666666,
              "#ed7953"
             ],
             [
              0.7777777777777778,
              "#fb9f3a"
             ],
             [
              0.8888888888888888,
              "#fdca26"
             ],
             [
              1,
              "#f0f921"
             ]
            ],
            "type": "histogram2d"
           }
          ],
          "histogram2dcontour": [
           {
            "colorbar": {
             "outlinewidth": 0,
             "ticks": ""
            },
            "colorscale": [
             [
              0,
              "#0d0887"
             ],
             [
              0.1111111111111111,
              "#46039f"
             ],
             [
              0.2222222222222222,
              "#7201a8"
             ],
             [
              0.3333333333333333,
              "#9c179e"
             ],
             [
              0.4444444444444444,
              "#bd3786"
             ],
             [
              0.5555555555555556,
              "#d8576b"
             ],
             [
              0.6666666666666666,
              "#ed7953"
             ],
             [
              0.7777777777777778,
              "#fb9f3a"
             ],
             [
              0.8888888888888888,
              "#fdca26"
             ],
             [
              1,
              "#f0f921"
             ]
            ],
            "type": "histogram2dcontour"
           }
          ],
          "mesh3d": [
           {
            "colorbar": {
             "outlinewidth": 0,
             "ticks": ""
            },
            "type": "mesh3d"
           }
          ],
          "parcoords": [
           {
            "line": {
             "colorbar": {
              "outlinewidth": 0,
              "ticks": ""
             }
            },
            "type": "parcoords"
           }
          ],
          "pie": [
           {
            "automargin": true,
            "type": "pie"
           }
          ],
          "scatter": [
           {
            "fillpattern": {
             "fillmode": "overlay",
             "size": 10,
             "solidity": 0.2
            },
            "type": "scatter"
           }
          ],
          "scatter3d": [
           {
            "line": {
             "colorbar": {
              "outlinewidth": 0,
              "ticks": ""
             }
            },
            "marker": {
             "colorbar": {
              "outlinewidth": 0,
              "ticks": ""
             }
            },
            "type": "scatter3d"
           }
          ],
          "scattercarpet": [
           {
            "marker": {
             "colorbar": {
              "outlinewidth": 0,
              "ticks": ""
             }
            },
            "type": "scattercarpet"
           }
          ],
          "scattergeo": [
           {
            "marker": {
             "colorbar": {
              "outlinewidth": 0,
              "ticks": ""
             }
            },
            "type": "scattergeo"
           }
          ],
          "scattergl": [
           {
            "marker": {
             "colorbar": {
              "outlinewidth": 0,
              "ticks": ""
             }
            },
            "type": "scattergl"
           }
          ],
          "scattermapbox": [
           {
            "marker": {
             "colorbar": {
              "outlinewidth": 0,
              "ticks": ""
             }
            },
            "type": "scattermapbox"
           }
          ],
          "scatterpolar": [
           {
            "marker": {
             "colorbar": {
              "outlinewidth": 0,
              "ticks": ""
             }
            },
            "type": "scatterpolar"
           }
          ],
          "scatterpolargl": [
           {
            "marker": {
             "colorbar": {
              "outlinewidth": 0,
              "ticks": ""
             }
            },
            "type": "scatterpolargl"
           }
          ],
          "scatterternary": [
           {
            "marker": {
             "colorbar": {
              "outlinewidth": 0,
              "ticks": ""
             }
            },
            "type": "scatterternary"
           }
          ],
          "surface": [
           {
            "colorbar": {
             "outlinewidth": 0,
             "ticks": ""
            },
            "colorscale": [
             [
              0,
              "#0d0887"
             ],
             [
              0.1111111111111111,
              "#46039f"
             ],
             [
              0.2222222222222222,
              "#7201a8"
             ],
             [
              0.3333333333333333,
              "#9c179e"
             ],
             [
              0.4444444444444444,
              "#bd3786"
             ],
             [
              0.5555555555555556,
              "#d8576b"
             ],
             [
              0.6666666666666666,
              "#ed7953"
             ],
             [
              0.7777777777777778,
              "#fb9f3a"
             ],
             [
              0.8888888888888888,
              "#fdca26"
             ],
             [
              1,
              "#f0f921"
             ]
            ],
            "type": "surface"
           }
          ],
          "table": [
           {
            "cells": {
             "fill": {
              "color": "#EBF0F8"
             },
             "line": {
              "color": "white"
             }
            },
            "header": {
             "fill": {
              "color": "#C8D4E3"
             },
             "line": {
              "color": "white"
             }
            },
            "type": "table"
           }
          ]
         },
         "layout": {
          "annotationdefaults": {
           "arrowcolor": "#2a3f5f",
           "arrowhead": 0,
           "arrowwidth": 1
          },
          "autotypenumbers": "strict",
          "coloraxis": {
           "colorbar": {
            "outlinewidth": 0,
            "ticks": ""
           }
          },
          "colorscale": {
           "diverging": [
            [
             0,
             "#8e0152"
            ],
            [
             0.1,
             "#c51b7d"
            ],
            [
             0.2,
             "#de77ae"
            ],
            [
             0.3,
             "#f1b6da"
            ],
            [
             0.4,
             "#fde0ef"
            ],
            [
             0.5,
             "#f7f7f7"
            ],
            [
             0.6,
             "#e6f5d0"
            ],
            [
             0.7,
             "#b8e186"
            ],
            [
             0.8,
             "#7fbc41"
            ],
            [
             0.9,
             "#4d9221"
            ],
            [
             1,
             "#276419"
            ]
           ],
           "sequential": [
            [
             0,
             "#0d0887"
            ],
            [
             0.1111111111111111,
             "#46039f"
            ],
            [
             0.2222222222222222,
             "#7201a8"
            ],
            [
             0.3333333333333333,
             "#9c179e"
            ],
            [
             0.4444444444444444,
             "#bd3786"
            ],
            [
             0.5555555555555556,
             "#d8576b"
            ],
            [
             0.6666666666666666,
             "#ed7953"
            ],
            [
             0.7777777777777778,
             "#fb9f3a"
            ],
            [
             0.8888888888888888,
             "#fdca26"
            ],
            [
             1,
             "#f0f921"
            ]
           ],
           "sequentialminus": [
            [
             0,
             "#0d0887"
            ],
            [
             0.1111111111111111,
             "#46039f"
            ],
            [
             0.2222222222222222,
             "#7201a8"
            ],
            [
             0.3333333333333333,
             "#9c179e"
            ],
            [
             0.4444444444444444,
             "#bd3786"
            ],
            [
             0.5555555555555556,
             "#d8576b"
            ],
            [
             0.6666666666666666,
             "#ed7953"
            ],
            [
             0.7777777777777778,
             "#fb9f3a"
            ],
            [
             0.8888888888888888,
             "#fdca26"
            ],
            [
             1,
             "#f0f921"
            ]
           ]
          },
          "colorway": [
           "#636efa",
           "#EF553B",
           "#00cc96",
           "#ab63fa",
           "#FFA15A",
           "#19d3f3",
           "#FF6692",
           "#B6E880",
           "#FF97FF",
           "#FECB52"
          ],
          "font": {
           "color": "#2a3f5f"
          },
          "geo": {
           "bgcolor": "white",
           "lakecolor": "white",
           "landcolor": "#E5ECF6",
           "showlakes": true,
           "showland": true,
           "subunitcolor": "white"
          },
          "hoverlabel": {
           "align": "left"
          },
          "hovermode": "closest",
          "mapbox": {
           "style": "light"
          },
          "paper_bgcolor": "white",
          "plot_bgcolor": "#E5ECF6",
          "polar": {
           "angularaxis": {
            "gridcolor": "white",
            "linecolor": "white",
            "ticks": ""
           },
           "bgcolor": "#E5ECF6",
           "radialaxis": {
            "gridcolor": "white",
            "linecolor": "white",
            "ticks": ""
           }
          },
          "scene": {
           "xaxis": {
            "backgroundcolor": "#E5ECF6",
            "gridcolor": "white",
            "gridwidth": 2,
            "linecolor": "white",
            "showbackground": true,
            "ticks": "",
            "zerolinecolor": "white"
           },
           "yaxis": {
            "backgroundcolor": "#E5ECF6",
            "gridcolor": "white",
            "gridwidth": 2,
            "linecolor": "white",
            "showbackground": true,
            "ticks": "",
            "zerolinecolor": "white"
           },
           "zaxis": {
            "backgroundcolor": "#E5ECF6",
            "gridcolor": "white",
            "gridwidth": 2,
            "linecolor": "white",
            "showbackground": true,
            "ticks": "",
            "zerolinecolor": "white"
           }
          },
          "shapedefaults": {
           "line": {
            "color": "#2a3f5f"
           }
          },
          "ternary": {
           "aaxis": {
            "gridcolor": "white",
            "linecolor": "white",
            "ticks": ""
           },
           "baxis": {
            "gridcolor": "white",
            "linecolor": "white",
            "ticks": ""
           },
           "bgcolor": "#E5ECF6",
           "caxis": {
            "gridcolor": "white",
            "linecolor": "white",
            "ticks": ""
           }
          },
          "title": {
           "x": 0.05
          },
          "xaxis": {
           "automargin": true,
           "gridcolor": "white",
           "linecolor": "white",
           "ticks": "",
           "title": {
            "standoff": 15
           },
           "zerolinecolor": "white",
           "zerolinewidth": 2
          },
          "yaxis": {
           "automargin": true,
           "gridcolor": "white",
           "linecolor": "white",
           "ticks": "",
           "title": {
            "standoff": 15
           },
           "zerolinecolor": "white",
           "zerolinewidth": 2
          }
         }
        },
        "title": {
         "text": "Top 15 States by CompStak Coverage Rate"
        },
        "xaxis": {
         "anchor": "y",
         "categoryorder": "total descending",
         "domain": [
          0,
          1
         ],
         "title": {
          "text": "State Code"
         }
        },
        "yaxis": {
         "anchor": "x",
         "domain": [
          0,
          1
         ],
         "title": {
          "text": "Coverage Rate (%)"
         }
        }
       }
      }
     },
     "metadata": {},
     "output_type": "display_data"
    }
   ],
   "source": [
    "# Create a bar chart for the top 15 states by coverage rate\n",
    "top_15_states = coverage_df.sort_values('coverage_rate', ascending=False).head(15)\n",
    "\n",
    "fig = px.bar(top_15_states, x='statecode', y='coverage_rate',\n",
    "             hover_data=['compstak_count', 'doe_count'],\n",
    "             labels={'statecode': 'State Code', 'coverage_rate': 'Coverage Rate (%)'},\n",
    "             title='Top 15 States by CompStak Coverage Rate',\n",
    "             color='coverage_rate',\n",
    "             color_continuous_scale=px.colors.sequential.Viridis)\n",
    "\n",
    "fig.update_layout(xaxis={'categoryorder':'total descending'})\n",
    "fig.show()\n",
    "\n",
    "# Save the figure\n",
    "fig.write_image(os.path.join(output_dir, 'top_15_states_coverage_rate.png'))"
   ]
  },
  {
   "cell_type": "code",
   "execution_count": 49,
   "id": "5fed1a63",
   "metadata": {},
   "outputs": [
    {
     "name": "stdout",
     "output_type": "stream",
     "text": [
      "Correlation between DOE property count and coverage rate: 0.4329\n",
      "\n",
      "Number of states in each coverage rate category:\n",
      "coverage_category\n",
      "0-1%        0\n",
      "1-5%        0\n",
      "5-10%       4\n",
      "10-20%     16\n",
      "20-50%     26\n",
      "50-100%     5\n",
      ">100%       0\n",
      "Name: count, dtype: int64\n"
     ]
    },
    {
     "data": {
      "image/png": "[encoded data removed]",
      "text/plain": [
       "<Figure size 1000x800 with 1 Axes>"
      ]
     },
     "metadata": {},
     "output_type": "display_data"
    }
   ],
   "source": [
    "# Analyze correlation between DOE property count and coverage rate\n",
    "correlation = coverage_df['doe_count'].corr(coverage_df['coverage_rate'])\n",
    "print(f\"Correlation between DOE property count and coverage rate: {correlation:.4f}\")\n",
    "\n",
    "# Group states by coverage rate ranges\n",
    "bins = [0, 1, 5, 10, 20, 50, 100, float('inf')]\n",
    "labels = ['0-1%', '1-5%', '5-10%', '10-20%', '20-50%', '50-100%', '>100%']\n",
    "coverage_df['coverage_category'] = pd.cut(coverage_df['coverage_rate'], bins=bins, labels=labels)\n",
    "\n",
    "# Count states in each category\n",
    "category_counts = coverage_df['coverage_category'].value_counts().sort_index()\n",
    "print(\"\\nNumber of states in each coverage rate category:\")\n",
    "print(category_counts)\n",
    "\n",
    "# Create a pie chart for coverage categories\n",
    "plt.figure(figsize=(10, 8))\n",
    "plt.pie(category_counts, labels=category_counts.index, autopct='%1.1f%%', startangle=90, shadow=True)\n",
    "plt.title('Distribution of States by Coverage Rate Category')\n",
    "plt.axis('equal')  # Equal aspect ratio ensures that pie is drawn as a circle\n",
    "plt.savefig(os.path.join(output_dir, 'coverage_rate_distribution_pie.png'), dpi=300, bbox_inches='tight')\n",
    "plt.show()"
   ]
  },
  {
   "cell_type": "markdown",
   "id": "09bca868",
   "metadata": {},
   "source": [
    "## Coverage Rate Analysis by Property Type\n",
    "\n",
    "Analyzing the relationship between the number of properties and coverage rate by commercial property type.\n",
    "Using `DOE_Compliant_Property_Type` from the CompStak dataset and `compstak_equivalent_category` from the DOE dataset."
   ]
  },
  {
   "cell_type": "code",
   "execution_count": 50,
   "id": "d737d37f",
   "metadata": {},
   "outputs": [
    {
     "data": {
      "application/vnd.microsoft.datawrangler.viewer.v0+json": {
       "columns": [
        {
         "name": "index",
         "rawType": "int64",
         "type": "integer"
        },
        {
         "name": "property_type",
         "rawType": "object",
         "type": "string"
        },
        {
         "name": "compstak_count",
         "rawType": "int64",
         "type": "integer"
        },
        {
         "name": "doe_count",
         "rawType": "int64",
         "type": "integer"
        },
        {
         "name": "coverage_rate",
         "rawType": "float64",
         "type": "float"
        }
       ],
       "conversionMethod": "pd.DataFrame",
       "ref": "9fd19ea6-febe-410c-a5a1-2fb5995b72f3",
       "rows": [
        [
         "4",
         "Other",
         "167739",
         "161804",
         "103.66801809596795"
        ],
        [
         "2",
         "Multi-Family",
         "114432",
         "253361",
         "45.16559375752385"
        ],
        [
         "1",
         "Industrial",
         "183414",
         "438534",
         "41.824351133549506"
        ],
        [
         "3",
         "Office",
         "88848",
         "388432",
         "22.873501668245666"
        ],
        [
         "5",
         "Retail",
         "195116",
         "931077",
         "20.955946715470365"
        ],
        [
         "0",
         "Hotel",
         "10068",
         "73277",
         "13.73964545491764"
        ]
       ],
       "shape": {
        "columns": 4,
        "rows": 6
       }
      },
      "text/html": [
       "<div>\n",
       "<style scoped>\n",
       "    .dataframe tbody tr th:only-of-type {\n",
       "        vertical-align: middle;\n",
       "    }\n",
       "\n",
       "    .dataframe tbody tr th {\n",
       "        vertical-align: top;\n",
       "    }\n",
       "\n",
       "    .dataframe thead th {\n",
       "        text-align: right;\n",
       "    }\n",
       "</style>\n",
       "<table border=\"1\" class=\"dataframe\">\n",
       "  <thead>\n",
       "    <tr style=\"text-align: right;\">\n",
       "      <th></th>\n",
       "      <th>property_type</th>\n",
       "      <th>compstak_count</th>\n",
       "      <th>doe_count</th>\n",
       "      <th>coverage_rate</th>\n",
       "    </tr>\n",
       "  </thead>\n",
       "  <tbody>\n",
       "    <tr>\n",
       "      <th>4</th>\n",
       "      <td>Other</td>\n",
       "      <td>167739</td>\n",
       "      <td>161804</td>\n",
       "      <td>103.668018</td>\n",
       "    </tr>\n",
       "    <tr>\n",
       "      <th>2</th>\n",
       "      <td>Multi-Family</td>\n",
       "      <td>114432</td>\n",
       "      <td>253361</td>\n",
       "      <td>45.165594</td>\n",
       "    </tr>\n",
       "    <tr>\n",
       "      <th>1</th>\n",
       "      <td>Industrial</td>\n",
       "      <td>183414</td>\n",
       "      <td>438534</td>\n",
       "      <td>41.824351</td>\n",
       "    </tr>\n",
       "    <tr>\n",
       "      <th>3</th>\n",
       "      <td>Office</td>\n",
       "      <td>88848</td>\n",
       "      <td>388432</td>\n",
       "      <td>22.873502</td>\n",
       "    </tr>\n",
       "    <tr>\n",
       "      <th>5</th>\n",
       "      <td>Retail</td>\n",
       "      <td>195116</td>\n",
       "      <td>931077</td>\n",
       "      <td>20.955947</td>\n",
       "    </tr>\n",
       "    <tr>\n",
       "      <th>0</th>\n",
       "      <td>Hotel</td>\n",
       "      <td>10068</td>\n",
       "      <td>73277</td>\n",
       "      <td>13.739645</td>\n",
       "    </tr>\n",
       "  </tbody>\n",
       "</table>\n",
       "</div>"
      ],
      "text/plain": [
       "  property_type  compstak_count  doe_count  coverage_rate\n",
       "4         Other          167739     161804     103.668018\n",
       "2  Multi-Family          114432     253361      45.165594\n",
       "1    Industrial          183414     438534      41.824351\n",
       "3        Office           88848     388432      22.873502\n",
       "5        Retail          195116     931077      20.955947\n",
       "0         Hotel           10068      73277      13.739645"
      ]
     },
     "execution_count": 50,
     "metadata": {},
     "output_type": "execute_result"
    }
   ],
   "source": [
    "# Count properties by property type in both datasets\n",
    "compstak_type_counts = compstak_df.groupby('DOE_Compliant_Property_Type').size().reset_index(name='compstak_count')\n",
    "doe_type_counts = doe_df.groupby('compstak_equivalent_category').size().reset_index(name='doe_count')\n",
    "\n",
    "# Rename column in doe_type_counts for consistent merging\n",
    "doe_type_counts = doe_type_counts.rename(columns={'compstak_equivalent_category': 'property_type'})\n",
    "compstak_type_counts = compstak_type_counts.rename(columns={'DOE_Compliant_Property_Type': 'property_type'})\n",
    "\n",
    "# Merge the counts\n",
    "coverage_by_type_df = compstak_type_counts.merge(doe_type_counts, on='property_type', how='outer')\n",
    "\n",
    "# Fill any NaN values with 0\n",
    "coverage_by_type_df = coverage_by_type_df.fillna(0)\n",
    "\n",
    "# Calculate coverage rate\n",
    "coverage_by_type_df['coverage_rate'] = (coverage_by_type_df['compstak_count'] / coverage_by_type_df['doe_count']) * 100\n",
    "\n",
    "# Handle property types where DOE has 0 properties\n",
    "coverage_by_type_df['coverage_rate'] = coverage_by_type_df['coverage_rate'].replace([np.inf, -np.inf], np.nan)\n",
    "\n",
    "# Display the coverage dataframe\n",
    "coverage_by_type_df.sort_values('coverage_rate', ascending=False)"
   ]
  },
  {
   "cell_type": "code",
   "execution_count": 51,
   "id": "ab84a532",
   "metadata": {},
   "outputs": [
    {
     "data": {
      "image/png": "[encoded data removed]",
      "text/plain": [
       "<Figure size 1200x600 with 1 Axes>"
      ]
     },
     "metadata": {},
     "output_type": "display_data"
    },
    {
     "name": "stdout",
     "output_type": "stream",
     "text": [
      "Coverage rates by property type (excluding Other):\n",
      "Multi-Family: 45.17%\n",
      "Industrial: 41.82%\n",
      "Office: 22.87%\n",
      "Retail: 20.96%\n",
      "Hotel: 13.74%\n"
     ]
    }
   ],
   "source": [
    "# Create a bar chart for the property types by coverage rate\n",
    "# Filter out 'Other' category\n",
    "filtered_df = coverage_by_type_df[coverage_by_type_df['property_type'] != 'Other']\n",
    "\n",
    "plt.figure(figsize=(12, 6))\n",
    "bars = plt.bar(filtered_df.sort_values('coverage_rate', ascending=False)['property_type'], \n",
    "         filtered_df.sort_values('coverage_rate', ascending=False)['coverage_rate'])\n",
    "\n",
    "# Add value labels on top of the bars\n",
    "for bar in bars:\n",
    "    height = bar.get_height()\n",
    "    plt.text(bar.get_x() + bar.get_width()/2., height + 1,\n",
    "             f'{height:.1f}%', ha='center', va='bottom', rotation=0)\n",
    "\n",
    "plt.title('Coverage Rate by Property Type (Excluding \"Other\" Category)')\n",
    "plt.xlabel('Property Type')\n",
    "plt.ylabel('Coverage Rate (%)')\n",
    "plt.xticks(rotation=45, ha='right')\n",
    "plt.tight_layout()\n",
    "plt.grid(axis='y', linestyle='--', alpha=0.7)\n",
    "plt.savefig(os.path.join(output_dir, 'property_type_coverage_rate_bar_no_other.png'), dpi=300, bbox_inches='tight')\n",
    "plt.show()\n",
    "\n",
    "# Print the filtered coverage rates\n",
    "print(\"Coverage rates by property type (excluding Other):\")\n",
    "for idx, row in filtered_df.sort_values('coverage_rate', ascending=False).iterrows():\n",
    "    print(f\"{row['property_type']}: {row['coverage_rate']:.2f}%\")"
   ]
  },
  {
   "cell_type": "code",
   "execution_count": 52,
   "id": "8e1613fa",
   "metadata": {},
   "outputs": [
    {
     "data": {
      "image/png": "[encoded data removed]",
      "text/plain": [
       "<Figure size 1200x800 with 1 Axes>"
      ]
     },
     "metadata": {},
     "output_type": "display_data"
    },
    {
     "name": "stdout",
     "output_type": "stream",
     "text": [
      "Correlation coefficient (log10 scale) for property types: -0.1928\n",
      "Regression equation: Coverage Rate = -16.6334 * log10(DOE count) + 131.9623\n"
     ]
    }
   ],
   "source": [
    "# Create a scatter plot to visualize the relationship between property count and coverage rate\n",
    "plt.figure(figsize=(12, 8))\n",
    "scatter = plt.scatter(coverage_by_type_df['doe_count'], coverage_by_type_df['coverage_rate'], \n",
    "              alpha=0.7, s=100, c=range(len(coverage_by_type_df)), cmap='viridis')\n",
    "\n",
    "# Add property type labels to the points\n",
    "for i, row in coverage_by_type_df.iterrows():\n",
    "    plt.annotate(row['property_type'], \n",
    "                (row['doe_count'], row['coverage_rate']),\n",
    "                textcoords=\"offset points\",\n",
    "                xytext=(5,5),\n",
    "                ha='left')\n",
    "\n",
    "# Add regression line\n",
    "log_x = np.log10(coverage_by_type_df['doe_count'].replace(0, np.nan))\n",
    "mask = ~np.isnan(log_x) & ~np.isnan(coverage_by_type_df['coverage_rate'])\n",
    "if sum(mask) > 1:  # Make sure we have at least 2 points for regression\n",
    "    slope, intercept = np.polyfit(log_x[mask], coverage_by_type_df['coverage_rate'][mask], 1)\n",
    "    \n",
    "    # Create x values for the line spanning the range of data\n",
    "    x_range = np.logspace(np.log10(coverage_by_type_df['doe_count'][coverage_by_type_df['doe_count'] > 0].min()), \n",
    "                         np.log10(coverage_by_type_df['doe_count'].max()), 100)\n",
    "    y_range = slope * np.log10(x_range) + intercept\n",
    "    \n",
    "    # Plot the regression line\n",
    "    plt.plot(x_range, y_range, 'r--', linewidth=2, \n",
    "             label=f'Regression line: y = {slope:.2f}*log10(x) + {intercept:.2f}')\n",
    "\n",
    "plt.title('Relationship between Property Count (DOE) and Coverage Rate by Property Type')\n",
    "plt.xlabel('Number of Properties in DOE')\n",
    "plt.ylabel('Coverage Rate (%)')\n",
    "plt.grid(True, alpha=0.3)\n",
    "plt.legend()\n",
    "plt.xscale('log')\n",
    "\n",
    "# Save the figure\n",
    "plt.savefig(os.path.join(output_dir, 'doe_compstak_coverage_rate_by_type_scatter.png'), dpi=300, bbox_inches='tight')\n",
    "plt.show()\n",
    "\n",
    "if sum(mask) > 1:\n",
    "    # Print the correlation coefficient for log-transformed data\n",
    "    log_type_corr = np.corrcoef(log_x[mask], coverage_by_type_df['coverage_rate'][mask])[0,1]\n",
    "    print(f\"Correlation coefficient (log10 scale) for property types: {log_type_corr:.4f}\")\n",
    "    print(f\"Regression equation: Coverage Rate = {slope:.4f} * log10(DOE count) + {intercept:.4f}\")"
   ]
  },
  {
   "cell_type": "code",
   "execution_count": 53,
   "id": "77f159ff",
   "metadata": {},
   "outputs": [
    {
     "data": {
      "application/vnd.plotly.v1+json": {
       "config": {
        "plotlyServerURL": "https://plot.ly"
       },
       "data": [
        {
         "alignmentgroup": "True",
         "customdata": [
          [
           167739,
           161804
          ],
          [
           114432,
           253361
          ],
          [
           183414,
           438534
          ],
          [
           88848,
           388432
          ],
          [
           195116,
           931077
          ],
          [
           10068,
           73277
          ]
         ],
         "hovertemplate": "Property Type=%{x}<br>Coverage Rate (%)=%{marker.color}<br>compstak_count=%{customdata[0]}<br>doe_count=%{customdata[1]}<extra></extra>",
         "legendgroup": "",
         "marker": {
          "color": [
           103.66801809596795,
           45.16559375752385,
           41.824351133549506,
           22.873501668245666,
           20.955946715470365,
           13.73964545491764
          ],
          "coloraxis": "coloraxis",
          "pattern": {
           "shape": ""
          }
         },
         "name": "",
         "offsetgroup": "",
         "orientation": "v",
         "showlegend": false,
         "textposition": "auto",
         "type": "bar",
         "x": [
          "Other",
          "Multi-Family",
          "Industrial",
          "Office",
          "Retail",
          "Hotel"
         ],
         "xaxis": "x",
         "y": [
          103.66801809596795,
          45.16559375752385,
          41.824351133549506,
          22.873501668245666,
          20.955946715470365,
          13.73964545491764
         ],
         "yaxis": "y"
        }
       ],
       "layout": {
        "barmode": "relative",
        "coloraxis": {
         "colorbar": {
          "title": {
           "text": "Coverage Rate (%)"
          }
         },
         "colorscale": [
          [
           0,
           "#440154"
          ],
          [
           0.1111111111111111,
           "#482878"
          ],
          [
           0.2222222222222222,
           "#3e4989"
          ],
          [
           0.3333333333333333,
           "#31688e"
          ],
          [
           0.4444444444444444,
           "#26828e"
          ],
          [
           0.5555555555555556,
           "#1f9e89"
          ],
          [
           0.6666666666666666,
           "#35b779"
          ],
          [
           0.7777777777777778,
           "#6ece58"
          ],
          [
           0.8888888888888888,
           "#b5de2b"
          ],
          [
           1,
           "#fde725"
          ]
         ]
        },
        "legend": {
         "tracegroupgap": 0
        },
        "template": {
         "data": {
          "bar": [
           {
            "error_x": {
             "color": "#2a3f5f"
            },
            "error_y": {
             "color": "#2a3f5f"
            },
            "marker": {
             "line": {
              "color": "#E5ECF6",
              "width": 0.5
             },
             "pattern": {
              "fillmode": "overlay",
              "size": 10,
              "solidity": 0.2
             }
            },
            "type": "bar"
           }
          ],
          "barpolar": [
           {
            "marker": {
             "line": {
              "color": "#E5ECF6",
              "width": 0.5
             },
             "pattern": {
              "fillmode": "overlay",
              "size": 10,
              "solidity": 0.2
             }
            },
            "type": "barpolar"
           }
          ],
          "carpet": [
           {
            "aaxis": {
             "endlinecolor": "#2a3f5f",
             "gridcolor": "white",
             "linecolor": "white",
             "minorgridcolor": "white",
             "startlinecolor": "#2a3f5f"
            },
            "baxis": {
             "endlinecolor": "#2a3f5f",
             "gridcolor": "white",
             "linecolor": "white",
             "minorgridcolor": "white",
             "startlinecolor": "#2a3f5f"
            },
            "type": "carpet"
           }
          ],
          "choropleth": [
           {
            "colorbar": {
             "outlinewidth": 0,
             "ticks": ""
            },
            "type": "choropleth"
           }
          ],
          "contour": [
           {
            "colorbar": {
             "outlinewidth": 0,
             "ticks": ""
            },
            "colorscale": [
             [
              0,
              "#0d0887"
             ],
             [
              0.1111111111111111,
              "#46039f"
             ],
             [
              0.2222222222222222,
              "#7201a8"
             ],
             [
              0.3333333333333333,
              "#9c179e"
             ],
             [
              0.4444444444444444,
              "#bd3786"
             ],
             [
              0.5555555555555556,
              "#d8576b"
             ],
             [
              0.6666666666666666,
              "#ed7953"
             ],
             [
              0.7777777777777778,
              "#fb9f3a"
             ],
             [
              0.8888888888888888,
              "#fdca26"
             ],
             [
              1,
              "#f0f921"
             ]
            ],
            "type": "contour"
           }
          ],
          "contourcarpet": [
           {
            "colorbar": {
             "outlinewidth": 0,
             "ticks": ""
            },
            "type": "contourcarpet"
           }
          ],
          "heatmap": [
           {
            "colorbar": {
             "outlinewidth": 0,
             "ticks": ""
            },
            "colorscale": [
             [
              0,
              "#0d0887"
             ],
             [
              0.1111111111111111,
              "#46039f"
             ],
             [
              0.2222222222222222,
              "#7201a8"
             ],
             [
              0.3333333333333333,
              "#9c179e"
             ],
             [
              0.4444444444444444,
              "#bd3786"
             ],
             [
              0.5555555555555556,
              "#d8576b"
             ],
             [
              0.6666666666666666,
              "#ed7953"
             ],
             [
              0.7777777777777778,
              "#fb9f3a"
             ],
             [
              0.8888888888888888,
              "#fdca26"
             ],
             [
              1,
              "#f0f921"
             ]
            ],
            "type": "heatmap"
           }
          ],
          "heatmapgl": [
           {
            "colorbar": {
             "outlinewidth": 0,
             "ticks": ""
            },
            "colorscale": [
             [
              0,
              "#0d0887"
             ],
             [
              0.1111111111111111,
              "#46039f"
             ],
             [
              0.2222222222222222,
              "#7201a8"
             ],
             [
              0.3333333333333333,
              "#9c179e"
             ],
             [
              0.4444444444444444,
              "#bd3786"
             ],
             [
              0.5555555555555556,
              "#d8576b"
             ],
             [
              0.6666666666666666,
              "#ed7953"
             ],
             [
              0.7777777777777778,
              "#fb9f3a"
             ],
             [
              0.8888888888888888,
              "#fdca26"
             ],
             [
              1,
              "#f0f921"
             ]
            ],
            "type": "heatmapgl"
           }
          ],
          "histogram": [
           {
            "marker": {
             "pattern": {
              "fillmode": "overlay",
              "size": 10,
              "solidity": 0.2
             }
            },
            "type": "histogram"
           }
          ],
          "histogram2d": [
           {
            "colorbar": {
             "outlinewidth": 0,
             "ticks": ""
            },
            "colorscale": [
             [
              0,
              "#0d0887"
             ],
             [
              0.1111111111111111,
              "#46039f"
             ],
             [
              0.2222222222222222,
              "#7201a8"
             ],
             [
              0.3333333333333333,
              "#9c179e"
             ],
             [
              0.4444444444444444,
              "#bd3786"
             ],
             [
              0.5555555555555556,
              "#d8576b"
             ],
             [
              0.6666666666666666,
              "#ed7953"
             ],
             [
              0.7777777777777778,
              "#fb9f3a"
             ],
             [
              0.8888888888888888,
              "#fdca26"
             ],
             [
              1,
              "#f0f921"
             ]
            ],
            "type": "histogram2d"
           }
          ],
          "histogram2dcontour": [
           {
            "colorbar": {
             "outlinewidth": 0,
             "ticks": ""
            },
            "colorscale": [
             [
              0,
              "#0d0887"
             ],
             [
              0.1111111111111111,
              "#46039f"
             ],
             [
              0.2222222222222222,
              "#7201a8"
             ],
             [
              0.3333333333333333,
              "#9c179e"
             ],
             [
              0.4444444444444444,
              "#bd3786"
             ],
             [
              0.5555555555555556,
              "#d8576b"
             ],
             [
              0.6666666666666666,
              "#ed7953"
             ],
             [
              0.7777777777777778,
              "#fb9f3a"
             ],
             [
              0.8888888888888888,
              "#fdca26"
             ],
             [
              1,
              "#f0f921"
             ]
            ],
            "type": "histogram2dcontour"
           }
          ],
          "mesh3d": [
           {
            "colorbar": {
             "outlinewidth": 0,
             "ticks": ""
            },
            "type": "mesh3d"
           }
          ],
          "parcoords": [
           {
            "line": {
             "colorbar": {
              "outlinewidth": 0,
              "ticks": ""
             }
            },
            "type": "parcoords"
           }
          ],
          "pie": [
           {
            "automargin": true,
            "type": "pie"
           }
          ],
          "scatter": [
           {
            "fillpattern": {
             "fillmode": "overlay",
             "size": 10,
             "solidity": 0.2
            },
            "type": "scatter"
           }
          ],
          "scatter3d": [
           {
            "line": {
             "colorbar": {
              "outlinewidth": 0,
              "ticks": ""
             }
            },
            "marker": {
             "colorbar": {
              "outlinewidth": 0,
              "ticks": ""
             }
            },
            "type": "scatter3d"
           }
          ],
          "scattercarpet": [
           {
            "marker": {
             "colorbar": {
              "outlinewidth": 0,
              "ticks": ""
             }
            },
            "type": "scattercarpet"
           }
          ],
          "scattergeo": [
           {
            "marker": {
             "colorbar": {
              "outlinewidth": 0,
              "ticks": ""
             }
            },
            "type": "scattergeo"
           }
          ],
          "scattergl": [
           {
            "marker": {
             "colorbar": {
              "outlinewidth": 0,
              "ticks": ""
             }
            },
            "type": "scattergl"
           }
          ],
          "scattermapbox": [
           {
            "marker": {
             "colorbar": {
              "outlinewidth": 0,
              "ticks": ""
             }
            },
            "type": "scattermapbox"
           }
          ],
          "scatterpolar": [
           {
            "marker": {
             "colorbar": {
              "outlinewidth": 0,
              "ticks": ""
             }
            },
            "type": "scatterpolar"
           }
          ],
          "scatterpolargl": [
           {
            "marker": {
             "colorbar": {
              "outlinewidth": 0,
              "ticks": ""
             }
            },
            "type": "scatterpolargl"
           }
          ],
          "scatterternary": [
           {
            "marker": {
             "colorbar": {
              "outlinewidth": 0,
              "ticks": ""
             }
            },
            "type": "scatterternary"
           }
          ],
          "surface": [
           {
            "colorbar": {
             "outlinewidth": 0,
             "ticks": ""
            },
            "colorscale": [
             [
              0,
              "#0d0887"
             ],
             [
              0.1111111111111111,
              "#46039f"
             ],
             [
              0.2222222222222222,
              "#7201a8"
             ],
             [
              0.3333333333333333,
              "#9c179e"
             ],
             [
              0.4444444444444444,
              "#bd3786"
             ],
             [
              0.5555555555555556,
              "#d8576b"
             ],
             [
              0.6666666666666666,
              "#ed7953"
             ],
             [
              0.7777777777777778,
              "#fb9f3a"
             ],
             [
              0.8888888888888888,
              "#fdca26"
             ],
             [
              1,
              "#f0f921"
             ]
            ],
            "type": "surface"
           }
          ],
          "table": [
           {
            "cells": {
             "fill": {
              "color": "#EBF0F8"
             },
             "line": {
              "color": "white"
             }
            },
            "header": {
             "fill": {
              "color": "#C8D4E3"
             },
             "line": {
              "color": "white"
             }
            },
            "type": "table"
           }
          ]
         },
         "layout": {
          "annotationdefaults": {
           "arrowcolor": "#2a3f5f",
           "arrowhead": 0,
           "arrowwidth": 1
          },
          "autotypenumbers": "strict",
          "coloraxis": {
           "colorbar": {
            "outlinewidth": 0,
            "ticks": ""
           }
          },
          "colorscale": {
           "diverging": [
            [
             0,
             "#8e0152"
            ],
            [
             0.1,
             "#c51b7d"
            ],
            [
             0.2,
             "#de77ae"
            ],
            [
             0.3,
             "#f1b6da"
            ],
            [
             0.4,
             "#fde0ef"
            ],
            [
             0.5,
             "#f7f7f7"
            ],
            [
             0.6,
             "#e6f5d0"
            ],
            [
             0.7,
             "#b8e186"
            ],
            [
             0.8,
             "#7fbc41"
            ],
            [
             0.9,
             "#4d9221"
            ],
            [
             1,
             "#276419"
            ]
           ],
           "sequential": [
            [
             0,
             "#0d0887"
            ],
            [
             0.1111111111111111,
             "#46039f"
            ],
            [
             0.2222222222222222,
             "#7201a8"
            ],
            [
             0.3333333333333333,
             "#9c179e"
            ],
            [
             0.4444444444444444,
             "#bd3786"
            ],
            [
             0.5555555555555556,
             "#d8576b"
            ],
            [
             0.6666666666666666,
             "#ed7953"
            ],
            [
             0.7777777777777778,
             "#fb9f3a"
            ],
            [
             0.8888888888888888,
             "#fdca26"
            ],
            [
             1,
             "#f0f921"
            ]
           ],
           "sequentialminus": [
            [
             0,
             "#0d0887"
            ],
            [
             0.1111111111111111,
             "#46039f"
            ],
            [
             0.2222222222222222,
             "#7201a8"
            ],
            [
             0.3333333333333333,
             "#9c179e"
            ],
            [
             0.4444444444444444,
             "#bd3786"
            ],
            [
             0.5555555555555556,
             "#d8576b"
            ],
            [
             0.6666666666666666,
             "#ed7953"
            ],
            [
             0.7777777777777778,
             "#fb9f3a"
            ],
            [
             0.8888888888888888,
             "#fdca26"
            ],
            [
             1,
             "#f0f921"
            ]
           ]
          },
          "colorway": [
           "#636efa",
           "#EF553B",
           "#00cc96",
           "#ab63fa",
           "#FFA15A",
           "#19d3f3",
           "#FF6692",
           "#B6E880",
           "#FF97FF",
           "#FECB52"
          ],
          "font": {
           "color": "#2a3f5f"
          },
          "geo": {
           "bgcolor": "white",
           "lakecolor": "white",
           "landcolor": "#E5ECF6",
           "showlakes": true,
           "showland": true,
           "subunitcolor": "white"
          },
          "hoverlabel": {
           "align": "left"
          },
          "hovermode": "closest",
          "mapbox": {
           "style": "light"
          },
          "paper_bgcolor": "white",
          "plot_bgcolor": "#E5ECF6",
          "polar": {
           "angularaxis": {
            "gridcolor": "white",
            "linecolor": "white",
            "ticks": ""
           },
           "bgcolor": "#E5ECF6",
           "radialaxis": {
            "gridcolor": "white",
            "linecolor": "white",
            "ticks": ""
           }
          },
          "scene": {
           "xaxis": {
            "backgroundcolor": "#E5ECF6",
            "gridcolor": "white",
            "gridwidth": 2,
            "linecolor": "white",
            "showbackground": true,
            "ticks": "",
            "zerolinecolor": "white"
           },
           "yaxis": {
            "backgroundcolor": "#E5ECF6",
            "gridcolor": "white",
            "gridwidth": 2,
            "linecolor": "white",
            "showbackground": true,
            "ticks": "",
            "zerolinecolor": "white"
           },
           "zaxis": {
            "backgroundcolor": "#E5ECF6",
            "gridcolor": "white",
            "gridwidth": 2,
            "linecolor": "white",
            "showbackground": true,
            "ticks": "",
            "zerolinecolor": "white"
           }
          },
          "shapedefaults": {
           "line": {
            "color": "#2a3f5f"
           }
          },
          "ternary": {
           "aaxis": {
            "gridcolor": "white",
            "linecolor": "white",
            "ticks": ""
           },
           "baxis": {
            "gridcolor": "white",
            "linecolor": "white",
            "ticks": ""
           },
           "bgcolor": "#E5ECF6",
           "caxis": {
            "gridcolor": "white",
            "linecolor": "white",
            "ticks": ""
           }
          },
          "title": {
           "x": 0.05
          },
          "xaxis": {
           "automargin": true,
           "gridcolor": "white",
           "linecolor": "white",
           "ticks": "",
           "title": {
            "standoff": 15
           },
           "zerolinecolor": "white",
           "zerolinewidth": 2
          },
          "yaxis": {
           "automargin": true,
           "gridcolor": "white",
           "linecolor": "white",
           "ticks": "",
           "title": {
            "standoff": 15
           },
           "zerolinecolor": "white",
           "zerolinewidth": 2
          }
         }
        },
        "title": {
         "text": "Coverage Rate by Property Type"
        },
        "xaxis": {
         "anchor": "y",
         "categoryorder": "total descending",
         "domain": [
          0,
          1
         ],
         "tickangle": -45,
         "title": {
          "text": "Property Type"
         }
        },
        "yaxis": {
         "anchor": "x",
         "domain": [
          0,
          1
         ],
         "title": {
          "text": "Coverage Rate (%)"
         }
        }
       }
      }
     },
     "metadata": {},
     "output_type": "display_data"
    }
   ],
   "source": [
    "# Create interactive bar chart with Plotly\n",
    "fig = px.bar(coverage_by_type_df.sort_values('coverage_rate', ascending=False), \n",
    "             x='property_type', y='coverage_rate',\n",
    "             hover_data=['compstak_count', 'doe_count'],\n",
    "             labels={'property_type': 'Property Type', 'coverage_rate': 'Coverage Rate (%)'},\n",
    "             title='Coverage Rate by Property Type',\n",
    "             color='coverage_rate',\n",
    "             color_continuous_scale=px.colors.sequential.Viridis)\n",
    "\n",
    "fig.update_layout(\n",
    "    xaxis={'categoryorder':'total descending'},\n",
    "    xaxis_tickangle=-45,\n",
    "    yaxis_title='Coverage Rate (%)'\n",
    ")\n",
    "\n",
    "fig.show()\n",
    "\n",
    "# Save the figure\n",
    "fig.write_image(os.path.join(output_dir, 'property_type_coverage_rate_plotly.png'))"
   ]
  },
  {
   "cell_type": "code",
   "execution_count": 54,
   "id": "dd2b0f7e",
   "metadata": {},
   "outputs": [
    {
     "data": {
      "image/png": "[encoded data removed]",
      "text/plain": [
       "<Figure size 1800x800 with 2 Axes>"
      ]
     },
     "metadata": {},
     "output_type": "display_data"
    }
   ],
   "source": [
    "# Create pie charts for property type distribution in both datasets\n",
    "fig, (ax1, ax2) = plt.subplots(1, 2, figsize=(18, 8))\n",
    "\n",
    "# DOE dataset distribution\n",
    "ax1.pie(doe_type_counts['doe_count'], labels=doe_type_counts['property_type'], autopct='%1.1f%%', shadow=True)\n",
    "ax1.set_title('Distribution of Properties by Type in DOE Dataset')\n",
    "ax1.axis('equal')\n",
    "\n",
    "# CompStak dataset distribution\n",
    "ax2.pie(compstak_type_counts['compstak_count'], labels=compstak_type_counts['property_type'], autopct='%1.1f%%', shadow=True)\n",
    "ax2.set_title('Distribution of Properties by Type in CompStak Dataset')\n",
    "ax2.axis('equal')\n",
    "\n",
    "plt.tight_layout()\n",
    "plt.savefig(os.path.join(output_dir, 'property_type_distribution_comparison_pie.png'), dpi=300, bbox_inches='tight')\n",
    "plt.show()"
   ]
  },
  {
   "cell_type": "code",
   "execution_count": 55,
   "id": "abc7118d",
   "metadata": {},
   "outputs": [
    {
     "name": "stdout",
     "output_type": "stream",
     "text": [
      "Correlation between DOE property count and coverage rate by property type: -0.3384\n",
      "Mean coverage rate across property types: 41.37%\n",
      "Median coverage rate across property types: 32.35%\n"
     ]
    },
    {
     "data": {
      "application/vnd.microsoft.datawrangler.viewer.v0+json": {
       "columns": [
        {
         "name": "index",
         "rawType": "int64",
         "type": "integer"
        },
        {
         "name": "property_type",
         "rawType": "object",
         "type": "string"
        },
        {
         "name": "doe_count",
         "rawType": "int64",
         "type": "integer"
        },
        {
         "name": "compstak_count",
         "rawType": "int64",
         "type": "integer"
        },
        {
         "name": "coverage_rate",
         "rawType": "float64",
         "type": "float"
        },
        {
         "name": "doe_percentage",
         "rawType": "float64",
         "type": "float"
        },
        {
         "name": "compstak_percentage",
         "rawType": "float64",
         "type": "float"
        },
        {
         "name": "representation_diff",
         "rawType": "float64",
         "type": "float"
        }
       ],
       "conversionMethod": "pd.DataFrame",
       "ref": "4f6ed1d2-d6b7-4be7-9629-899f31317886",
       "rows": [
        [
         "4",
         "Other",
         "161804",
         "167739",
         "103.66801809596795",
         "7.202540858274148",
         "22.082049243237055",
         "14.879508384962907"
        ],
        [
         "2",
         "Multi-Family",
         "253361",
         "114432",
         "45.16559375752385",
         "11.278107799517914",
         "15.064433787026884",
         "3.7863259875089703"
        ],
        [
         "1",
         "Industrial",
         "438534",
         "183414",
         "41.824351133549506",
         "19.52089597749373",
         "24.145589158747104",
         "4.624693181253374"
        ],
        [
         "3",
         "Office",
         "388432",
         "88848",
         "22.873501668245666",
         "17.290656291940522",
         "11.696420696219278",
         "-5.594235595721244"
        ],
        [
         "5",
         "Retail",
         "931077",
         "195116",
         "20.955946715470365",
         "41.44594778064398",
         "25.686102338415278",
         "-15.759845442228706"
        ],
        [
         "0",
         "Hotel",
         "73277",
         "10068",
         "13.73964545491764",
         "3.261851292129705",
         "1.3254047763543997",
         "-1.9364465157753052"
        ]
       ],
       "shape": {
        "columns": 7,
        "rows": 6
       }
      },
      "text/html": [
       "<div>\n",
       "<style scoped>\n",
       "    .dataframe tbody tr th:only-of-type {\n",
       "        vertical-align: middle;\n",
       "    }\n",
       "\n",
       "    .dataframe tbody tr th {\n",
       "        vertical-align: top;\n",
       "    }\n",
       "\n",
       "    .dataframe thead th {\n",
       "        text-align: right;\n",
       "    }\n",
       "</style>\n",
       "<table border=\"1\" class=\"dataframe\">\n",
       "  <thead>\n",
       "    <tr style=\"text-align: right;\">\n",
       "      <th></th>\n",
       "      <th>property_type</th>\n",
       "      <th>doe_count</th>\n",
       "      <th>compstak_count</th>\n",
       "      <th>coverage_rate</th>\n",
       "      <th>doe_percentage</th>\n",
       "      <th>compstak_percentage</th>\n",
       "      <th>representation_diff</th>\n",
       "    </tr>\n",
       "  </thead>\n",
       "  <tbody>\n",
       "    <tr>\n",
       "      <th>4</th>\n",
       "      <td>Other</td>\n",
       "      <td>161804</td>\n",
       "      <td>167739</td>\n",
       "      <td>103.668018</td>\n",
       "      <td>7.202541</td>\n",
       "      <td>22.082049</td>\n",
       "      <td>14.879508</td>\n",
       "    </tr>\n",
       "    <tr>\n",
       "      <th>2</th>\n",
       "      <td>Multi-Family</td>\n",
       "      <td>253361</td>\n",
       "      <td>114432</td>\n",
       "      <td>45.165594</td>\n",
       "      <td>11.278108</td>\n",
       "      <td>15.064434</td>\n",
       "      <td>3.786326</td>\n",
       "    </tr>\n",
       "    <tr>\n",
       "      <th>1</th>\n",
       "      <td>Industrial</td>\n",
       "      <td>438534</td>\n",
       "      <td>183414</td>\n",
       "      <td>41.824351</td>\n",
       "      <td>19.520896</td>\n",
       "      <td>24.145589</td>\n",
       "      <td>4.624693</td>\n",
       "    </tr>\n",
       "    <tr>\n",
       "      <th>3</th>\n",
       "      <td>Office</td>\n",
       "      <td>388432</td>\n",
       "      <td>88848</td>\n",
       "      <td>22.873502</td>\n",
       "      <td>17.290656</td>\n",
       "      <td>11.696421</td>\n",
       "      <td>-5.594236</td>\n",
       "    </tr>\n",
       "    <tr>\n",
       "      <th>5</th>\n",
       "      <td>Retail</td>\n",
       "      <td>931077</td>\n",
       "      <td>195116</td>\n",
       "      <td>20.955947</td>\n",
       "      <td>41.445948</td>\n",
       "      <td>25.686102</td>\n",
       "      <td>-15.759845</td>\n",
       "    </tr>\n",
       "    <tr>\n",
       "      <th>0</th>\n",
       "      <td>Hotel</td>\n",
       "      <td>73277</td>\n",
       "      <td>10068</td>\n",
       "      <td>13.739645</td>\n",
       "      <td>3.261851</td>\n",
       "      <td>1.325405</td>\n",
       "      <td>-1.936447</td>\n",
       "    </tr>\n",
       "  </tbody>\n",
       "</table>\n",
       "</div>"
      ],
      "text/plain": [
       "  property_type  doe_count  compstak_count  coverage_rate  doe_percentage  \\\n",
       "4         Other     161804          167739     103.668018        7.202541   \n",
       "2  Multi-Family     253361          114432      45.165594       11.278108   \n",
       "1    Industrial     438534          183414      41.824351       19.520896   \n",
       "3        Office     388432           88848      22.873502       17.290656   \n",
       "5        Retail     931077          195116      20.955947       41.445948   \n",
       "0         Hotel      73277           10068      13.739645        3.261851   \n",
       "\n",
       "   compstak_percentage  representation_diff  \n",
       "4            22.082049            14.879508  \n",
       "2            15.064434             3.786326  \n",
       "1            24.145589             4.624693  \n",
       "3            11.696421            -5.594236  \n",
       "5            25.686102           -15.759845  \n",
       "0             1.325405            -1.936447  "
      ]
     },
     "execution_count": 55,
     "metadata": {},
     "output_type": "execute_result"
    }
   ],
   "source": [
    "# Calculate correlation between DOE property count and coverage rate by type\n",
    "type_correlation = coverage_by_type_df['doe_count'].corr(coverage_by_type_df['coverage_rate'])\n",
    "print(f\"Correlation between DOE property count and coverage rate by property type: {type_correlation:.4f}\")\n",
    "\n",
    "# Calculate mean and median coverage rates by property type\n",
    "mean_coverage = coverage_by_type_df['coverage_rate'].mean()\n",
    "median_coverage = coverage_by_type_df['coverage_rate'].median()\n",
    "print(f\"Mean coverage rate across property types: {mean_coverage:.2f}%\")\n",
    "print(f\"Median coverage rate across property types: {median_coverage:.2f}%\")\n",
    "\n",
    "# Create a table comparing property type counts and coverage rates\n",
    "comparison_table = coverage_by_type_df.copy()\n",
    "comparison_table['doe_percentage'] = (comparison_table['doe_count'] / comparison_table['doe_count'].sum()) * 100\n",
    "comparison_table['compstak_percentage'] = (comparison_table['compstak_count'] / comparison_table['compstak_count'].sum()) * 100\n",
    "comparison_table['representation_diff'] = comparison_table['compstak_percentage'] - comparison_table['doe_percentage']\n",
    "\n",
    "comparison_table_sorted = comparison_table.sort_values('coverage_rate', ascending=False)\n",
    "comparison_table_sorted[['property_type', 'doe_count', 'compstak_count', 'coverage_rate', \n",
    "                        'doe_percentage', 'compstak_percentage', 'representation_diff']]"
   ]
  }
 ],
 "metadata": {
  "kernelspec": {
   "display_name": "Python 3",
   "language": "python",
   "name": "python3"
  },
  "language_info": {
   "codemirror_mode": {
    "name": "ipython",
    "version": 3
   },
   "file_extension": ".py",
   "mimetype": "text/x-python",
   "name": "python",
   "nbconvert_exporter": "python",
   "pygments_lexer": "ipython3",
   "version": "3.11.9"
  }
 },
 "nbformat": 4,
 "nbformat_minor": 5
}
