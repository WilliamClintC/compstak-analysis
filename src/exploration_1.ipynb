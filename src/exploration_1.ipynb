{
 "cells": [
  {
   "cell_type": "code",
   "execution_count": 8,
   "id": "01105c77",
   "metadata": {},
   "outputs": [
    {
     "name": "stderr",
     "output_type": "stream",
     "text": [
      "C:\\Users\\clint\\AppData\\Local\\Temp\\ipykernel_18312\\3448156149.py:11: DtypeWarning: Columns (8,52,73,77) have mixed types. Specify dtype option on import or set low_memory=False.\n",
      "  sales = pd.read_csv(path + 'university-of-british-columbia-sales-2025-04-02.csv')\n",
      "C:\\Users\\clint\\AppData\\Local\\Temp\\ipykernel_18312\\3448156149.py:12: DtypeWarning: Columns (15,35,37,59,61,67,71,73,76,77,78,80,82,85) have mixed types. Specify dtype option on import or set low_memory=False.\n",
      "  leases = pd.read_csv(path + 'university-of-british-columbia-leases-2025-04-02.csv')\n"
     ]
    }
   ],
   "source": [
    "import pandas as pd\n",
    "\n",
    "# Set paths here C:\\Users\\clint\\Desktop\\compstak-ra\\src\\exploration_1.ipynb\n",
    "#C:\\Users\\clint\\Desktop\\compstak-ra\\data\\data\\university-of-british-columbia-leases-2025-04-02.csv\n",
    "#C:\\Users\\clint\\Desktop\\compstak-ra\\data\\data\\university-of-british-columbia-sales-2025-04-02.csv\n",
    "#C:\\Users\\clint\\Desktop\\compstak-ra\\data\\data\\cb_2018_us_state_5m\\cb_2018_us_state_5m.shp\n",
    "path = 'C:/Users/clint/Desktop/compstak-ra/data/data/'\n",
    "path_census = 'C:/Users/clint/Desktop/compstak-ra/data/cb_2018_us_state_5m/'\n",
    "\n",
    "# Load the data\n",
    "sales = pd.read_csv(path + 'university-of-british-columbia-sales-2025-04-02.csv')\n",
    "leases = pd.read_csv(path + 'university-of-british-columbia-leases-2025-04-02.csv')"
   ]
  },
  {
   "cell_type": "code",
   "execution_count": 9,
   "id": "415331de",
   "metadata": {},
   "outputs": [
    {
     "name": "stdout",
     "output_type": "stream",
     "text": [
      "Unique column names in leases:\n",
      "Index(['Id', 'Property Id', 'Tenant Name', 'Street Address', 'City', 'State',\n",
      "       'Zip Code', 'Market', 'Submarket', 'Floor(s) Occupied', 'Suite',\n",
      "       'Space Type', 'Space Subtype', 'Transaction Type', 'Sublease',\n",
      "       'Sublessor', 'Transaction SQFT', 'Total Transaction SQFT',\n",
      "       'Transaction Quarter', 'Execution Date', 'Commencement Date',\n",
      "       'Expiration Date', 'Lease Term', 'Starting Rent',\n",
      "       'Adjusted Starting Rent', 'Net Effective Rent',\n",
      "       'Adjusted Effective Rent', 'Current Rent', 'Asking Rent',\n",
      "       'Average Rent', 'Blended Rent', 'Lease Type', 'Rent Schedule',\n",
      "       'Rent Bump Percent', 'Rent Bump Dollar', 'Rent Bump Year', 'Free Rent',\n",
      "       'Free Rent Type', 'Work Type', 'TI Value / Work Value',\n",
      "       'Concessions Notes', 'Comments', 'Landlord Brokerage Firms',\n",
      "       'Landlord Brokers', 'Tenant Brokerage Firms', 'Tenant Brokers',\n",
      "       'Tenant Industry', 'Building Name', 'Property Type', 'Property Subtype',\n",
      "       'Building Class', 'Building Size', 'Number of Floors', 'Year Built',\n",
      "       'Year Renovated', 'Lot Size', 'Occupancy Rate', 'Load Factor',\n",
      "       'Parking Ratio', 'Parking Lot Type', 'Parking Notes', 'Office Portion',\n",
      "       'Office Portion Rent', 'Sprinkler', 'Clear Height', 'Doors',\n",
      "       'Loading Docks', 'Rail', 'Amps', 'Volts', 'Elevators', 'Retail Anchor',\n",
      "       'Renewal Options', 'Operating Expenses Type', 'Operating Expense',\n",
      "       'Operating Expense Notes', 'Selling Basement', 'Vented Space',\n",
      "       'Corner Unit', 'Street Frontage', 'Percentage Rent', 'Pro Rata Percent',\n",
      "       'Annual Taxes', 'Asking Rent (Gross Annual)',\n",
      "       'Starting Rent (Gross Annual)', 'Retail Notes', 'Days On Market',\n",
      "       'Country', 'Geo Point'],\n",
      "      dtype='object')\n"
     ]
    }
   ],
   "source": [
    "# Display unique column names for leases\n",
    "print(\"Unique column names in leases:\")\n",
    "print(leases.columns.unique())\n"
   ]
  },
  {
   "cell_type": "code",
   "execution_count": null,
   "id": "9d0797fc",
   "metadata": {},
   "outputs": [
    {
     "ename": "KeyError",
     "evalue": "'Proposed Use'",
     "output_type": "error",
     "traceback": [
      "\u001b[1;31m---------------------------------------------------------------------------\u001b[0m",
      "\u001b[1;31mKeyError\u001b[0m                                  Traceback (most recent call last)",
      "File \u001b[1;32m~\\AppData\\Local\\Packages\\PythonSoftwareFoundation.Python.3.11_qbz5n2kfra8p0\\LocalCache\\local-packages\\Python311\\site-packages\\pandas\\core\\indexes\\base.py:3805\u001b[0m, in \u001b[0;36mIndex.get_loc\u001b[1;34m(self, key)\u001b[0m\n\u001b[0;32m   3804\u001b[0m \u001b[38;5;28;01mtry\u001b[39;00m:\n\u001b[1;32m-> 3805\u001b[0m     \u001b[38;5;28;01mreturn\u001b[39;00m \u001b[38;5;28;43mself\u001b[39;49m\u001b[38;5;241;43m.\u001b[39;49m\u001b[43m_engine\u001b[49m\u001b[38;5;241;43m.\u001b[39;49m\u001b[43mget_loc\u001b[49m\u001b[43m(\u001b[49m\u001b[43mcasted_key\u001b[49m\u001b[43m)\u001b[49m\n\u001b[0;32m   3806\u001b[0m \u001b[38;5;28;01mexcept\u001b[39;00m \u001b[38;5;167;01mKeyError\u001b[39;00m \u001b[38;5;28;01mas\u001b[39;00m err:\n",
      "File \u001b[1;32mindex.pyx:167\u001b[0m, in \u001b[0;36mpandas._libs.index.IndexEngine.get_loc\u001b[1;34m()\u001b[0m\n",
      "File \u001b[1;32mindex.pyx:196\u001b[0m, in \u001b[0;36mpandas._libs.index.IndexEngine.get_loc\u001b[1;34m()\u001b[0m\n",
      "File \u001b[1;32mpandas\\\\_libs\\\\hashtable_class_helper.pxi:7081\u001b[0m, in \u001b[0;36mpandas._libs.hashtable.PyObjectHashTable.get_item\u001b[1;34m()\u001b[0m\n",
      "File \u001b[1;32mpandas\\\\_libs\\\\hashtable_class_helper.pxi:7089\u001b[0m, in \u001b[0;36mpandas._libs.hashtable.PyObjectHashTable.get_item\u001b[1;34m()\u001b[0m\n",
      "\u001b[1;31mKeyError\u001b[0m: 'Proposed Use'",
      "\nThe above exception was the direct cause of the following exception:\n",
      "\u001b[1;31mKeyError\u001b[0m                                  Traceback (most recent call last)",
      "Cell \u001b[1;32mIn[16], line 1\u001b[0m\n\u001b[1;32m----> 1\u001b[0m \u001b[43mleases\u001b[49m\u001b[43m[\u001b[49m\u001b[38;5;124;43m'\u001b[39;49m\u001b[38;5;124;43mProposed Use\u001b[39;49m\u001b[38;5;124;43m'\u001b[39;49m\u001b[43m]\u001b[49m\n",
      "File \u001b[1;32m~\\AppData\\Local\\Packages\\PythonSoftwareFoundation.Python.3.11_qbz5n2kfra8p0\\LocalCache\\local-packages\\Python311\\site-packages\\pandas\\core\\frame.py:4102\u001b[0m, in \u001b[0;36mDataFrame.__getitem__\u001b[1;34m(self, key)\u001b[0m\n\u001b[0;32m   4100\u001b[0m \u001b[38;5;28;01mif\u001b[39;00m \u001b[38;5;28mself\u001b[39m\u001b[38;5;241m.\u001b[39mcolumns\u001b[38;5;241m.\u001b[39mnlevels \u001b[38;5;241m>\u001b[39m \u001b[38;5;241m1\u001b[39m:\n\u001b[0;32m   4101\u001b[0m     \u001b[38;5;28;01mreturn\u001b[39;00m \u001b[38;5;28mself\u001b[39m\u001b[38;5;241m.\u001b[39m_getitem_multilevel(key)\n\u001b[1;32m-> 4102\u001b[0m indexer \u001b[38;5;241m=\u001b[39m \u001b[38;5;28;43mself\u001b[39;49m\u001b[38;5;241;43m.\u001b[39;49m\u001b[43mcolumns\u001b[49m\u001b[38;5;241;43m.\u001b[39;49m\u001b[43mget_loc\u001b[49m\u001b[43m(\u001b[49m\u001b[43mkey\u001b[49m\u001b[43m)\u001b[49m\n\u001b[0;32m   4103\u001b[0m \u001b[38;5;28;01mif\u001b[39;00m is_integer(indexer):\n\u001b[0;32m   4104\u001b[0m     indexer \u001b[38;5;241m=\u001b[39m [indexer]\n",
      "File \u001b[1;32m~\\AppData\\Local\\Packages\\PythonSoftwareFoundation.Python.3.11_qbz5n2kfra8p0\\LocalCache\\local-packages\\Python311\\site-packages\\pandas\\core\\indexes\\base.py:3812\u001b[0m, in \u001b[0;36mIndex.get_loc\u001b[1;34m(self, key)\u001b[0m\n\u001b[0;32m   3807\u001b[0m     \u001b[38;5;28;01mif\u001b[39;00m \u001b[38;5;28misinstance\u001b[39m(casted_key, \u001b[38;5;28mslice\u001b[39m) \u001b[38;5;129;01mor\u001b[39;00m (\n\u001b[0;32m   3808\u001b[0m         \u001b[38;5;28misinstance\u001b[39m(casted_key, abc\u001b[38;5;241m.\u001b[39mIterable)\n\u001b[0;32m   3809\u001b[0m         \u001b[38;5;129;01mand\u001b[39;00m \u001b[38;5;28many\u001b[39m(\u001b[38;5;28misinstance\u001b[39m(x, \u001b[38;5;28mslice\u001b[39m) \u001b[38;5;28;01mfor\u001b[39;00m x \u001b[38;5;129;01min\u001b[39;00m casted_key)\n\u001b[0;32m   3810\u001b[0m     ):\n\u001b[0;32m   3811\u001b[0m         \u001b[38;5;28;01mraise\u001b[39;00m InvalidIndexError(key)\n\u001b[1;32m-> 3812\u001b[0m     \u001b[38;5;28;01mraise\u001b[39;00m \u001b[38;5;167;01mKeyError\u001b[39;00m(key) \u001b[38;5;28;01mfrom\u001b[39;00m \u001b[38;5;21;01merr\u001b[39;00m\n\u001b[0;32m   3813\u001b[0m \u001b[38;5;28;01mexcept\u001b[39;00m \u001b[38;5;167;01mTypeError\u001b[39;00m:\n\u001b[0;32m   3814\u001b[0m     \u001b[38;5;66;03m# If we have a listlike key, _check_indexing_error will raise\u001b[39;00m\n\u001b[0;32m   3815\u001b[0m     \u001b[38;5;66;03m#  InvalidIndexError. Otherwise we fall through and re-raise\u001b[39;00m\n\u001b[0;32m   3816\u001b[0m     \u001b[38;5;66;03m#  the TypeError.\u001b[39;00m\n\u001b[0;32m   3817\u001b[0m     \u001b[38;5;28mself\u001b[39m\u001b[38;5;241m.\u001b[39m_check_indexing_error(key)\n",
      "\u001b[1;31mKeyError\u001b[0m: 'Proposed Use'"
     ]
    }
   ],
   "source": [
    "leases"
   ]
  },
  {
   "cell_type": "code",
   "execution_count": 10,
   "id": "20437d6d",
   "metadata": {},
   "outputs": [
    {
     "name": "stdout",
     "output_type": "stream",
     "text": [
      "\n",
      "Unique column names in sales:\n",
      "Index(['Sales Master Id', 'Property Id', 'Street Address', 'City', 'State',\n",
      "       'Zip Code', 'Market', 'Submarket', 'Floor(s) Occupied', 'Suite',\n",
      "       'Transaction SQFT', 'Building Size', 'Lot Size', 'APN',\n",
      "       'Number Of Buildings', 'Sale Quarter', 'Sale Date', 'Days On Market',\n",
      "       'Sale Type', 'Total Sale Price', 'Sale Price (PSF)',\n",
      "       'Total Asking Price', 'Asking Price', 'Buyer', 'Recorded Buyer',\n",
      "       'Buyer Type', 'Seller', 'Recorded Seller', 'Seller Type',\n",
      "       'Occupancy Rate', 'Cap Rate', 'Cap Rate Notes', 'Total NOI', 'NOI',\n",
      "       'Total Operating Expense', 'Operating Expense',\n",
      "       'Operating Expense Notes', 'Financing Info', 'Lender', 'Interest Type',\n",
      "       'Interest', 'Comments', 'Document Type', 'Deed Doc #', 'Record Date',\n",
      "       'Seller Rep Companies', 'Seller Rep', 'Buyer Rep Companies',\n",
      "       'Buyer Rep', 'Property Rights', 'Proposed Use', 'Multi Tenant',\n",
      "       'Include Businesses', 'Building Name', 'Property Type',\n",
      "       'Property Subtype', 'Building Class', 'Number of Floors', 'Year Built',\n",
      "       'Year Renovated', 'FAR', 'Percent Improved', 'Load Factor',\n",
      "       'Parking Ratio', 'Parking Lot Type', 'Parking Notes', 'Elevators',\n",
      "       'Office Portion', 'Sprinkler', 'Clear Height', 'Doors', 'Loading Docks',\n",
      "       'Rail', 'Amps', 'Volts', 'Retail Anchor', 'Number Of Units',\n",
      "       'Selling Basement', 'Corner Unit', 'Street Frontage', 'Country',\n",
      "       'Geo Point', 'Date Created', 'Date Updated'],\n",
      "      dtype='object')\n"
     ]
    }
   ],
   "source": [
    "\n",
    "# Display unique column names for sales\n",
    "print(\"\\nUnique column names in sales:\")\n",
    "print(sales.columns.unique())"
   ]
  },
  {
   "cell_type": "code",
   "execution_count": 21,
   "id": "96c5d6f1",
   "metadata": {},
   "outputs": [
    {
     "data": {
      "application/vnd.microsoft.datawrangler.viewer.v0+json": {
       "columns": [
        {
         "name": "index",
         "rawType": "int64",
         "type": "integer"
        },
        {
         "name": "Proposed Use",
         "rawType": "object",
         "type": "string"
        },
        {
         "name": "Count",
         "rawType": "int64",
         "type": "integer"
        }
       ],
       "conversionMethod": "pd.DataFrame",
       "ref": "589d4e5f-3dbf-4e9d-88ff-4c3706672f50",
       "rows": [
        [
         "0",
         "(Oregonian) Press Blocks (CXd)",
         "1"
        ],
        [
         "1",
         "+/- 5,000 SF building, Tae Kwon Do School",
         "1"
        ],
        [
         "2",
         "0",
         "5"
        ],
        [
         "3",
         "1 SFR",
         "1"
        ],
        [
         "4",
         "1,000,000 SF and 200,000 SF warehouses",
         "1"
        ],
        [
         "5",
         "1,085,280 SF warehouse plus an second 698,880 SF building",
         "1"
        ],
        [
         "6",
         "10,000 square foot, 190-room “dual-branded hotel”",
         "1"
        ],
        [
         "7",
         "10-story building",
         "1"
        ],
        [
         "8",
         "10-story office building",
         "1"
        ],
        [
         "9",
         "100 room Hotel",
         "1"
        ],
        [
         "10",
         "100+ unit supportive housing project",
         "1"
        ],
        [
         "11",
         "10000 sf Residential",
         "2"
        ],
        [
         "12",
         "10000 sf Unknown",
         "1"
        ],
        [
         "13",
         "10092 sf Residential",
         "2"
        ],
        [
         "14",
         "10092 sf Residential (Likely)",
         "1"
        ],
        [
         "15",
         "101,396 square foot Class C building",
         "1"
        ],
        [
         "16",
         "102 Units",
         "1"
        ],
        [
         "17",
         "102 unit multifamily (South Shore Highline)",
         "1"
        ],
        [
         "18",
         "102-unit HTC Community (Artisan at Ruiz)",
         "1"
        ],
        [
         "19",
         "10496 sf Residential",
         "1"
        ],
        [
         "20",
         "105 Planned Units; Sale Price/Unit: $8,708",
         "1"
        ],
        [
         "21",
         "105 du Residential",
         "1"
        ],
        [
         "22",
         "10664 sf Residential",
         "1"
        ],
        [
         "23",
         "108 affordable LIHTC units in a single midrise residential building.",
         "1"
        ],
        [
         "24",
         "108-unit LIHTC multifamily community (Vista Pointe)",
         "1"
        ],
        [
         "25",
         "10815 sf Residential",
         "1"
        ],
        [
         "26",
         "11343 sf Residential (Likely)",
         "2"
        ],
        [
         "27",
         "114-unit Senior (55+) HTC community (900 Winston)",
         "1"
        ],
        [
         "28",
         "11513 sf Residential (Likely)",
         "1"
        ],
        [
         "29",
         "116-unit affordable housing development",
         "1"
        ],
        [
         "30",
         "116916 sf School",
         "1"
        ],
        [
         "31",
         "11703 sf Residential",
         "1"
        ],
        [
         "32",
         "12 Townhomes",
         "1"
        ],
        [
         "33",
         "12 lot TH development",
         "1"
        ],
        [
         "34",
         "12 units, all one bedroom/one bath with 700 square feet and a private garage",
         "1"
        ],
        [
         "35",
         "12,000sq ft retail",
         "1"
        ],
        [
         "36",
         "12-unit Apartment Building",
         "1"
        ],
        [
         "37",
         "120 unit HTC community (Campanile on Commerce); Proposed price per unit: $46,866",
         "1"
        ],
        [
         "38",
         "120 units garden Apartment",
         "1"
        ],
        [
         "39",
         "120,506 SF FedEx Express distribution/warehouse facility",
         "1"
        ],
        [
         "40",
         "120,966 max per GP, 45% FAR",
         "1"
        ],
        [
         "41",
         "120-unit HTC community (Somerset Lofts); Proposed price per unit: $34,375",
         "1"
        ],
        [
         "42",
         "120-unit housing apartment property",
         "1"
        ],
        [
         "43",
         "12030 sf Residential",
         "1"
        ],
        [
         "44",
         "12191 sf Residential (likely)",
         "1"
        ],
        [
         "45",
         "122 unit Las Palomas Village",
         "1"
        ],
        [
         "46",
         "12606 sf Residential",
         "1"
        ],
        [
         "47",
         "12750 sf Unknown",
         "1"
        ],
        [
         "48",
         "128 Units Garden Apartments",
         "1"
        ],
        [
         "49",
         "13 Office/retail",
         "1"
        ]
       ],
       "shape": {
        "columns": 2,
        "rows": 4261
       }
      },
      "text/html": [
       "<div>\n",
       "<style scoped>\n",
       "    .dataframe tbody tr th:only-of-type {\n",
       "        vertical-align: middle;\n",
       "    }\n",
       "\n",
       "    .dataframe tbody tr th {\n",
       "        vertical-align: top;\n",
       "    }\n",
       "\n",
       "    .dataframe thead th {\n",
       "        text-align: right;\n",
       "    }\n",
       "</style>\n",
       "<table border=\"1\" class=\"dataframe\">\n",
       "  <thead>\n",
       "    <tr style=\"text-align: right;\">\n",
       "      <th></th>\n",
       "      <th>Proposed Use</th>\n",
       "      <th>Count</th>\n",
       "    </tr>\n",
       "  </thead>\n",
       "  <tbody>\n",
       "    <tr>\n",
       "      <th>0</th>\n",
       "      <td>(Oregonian) Press Blocks (CXd)</td>\n",
       "      <td>1</td>\n",
       "    </tr>\n",
       "    <tr>\n",
       "      <th>1</th>\n",
       "      <td>+/- 5,000 SF building, Tae Kwon Do School</td>\n",
       "      <td>1</td>\n",
       "    </tr>\n",
       "    <tr>\n",
       "      <th>2</th>\n",
       "      <td>0</td>\n",
       "      <td>5</td>\n",
       "    </tr>\n",
       "    <tr>\n",
       "      <th>3</th>\n",
       "      <td>1 SFR</td>\n",
       "      <td>1</td>\n",
       "    </tr>\n",
       "    <tr>\n",
       "      <th>4</th>\n",
       "      <td>1,000,000 SF and 200,000 SF warehouses</td>\n",
       "      <td>1</td>\n",
       "    </tr>\n",
       "    <tr>\n",
       "      <th>...</th>\n",
       "      <td>...</td>\n",
       "      <td>...</td>\n",
       "    </tr>\n",
       "    <tr>\n",
       "      <th>4256</th>\n",
       "      <td>warehouse</td>\n",
       "      <td>4</td>\n",
       "    </tr>\n",
       "    <tr>\n",
       "      <th>4257</th>\n",
       "      <td>warehouses</td>\n",
       "      <td>1</td>\n",
       "    </tr>\n",
       "    <tr>\n",
       "      <th>4258</th>\n",
       "      <td>xx-unit MFR community (xx)</td>\n",
       "      <td>1</td>\n",
       "    </tr>\n",
       "    <tr>\n",
       "      <th>4259</th>\n",
       "      <td>xxx-unit MFR Community</td>\n",
       "      <td>1</td>\n",
       "    </tr>\n",
       "    <tr>\n",
       "      <th>4260</th>\n",
       "      <td>~34-unit apartment building</td>\n",
       "      <td>1</td>\n",
       "    </tr>\n",
       "  </tbody>\n",
       "</table>\n",
       "<p>4261 rows × 2 columns</p>\n",
       "</div>"
      ],
      "text/plain": [
       "                                   Proposed Use  Count\n",
       "0                (Oregonian) Press Blocks (CXd)      1\n",
       "1     +/- 5,000 SF building, Tae Kwon Do School      1\n",
       "2                                             0      5\n",
       "3                                         1 SFR      1\n",
       "4        1,000,000 SF and 200,000 SF warehouses      1\n",
       "...                                         ...    ...\n",
       "4256                                  warehouse      4\n",
       "4257                                 warehouses      1\n",
       "4258                 xx-unit MFR community (xx)      1\n",
       "4259                     xxx-unit MFR Community      1\n",
       "4260                ~34-unit apartment building      1\n",
       "\n",
       "[4261 rows x 2 columns]"
      ]
     },
     "execution_count": 21,
     "metadata": {},
     "output_type": "execute_result"
    }
   ],
   "source": [
    "sales_summary = sales.groupby(['Proposed Use']).size().reset_index(name='Count')\n",
    "sales_summary"
   ]
  },
  {
   "cell_type": "code",
   "execution_count": 19,
   "id": "34ab1fca",
   "metadata": {},
   "outputs": [
    {
     "ename": "KeyError",
     "evalue": "'Proposed Use'",
     "output_type": "error",
     "traceback": [
      "\u001b[1;31m---------------------------------------------------------------------------\u001b[0m",
      "\u001b[1;31mKeyError\u001b[0m                                  Traceback (most recent call last)",
      "Cell \u001b[1;32mIn[19], line 3\u001b[0m\n\u001b[0;32m      1\u001b[0m \u001b[38;5;66;03m# take inspiration from this code sales_summary = sales.groupby(['Property Subtype']).size().reset_index(name='Count')\u001b[39;00m\n\u001b[0;32m      2\u001b[0m \u001b[38;5;66;03m# use [Proposed Use]\u001b[39;00m\n\u001b[1;32m----> 3\u001b[0m leases_summary \u001b[38;5;241m=\u001b[39m \u001b[43mleases\u001b[49m\u001b[38;5;241;43m.\u001b[39;49m\u001b[43mgroupby\u001b[49m\u001b[43m(\u001b[49m\u001b[43m[\u001b[49m\u001b[38;5;124;43m'\u001b[39;49m\u001b[38;5;124;43mProposed Use\u001b[39;49m\u001b[38;5;124;43m'\u001b[39;49m\u001b[43m]\u001b[49m\u001b[43m)\u001b[49m\u001b[38;5;241m.\u001b[39msize()\u001b[38;5;241m.\u001b[39mreset_index(name\u001b[38;5;241m=\u001b[39m\u001b[38;5;124m'\u001b[39m\u001b[38;5;124mCount\u001b[39m\u001b[38;5;124m'\u001b[39m)\n\u001b[0;32m      4\u001b[0m leases_summary\n",
      "File \u001b[1;32m~\\AppData\\Local\\Packages\\PythonSoftwareFoundation.Python.3.11_qbz5n2kfra8p0\\LocalCache\\local-packages\\Python311\\site-packages\\pandas\\core\\frame.py:9183\u001b[0m, in \u001b[0;36mDataFrame.groupby\u001b[1;34m(self, by, axis, level, as_index, sort, group_keys, observed, dropna)\u001b[0m\n\u001b[0;32m   9180\u001b[0m \u001b[38;5;28;01mif\u001b[39;00m level \u001b[38;5;129;01mis\u001b[39;00m \u001b[38;5;28;01mNone\u001b[39;00m \u001b[38;5;129;01mand\u001b[39;00m by \u001b[38;5;129;01mis\u001b[39;00m \u001b[38;5;28;01mNone\u001b[39;00m:\n\u001b[0;32m   9181\u001b[0m     \u001b[38;5;28;01mraise\u001b[39;00m \u001b[38;5;167;01mTypeError\u001b[39;00m(\u001b[38;5;124m\"\u001b[39m\u001b[38;5;124mYou have to supply one of \u001b[39m\u001b[38;5;124m'\u001b[39m\u001b[38;5;124mby\u001b[39m\u001b[38;5;124m'\u001b[39m\u001b[38;5;124m and \u001b[39m\u001b[38;5;124m'\u001b[39m\u001b[38;5;124mlevel\u001b[39m\u001b[38;5;124m'\u001b[39m\u001b[38;5;124m\"\u001b[39m)\n\u001b[1;32m-> 9183\u001b[0m \u001b[38;5;28;01mreturn\u001b[39;00m \u001b[43mDataFrameGroupBy\u001b[49m\u001b[43m(\u001b[49m\n\u001b[0;32m   9184\u001b[0m \u001b[43m    \u001b[49m\u001b[43mobj\u001b[49m\u001b[38;5;241;43m=\u001b[39;49m\u001b[38;5;28;43mself\u001b[39;49m\u001b[43m,\u001b[49m\n\u001b[0;32m   9185\u001b[0m \u001b[43m    \u001b[49m\u001b[43mkeys\u001b[49m\u001b[38;5;241;43m=\u001b[39;49m\u001b[43mby\u001b[49m\u001b[43m,\u001b[49m\n\u001b[0;32m   9186\u001b[0m \u001b[43m    \u001b[49m\u001b[43maxis\u001b[49m\u001b[38;5;241;43m=\u001b[39;49m\u001b[43maxis\u001b[49m\u001b[43m,\u001b[49m\n\u001b[0;32m   9187\u001b[0m \u001b[43m    \u001b[49m\u001b[43mlevel\u001b[49m\u001b[38;5;241;43m=\u001b[39;49m\u001b[43mlevel\u001b[49m\u001b[43m,\u001b[49m\n\u001b[0;32m   9188\u001b[0m \u001b[43m    \u001b[49m\u001b[43mas_index\u001b[49m\u001b[38;5;241;43m=\u001b[39;49m\u001b[43mas_index\u001b[49m\u001b[43m,\u001b[49m\n\u001b[0;32m   9189\u001b[0m \u001b[43m    \u001b[49m\u001b[43msort\u001b[49m\u001b[38;5;241;43m=\u001b[39;49m\u001b[43msort\u001b[49m\u001b[43m,\u001b[49m\n\u001b[0;32m   9190\u001b[0m \u001b[43m    \u001b[49m\u001b[43mgroup_keys\u001b[49m\u001b[38;5;241;43m=\u001b[39;49m\u001b[43mgroup_keys\u001b[49m\u001b[43m,\u001b[49m\n\u001b[0;32m   9191\u001b[0m \u001b[43m    \u001b[49m\u001b[43mobserved\u001b[49m\u001b[38;5;241;43m=\u001b[39;49m\u001b[43mobserved\u001b[49m\u001b[43m,\u001b[49m\n\u001b[0;32m   9192\u001b[0m \u001b[43m    \u001b[49m\u001b[43mdropna\u001b[49m\u001b[38;5;241;43m=\u001b[39;49m\u001b[43mdropna\u001b[49m\u001b[43m,\u001b[49m\n\u001b[0;32m   9193\u001b[0m \u001b[43m\u001b[49m\u001b[43m)\u001b[49m\n",
      "File \u001b[1;32m~\\AppData\\Local\\Packages\\PythonSoftwareFoundation.Python.3.11_qbz5n2kfra8p0\\LocalCache\\local-packages\\Python311\\site-packages\\pandas\\core\\groupby\\groupby.py:1329\u001b[0m, in \u001b[0;36mGroupBy.__init__\u001b[1;34m(self, obj, keys, axis, level, grouper, exclusions, selection, as_index, sort, group_keys, observed, dropna)\u001b[0m\n\u001b[0;32m   1326\u001b[0m \u001b[38;5;28mself\u001b[39m\u001b[38;5;241m.\u001b[39mdropna \u001b[38;5;241m=\u001b[39m dropna\n\u001b[0;32m   1328\u001b[0m \u001b[38;5;28;01mif\u001b[39;00m grouper \u001b[38;5;129;01mis\u001b[39;00m \u001b[38;5;28;01mNone\u001b[39;00m:\n\u001b[1;32m-> 1329\u001b[0m     grouper, exclusions, obj \u001b[38;5;241m=\u001b[39m \u001b[43mget_grouper\u001b[49m\u001b[43m(\u001b[49m\n\u001b[0;32m   1330\u001b[0m \u001b[43m        \u001b[49m\u001b[43mobj\u001b[49m\u001b[43m,\u001b[49m\n\u001b[0;32m   1331\u001b[0m \u001b[43m        \u001b[49m\u001b[43mkeys\u001b[49m\u001b[43m,\u001b[49m\n\u001b[0;32m   1332\u001b[0m \u001b[43m        \u001b[49m\u001b[43maxis\u001b[49m\u001b[38;5;241;43m=\u001b[39;49m\u001b[43maxis\u001b[49m\u001b[43m,\u001b[49m\n\u001b[0;32m   1333\u001b[0m \u001b[43m        \u001b[49m\u001b[43mlevel\u001b[49m\u001b[38;5;241;43m=\u001b[39;49m\u001b[43mlevel\u001b[49m\u001b[43m,\u001b[49m\n\u001b[0;32m   1334\u001b[0m \u001b[43m        \u001b[49m\u001b[43msort\u001b[49m\u001b[38;5;241;43m=\u001b[39;49m\u001b[43msort\u001b[49m\u001b[43m,\u001b[49m\n\u001b[0;32m   1335\u001b[0m \u001b[43m        \u001b[49m\u001b[43mobserved\u001b[49m\u001b[38;5;241;43m=\u001b[39;49m\u001b[38;5;28;43;01mFalse\u001b[39;49;00m\u001b[43m \u001b[49m\u001b[38;5;28;43;01mif\u001b[39;49;00m\u001b[43m \u001b[49m\u001b[43mobserved\u001b[49m\u001b[43m \u001b[49m\u001b[38;5;129;43;01mis\u001b[39;49;00m\u001b[43m \u001b[49m\u001b[43mlib\u001b[49m\u001b[38;5;241;43m.\u001b[39;49m\u001b[43mno_default\u001b[49m\u001b[43m \u001b[49m\u001b[38;5;28;43;01melse\u001b[39;49;00m\u001b[43m \u001b[49m\u001b[43mobserved\u001b[49m\u001b[43m,\u001b[49m\n\u001b[0;32m   1336\u001b[0m \u001b[43m        \u001b[49m\u001b[43mdropna\u001b[49m\u001b[38;5;241;43m=\u001b[39;49m\u001b[38;5;28;43mself\u001b[39;49m\u001b[38;5;241;43m.\u001b[39;49m\u001b[43mdropna\u001b[49m\u001b[43m,\u001b[49m\n\u001b[0;32m   1337\u001b[0m \u001b[43m    \u001b[49m\u001b[43m)\u001b[49m\n\u001b[0;32m   1339\u001b[0m \u001b[38;5;28;01mif\u001b[39;00m observed \u001b[38;5;129;01mis\u001b[39;00m lib\u001b[38;5;241m.\u001b[39mno_default:\n\u001b[0;32m   1340\u001b[0m     \u001b[38;5;28;01mif\u001b[39;00m \u001b[38;5;28many\u001b[39m(ping\u001b[38;5;241m.\u001b[39m_passed_categorical \u001b[38;5;28;01mfor\u001b[39;00m ping \u001b[38;5;129;01min\u001b[39;00m grouper\u001b[38;5;241m.\u001b[39mgroupings):\n",
      "File \u001b[1;32m~\\AppData\\Local\\Packages\\PythonSoftwareFoundation.Python.3.11_qbz5n2kfra8p0\\LocalCache\\local-packages\\Python311\\site-packages\\pandas\\core\\groupby\\grouper.py:1043\u001b[0m, in \u001b[0;36mget_grouper\u001b[1;34m(obj, key, axis, level, sort, observed, validate, dropna)\u001b[0m\n\u001b[0;32m   1041\u001b[0m         in_axis, level, gpr \u001b[38;5;241m=\u001b[39m \u001b[38;5;28;01mFalse\u001b[39;00m, gpr, \u001b[38;5;28;01mNone\u001b[39;00m\n\u001b[0;32m   1042\u001b[0m     \u001b[38;5;28;01melse\u001b[39;00m:\n\u001b[1;32m-> 1043\u001b[0m         \u001b[38;5;28;01mraise\u001b[39;00m \u001b[38;5;167;01mKeyError\u001b[39;00m(gpr)\n\u001b[0;32m   1044\u001b[0m \u001b[38;5;28;01melif\u001b[39;00m \u001b[38;5;28misinstance\u001b[39m(gpr, Grouper) \u001b[38;5;129;01mand\u001b[39;00m gpr\u001b[38;5;241m.\u001b[39mkey \u001b[38;5;129;01mis\u001b[39;00m \u001b[38;5;129;01mnot\u001b[39;00m \u001b[38;5;28;01mNone\u001b[39;00m:\n\u001b[0;32m   1045\u001b[0m     \u001b[38;5;66;03m# Add key to exclusions\u001b[39;00m\n\u001b[0;32m   1046\u001b[0m     exclusions\u001b[38;5;241m.\u001b[39madd(gpr\u001b[38;5;241m.\u001b[39mkey)\n",
      "\u001b[1;31mKeyError\u001b[0m: 'Proposed Use'"
     ]
    }
   ],
   "source": [
    "\n",
    "# take inspiration from this code sales_summary = sales.groupby(['Property Subtype']).size().reset_index(name='Count')\n",
    "# use [Proposed Use]\n",
    "leases_summary = leases.groupby(['Proposed Use']).size().reset_index(name='Count')\n",
    "leases_summary"
   ]
  },
  {
   "cell_type": "code",
   "execution_count": 18,
   "id": "3ee4a238",
   "metadata": {},
   "outputs": [
    {
     "data": {
      "application/vnd.microsoft.datawrangler.viewer.v0+json": {
       "columns": [
        {
         "name": "index",
         "rawType": "int64",
         "type": "integer"
        },
        {
         "name": "Property Subtype",
         "rawType": "object",
         "type": "string"
        },
        {
         "name": "Count",
         "rawType": "int64",
         "type": "integer"
        }
       ],
       "conversionMethod": "pd.DataFrame",
       "ref": "27c3015e-442c-492d-8280-111fb5002a48",
       "rows": [
        [
         "0",
         "Apartments",
         "96603"
        ],
        [
         "1",
         "Assembly/Meeting Place",
         "2146"
        ],
        [
         "2",
         "Automotive",
         "13323"
        ],
        [
         "3",
         "Bank",
         "1496"
        ],
        [
         "4",
         "Business Park",
         "2479"
        ],
        [
         "5",
         "Communication/Data Center",
         "564"
        ],
        [
         "6",
         "Community Shopping Center",
         "1570"
        ],
        [
         "7",
         "Community/Recreation Center",
         "684"
        ],
        [
         "8",
         "Condominium",
         "10213"
        ],
        [
         "9",
         "Convenience/Strip Center",
         "7016"
        ],
        [
         "10",
         "Creative",
         "235"
        ],
        [
         "11",
         "Day Care Facility",
         "881"
        ],
        [
         "12",
         "Department Store",
         "1127"
        ],
        [
         "13",
         "Drive Thru",
         "62"
        ],
        [
         "14",
         "Educational/School",
         "2149"
        ],
        [
         "15",
         "Financial Building",
         "2922"
        ],
        [
         "16",
         "Flex/R&D",
         "22733"
        ],
        [
         "17",
         "Freestanding",
         "9983"
        ],
        [
         "18",
         "Fuel & Service Station",
         "2788"
        ],
        [
         "19",
         "Funeral/Mortuary",
         "529"
        ],
        [
         "20",
         "General Retail",
         "27493"
        ],
        [
         "21",
         "Heavy Industrial",
         "566"
        ],
        [
         "22",
         "Hospital/Healthcare Facility",
         "516"
        ],
        [
         "23",
         "Hospitality Related",
         "9865"
        ],
        [
         "24",
         "Housing",
         "83"
        ],
        [
         "25",
         "Industrial Outdoor Storage",
         "1042"
        ],
        [
         "26",
         "Inline",
         "152"
        ],
        [
         "27",
         "Life Science/Lab",
         "1832"
        ],
        [
         "28",
         "Light Industrial",
         "7813"
        ],
        [
         "29",
         "Live/Work",
         "16"
        ],
        [
         "30",
         "Manufacturing",
         "7689"
        ],
        [
         "31",
         "Medical/Healthcare",
         "22585"
        ],
        [
         "32",
         "Mixed-Use",
         "21812"
        ],
        [
         "33",
         "Mobile Home Park",
         "2794"
        ],
        [
         "34",
         "Municipality/Public Service",
         "1327"
        ],
        [
         "35",
         "Neighborhood Shopping Center",
         "5719"
        ],
        [
         "36",
         "Outlet",
         "1301"
        ],
        [
         "37",
         "Parking",
         "5494"
        ],
        [
         "38",
         "Processing",
         "655"
        ],
        [
         "39",
         "Professional Building",
         "538"
        ],
        [
         "40",
         "Refrigerated/Cold Storage",
         "1010"
        ],
        [
         "41",
         "Restaurant/Bar",
         "21720"
        ],
        [
         "42",
         "Self-Storage",
         "4586"
        ],
        [
         "43",
         "Senior Housing",
         "840"
        ],
        [
         "44",
         "Shopping Centers",
         "3287"
        ],
        [
         "45",
         "Showroom",
         "294"
        ],
        [
         "46",
         "Special Industrial",
         "1156"
        ],
        [
         "47",
         "Special Purpose",
         "2086"
        ],
        [
         "48",
         "Sports & Recreation",
         "2591"
        ],
        [
         "49",
         "Street Retail/Storefront",
         "1673"
        ]
       ],
       "shape": {
        "columns": 2,
        "rows": 56
       }
      },
      "text/html": [
       "<div>\n",
       "<style scoped>\n",
       "    .dataframe tbody tr th:only-of-type {\n",
       "        vertical-align: middle;\n",
       "    }\n",
       "\n",
       "    .dataframe tbody tr th {\n",
       "        vertical-align: top;\n",
       "    }\n",
       "\n",
       "    .dataframe thead th {\n",
       "        text-align: right;\n",
       "    }\n",
       "</style>\n",
       "<table border=\"1\" class=\"dataframe\">\n",
       "  <thead>\n",
       "    <tr style=\"text-align: right;\">\n",
       "      <th></th>\n",
       "      <th>Property Subtype</th>\n",
       "      <th>Count</th>\n",
       "    </tr>\n",
       "  </thead>\n",
       "  <tbody>\n",
       "    <tr>\n",
       "      <th>0</th>\n",
       "      <td>Apartments</td>\n",
       "      <td>96603</td>\n",
       "    </tr>\n",
       "    <tr>\n",
       "      <th>1</th>\n",
       "      <td>Assembly/Meeting Place</td>\n",
       "      <td>2146</td>\n",
       "    </tr>\n",
       "    <tr>\n",
       "      <th>2</th>\n",
       "      <td>Automotive</td>\n",
       "      <td>13323</td>\n",
       "    </tr>\n",
       "    <tr>\n",
       "      <th>3</th>\n",
       "      <td>Bank</td>\n",
       "      <td>1496</td>\n",
       "    </tr>\n",
       "    <tr>\n",
       "      <th>4</th>\n",
       "      <td>Business Park</td>\n",
       "      <td>2479</td>\n",
       "    </tr>\n",
       "    <tr>\n",
       "      <th>5</th>\n",
       "      <td>Communication/Data Center</td>\n",
       "      <td>564</td>\n",
       "    </tr>\n",
       "    <tr>\n",
       "      <th>6</th>\n",
       "      <td>Community Shopping Center</td>\n",
       "      <td>1570</td>\n",
       "    </tr>\n",
       "    <tr>\n",
       "      <th>7</th>\n",
       "      <td>Community/Recreation Center</td>\n",
       "      <td>684</td>\n",
       "    </tr>\n",
       "    <tr>\n",
       "      <th>8</th>\n",
       "      <td>Condominium</td>\n",
       "      <td>10213</td>\n",
       "    </tr>\n",
       "    <tr>\n",
       "      <th>9</th>\n",
       "      <td>Convenience/Strip Center</td>\n",
       "      <td>7016</td>\n",
       "    </tr>\n",
       "    <tr>\n",
       "      <th>10</th>\n",
       "      <td>Creative</td>\n",
       "      <td>235</td>\n",
       "    </tr>\n",
       "    <tr>\n",
       "      <th>11</th>\n",
       "      <td>Day Care Facility</td>\n",
       "      <td>881</td>\n",
       "    </tr>\n",
       "    <tr>\n",
       "      <th>12</th>\n",
       "      <td>Department Store</td>\n",
       "      <td>1127</td>\n",
       "    </tr>\n",
       "    <tr>\n",
       "      <th>13</th>\n",
       "      <td>Drive Thru</td>\n",
       "      <td>62</td>\n",
       "    </tr>\n",
       "    <tr>\n",
       "      <th>14</th>\n",
       "      <td>Educational/School</td>\n",
       "      <td>2149</td>\n",
       "    </tr>\n",
       "    <tr>\n",
       "      <th>15</th>\n",
       "      <td>Financial Building</td>\n",
       "      <td>2922</td>\n",
       "    </tr>\n",
       "    <tr>\n",
       "      <th>16</th>\n",
       "      <td>Flex/R&amp;D</td>\n",
       "      <td>22733</td>\n",
       "    </tr>\n",
       "    <tr>\n",
       "      <th>17</th>\n",
       "      <td>Freestanding</td>\n",
       "      <td>9983</td>\n",
       "    </tr>\n",
       "    <tr>\n",
       "      <th>18</th>\n",
       "      <td>Fuel &amp; Service Station</td>\n",
       "      <td>2788</td>\n",
       "    </tr>\n",
       "    <tr>\n",
       "      <th>19</th>\n",
       "      <td>Funeral/Mortuary</td>\n",
       "      <td>529</td>\n",
       "    </tr>\n",
       "    <tr>\n",
       "      <th>20</th>\n",
       "      <td>General Retail</td>\n",
       "      <td>27493</td>\n",
       "    </tr>\n",
       "    <tr>\n",
       "      <th>21</th>\n",
       "      <td>Heavy Industrial</td>\n",
       "      <td>566</td>\n",
       "    </tr>\n",
       "    <tr>\n",
       "      <th>22</th>\n",
       "      <td>Hospital/Healthcare Facility</td>\n",
       "      <td>516</td>\n",
       "    </tr>\n",
       "    <tr>\n",
       "      <th>23</th>\n",
       "      <td>Hospitality Related</td>\n",
       "      <td>9865</td>\n",
       "    </tr>\n",
       "    <tr>\n",
       "      <th>24</th>\n",
       "      <td>Housing</td>\n",
       "      <td>83</td>\n",
       "    </tr>\n",
       "    <tr>\n",
       "      <th>25</th>\n",
       "      <td>Industrial Outdoor Storage</td>\n",
       "      <td>1042</td>\n",
       "    </tr>\n",
       "    <tr>\n",
       "      <th>26</th>\n",
       "      <td>Inline</td>\n",
       "      <td>152</td>\n",
       "    </tr>\n",
       "    <tr>\n",
       "      <th>27</th>\n",
       "      <td>Life Science/Lab</td>\n",
       "      <td>1832</td>\n",
       "    </tr>\n",
       "    <tr>\n",
       "      <th>28</th>\n",
       "      <td>Light Industrial</td>\n",
       "      <td>7813</td>\n",
       "    </tr>\n",
       "    <tr>\n",
       "      <th>29</th>\n",
       "      <td>Live/Work</td>\n",
       "      <td>16</td>\n",
       "    </tr>\n",
       "    <tr>\n",
       "      <th>30</th>\n",
       "      <td>Manufacturing</td>\n",
       "      <td>7689</td>\n",
       "    </tr>\n",
       "    <tr>\n",
       "      <th>31</th>\n",
       "      <td>Medical/Healthcare</td>\n",
       "      <td>22585</td>\n",
       "    </tr>\n",
       "    <tr>\n",
       "      <th>32</th>\n",
       "      <td>Mixed-Use</td>\n",
       "      <td>21812</td>\n",
       "    </tr>\n",
       "    <tr>\n",
       "      <th>33</th>\n",
       "      <td>Mobile Home Park</td>\n",
       "      <td>2794</td>\n",
       "    </tr>\n",
       "    <tr>\n",
       "      <th>34</th>\n",
       "      <td>Municipality/Public Service</td>\n",
       "      <td>1327</td>\n",
       "    </tr>\n",
       "    <tr>\n",
       "      <th>35</th>\n",
       "      <td>Neighborhood Shopping Center</td>\n",
       "      <td>5719</td>\n",
       "    </tr>\n",
       "    <tr>\n",
       "      <th>36</th>\n",
       "      <td>Outlet</td>\n",
       "      <td>1301</td>\n",
       "    </tr>\n",
       "    <tr>\n",
       "      <th>37</th>\n",
       "      <td>Parking</td>\n",
       "      <td>5494</td>\n",
       "    </tr>\n",
       "    <tr>\n",
       "      <th>38</th>\n",
       "      <td>Processing</td>\n",
       "      <td>655</td>\n",
       "    </tr>\n",
       "    <tr>\n",
       "      <th>39</th>\n",
       "      <td>Professional Building</td>\n",
       "      <td>538</td>\n",
       "    </tr>\n",
       "    <tr>\n",
       "      <th>40</th>\n",
       "      <td>Refrigerated/Cold Storage</td>\n",
       "      <td>1010</td>\n",
       "    </tr>\n",
       "    <tr>\n",
       "      <th>41</th>\n",
       "      <td>Restaurant/Bar</td>\n",
       "      <td>21720</td>\n",
       "    </tr>\n",
       "    <tr>\n",
       "      <th>42</th>\n",
       "      <td>Self-Storage</td>\n",
       "      <td>4586</td>\n",
       "    </tr>\n",
       "    <tr>\n",
       "      <th>43</th>\n",
       "      <td>Senior Housing</td>\n",
       "      <td>840</td>\n",
       "    </tr>\n",
       "    <tr>\n",
       "      <th>44</th>\n",
       "      <td>Shopping Centers</td>\n",
       "      <td>3287</td>\n",
       "    </tr>\n",
       "    <tr>\n",
       "      <th>45</th>\n",
       "      <td>Showroom</td>\n",
       "      <td>294</td>\n",
       "    </tr>\n",
       "    <tr>\n",
       "      <th>46</th>\n",
       "      <td>Special Industrial</td>\n",
       "      <td>1156</td>\n",
       "    </tr>\n",
       "    <tr>\n",
       "      <th>47</th>\n",
       "      <td>Special Purpose</td>\n",
       "      <td>2086</td>\n",
       "    </tr>\n",
       "    <tr>\n",
       "      <th>48</th>\n",
       "      <td>Sports &amp; Recreation</td>\n",
       "      <td>2591</td>\n",
       "    </tr>\n",
       "    <tr>\n",
       "      <th>49</th>\n",
       "      <td>Street Retail/Storefront</td>\n",
       "      <td>1673</td>\n",
       "    </tr>\n",
       "    <tr>\n",
       "      <th>50</th>\n",
       "      <td>Student Housing</td>\n",
       "      <td>939</td>\n",
       "    </tr>\n",
       "    <tr>\n",
       "      <th>51</th>\n",
       "      <td>Super-Regional Center/Mall</td>\n",
       "      <td>8248</td>\n",
       "    </tr>\n",
       "    <tr>\n",
       "      <th>52</th>\n",
       "      <td>Transportation</td>\n",
       "      <td>490</td>\n",
       "    </tr>\n",
       "    <tr>\n",
       "      <th>53</th>\n",
       "      <td>Under Construction</td>\n",
       "      <td>26</td>\n",
       "    </tr>\n",
       "    <tr>\n",
       "      <th>54</th>\n",
       "      <td>Vacant Land</td>\n",
       "      <td>22973</td>\n",
       "    </tr>\n",
       "    <tr>\n",
       "      <th>55</th>\n",
       "      <td>Warehouse/Distribution</td>\n",
       "      <td>48725</td>\n",
       "    </tr>\n",
       "  </tbody>\n",
       "</table>\n",
       "</div>"
      ],
      "text/plain": [
       "                Property Subtype  Count\n",
       "0                     Apartments  96603\n",
       "1         Assembly/Meeting Place   2146\n",
       "2                     Automotive  13323\n",
       "3                           Bank   1496\n",
       "4                  Business Park   2479\n",
       "5      Communication/Data Center    564\n",
       "6      Community Shopping Center   1570\n",
       "7    Community/Recreation Center    684\n",
       "8                    Condominium  10213\n",
       "9       Convenience/Strip Center   7016\n",
       "10                      Creative    235\n",
       "11             Day Care Facility    881\n",
       "12              Department Store   1127\n",
       "13                    Drive Thru     62\n",
       "14            Educational/School   2149\n",
       "15            Financial Building   2922\n",
       "16                      Flex/R&D  22733\n",
       "17                  Freestanding   9983\n",
       "18        Fuel & Service Station   2788\n",
       "19              Funeral/Mortuary    529\n",
       "20                General Retail  27493\n",
       "21              Heavy Industrial    566\n",
       "22  Hospital/Healthcare Facility    516\n",
       "23           Hospitality Related   9865\n",
       "24                       Housing     83\n",
       "25    Industrial Outdoor Storage   1042\n",
       "26                        Inline    152\n",
       "27              Life Science/Lab   1832\n",
       "28              Light Industrial   7813\n",
       "29                     Live/Work     16\n",
       "30                 Manufacturing   7689\n",
       "31            Medical/Healthcare  22585\n",
       "32                     Mixed-Use  21812\n",
       "33              Mobile Home Park   2794\n",
       "34   Municipality/Public Service   1327\n",
       "35  Neighborhood Shopping Center   5719\n",
       "36                        Outlet   1301\n",
       "37                       Parking   5494\n",
       "38                    Processing    655\n",
       "39         Professional Building    538\n",
       "40     Refrigerated/Cold Storage   1010\n",
       "41                Restaurant/Bar  21720\n",
       "42                  Self-Storage   4586\n",
       "43                Senior Housing    840\n",
       "44              Shopping Centers   3287\n",
       "45                      Showroom    294\n",
       "46            Special Industrial   1156\n",
       "47               Special Purpose   2086\n",
       "48           Sports & Recreation   2591\n",
       "49      Street Retail/Storefront   1673\n",
       "50               Student Housing    939\n",
       "51    Super-Regional Center/Mall   8248\n",
       "52                Transportation    490\n",
       "53            Under Construction     26\n",
       "54                   Vacant Land  22973\n",
       "55        Warehouse/Distribution  48725"
      ]
     },
     "execution_count": 18,
     "metadata": {},
     "output_type": "execute_result"
    }
   ],
   "source": [
    "sales_summary"
   ]
  },
  {
   "cell_type": "code",
   "execution_count": 14,
   "id": "172a8731",
   "metadata": {},
   "outputs": [
    {
     "data": {
      "application/vnd.microsoft.datawrangler.viewer.v0+json": {
       "columns": [
        {
         "name": "index",
         "rawType": "int64",
         "type": "integer"
        },
        {
         "name": "Property Subtype",
         "rawType": "object",
         "type": "string"
        },
        {
         "name": "Count",
         "rawType": "int64",
         "type": "integer"
        }
       ],
       "conversionMethod": "pd.DataFrame",
       "ref": "0450846b-0856-4146-b261-aef6e0c62d0a",
       "rows": [
        [
         "0",
         "Apartments",
         "16741"
        ],
        [
         "1",
         "Assembly/Meeting Place",
         "342"
        ],
        [
         "2",
         "Automotive",
         "4516"
        ],
        [
         "3",
         "Bank",
         "939"
        ],
        [
         "4",
         "Business Park",
         "19554"
        ],
        [
         "5",
         "Communication/Data Center",
         "1041"
        ],
        [
         "6",
         "Community Shopping Center",
         "7211"
        ],
        [
         "7",
         "Community/Recreation Center",
         "1404"
        ],
        [
         "8",
         "Condominium",
         "12734"
        ],
        [
         "9",
         "Convenience/Strip Center",
         "10426"
        ],
        [
         "10",
         "Creative",
         "4120"
        ],
        [
         "11",
         "Day Care Facility",
         "385"
        ],
        [
         "12",
         "Department Store",
         "1321"
        ],
        [
         "13",
         "Drive Thru",
         "64"
        ],
        [
         "14",
         "Educational/School",
         "3069"
        ],
        [
         "15",
         "Financial Building",
         "14298"
        ],
        [
         "16",
         "Flex/R&D",
         "112559"
        ],
        [
         "17",
         "Freestanding",
         "9308"
        ],
        [
         "18",
         "Fuel & Service Station",
         "983"
        ],
        [
         "19",
         "Funeral/Mortuary",
         "66"
        ],
        [
         "20",
         "General Retail",
         "34198"
        ],
        [
         "21",
         "Heavy Industrial",
         "706"
        ],
        [
         "22",
         "Hospital/Healthcare Facility",
         "400"
        ],
        [
         "23",
         "Hospitality Related",
         "3077"
        ],
        [
         "24",
         "Housing",
         "15"
        ],
        [
         "25",
         "Industrial Outdoor Storage",
         "574"
        ],
        [
         "26",
         "Inline",
         "1859"
        ],
        [
         "27",
         "Life Science/Lab",
         "18717"
        ],
        [
         "28",
         "Light Industrial",
         "15608"
        ],
        [
         "29",
         "Live/Work",
         "141"
        ],
        [
         "30",
         "Manufacturing",
         "17365"
        ],
        [
         "31",
         "Medical/Healthcare",
         "139366"
        ],
        [
         "32",
         "Mixed-Use",
         "67369"
        ],
        [
         "33",
         "Mobile Home Park",
         "349"
        ],
        [
         "34",
         "Municipality/Public Service",
         "1824"
        ],
        [
         "35",
         "Neighborhood Shopping Center",
         "17611"
        ],
        [
         "36",
         "Outlet",
         "1069"
        ],
        [
         "37",
         "Parking",
         "10794"
        ],
        [
         "38",
         "Processing",
         "496"
        ],
        [
         "39",
         "Professional Building",
         "860"
        ],
        [
         "40",
         "Refrigerated/Cold Storage",
         "2737"
        ],
        [
         "41",
         "Restaurant/Bar",
         "13523"
        ],
        [
         "42",
         "Self-Storage",
         "1206"
        ],
        [
         "43",
         "Senior Housing",
         "32"
        ],
        [
         "44",
         "Shopping Centers",
         "8796"
        ],
        [
         "45",
         "Showroom",
         "1632"
        ],
        [
         "46",
         "Special Industrial",
         "1744"
        ],
        [
         "47",
         "Special Purpose",
         "939"
        ],
        [
         "48",
         "Sports & Recreation",
         "4178"
        ],
        [
         "49",
         "Street Retail/Storefront",
         "2283"
        ]
       ],
       "shape": {
        "columns": 2,
        "rows": 56
       }
      },
      "text/html": [
       "<div>\n",
       "<style scoped>\n",
       "    .dataframe tbody tr th:only-of-type {\n",
       "        vertical-align: middle;\n",
       "    }\n",
       "\n",
       "    .dataframe tbody tr th {\n",
       "        vertical-align: top;\n",
       "    }\n",
       "\n",
       "    .dataframe thead th {\n",
       "        text-align: right;\n",
       "    }\n",
       "</style>\n",
       "<table border=\"1\" class=\"dataframe\">\n",
       "  <thead>\n",
       "    <tr style=\"text-align: right;\">\n",
       "      <th></th>\n",
       "      <th>Property Subtype</th>\n",
       "      <th>Count</th>\n",
       "    </tr>\n",
       "  </thead>\n",
       "  <tbody>\n",
       "    <tr>\n",
       "      <th>0</th>\n",
       "      <td>Apartments</td>\n",
       "      <td>16741</td>\n",
       "    </tr>\n",
       "    <tr>\n",
       "      <th>1</th>\n",
       "      <td>Assembly/Meeting Place</td>\n",
       "      <td>342</td>\n",
       "    </tr>\n",
       "    <tr>\n",
       "      <th>2</th>\n",
       "      <td>Automotive</td>\n",
       "      <td>4516</td>\n",
       "    </tr>\n",
       "    <tr>\n",
       "      <th>3</th>\n",
       "      <td>Bank</td>\n",
       "      <td>939</td>\n",
       "    </tr>\n",
       "    <tr>\n",
       "      <th>4</th>\n",
       "      <td>Business Park</td>\n",
       "      <td>19554</td>\n",
       "    </tr>\n",
       "    <tr>\n",
       "      <th>5</th>\n",
       "      <td>Communication/Data Center</td>\n",
       "      <td>1041</td>\n",
       "    </tr>\n",
       "    <tr>\n",
       "      <th>6</th>\n",
       "      <td>Community Shopping Center</td>\n",
       "      <td>7211</td>\n",
       "    </tr>\n",
       "    <tr>\n",
       "      <th>7</th>\n",
       "      <td>Community/Recreation Center</td>\n",
       "      <td>1404</td>\n",
       "    </tr>\n",
       "    <tr>\n",
       "      <th>8</th>\n",
       "      <td>Condominium</td>\n",
       "      <td>12734</td>\n",
       "    </tr>\n",
       "    <tr>\n",
       "      <th>9</th>\n",
       "      <td>Convenience/Strip Center</td>\n",
       "      <td>10426</td>\n",
       "    </tr>\n",
       "    <tr>\n",
       "      <th>10</th>\n",
       "      <td>Creative</td>\n",
       "      <td>4120</td>\n",
       "    </tr>\n",
       "    <tr>\n",
       "      <th>11</th>\n",
       "      <td>Day Care Facility</td>\n",
       "      <td>385</td>\n",
       "    </tr>\n",
       "    <tr>\n",
       "      <th>12</th>\n",
       "      <td>Department Store</td>\n",
       "      <td>1321</td>\n",
       "    </tr>\n",
       "    <tr>\n",
       "      <th>13</th>\n",
       "      <td>Drive Thru</td>\n",
       "      <td>64</td>\n",
       "    </tr>\n",
       "    <tr>\n",
       "      <th>14</th>\n",
       "      <td>Educational/School</td>\n",
       "      <td>3069</td>\n",
       "    </tr>\n",
       "    <tr>\n",
       "      <th>15</th>\n",
       "      <td>Financial Building</td>\n",
       "      <td>14298</td>\n",
       "    </tr>\n",
       "    <tr>\n",
       "      <th>16</th>\n",
       "      <td>Flex/R&amp;D</td>\n",
       "      <td>112559</td>\n",
       "    </tr>\n",
       "    <tr>\n",
       "      <th>17</th>\n",
       "      <td>Freestanding</td>\n",
       "      <td>9308</td>\n",
       "    </tr>\n",
       "    <tr>\n",
       "      <th>18</th>\n",
       "      <td>Fuel &amp; Service Station</td>\n",
       "      <td>983</td>\n",
       "    </tr>\n",
       "    <tr>\n",
       "      <th>19</th>\n",
       "      <td>Funeral/Mortuary</td>\n",
       "      <td>66</td>\n",
       "    </tr>\n",
       "    <tr>\n",
       "      <th>20</th>\n",
       "      <td>General Retail</td>\n",
       "      <td>34198</td>\n",
       "    </tr>\n",
       "    <tr>\n",
       "      <th>21</th>\n",
       "      <td>Heavy Industrial</td>\n",
       "      <td>706</td>\n",
       "    </tr>\n",
       "    <tr>\n",
       "      <th>22</th>\n",
       "      <td>Hospital/Healthcare Facility</td>\n",
       "      <td>400</td>\n",
       "    </tr>\n",
       "    <tr>\n",
       "      <th>23</th>\n",
       "      <td>Hospitality Related</td>\n",
       "      <td>3077</td>\n",
       "    </tr>\n",
       "    <tr>\n",
       "      <th>24</th>\n",
       "      <td>Housing</td>\n",
       "      <td>15</td>\n",
       "    </tr>\n",
       "    <tr>\n",
       "      <th>25</th>\n",
       "      <td>Industrial Outdoor Storage</td>\n",
       "      <td>574</td>\n",
       "    </tr>\n",
       "    <tr>\n",
       "      <th>26</th>\n",
       "      <td>Inline</td>\n",
       "      <td>1859</td>\n",
       "    </tr>\n",
       "    <tr>\n",
       "      <th>27</th>\n",
       "      <td>Life Science/Lab</td>\n",
       "      <td>18717</td>\n",
       "    </tr>\n",
       "    <tr>\n",
       "      <th>28</th>\n",
       "      <td>Light Industrial</td>\n",
       "      <td>15608</td>\n",
       "    </tr>\n",
       "    <tr>\n",
       "      <th>29</th>\n",
       "      <td>Live/Work</td>\n",
       "      <td>141</td>\n",
       "    </tr>\n",
       "    <tr>\n",
       "      <th>30</th>\n",
       "      <td>Manufacturing</td>\n",
       "      <td>17365</td>\n",
       "    </tr>\n",
       "    <tr>\n",
       "      <th>31</th>\n",
       "      <td>Medical/Healthcare</td>\n",
       "      <td>139366</td>\n",
       "    </tr>\n",
       "    <tr>\n",
       "      <th>32</th>\n",
       "      <td>Mixed-Use</td>\n",
       "      <td>67369</td>\n",
       "    </tr>\n",
       "    <tr>\n",
       "      <th>33</th>\n",
       "      <td>Mobile Home Park</td>\n",
       "      <td>349</td>\n",
       "    </tr>\n",
       "    <tr>\n",
       "      <th>34</th>\n",
       "      <td>Municipality/Public Service</td>\n",
       "      <td>1824</td>\n",
       "    </tr>\n",
       "    <tr>\n",
       "      <th>35</th>\n",
       "      <td>Neighborhood Shopping Center</td>\n",
       "      <td>17611</td>\n",
       "    </tr>\n",
       "    <tr>\n",
       "      <th>36</th>\n",
       "      <td>Outlet</td>\n",
       "      <td>1069</td>\n",
       "    </tr>\n",
       "    <tr>\n",
       "      <th>37</th>\n",
       "      <td>Parking</td>\n",
       "      <td>10794</td>\n",
       "    </tr>\n",
       "    <tr>\n",
       "      <th>38</th>\n",
       "      <td>Processing</td>\n",
       "      <td>496</td>\n",
       "    </tr>\n",
       "    <tr>\n",
       "      <th>39</th>\n",
       "      <td>Professional Building</td>\n",
       "      <td>860</td>\n",
       "    </tr>\n",
       "    <tr>\n",
       "      <th>40</th>\n",
       "      <td>Refrigerated/Cold Storage</td>\n",
       "      <td>2737</td>\n",
       "    </tr>\n",
       "    <tr>\n",
       "      <th>41</th>\n",
       "      <td>Restaurant/Bar</td>\n",
       "      <td>13523</td>\n",
       "    </tr>\n",
       "    <tr>\n",
       "      <th>42</th>\n",
       "      <td>Self-Storage</td>\n",
       "      <td>1206</td>\n",
       "    </tr>\n",
       "    <tr>\n",
       "      <th>43</th>\n",
       "      <td>Senior Housing</td>\n",
       "      <td>32</td>\n",
       "    </tr>\n",
       "    <tr>\n",
       "      <th>44</th>\n",
       "      <td>Shopping Centers</td>\n",
       "      <td>8796</td>\n",
       "    </tr>\n",
       "    <tr>\n",
       "      <th>45</th>\n",
       "      <td>Showroom</td>\n",
       "      <td>1632</td>\n",
       "    </tr>\n",
       "    <tr>\n",
       "      <th>46</th>\n",
       "      <td>Special Industrial</td>\n",
       "      <td>1744</td>\n",
       "    </tr>\n",
       "    <tr>\n",
       "      <th>47</th>\n",
       "      <td>Special Purpose</td>\n",
       "      <td>939</td>\n",
       "    </tr>\n",
       "    <tr>\n",
       "      <th>48</th>\n",
       "      <td>Sports &amp; Recreation</td>\n",
       "      <td>4178</td>\n",
       "    </tr>\n",
       "    <tr>\n",
       "      <th>49</th>\n",
       "      <td>Street Retail/Storefront</td>\n",
       "      <td>2283</td>\n",
       "    </tr>\n",
       "    <tr>\n",
       "      <th>50</th>\n",
       "      <td>Student Housing</td>\n",
       "      <td>54</td>\n",
       "    </tr>\n",
       "    <tr>\n",
       "      <th>51</th>\n",
       "      <td>Super-Regional Center/Mall</td>\n",
       "      <td>30946</td>\n",
       "    </tr>\n",
       "    <tr>\n",
       "      <th>52</th>\n",
       "      <td>Transportation</td>\n",
       "      <td>579</td>\n",
       "    </tr>\n",
       "    <tr>\n",
       "      <th>53</th>\n",
       "      <td>Under Construction</td>\n",
       "      <td>15</td>\n",
       "    </tr>\n",
       "    <tr>\n",
       "      <th>54</th>\n",
       "      <td>Vacant Land</td>\n",
       "      <td>10263</td>\n",
       "    </tr>\n",
       "    <tr>\n",
       "      <th>55</th>\n",
       "      <td>Warehouse/Distribution</td>\n",
       "      <td>132875</td>\n",
       "    </tr>\n",
       "  </tbody>\n",
       "</table>\n",
       "</div>"
      ],
      "text/plain": [
       "                Property Subtype   Count\n",
       "0                     Apartments   16741\n",
       "1         Assembly/Meeting Place     342\n",
       "2                     Automotive    4516\n",
       "3                           Bank     939\n",
       "4                  Business Park   19554\n",
       "5      Communication/Data Center    1041\n",
       "6      Community Shopping Center    7211\n",
       "7    Community/Recreation Center    1404\n",
       "8                    Condominium   12734\n",
       "9       Convenience/Strip Center   10426\n",
       "10                      Creative    4120\n",
       "11             Day Care Facility     385\n",
       "12              Department Store    1321\n",
       "13                    Drive Thru      64\n",
       "14            Educational/School    3069\n",
       "15            Financial Building   14298\n",
       "16                      Flex/R&D  112559\n",
       "17                  Freestanding    9308\n",
       "18        Fuel & Service Station     983\n",
       "19              Funeral/Mortuary      66\n",
       "20                General Retail   34198\n",
       "21              Heavy Industrial     706\n",
       "22  Hospital/Healthcare Facility     400\n",
       "23           Hospitality Related    3077\n",
       "24                       Housing      15\n",
       "25    Industrial Outdoor Storage     574\n",
       "26                        Inline    1859\n",
       "27              Life Science/Lab   18717\n",
       "28              Light Industrial   15608\n",
       "29                     Live/Work     141\n",
       "30                 Manufacturing   17365\n",
       "31            Medical/Healthcare  139366\n",
       "32                     Mixed-Use   67369\n",
       "33              Mobile Home Park     349\n",
       "34   Municipality/Public Service    1824\n",
       "35  Neighborhood Shopping Center   17611\n",
       "36                        Outlet    1069\n",
       "37                       Parking   10794\n",
       "38                    Processing     496\n",
       "39         Professional Building     860\n",
       "40     Refrigerated/Cold Storage    2737\n",
       "41                Restaurant/Bar   13523\n",
       "42                  Self-Storage    1206\n",
       "43                Senior Housing      32\n",
       "44              Shopping Centers    8796\n",
       "45                      Showroom    1632\n",
       "46            Special Industrial    1744\n",
       "47               Special Purpose     939\n",
       "48           Sports & Recreation    4178\n",
       "49      Street Retail/Storefront    2283\n",
       "50               Student Housing      54\n",
       "51    Super-Regional Center/Mall   30946\n",
       "52                Transportation     579\n",
       "53            Under Construction      15\n",
       "54                   Vacant Land   10263\n",
       "55        Warehouse/Distribution  132875"
      ]
     },
     "execution_count": 14,
     "metadata": {},
     "output_type": "execute_result"
    }
   ],
   "source": [
    "leases_summary = leases.groupby(['Property Subtype']).size().reset_index(name='Count')\n",
    "leases_summary"
   ]
  },
  {
   "cell_type": "code",
   "execution_count": null,
   "id": "3ddd78e6",
   "metadata": {},
   "outputs": [],
   "source": []
  },
  {
   "cell_type": "code",
   "execution_count": 15,
   "id": "f55ceffd",
   "metadata": {},
   "outputs": [
    {
     "name": "stdout",
     "output_type": "stream",
     "text": [
      "Property Subtypes in leases_summary:\n",
      "['Apartments', 'Assembly/Meeting Place', 'Automotive', 'Bank', 'Business Park', 'Communication/Data Center', 'Community Shopping Center', 'Community/Recreation Center', 'Condominium', 'Convenience/Strip Center', 'Creative', 'Day Care Facility', 'Department Store', 'Drive Thru', 'Educational/School', 'Financial Building', 'Flex/R&D', 'Freestanding', 'Fuel & Service Station', 'Funeral/Mortuary', 'General Retail', 'Heavy Industrial', 'Hospital/Healthcare Facility', 'Hospitality Related', 'Housing', 'Industrial Outdoor Storage', 'Inline', 'Life Science/Lab', 'Light Industrial', 'Live/Work', 'Manufacturing', 'Medical/Healthcare', 'Mixed-Use', 'Mobile Home Park', 'Municipality/Public Service', 'Neighborhood Shopping Center', 'Outlet', 'Parking', 'Processing', 'Professional Building', 'Refrigerated/Cold Storage', 'Restaurant/Bar', 'Self-Storage', 'Senior Housing', 'Shopping Centers', 'Showroom', 'Special Industrial', 'Special Purpose', 'Sports & Recreation', 'Street Retail/Storefront', 'Student Housing', 'Super-Regional Center/Mall', 'Transportation', 'Under Construction', 'Vacant Land', 'Warehouse/Distribution']\n",
      "\n",
      "Property Subtypes in sales_summary:\n",
      "['Apartments', 'Assembly/Meeting Place', 'Automotive', 'Bank', 'Business Park', 'Communication/Data Center', 'Community Shopping Center', 'Community/Recreation Center', 'Condominium', 'Convenience/Strip Center', 'Creative', 'Day Care Facility', 'Department Store', 'Drive Thru', 'Educational/School', 'Financial Building', 'Flex/R&D', 'Freestanding', 'Fuel & Service Station', 'Funeral/Mortuary', 'General Retail', 'Heavy Industrial', 'Hospital/Healthcare Facility', 'Hospitality Related', 'Housing', 'Industrial Outdoor Storage', 'Inline', 'Life Science/Lab', 'Light Industrial', 'Live/Work', 'Manufacturing', 'Medical/Healthcare', 'Mixed-Use', 'Mobile Home Park', 'Municipality/Public Service', 'Neighborhood Shopping Center', 'Outlet', 'Parking', 'Processing', 'Professional Building', 'Refrigerated/Cold Storage', 'Restaurant/Bar', 'Self-Storage', 'Senior Housing', 'Shopping Centers', 'Showroom', 'Special Industrial', 'Special Purpose', 'Sports & Recreation', 'Street Retail/Storefront', 'Student Housing', 'Super-Regional Center/Mall', 'Transportation', 'Under Construction', 'Vacant Land', 'Warehouse/Distribution']\n"
     ]
    }
   ],
   "source": [
    "# Print property subtypes from leases_summary\n",
    "print(\"Property Subtypes in leases_summary:\")\n",
    "print(leases_summary['Property Subtype'].tolist())\n",
    "\n",
    "# Print property subtypes from sales_summary\n",
    "print(\"\\nProperty Subtypes in sales_summary:\")\n",
    "print(sales_summary['Property Subtype'].tolist())"
   ]
  },
  {
   "cell_type": "code",
   "execution_count": null,
   "id": "bcc73152",
   "metadata": {},
   "outputs": [],
   "source": []
  }
 ],
 "metadata": {
  "kernelspec": {
   "display_name": "Python 3",
   "language": "python",
   "name": "python3"
  },
  "language_info": {
   "codemirror_mode": {
    "name": "ipython",
    "version": 3
   },
   "file_extension": ".py",
   "mimetype": "text/x-python",
   "name": "python",
   "nbconvert_exporter": "python",
   "pygments_lexer": "ipython3",
   "version": "3.11.9"
  }
 },
 "nbformat": 4,
 "nbformat_minor": 5
}
