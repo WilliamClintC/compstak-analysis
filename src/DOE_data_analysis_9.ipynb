{
 "cells": [
  {
   "cell_type": "code",
   "execution_count": 1,
   "id": "8f830655",
   "metadata": {},
   "outputs": [],
   "source": [
    "import pandas as pd\n",
    "import matplotlib.pyplot as plt\n",
    "import numpy as np\n",
    "import seaborn as sns\n",
    "from matplotlib_venn import venn2\n",
    "import plotly.express as px\n",
    "import os\n"
   ]
  },
  {
   "cell_type": "code",
   "execution_count": 2,
   "id": "261b39c0",
   "metadata": {},
   "outputs": [
    {
     "name": "stdout",
     "output_type": "stream",
     "text": [
      "Output directory created/verified: C:\\Users\\clint\\Desktop\\compstak-analysis\\Images\\Corrected Data\n"
     ]
    }
   ],
   "source": [
    "# Create output directory for saved visualizations if it doesn't exist\n",
    "output_dir = r'C:\\Users\\clint\\Desktop\\compstak-analysis\\Images\\Corrected Data'\n",
    "os.makedirs(output_dir, exist_ok=True)\n",
    "print(f\"Output directory created/verified: {output_dir}\")"
   ]
  },
  {
   "cell_type": "code",
   "execution_count": 3,
   "id": "276133a4",
   "metadata": {},
   "outputs": [],
   "source": [
    "compstak_df = pd.read_csv(r'C:\\Users\\clint\\Desktop\\compstak-analysis\\Data\\compstak_mapped.csv')\n",
    "doe_df = pd.read_csv(r'C:\\Users\\clint\\Desktop\\compstak-analysis\\Data\\DOE_mapped.csv')"
   ]
  },
  {
   "cell_type": "code",
   "execution_count": 4,
   "id": "f9624a5c",
   "metadata": {},
   "outputs": [
    {
     "name": "stdout",
     "output_type": "stream",
     "text": [
      "ComptStak DF columns: ['Property Type', 'Property Subtype', 'Property Id', 'statecode', 'DOE_Compliant_Property_Type']\n",
      "DOE DF columns: ['statecode', 'reported_propertytype', 'reported_propertysubtype', 'compstak_equivalent_category']\n"
     ]
    }
   ],
   "source": [
    "# Rename 'State' column to 'statecode' in compstak_df for consistent analysis\n",
    "compstak_df = compstak_df.rename(columns={'State': 'statecode'})\n",
    "\n",
    "# Verify column names in both dataframes\n",
    "print(\"ComptStak DF columns:\", compstak_df.columns.tolist())\n",
    "print(\"DOE DF columns:\", doe_df.columns.tolist())"
   ]
  },
  {
   "cell_type": "code",
   "execution_count": 5,
   "id": "25bedea5",
   "metadata": {},
   "outputs": [
    {
     "data": {
      "application/vnd.microsoft.datawrangler.viewer.v0+json": {
       "columns": [
        {
         "name": "index",
         "rawType": "int64",
         "type": "integer"
        },
        {
         "name": "Property Type",
         "rawType": "object",
         "type": "unknown"
        },
        {
         "name": "Property Subtype",
         "rawType": "object",
         "type": "unknown"
        },
        {
         "name": "Property Id",
         "rawType": "int64",
         "type": "integer"
        },
        {
         "name": "statecode",
         "rawType": "object",
         "type": "string"
        },
        {
         "name": "DOE_Compliant_Property_Type",
         "rawType": "object",
         "type": "string"
        }
       ],
       "conversionMethod": "pd.DataFrame",
       "ref": "90990166-fe9b-4b5c-a9d1-788814931fa1",
       "rows": [
        [
         "0",
         "Retail",
         "Parking",
         "1",
         "NY",
         "Other"
        ],
        [
         "1",
         "Retail",
         "Apartments",
         "2",
         "NY",
         "Multi-Family"
        ],
        [
         "2",
         "Office",
         null,
         "3",
         "NY",
         "Office"
        ],
        [
         "3",
         "Retail",
         null,
         "4",
         "NY",
         "Retail"
        ],
        [
         "4",
         "Office",
         "Mixed-Use",
         "5",
         "NY",
         "Other"
        ],
        [
         "5",
         "Office",
         "Creative",
         "6",
         "NY",
         "Office"
        ],
        [
         "6",
         "Office",
         null,
         "7",
         "NY",
         "Office"
        ],
        [
         "7",
         "Office",
         "Apartments",
         "9",
         "NY",
         "Multi-Family"
        ],
        [
         "8",
         "Office",
         "Medical/Healthcare",
         "10",
         "NY",
         "Other"
        ],
        [
         "9",
         "Retail",
         "Mixed-Use",
         "11",
         "NY",
         "Other"
        ],
        [
         "10",
         "Office",
         "Mixed-Use",
         "12",
         "NY",
         "Other"
        ],
        [
         "11",
         "Retail",
         "General Retail",
         "13",
         "NY",
         "Retail"
        ],
        [
         "12",
         "Multi-Family",
         "Condominium",
         "14",
         "NY",
         "Multi-Family"
        ],
        [
         "13",
         "Office",
         "Medical/Healthcare",
         "15",
         "NY",
         "Other"
        ],
        [
         "14",
         "Retail",
         "Apartments",
         "16",
         "NY",
         "Multi-Family"
        ],
        [
         "15",
         "Mixed-Use",
         "Street Retail/Storefront",
         "17",
         "NY",
         "Retail"
        ],
        [
         "16",
         "Office",
         "Mixed-Use",
         "18",
         "NY",
         "Other"
        ],
        [
         "17",
         "Office",
         "Mixed-Use",
         "19",
         "NY",
         "Other"
        ],
        [
         "18",
         "Multi-Family",
         "Condominium",
         "20",
         "NY",
         "Multi-Family"
        ],
        [
         "19",
         "Office",
         "Mixed-Use",
         "21",
         "NY",
         "Other"
        ],
        [
         "20",
         "Office",
         null,
         "22",
         "NY",
         "Office"
        ],
        [
         "21",
         "Retail",
         null,
         "23",
         "NY",
         "Retail"
        ],
        [
         "22",
         "Office",
         null,
         "24",
         "NY",
         "Office"
        ],
        [
         "23",
         "Retail",
         "General Retail",
         "25",
         "NY",
         "Retail"
        ],
        [
         "24",
         "Office",
         "General Retail",
         "26",
         "NY",
         "Retail"
        ],
        [
         "25",
         "Office",
         null,
         "27",
         "NY",
         "Office"
        ],
        [
         "26",
         "Office",
         "Sports & Recreation",
         "28",
         "NY",
         "Other"
        ],
        [
         "27",
         "Office",
         "Apartments",
         "29",
         "NY",
         "Multi-Family"
        ],
        [
         "28",
         "Office",
         "Medical/Healthcare",
         "30",
         "NY",
         "Other"
        ],
        [
         "29",
         "Office",
         "Medical/Healthcare",
         "31",
         "NY",
         "Other"
        ],
        [
         "30",
         "Office",
         "General Retail",
         "33",
         "NY",
         "Retail"
        ],
        [
         "31",
         "Office",
         null,
         "34",
         "NY",
         "Office"
        ],
        [
         "32",
         "Office",
         null,
         "35",
         "NY",
         "Office"
        ],
        [
         "33",
         "Office",
         "Mixed-Use",
         "36",
         "NY",
         "Other"
        ],
        [
         "34",
         "Office",
         "Medical/Healthcare",
         "37",
         "NY",
         "Other"
        ],
        [
         "35",
         "Office",
         null,
         "38",
         "NY",
         "Office"
        ],
        [
         "36",
         "Mixed-Use",
         "Mixed-Use",
         "39",
         "NY",
         "Other"
        ],
        [
         "37",
         "Mixed-Use",
         "Condominium",
         "40",
         "NY",
         "Multi-Family"
        ],
        [
         "38",
         "Retail",
         "Mixed-Use",
         "41",
         "NY",
         "Other"
        ],
        [
         "39",
         "Office",
         "Mixed-Use",
         "42",
         "NY",
         "Other"
        ],
        [
         "40",
         "Office",
         null,
         "43",
         "NY",
         "Office"
        ],
        [
         "41",
         "Retail",
         "General Retail",
         "44",
         "NY",
         "Retail"
        ],
        [
         "42",
         "Multi-Family",
         "Apartments",
         "45",
         "NY",
         "Multi-Family"
        ],
        [
         "43",
         "Retail",
         "Street Retail/Storefront",
         "46",
         "NY",
         "Retail"
        ],
        [
         "44",
         "Office",
         "Financial Building",
         "47",
         "NY",
         "Office"
        ],
        [
         "45",
         "Office",
         null,
         "48",
         "NY",
         "Office"
        ],
        [
         "46",
         "Office",
         null,
         "49",
         "NY",
         "Office"
        ],
        [
         "47",
         "Retail",
         "Apartments",
         "50",
         "NY",
         "Multi-Family"
        ],
        [
         "48",
         "Office",
         null,
         "51",
         "NY",
         "Office"
        ],
        [
         "49",
         "Retail",
         "General Retail",
         "52",
         "NY",
         "Retail"
        ]
       ],
       "shape": {
        "columns": 5,
        "rows": 759623
       }
      },
      "text/html": [
       "<div>\n",
       "<style scoped>\n",
       "    .dataframe tbody tr th:only-of-type {\n",
       "        vertical-align: middle;\n",
       "    }\n",
       "\n",
       "    .dataframe tbody tr th {\n",
       "        vertical-align: top;\n",
       "    }\n",
       "\n",
       "    .dataframe thead th {\n",
       "        text-align: right;\n",
       "    }\n",
       "</style>\n",
       "<table border=\"1\" class=\"dataframe\">\n",
       "  <thead>\n",
       "    <tr style=\"text-align: right;\">\n",
       "      <th></th>\n",
       "      <th>Property Type</th>\n",
       "      <th>Property Subtype</th>\n",
       "      <th>Property Id</th>\n",
       "      <th>statecode</th>\n",
       "      <th>DOE_Compliant_Property_Type</th>\n",
       "    </tr>\n",
       "  </thead>\n",
       "  <tbody>\n",
       "    <tr>\n",
       "      <th>0</th>\n",
       "      <td>Retail</td>\n",
       "      <td>Parking</td>\n",
       "      <td>1</td>\n",
       "      <td>NY</td>\n",
       "      <td>Other</td>\n",
       "    </tr>\n",
       "    <tr>\n",
       "      <th>1</th>\n",
       "      <td>Retail</td>\n",
       "      <td>Apartments</td>\n",
       "      <td>2</td>\n",
       "      <td>NY</td>\n",
       "      <td>Multi-Family</td>\n",
       "    </tr>\n",
       "    <tr>\n",
       "      <th>2</th>\n",
       "      <td>Office</td>\n",
       "      <td>NaN</td>\n",
       "      <td>3</td>\n",
       "      <td>NY</td>\n",
       "      <td>Office</td>\n",
       "    </tr>\n",
       "    <tr>\n",
       "      <th>3</th>\n",
       "      <td>Retail</td>\n",
       "      <td>NaN</td>\n",
       "      <td>4</td>\n",
       "      <td>NY</td>\n",
       "      <td>Retail</td>\n",
       "    </tr>\n",
       "    <tr>\n",
       "      <th>4</th>\n",
       "      <td>Office</td>\n",
       "      <td>Mixed-Use</td>\n",
       "      <td>5</td>\n",
       "      <td>NY</td>\n",
       "      <td>Other</td>\n",
       "    </tr>\n",
       "    <tr>\n",
       "      <th>...</th>\n",
       "      <td>...</td>\n",
       "      <td>...</td>\n",
       "      <td>...</td>\n",
       "      <td>...</td>\n",
       "      <td>...</td>\n",
       "    </tr>\n",
       "    <tr>\n",
       "      <th>759618</th>\n",
       "      <td>NaN</td>\n",
       "      <td>NaN</td>\n",
       "      <td>3611385</td>\n",
       "      <td>NY</td>\n",
       "      <td>Other</td>\n",
       "    </tr>\n",
       "    <tr>\n",
       "      <th>759619</th>\n",
       "      <td>Industrial</td>\n",
       "      <td>Flex/R&amp;D</td>\n",
       "      <td>3611389</td>\n",
       "      <td>FL</td>\n",
       "      <td>Industrial</td>\n",
       "    </tr>\n",
       "    <tr>\n",
       "      <th>759620</th>\n",
       "      <td>Industrial</td>\n",
       "      <td>Flex/R&amp;D</td>\n",
       "      <td>3611390</td>\n",
       "      <td>FL</td>\n",
       "      <td>Industrial</td>\n",
       "    </tr>\n",
       "    <tr>\n",
       "      <th>759621</th>\n",
       "      <td>NaN</td>\n",
       "      <td>NaN</td>\n",
       "      <td>3611391</td>\n",
       "      <td>CA</td>\n",
       "      <td>Other</td>\n",
       "    </tr>\n",
       "    <tr>\n",
       "      <th>759622</th>\n",
       "      <td>NaN</td>\n",
       "      <td>NaN</td>\n",
       "      <td>3611399</td>\n",
       "      <td>NY</td>\n",
       "      <td>Other</td>\n",
       "    </tr>\n",
       "  </tbody>\n",
       "</table>\n",
       "<p>759623 rows × 5 columns</p>\n",
       "</div>"
      ],
      "text/plain": [
       "       Property Type Property Subtype  Property Id statecode  \\\n",
       "0             Retail          Parking            1        NY   \n",
       "1             Retail       Apartments            2        NY   \n",
       "2             Office              NaN            3        NY   \n",
       "3             Retail              NaN            4        NY   \n",
       "4             Office        Mixed-Use            5        NY   \n",
       "...              ...              ...          ...       ...   \n",
       "759618           NaN              NaN      3611385        NY   \n",
       "759619    Industrial         Flex/R&D      3611389        FL   \n",
       "759620    Industrial         Flex/R&D      3611390        FL   \n",
       "759621           NaN              NaN      3611391        CA   \n",
       "759622           NaN              NaN      3611399        NY   \n",
       "\n",
       "       DOE_Compliant_Property_Type  \n",
       "0                            Other  \n",
       "1                     Multi-Family  \n",
       "2                           Office  \n",
       "3                           Retail  \n",
       "4                            Other  \n",
       "...                            ...  \n",
       "759618                       Other  \n",
       "759619                  Industrial  \n",
       "759620                  Industrial  \n",
       "759621                       Other  \n",
       "759622                       Other  \n",
       "\n",
       "[759623 rows x 5 columns]"
      ]
     },
     "execution_count": 5,
     "metadata": {},
     "output_type": "execute_result"
    }
   ],
   "source": [
    "compstak_df"
   ]
  },
  {
   "cell_type": "code",
   "execution_count": 6,
   "id": "b7ba218c",
   "metadata": {},
   "outputs": [
    {
     "data": {
      "application/vnd.microsoft.datawrangler.viewer.v0+json": {
       "columns": [
        {
         "name": "index",
         "rawType": "int64",
         "type": "integer"
        },
        {
         "name": "statecode",
         "rawType": "object",
         "type": "string"
        },
        {
         "name": "reported_propertytype",
         "rawType": "object",
         "type": "string"
        },
        {
         "name": "reported_propertysubtype",
         "rawType": "object",
         "type": "unknown"
        },
        {
         "name": "compstak_equivalent_category",
         "rawType": "object",
         "type": "string"
        }
       ],
       "conversionMethod": "pd.DataFrame",
       "ref": "bb4f16f0-f9d5-4a8c-a193-58dc52031063",
       "rows": [
        [
         "0",
         "CT",
         "Flex",
         "Light Manufacturing",
         "Industrial"
        ],
        [
         "1",
         "CT",
         "Industrial",
         "Warehouse",
         "Industrial"
        ],
        [
         "2",
         "CT",
         "Industrial",
         null,
         "Industrial"
        ],
        [
         "3",
         "CT",
         "Multi-Family",
         "Apartments",
         "Multi-Family"
        ],
        [
         "4",
         "CT",
         "Multi-Family",
         "Apartments",
         "Multi-Family"
        ],
        [
         "5",
         "CT",
         "Office",
         "Office Live/Work Unit",
         "Office"
        ],
        [
         "6",
         "CT",
         "Office",
         "Office/Residential",
         "Office"
        ],
        [
         "7",
         "CT",
         "Office",
         null,
         "Office"
        ],
        [
         "8",
         "CT",
         "Office",
         null,
         "Office"
        ],
        [
         "9",
         "CT",
         "Retail",
         "Convenience Store",
         "Retail"
        ],
        [
         "10",
         "CT",
         "Retail",
         "Freestanding",
         "Retail"
        ],
        [
         "11",
         "CT",
         "Retail",
         "Freestanding",
         "Retail"
        ],
        [
         "12",
         "CT",
         "Retail",
         "Freestanding",
         "Retail"
        ],
        [
         "13",
         "CT",
         "Retail",
         "Service Station",
         "Retail"
        ],
        [
         "14",
         "CT",
         "Retail",
         "Service Station",
         "Retail"
        ],
        [
         "15",
         "CT",
         "Retail",
         null,
         "Retail"
        ],
        [
         "16",
         "CT",
         "Retail",
         null,
         "Retail"
        ],
        [
         "17",
         "CT",
         "Specialty",
         "Self-Storage",
         "Other"
        ],
        [
         "18",
         "CT",
         "Flex",
         "Light Manufacturing",
         "Industrial"
        ],
        [
         "19",
         "CT",
         "Flex",
         null,
         "Industrial"
        ],
        [
         "20",
         "CT",
         "Health Care",
         "Rehabilitation Center",
         "Other"
        ],
        [
         "21",
         "CT",
         "Industrial",
         "Distribution",
         "Industrial"
        ],
        [
         "22",
         "CT",
         "Industrial",
         "Distribution",
         "Industrial"
        ],
        [
         "23",
         "CT",
         "Industrial",
         "Manufacturing",
         "Industrial"
        ],
        [
         "24",
         "CT",
         "Industrial",
         "Manufacturing",
         "Industrial"
        ],
        [
         "25",
         "CT",
         "Industrial",
         "Manufacturing",
         "Industrial"
        ],
        [
         "26",
         "CT",
         "Industrial",
         "Manufacturing",
         "Industrial"
        ],
        [
         "27",
         "CT",
         "Industrial",
         "Service",
         "Industrial"
        ],
        [
         "28",
         "CT",
         "Industrial",
         "Service",
         "Industrial"
        ],
        [
         "29",
         "CT",
         "Industrial",
         "Warehouse",
         "Industrial"
        ],
        [
         "30",
         "CT",
         "Industrial",
         "Warehouse",
         "Industrial"
        ],
        [
         "31",
         "CT",
         "Industrial",
         "Warehouse",
         "Industrial"
        ],
        [
         "32",
         "CT",
         "Industrial",
         "Warehouse",
         "Industrial"
        ],
        [
         "33",
         "CT",
         "Industrial",
         "Warehouse",
         "Industrial"
        ],
        [
         "34",
         "CT",
         "Industrial",
         "Warehouse",
         "Industrial"
        ],
        [
         "35",
         "CT",
         "Industrial",
         "Warehouse",
         "Industrial"
        ],
        [
         "36",
         "CT",
         "Industrial",
         "Warehouse",
         "Industrial"
        ],
        [
         "37",
         "CT",
         "Industrial",
         "Warehouse",
         "Industrial"
        ],
        [
         "38",
         "CT",
         "Industrial",
         "Warehouse",
         "Industrial"
        ],
        [
         "39",
         "CT",
         "Industrial",
         "Warehouse",
         "Industrial"
        ],
        [
         "40",
         "CT",
         "Industrial",
         "Warehouse",
         "Industrial"
        ],
        [
         "41",
         "CT",
         "Industrial",
         "Warehouse",
         "Industrial"
        ],
        [
         "42",
         "CT",
         "Industrial",
         "Warehouse",
         "Industrial"
        ],
        [
         "43",
         "CT",
         "Industrial",
         null,
         "Industrial"
        ],
        [
         "44",
         "CT",
         "Industrial",
         null,
         "Industrial"
        ],
        [
         "45",
         "CT",
         "Multi-Family",
         "Apartments",
         "Multi-Family"
        ],
        [
         "46",
         "CT",
         "Multi-Family",
         "Apartments",
         "Multi-Family"
        ],
        [
         "47",
         "CT",
         "Multi-Family",
         "Apartments",
         "Multi-Family"
        ],
        [
         "48",
         "CT",
         "Multi-Family",
         "Apartments",
         "Multi-Family"
        ],
        [
         "49",
         "CT",
         "Multi-Family",
         "Apartments",
         "Multi-Family"
        ]
       ],
       "shape": {
        "columns": 4,
        "rows": 2246485
       }
      },
      "text/html": [
       "<div>\n",
       "<style scoped>\n",
       "    .dataframe tbody tr th:only-of-type {\n",
       "        vertical-align: middle;\n",
       "    }\n",
       "\n",
       "    .dataframe tbody tr th {\n",
       "        vertical-align: top;\n",
       "    }\n",
       "\n",
       "    .dataframe thead th {\n",
       "        text-align: right;\n",
       "    }\n",
       "</style>\n",
       "<table border=\"1\" class=\"dataframe\">\n",
       "  <thead>\n",
       "    <tr style=\"text-align: right;\">\n",
       "      <th></th>\n",
       "      <th>statecode</th>\n",
       "      <th>reported_propertytype</th>\n",
       "      <th>reported_propertysubtype</th>\n",
       "      <th>compstak_equivalent_category</th>\n",
       "    </tr>\n",
       "  </thead>\n",
       "  <tbody>\n",
       "    <tr>\n",
       "      <th>0</th>\n",
       "      <td>CT</td>\n",
       "      <td>Flex</td>\n",
       "      <td>Light Manufacturing</td>\n",
       "      <td>Industrial</td>\n",
       "    </tr>\n",
       "    <tr>\n",
       "      <th>1</th>\n",
       "      <td>CT</td>\n",
       "      <td>Industrial</td>\n",
       "      <td>Warehouse</td>\n",
       "      <td>Industrial</td>\n",
       "    </tr>\n",
       "    <tr>\n",
       "      <th>2</th>\n",
       "      <td>CT</td>\n",
       "      <td>Industrial</td>\n",
       "      <td>NaN</td>\n",
       "      <td>Industrial</td>\n",
       "    </tr>\n",
       "    <tr>\n",
       "      <th>3</th>\n",
       "      <td>CT</td>\n",
       "      <td>Multi-Family</td>\n",
       "      <td>Apartments</td>\n",
       "      <td>Multi-Family</td>\n",
       "    </tr>\n",
       "    <tr>\n",
       "      <th>4</th>\n",
       "      <td>CT</td>\n",
       "      <td>Multi-Family</td>\n",
       "      <td>Apartments</td>\n",
       "      <td>Multi-Family</td>\n",
       "    </tr>\n",
       "    <tr>\n",
       "      <th>...</th>\n",
       "      <td>...</td>\n",
       "      <td>...</td>\n",
       "      <td>...</td>\n",
       "      <td>...</td>\n",
       "    </tr>\n",
       "    <tr>\n",
       "      <th>2246480</th>\n",
       "      <td>WI</td>\n",
       "      <td>Retail</td>\n",
       "      <td>Storefront Retail/Office</td>\n",
       "      <td>Retail</td>\n",
       "    </tr>\n",
       "    <tr>\n",
       "      <th>2246481</th>\n",
       "      <td>WI</td>\n",
       "      <td>Retail</td>\n",
       "      <td>Storefront Retail/Office</td>\n",
       "      <td>Retail</td>\n",
       "    </tr>\n",
       "    <tr>\n",
       "      <th>2246482</th>\n",
       "      <td>WI</td>\n",
       "      <td>Retail</td>\n",
       "      <td>NaN</td>\n",
       "      <td>Retail</td>\n",
       "    </tr>\n",
       "    <tr>\n",
       "      <th>2246483</th>\n",
       "      <td>WI</td>\n",
       "      <td>Retail</td>\n",
       "      <td>NaN</td>\n",
       "      <td>Retail</td>\n",
       "    </tr>\n",
       "    <tr>\n",
       "      <th>2246484</th>\n",
       "      <td>WI</td>\n",
       "      <td>Specialty</td>\n",
       "      <td>Post Office</td>\n",
       "      <td>Other</td>\n",
       "    </tr>\n",
       "  </tbody>\n",
       "</table>\n",
       "<p>2246485 rows × 4 columns</p>\n",
       "</div>"
      ],
      "text/plain": [
       "        statecode reported_propertytype  reported_propertysubtype  \\\n",
       "0              CT                  Flex       Light Manufacturing   \n",
       "1              CT            Industrial                 Warehouse   \n",
       "2              CT            Industrial                       NaN   \n",
       "3              CT          Multi-Family                Apartments   \n",
       "4              CT          Multi-Family                Apartments   \n",
       "...           ...                   ...                       ...   \n",
       "2246480        WI                Retail  Storefront Retail/Office   \n",
       "2246481        WI                Retail  Storefront Retail/Office   \n",
       "2246482        WI                Retail                       NaN   \n",
       "2246483        WI                Retail                       NaN   \n",
       "2246484        WI             Specialty               Post Office   \n",
       "\n",
       "        compstak_equivalent_category  \n",
       "0                         Industrial  \n",
       "1                         Industrial  \n",
       "2                         Industrial  \n",
       "3                       Multi-Family  \n",
       "4                       Multi-Family  \n",
       "...                              ...  \n",
       "2246480                       Retail  \n",
       "2246481                       Retail  \n",
       "2246482                       Retail  \n",
       "2246483                       Retail  \n",
       "2246484                        Other  \n",
       "\n",
       "[2246485 rows x 4 columns]"
      ]
     },
     "execution_count": 6,
     "metadata": {},
     "output_type": "execute_result"
    }
   ],
   "source": [
    "doe_df"
   ]
  },
  {
   "cell_type": "markdown",
   "id": "5e805207",
   "metadata": {},
   "source": [
    "# State Coverage Analysis\n",
    "\n",
    "Let's analyze the coverage of CompStak data with respect to DOE data based on state codes."
   ]
  },
  {
   "cell_type": "code",
   "execution_count": 7,
   "id": "fe10c924",
   "metadata": {},
   "outputs": [
    {
     "name": "stdout",
     "output_type": "stream",
     "text": [
      "Total unique states in CompStak: 51\n",
      "Total unique states in DOE: 51\n",
      "States in both datasets: 51\n",
      "States only in DOE: 0\n",
      "States only in CompStak: 0\n",
      "State code coverage: 100.00%\n"
     ]
    }
   ],
   "source": [
    "# Get unique state codes from both datasets\n",
    "compstak_states = set(compstak_df['statecode'].unique())\n",
    "doe_states = set(doe_df['statecode'].unique())\n",
    "\n",
    "# Calculate overlap\n",
    "states_in_both = compstak_states.intersection(doe_states)\n",
    "states_only_in_doe = doe_states - compstak_states\n",
    "states_only_in_compstak = compstak_states - doe_states\n",
    "\n",
    "print(f\"Total unique states in CompStak: {len(compstak_states)}\")\n",
    "print(f\"Total unique states in DOE: {len(doe_states)}\")\n",
    "print(f\"States in both datasets: {len(states_in_both)}\")\n",
    "print(f\"States only in DOE: {len(states_only_in_doe)}\")\n",
    "print(f\"States only in CompStak: {len(states_only_in_compstak)}\")\n",
    "\n",
    "# Calculate coverage percentage\n",
    "coverage_pct = (len(states_in_both) / len(doe_states)) * 100\n",
    "print(f\"State code coverage: {coverage_pct:.2f}%\")"
   ]
  },
  {
   "cell_type": "code",
   "execution_count": 8,
   "id": "81e3b0c2",
   "metadata": {},
   "outputs": [
    {
     "data": {
      "image/png": "[encoded data removed]",
      "text/plain": [
       "<Figure size 1000x600 with 1 Axes>"
      ]
     },
     "metadata": {},
     "output_type": "display_data"
    }
   ],
   "source": [
    "# Create Venn diagram to visualize state code overlap\n",
    "plt.figure(figsize=(10, 6))\n",
    "venn2([compstak_states, doe_states], ('CompStak States', 'DOE States'))\n",
    "plt.title('Overlap of States between CompStak and DOE Datasets')\n",
    "plt.show()"
   ]
  },
  {
   "cell_type": "code",
   "execution_count": 9,
   "id": "8749846a",
   "metadata": {},
   "outputs": [
    {
     "name": "stdout",
     "output_type": "stream",
     "text": [
      "Saved Venn diagram to: C:\\Users\\clint\\Desktop\\compstak-analysis\\Images\\Corrected Data\\state_overlap_venn.png\n"
     ]
    }
   ],
   "source": [
    "# Save the Venn diagram to the output directory\n",
    "plt.figure(figsize=(10, 6))\n",
    "venn2([compstak_states, doe_states], ('CompStak States', 'DOE States'))\n",
    "plt.title('Overlap of States between CompStak and DOE Datasets')\n",
    "venn_output_path = os.path.join(output_dir, 'state_overlap_venn.png')\n",
    "plt.savefig(venn_output_path, dpi=300, bbox_inches='tight')\n",
    "plt.close()\n",
    "print(f\"Saved Venn diagram to: {venn_output_path}\")"
   ]
  },
  {
   "cell_type": "code",
   "execution_count": 10,
   "id": "48f508cc",
   "metadata": {},
   "outputs": [
    {
     "data": {
      "application/vnd.microsoft.datawrangler.viewer.v0+json": {
       "columns": [
        {
         "name": "index",
         "rawType": "int64",
         "type": "integer"
        },
        {
         "name": "statecode",
         "rawType": "object",
         "type": "string"
        },
        {
         "name": "doe_count",
         "rawType": "int64",
         "type": "integer"
        },
        {
         "name": "compstak_count",
         "rawType": "int64",
         "type": "integer"
        },
        {
         "name": "coverage_ratio",
         "rawType": "float64",
         "type": "float"
        },
        {
         "name": "coverage_pct",
         "rawType": "float64",
         "type": "float"
        }
       ],
       "conversionMethod": "pd.DataFrame",
       "ref": "bdc252b4-38c1-4bf7-81d3-5c7a61cf0cba",
       "rows": [
        [
         "4",
         "CA",
         "238844",
         "162162",
         "0.6789452529684648",
         "67.89452529684648"
        ],
        [
         "43",
         "TX",
         "157912",
         "64220",
         "0.4066822027458331",
         "40.66822027458331"
        ],
        [
         "9",
         "FL",
         "145821",
         "54836",
         "0.37605008880751056",
         "37.60500888075106"
        ],
        [
         "34",
         "NY",
         "113724",
         "43118",
         "0.37914600260279274",
         "37.91460026027927"
        ],
        [
         "35",
         "OH",
         "109843",
         "19159",
         "0.17442167457188898",
         "17.442167457188898"
        ],
        [
         "38",
         "PA",
         "90276",
         "21876",
         "0.24232354114050245",
         "24.232354114050246"
        ],
        [
         "14",
         "IL",
         "83364",
         "31389",
         "0.3765294371671225",
         "37.65294371671225"
        ],
        [
         "27",
         "NC",
         "79107",
         "27085",
         "0.3423843654796668",
         "34.23843654796668"
        ],
        [
         "22",
         "MI",
         "76260",
         "15952",
         "0.209179124049305",
         "20.9179124049305"
        ],
        [
         "10",
         "GA",
         "74036",
         "25218",
         "0.34061807769193364",
         "34.061807769193365"
        ]
       ],
       "shape": {
        "columns": 5,
        "rows": 10
       }
      },
      "text/html": [
       "<div>\n",
       "<style scoped>\n",
       "    .dataframe tbody tr th:only-of-type {\n",
       "        vertical-align: middle;\n",
       "    }\n",
       "\n",
       "    .dataframe tbody tr th {\n",
       "        vertical-align: top;\n",
       "    }\n",
       "\n",
       "    .dataframe thead th {\n",
       "        text-align: right;\n",
       "    }\n",
       "</style>\n",
       "<table border=\"1\" class=\"dataframe\">\n",
       "  <thead>\n",
       "    <tr style=\"text-align: right;\">\n",
       "      <th></th>\n",
       "      <th>statecode</th>\n",
       "      <th>doe_count</th>\n",
       "      <th>compstak_count</th>\n",
       "      <th>coverage_ratio</th>\n",
       "      <th>coverage_pct</th>\n",
       "    </tr>\n",
       "  </thead>\n",
       "  <tbody>\n",
       "    <tr>\n",
       "      <th>4</th>\n",
       "      <td>CA</td>\n",
       "      <td>238844</td>\n",
       "      <td>162162</td>\n",
       "      <td>0.678945</td>\n",
       "      <td>67.894525</td>\n",
       "    </tr>\n",
       "    <tr>\n",
       "      <th>43</th>\n",
       "      <td>TX</td>\n",
       "      <td>157912</td>\n",
       "      <td>64220</td>\n",
       "      <td>0.406682</td>\n",
       "      <td>40.668220</td>\n",
       "    </tr>\n",
       "    <tr>\n",
       "      <th>9</th>\n",
       "      <td>FL</td>\n",
       "      <td>145821</td>\n",
       "      <td>54836</td>\n",
       "      <td>0.376050</td>\n",
       "      <td>37.605009</td>\n",
       "    </tr>\n",
       "    <tr>\n",
       "      <th>34</th>\n",
       "      <td>NY</td>\n",
       "      <td>113724</td>\n",
       "      <td>43118</td>\n",
       "      <td>0.379146</td>\n",
       "      <td>37.914600</td>\n",
       "    </tr>\n",
       "    <tr>\n",
       "      <th>35</th>\n",
       "      <td>OH</td>\n",
       "      <td>109843</td>\n",
       "      <td>19159</td>\n",
       "      <td>0.174422</td>\n",
       "      <td>17.442167</td>\n",
       "    </tr>\n",
       "    <tr>\n",
       "      <th>38</th>\n",
       "      <td>PA</td>\n",
       "      <td>90276</td>\n",
       "      <td>21876</td>\n",
       "      <td>0.242324</td>\n",
       "      <td>24.232354</td>\n",
       "    </tr>\n",
       "    <tr>\n",
       "      <th>14</th>\n",
       "      <td>IL</td>\n",
       "      <td>83364</td>\n",
       "      <td>31389</td>\n",
       "      <td>0.376529</td>\n",
       "      <td>37.652944</td>\n",
       "    </tr>\n",
       "    <tr>\n",
       "      <th>27</th>\n",
       "      <td>NC</td>\n",
       "      <td>79107</td>\n",
       "      <td>27085</td>\n",
       "      <td>0.342384</td>\n",
       "      <td>34.238437</td>\n",
       "    </tr>\n",
       "    <tr>\n",
       "      <th>22</th>\n",
       "      <td>MI</td>\n",
       "      <td>76260</td>\n",
       "      <td>15952</td>\n",
       "      <td>0.209179</td>\n",
       "      <td>20.917912</td>\n",
       "    </tr>\n",
       "    <tr>\n",
       "      <th>10</th>\n",
       "      <td>GA</td>\n",
       "      <td>74036</td>\n",
       "      <td>25218</td>\n",
       "      <td>0.340618</td>\n",
       "      <td>34.061808</td>\n",
       "    </tr>\n",
       "  </tbody>\n",
       "</table>\n",
       "</div>"
      ],
      "text/plain": [
       "   statecode  doe_count  compstak_count  coverage_ratio  coverage_pct\n",
       "4         CA     238844          162162        0.678945     67.894525\n",
       "43        TX     157912           64220        0.406682     40.668220\n",
       "9         FL     145821           54836        0.376050     37.605009\n",
       "34        NY     113724           43118        0.379146     37.914600\n",
       "35        OH     109843           19159        0.174422     17.442167\n",
       "38        PA      90276           21876        0.242324     24.232354\n",
       "14        IL      83364           31389        0.376529     37.652944\n",
       "27        NC      79107           27085        0.342384     34.238437\n",
       "22        MI      76260           15952        0.209179     20.917912\n",
       "10        GA      74036           25218        0.340618     34.061808"
      ]
     },
     "execution_count": 10,
     "metadata": {},
     "output_type": "execute_result"
    }
   ],
   "source": [
    "# Record count analysis by state\n",
    "# Group by state and count records\n",
    "compstak_state_counts = compstak_df.groupby('statecode').size().reset_index(name='compstak_count')\n",
    "doe_state_counts = doe_df.groupby('statecode').size().reset_index(name='doe_count')\n",
    "\n",
    "# Merge the counts\n",
    "state_comparison = pd.merge(doe_state_counts, compstak_state_counts, on='statecode', how='outer').fillna(0)\n",
    "\n",
    "# Calculate coverage ratio\n",
    "state_comparison['coverage_ratio'] = state_comparison['compstak_count'] / state_comparison['doe_count']\n",
    "state_comparison['coverage_ratio'] = state_comparison['coverage_ratio'].fillna(0)\n",
    "state_comparison['coverage_pct'] = state_comparison['coverage_ratio'] * 100\n",
    "\n",
    "# Sort by DOE count descending\n",
    "state_comparison = state_comparison.sort_values('doe_count', ascending=False)\n",
    "\n",
    "state_comparison.head(10)"
   ]
  },
  {
   "cell_type": "code",
   "execution_count": 11,
   "id": "048d14a2",
   "metadata": {},
   "outputs": [
    {
     "data": {
      "image/png": "[encoded data removed]",
      "text/plain": [
       "<Figure size 1400x800 with 2 Axes>"
      ]
     },
     "metadata": {},
     "output_type": "display_data"
    }
   ],
   "source": [
    "# Visualize top 15 states by DOE count with coverage\n",
    "top_states = state_comparison.head(15).copy()\n",
    "\n",
    "fig, ax1 = plt.subplots(figsize=(14, 8))\n",
    "\n",
    "# Plot bars for DOE and CompStak counts\n",
    "x = np.arange(len(top_states))\n",
    "width = 0.35\n",
    "\n",
    "ax1.bar(x - width/2, top_states['doe_count'], width, label='DOE Records', color='steelblue')\n",
    "ax1.bar(x + width/2, top_states['compstak_count'], width, label='CompStak Records', color='orange')\n",
    "ax1.set_xlabel('State Code')\n",
    "ax1.set_ylabel('Number of Records')\n",
    "ax1.set_title('DOE vs CompStak Record Counts by State (Top 15 States)')\n",
    "ax1.set_xticks(x)\n",
    "ax1.set_xticklabels(top_states['statecode'])\n",
    "ax1.legend(loc='upper left')\n",
    "\n",
    "# Add coverage percentage as a line on secondary y-axis\n",
    "ax2 = ax1.twinx()\n",
    "ax2.plot(x, top_states['coverage_pct'], 'r-', marker='o', label='Coverage %')\n",
    "ax2.set_ylabel('Coverage Percentage (%)')\n",
    "ax2.set_ylim(0, 100)\n",
    "ax2.legend(loc='upper right')\n",
    "\n",
    "plt.tight_layout()\n",
    "plt.show()"
   ]
  },
  {
   "cell_type": "code",
   "execution_count": 12,
   "id": "4e5fead0",
   "metadata": {},
   "outputs": [
    {
     "name": "stdout",
     "output_type": "stream",
     "text": [
      "Saved bar chart to: C:\\Users\\clint\\Desktop\\compstak-analysis\\Images\\Corrected Data\\top15_states_coverage.png\n"
     ]
    }
   ],
   "source": [
    "# Save the bar chart with coverage line to the output directory\n",
    "fig, ax1 = plt.subplots(figsize=(14, 8))\n",
    "\n",
    "# Plot bars for DOE and CompStak counts\n",
    "x = np.arange(len(top_states))\n",
    "width = 0.35\n",
    "\n",
    "ax1.bar(x - width/2, top_states['doe_count'], width, label='DOE Records', color='steelblue')\n",
    "ax1.bar(x + width/2, top_states['compstak_count'], width, label='CompStak Records', color='orange')\n",
    "ax1.set_xlabel('State Code')\n",
    "ax1.set_ylabel('Number of Records')\n",
    "ax1.set_title('DOE vs CompStak Record Counts by State (Top 15 States)')\n",
    "ax1.set_xticks(x)\n",
    "ax1.set_xticklabels(top_states['statecode'])\n",
    "ax1.legend(loc='upper left')\n",
    "\n",
    "# Add coverage percentage as a line on secondary y-axis\n",
    "ax2 = ax1.twinx()\n",
    "ax2.plot(x, top_states['coverage_pct'], 'r-', marker='o', label='Coverage %')\n",
    "ax2.set_ylabel('Coverage Percentage (%)')\n",
    "ax2.set_ylim(0, 100)\n",
    "ax2.legend(loc='upper right')\n",
    "\n",
    "plt.tight_layout()\n",
    "barchart_output_path = os.path.join(output_dir, 'top15_states_coverage.png')\n",
    "plt.savefig(barchart_output_path, dpi=300, bbox_inches='tight')\n",
    "plt.close()\n",
    "print(f\"Saved bar chart to: {barchart_output_path}\")"
   ]
  },
  {
   "cell_type": "code",
   "execution_count": 13,
   "id": "62ff5e8f",
   "metadata": {},
   "outputs": [
    {
     "data": {
      "application/vnd.plotly.v1+json": {
       "config": {
        "plotlyServerURL": "https://plot.ly"
       },
       "data": [
        {
         "coloraxis": "coloraxis",
         "customdata": [
          [
           238844,
           162162,
           67.89452529684648
          ],
          [
           157912,
           64220,
           40.66822027458331
          ],
          [
           145821,
           54836,
           37.60500888075106
          ],
          [
           113724,
           43118,
           37.91460026027927
          ],
          [
           109843,
           19159,
           17.442167457188898
          ],
          [
           90276,
           21876,
           24.232354114050246
          ],
          [
           83364,
           31389,
           37.65294371671225
          ],
          [
           79107,
           27085,
           34.23843654796668
          ],
          [
           76260,
           15952,
           20.9179124049305
          ],
          [
           74036,
           25218,
           34.061807769193365
          ],
          [
           66598,
           22802,
           34.23826541337578
          ],
          [
           61761,
           16907,
           27.37488058807338
          ],
          [
           52899,
           10026,
           18.953099302444283
          ],
          [
           52239,
           18495,
           35.40458278297823
          ],
          [
           50694,
           16968,
           33.471416735708374
          ],
          [
           50419,
           7657,
           15.186735159364526
          ],
          [
           49409,
           13658,
           27.642737153150236
          ],
          [
           46087,
           13244,
           28.73695402174149
          ],
          [
           45863,
           8783,
           19.150513485816454
          ],
          [
           42236,
           15696,
           37.162610095653
          ],
          [
           41308,
           9664,
           23.39498402246538
          ],
          [
           38398,
           4648,
           12.104797124850252
          ],
          [
           36340,
           9896,
           27.231700605393506
          ],
          [
           33979,
           15008,
           44.16845698813973
          ],
          [
           33441,
           9426,
           28.186956131694625
          ],
          [
           33274,
           20836,
           62.61946264350544
          ],
          [
           31074,
           5397,
           17.368217802664606
          ],
          [
           26124,
           6059,
           23.193232276833562
          ],
          [
           24466,
           3597,
           14.702035477805936
          ],
          [
           23016,
           11964,
           51.981230448383734
          ],
          [
           22621,
           3686,
           16.294593519296228
          ],
          [
           21217,
           7091,
           33.421313097987465
          ],
          [
           21008,
           6123,
           29.146039603960393
          ],
          [
           18001,
           3280,
           18.221209932781512
          ],
          [
           15224,
           3211,
           21.09169732002102
          ],
          [
           15179,
           10816,
           71.25634099743066
          ],
          [
           14193,
           1016,
           7.158458394983443
          ],
          [
           13711,
           699,
           5.098096418933703
          ],
          [
           13552,
           1870,
           13.7987012987013
          ],
          [
           13145,
           2982,
           22.685431723088627
          ],
          [
           11449,
           1153,
           10.07074853699013
          ],
          [
           10902,
           2951,
           27.06842781141075
          ],
          [
           8204,
           1390,
           16.942954656265236
          ],
          [
           5842,
           725,
           12.410133515919206
          ],
          [
           5793,
           905,
           15.622302779216296
          ],
          [
           5530,
           338,
           6.112115732368896
          ],
          [
           5469,
           1496,
           27.35417809471567
          ],
          [
           4440,
           2456,
           55.31531531531532
          ],
          [
           4297,
           739,
           17.19804514777752
          ],
          [
           4180,
           332,
           7.942583732057416
          ],
          [
           3716,
           618,
           16.630785791173306
          ]
         ],
         "geo": "geo",
         "hovertemplate": "<b>%{hovertext}</b><br><br>statecode=%{location}<br>doe_count=%{customdata[0]}<br>compstak_count=%{customdata[1]}<br>Coverage %=%{z}<extra></extra>",
         "hovertext": [
          "California",
          "Texas",
          "Florida",
          "New York",
          "Ohio",
          "Pennsylvania",
          "Illinois",
          "North Carolina",
          "Michigan",
          "Georgia",
          "New Jersey",
          "Massachusetts",
          "Indiana",
          "Washington",
          "Virginia",
          "Wisconsin",
          "Tennessee",
          "Missouri",
          "Minnesota",
          "Colorado",
          "South Carolina",
          "Connecticut",
          "Alabama",
          "Oregon",
          "Maryland",
          "Arizona",
          "Oklahoma",
          "Kentucky",
          "Iowa",
          "Utah",
          "Arkansas",
          "Louisiana",
          "Kansas",
          "Mississippi",
          "Idaho",
          "Nevada",
          "Maine",
          "West Virginia",
          "New Hampshire",
          "Nebraska",
          "Rhode Island",
          "New Mexico",
          "Montana",
          "Hawaii",
          "North Dakota",
          "South Dakota",
          "Delaware",
          "District of Columbia",
          "Wyoming",
          "Vermont",
          "Alaska"
         ],
         "locationmode": "USA-states",
         "locations": [
          "CA",
          "TX",
          "FL",
          "NY",
          "OH",
          "PA",
          "IL",
          "NC",
          "MI",
          "GA",
          "NJ",
          "MA",
          "IN",
          "WA",
          "VA",
          "WI",
          "TN",
          "MO",
          "MN",
          "CO",
          "SC",
          "CT",
          "AL",
          "OR",
          "MD",
          "AZ",
          "OK",
          "KY",
          "IA",
          "UT",
          "AR",
          "LA",
          "KS",
          "MS",
          "ID",
          "NV",
          "ME",
          "WV",
          "NH",
          "NE",
          "RI",
          "NM",
          "MT",
          "HI",
          "ND",
          "SD",
          "DE",
          "DC",
          "WY",
          "VT",
          "AK"
         ],
         "name": "",
         "type": "choropleth",
         "z": [
          67.89452529684648,
          40.66822027458331,
          37.60500888075106,
          37.91460026027927,
          17.442167457188898,
          24.232354114050246,
          37.65294371671225,
          34.23843654796668,
          20.9179124049305,
          34.061807769193365,
          34.23826541337578,
          27.37488058807338,
          18.953099302444283,
          35.40458278297823,
          33.471416735708374,
          15.186735159364526,
          27.642737153150236,
          28.73695402174149,
          19.150513485816454,
          37.162610095653,
          23.39498402246538,
          12.104797124850252,
          27.231700605393506,
          44.16845698813973,
          28.186956131694625,
          62.61946264350544,
          17.368217802664606,
          23.193232276833562,
          14.702035477805936,
          51.981230448383734,
          16.294593519296228,
          33.421313097987465,
          29.146039603960393,
          18.221209932781512,
          21.09169732002102,
          71.25634099743066,
          7.158458394983443,
          5.098096418933703,
          13.7987012987013,
          22.685431723088627,
          10.07074853699013,
          27.06842781141075,
          16.942954656265236,
          12.410133515919206,
          15.622302779216296,
          6.112115732368896,
          27.35417809471567,
          55.31531531531532,
          17.19804514777752,
          7.942583732057416,
          16.630785791173306
         ]
        }
       ],
       "layout": {
        "coloraxis": {
         "colorbar": {
          "title": {
           "text": "Coverage %"
          }
         },
         "colorscale": [
          [
           0,
           "rgb(255,255,204)"
          ],
          [
           0.125,
           "rgb(255,237,160)"
          ],
          [
           0.25,
           "rgb(254,217,118)"
          ],
          [
           0.375,
           "rgb(254,178,76)"
          ],
          [
           0.5,
           "rgb(253,141,60)"
          ],
          [
           0.625,
           "rgb(252,78,42)"
          ],
          [
           0.75,
           "rgb(227,26,28)"
          ],
          [
           0.875,
           "rgb(189,0,38)"
          ],
          [
           1,
           "rgb(128,0,38)"
          ]
         ]
        },
        "geo": {
         "center": {},
         "domain": {
          "x": [
           0,
           1
          ],
          "y": [
           0,
           1
          ]
         },
         "scope": "usa"
        },
        "legend": {
         "tracegroupgap": 0
        },
        "template": {
         "data": {
          "bar": [
           {
            "error_x": {
             "color": "#2a3f5f"
            },
            "error_y": {
             "color": "#2a3f5f"
            },
            "marker": {
             "line": {
              "color": "#E5ECF6",
              "width": 0.5
             },
             "pattern": {
              "fillmode": "overlay",
              "size": 10,
              "solidity": 0.2
             }
            },
            "type": "bar"
           }
          ],
          "barpolar": [
           {
            "marker": {
             "line": {
              "color": "#E5ECF6",
              "width": 0.5
             },
             "pattern": {
              "fillmode": "overlay",
              "size": 10,
              "solidity": 0.2
             }
            },
            "type": "barpolar"
           }
          ],
          "carpet": [
           {
            "aaxis": {
             "endlinecolor": "#2a3f5f",
             "gridcolor": "white",
             "linecolor": "white",
             "minorgridcolor": "white",
             "startlinecolor": "#2a3f5f"
            },
            "baxis": {
             "endlinecolor": "#2a3f5f",
             "gridcolor": "white",
             "linecolor": "white",
             "minorgridcolor": "white",
             "startlinecolor": "#2a3f5f"
            },
            "type": "carpet"
           }
          ],
          "choropleth": [
           {
            "colorbar": {
             "outlinewidth": 0,
             "ticks": ""
            },
            "type": "choropleth"
           }
          ],
          "contour": [
           {
            "colorbar": {
             "outlinewidth": 0,
             "ticks": ""
            },
            "colorscale": [
             [
              0,
              "#0d0887"
             ],
             [
              0.1111111111111111,
              "#46039f"
             ],
             [
              0.2222222222222222,
              "#7201a8"
             ],
             [
              0.3333333333333333,
              "#9c179e"
             ],
             [
              0.4444444444444444,
              "#bd3786"
             ],
             [
              0.5555555555555556,
              "#d8576b"
             ],
             [
              0.6666666666666666,
              "#ed7953"
             ],
             [
              0.7777777777777778,
              "#fb9f3a"
             ],
             [
              0.8888888888888888,
              "#fdca26"
             ],
             [
              1,
              "#f0f921"
             ]
            ],
            "type": "contour"
           }
          ],
          "contourcarpet": [
           {
            "colorbar": {
             "outlinewidth": 0,
             "ticks": ""
            },
            "type": "contourcarpet"
           }
          ],
          "heatmap": [
           {
            "colorbar": {
             "outlinewidth": 0,
             "ticks": ""
            },
            "colorscale": [
             [
              0,
              "#0d0887"
             ],
             [
              0.1111111111111111,
              "#46039f"
             ],
             [
              0.2222222222222222,
              "#7201a8"
             ],
             [
              0.3333333333333333,
              "#9c179e"
             ],
             [
              0.4444444444444444,
              "#bd3786"
             ],
             [
              0.5555555555555556,
              "#d8576b"
             ],
             [
              0.6666666666666666,
              "#ed7953"
             ],
             [
              0.7777777777777778,
              "#fb9f3a"
             ],
             [
              0.8888888888888888,
              "#fdca26"
             ],
             [
              1,
              "#f0f921"
             ]
            ],
            "type": "heatmap"
           }
          ],
          "heatmapgl": [
           {
            "colorbar": {
             "outlinewidth": 0,
             "ticks": ""
            },
            "colorscale": [
             [
              0,
              "#0d0887"
             ],
             [
              0.1111111111111111,
              "#46039f"
             ],
             [
              0.2222222222222222,
              "#7201a8"
             ],
             [
              0.3333333333333333,
              "#9c179e"
             ],
             [
              0.4444444444444444,
              "#bd3786"
             ],
             [
              0.5555555555555556,
              "#d8576b"
             ],
             [
              0.6666666666666666,
              "#ed7953"
             ],
             [
              0.7777777777777778,
              "#fb9f3a"
             ],
             [
              0.8888888888888888,
              "#fdca26"
             ],
             [
              1,
              "#f0f921"
             ]
            ],
            "type": "heatmapgl"
           }
          ],
          "histogram": [
           {
            "marker": {
             "pattern": {
              "fillmode": "overlay",
              "size": 10,
              "solidity": 0.2
             }
            },
            "type": "histogram"
           }
          ],
          "histogram2d": [
           {
            "colorbar": {
             "outlinewidth": 0,
             "ticks": ""
            },
            "colorscale": [
             [
              0,
              "#0d0887"
             ],
             [
              0.1111111111111111,
              "#46039f"
             ],
             [
              0.2222222222222222,
              "#7201a8"
             ],
             [
              0.3333333333333333,
              "#9c179e"
             ],
             [
              0.4444444444444444,
              "#bd3786"
             ],
             [
              0.5555555555555556,
              "#d8576b"
             ],
             [
              0.6666666666666666,
              "#ed7953"
             ],
             [
              0.7777777777777778,
              "#fb9f3a"
             ],
             [
              0.8888888888888888,
              "#fdca26"
             ],
             [
              1,
              "#f0f921"
             ]
            ],
            "type": "histogram2d"
           }
          ],
          "histogram2dcontour": [
           {
            "colorbar": {
             "outlinewidth": 0,
             "ticks": ""
            },
            "colorscale": [
             [
              0,
              "#0d0887"
             ],
             [
              0.1111111111111111,
              "#46039f"
             ],
             [
              0.2222222222222222,
              "#7201a8"
             ],
             [
              0.3333333333333333,
              "#9c179e"
             ],
             [
              0.4444444444444444,
              "#bd3786"
             ],
             [
              0.5555555555555556,
              "#d8576b"
             ],
             [
              0.6666666666666666,
              "#ed7953"
             ],
             [
              0.7777777777777778,
              "#fb9f3a"
             ],
             [
              0.8888888888888888,
              "#fdca26"
             ],
             [
              1,
              "#f0f921"
             ]
            ],
            "type": "histogram2dcontour"
           }
          ],
          "mesh3d": [
           {
            "colorbar": {
             "outlinewidth": 0,
             "ticks": ""
            },
            "type": "mesh3d"
           }
          ],
          "parcoords": [
           {
            "line": {
             "colorbar": {
              "outlinewidth": 0,
              "ticks": ""
             }
            },
            "type": "parcoords"
           }
          ],
          "pie": [
           {
            "automargin": true,
            "type": "pie"
           }
          ],
          "scatter": [
           {
            "fillpattern": {
             "fillmode": "overlay",
             "size": 10,
             "solidity": 0.2
            },
            "type": "scatter"
           }
          ],
          "scatter3d": [
           {
            "line": {
             "colorbar": {
              "outlinewidth": 0,
              "ticks": ""
             }
            },
            "marker": {
             "colorbar": {
              "outlinewidth": 0,
              "ticks": ""
             }
            },
            "type": "scatter3d"
           }
          ],
          "scattercarpet": [
           {
            "marker": {
             "colorbar": {
              "outlinewidth": 0,
              "ticks": ""
             }
            },
            "type": "scattercarpet"
           }
          ],
          "scattergeo": [
           {
            "marker": {
             "colorbar": {
              "outlinewidth": 0,
              "ticks": ""
             }
            },
            "type": "scattergeo"
           }
          ],
          "scattergl": [
           {
            "marker": {
             "colorbar": {
              "outlinewidth": 0,
              "ticks": ""
             }
            },
            "type": "scattergl"
           }
          ],
          "scattermapbox": [
           {
            "marker": {
             "colorbar": {
              "outlinewidth": 0,
              "ticks": ""
             }
            },
            "type": "scattermapbox"
           }
          ],
          "scatterpolar": [
           {
            "marker": {
             "colorbar": {
              "outlinewidth": 0,
              "ticks": ""
             }
            },
            "type": "scatterpolar"
           }
          ],
          "scatterpolargl": [
           {
            "marker": {
             "colorbar": {
              "outlinewidth": 0,
              "ticks": ""
             }
            },
            "type": "scatterpolargl"
           }
          ],
          "scatterternary": [
           {
            "marker": {
             "colorbar": {
              "outlinewidth": 0,
              "ticks": ""
             }
            },
            "type": "scatterternary"
           }
          ],
          "surface": [
           {
            "colorbar": {
             "outlinewidth": 0,
             "ticks": ""
            },
            "colorscale": [
             [
              0,
              "#0d0887"
             ],
             [
              0.1111111111111111,
              "#46039f"
             ],
             [
              0.2222222222222222,
              "#7201a8"
             ],
             [
              0.3333333333333333,
              "#9c179e"
             ],
             [
              0.4444444444444444,
              "#bd3786"
             ],
             [
              0.5555555555555556,
              "#d8576b"
             ],
             [
              0.6666666666666666,
              "#ed7953"
             ],
             [
              0.7777777777777778,
              "#fb9f3a"
             ],
             [
              0.8888888888888888,
              "#fdca26"
             ],
             [
              1,
              "#f0f921"
             ]
            ],
            "type": "surface"
           }
          ],
          "table": [
           {
            "cells": {
             "fill": {
              "color": "#EBF0F8"
             },
             "line": {
              "color": "white"
             }
            },
            "header": {
             "fill": {
              "color": "#C8D4E3"
             },
             "line": {
              "color": "white"
             }
            },
            "type": "table"
           }
          ]
         },
         "layout": {
          "annotationdefaults": {
           "arrowcolor": "#2a3f5f",
           "arrowhead": 0,
           "arrowwidth": 1
          },
          "autotypenumbers": "strict",
          "coloraxis": {
           "colorbar": {
            "outlinewidth": 0,
            "ticks": ""
           }
          },
          "colorscale": {
           "diverging": [
            [
             0,
             "#8e0152"
            ],
            [
             0.1,
             "#c51b7d"
            ],
            [
             0.2,
             "#de77ae"
            ],
            [
             0.3,
             "#f1b6da"
            ],
            [
             0.4,
             "#fde0ef"
            ],
            [
             0.5,
             "#f7f7f7"
            ],
            [
             0.6,
             "#e6f5d0"
            ],
            [
             0.7,
             "#b8e186"
            ],
            [
             0.8,
             "#7fbc41"
            ],
            [
             0.9,
             "#4d9221"
            ],
            [
             1,
             "#276419"
            ]
           ],
           "sequential": [
            [
             0,
             "#0d0887"
            ],
            [
             0.1111111111111111,
             "#46039f"
            ],
            [
             0.2222222222222222,
             "#7201a8"
            ],
            [
             0.3333333333333333,
             "#9c179e"
            ],
            [
             0.4444444444444444,
             "#bd3786"
            ],
            [
             0.5555555555555556,
             "#d8576b"
            ],
            [
             0.6666666666666666,
             "#ed7953"
            ],
            [
             0.7777777777777778,
             "#fb9f3a"
            ],
            [
             0.8888888888888888,
             "#fdca26"
            ],
            [
             1,
             "#f0f921"
            ]
           ],
           "sequentialminus": [
            [
             0,
             "#0d0887"
            ],
            [
             0.1111111111111111,
             "#46039f"
            ],
            [
             0.2222222222222222,
             "#7201a8"
            ],
            [
             0.3333333333333333,
             "#9c179e"
            ],
            [
             0.4444444444444444,
             "#bd3786"
            ],
            [
             0.5555555555555556,
             "#d8576b"
            ],
            [
             0.6666666666666666,
             "#ed7953"
            ],
            [
             0.7777777777777778,
             "#fb9f3a"
            ],
            [
             0.8888888888888888,
             "#fdca26"
            ],
            [
             1,
             "#f0f921"
            ]
           ]
          },
          "colorway": [
           "#636efa",
           "#EF553B",
           "#00cc96",
           "#ab63fa",
           "#FFA15A",
           "#19d3f3",
           "#FF6692",
           "#B6E880",
           "#FF97FF",
           "#FECB52"
          ],
          "font": {
           "color": "#2a3f5f"
          },
          "geo": {
           "bgcolor": "white",
           "lakecolor": "white",
           "landcolor": "#E5ECF6",
           "showlakes": true,
           "showland": true,
           "subunitcolor": "white"
          },
          "hoverlabel": {
           "align": "left"
          },
          "hovermode": "closest",
          "mapbox": {
           "style": "light"
          },
          "paper_bgcolor": "white",
          "plot_bgcolor": "#E5ECF6",
          "polar": {
           "angularaxis": {
            "gridcolor": "white",
            "linecolor": "white",
            "ticks": ""
           },
           "bgcolor": "#E5ECF6",
           "radialaxis": {
            "gridcolor": "white",
            "linecolor": "white",
            "ticks": ""
           }
          },
          "scene": {
           "xaxis": {
            "backgroundcolor": "#E5ECF6",
            "gridcolor": "white",
            "gridwidth": 2,
            "linecolor": "white",
            "showbackground": true,
            "ticks": "",
            "zerolinecolor": "white"
           },
           "yaxis": {
            "backgroundcolor": "#E5ECF6",
            "gridcolor": "white",
            "gridwidth": 2,
            "linecolor": "white",
            "showbackground": true,
            "ticks": "",
            "zerolinecolor": "white"
           },
           "zaxis": {
            "backgroundcolor": "#E5ECF6",
            "gridcolor": "white",
            "gridwidth": 2,
            "linecolor": "white",
            "showbackground": true,
            "ticks": "",
            "zerolinecolor": "white"
           }
          },
          "shapedefaults": {
           "line": {
            "color": "#2a3f5f"
           }
          },
          "ternary": {
           "aaxis": {
            "gridcolor": "white",
            "linecolor": "white",
            "ticks": ""
           },
           "baxis": {
            "gridcolor": "white",
            "linecolor": "white",
            "ticks": ""
           },
           "bgcolor": "#E5ECF6",
           "caxis": {
            "gridcolor": "white",
            "linecolor": "white",
            "ticks": ""
           }
          },
          "title": {
           "x": 0.05
          },
          "xaxis": {
           "automargin": true,
           "gridcolor": "white",
           "linecolor": "white",
           "ticks": "",
           "title": {
            "standoff": 15
           },
           "zerolinecolor": "white",
           "zerolinewidth": 2
          },
          "yaxis": {
           "automargin": true,
           "gridcolor": "white",
           "linecolor": "white",
           "ticks": "",
           "title": {
            "standoff": 15
           },
           "zerolinecolor": "white",
           "zerolinewidth": 2
          }
         }
        },
        "title": {
         "text": "CompStak Coverage of DOE Data by State (%)"
        }
       }
      }
     },
     "metadata": {},
     "output_type": "display_data"
    }
   ],
   "source": [
    "# Create a map visualization of coverage by state\n",
    "# First, add state names to our data for mapping\n",
    "# This assumes statecode is the standard 2-letter state abbreviation\n",
    "\n",
    "# Define state code to state name mapping\n",
    "state_mapping = {\n",
    "    'AL': 'Alabama', 'AK': 'Alaska', 'AZ': 'Arizona', 'AR': 'Arkansas', 'CA': 'California',\n",
    "    'CO': 'Colorado', 'CT': 'Connecticut', 'DE': 'Delaware', 'FL': 'Florida', 'GA': 'Georgia',\n",
    "    'HI': 'Hawaii', 'ID': 'Idaho', 'IL': 'Illinois', 'IN': 'Indiana', 'IA': 'Iowa',\n",
    "    'KS': 'Kansas', 'KY': 'Kentucky', 'LA': 'Louisiana', 'ME': 'Maine', 'MD': 'Maryland',\n",
    "    'MA': 'Massachusetts', 'MI': 'Michigan', 'MN': 'Minnesota', 'MS': 'Mississippi', 'MO': 'Missouri',\n",
    "    'MT': 'Montana', 'NE': 'Nebraska', 'NV': 'Nevada', 'NH': 'New Hampshire', 'NJ': 'New Jersey',\n",
    "    'NM': 'New Mexico', 'NY': 'New York', 'NC': 'North Carolina', 'ND': 'North Dakota', 'OH': 'Ohio',\n",
    "    'OK': 'Oklahoma', 'OR': 'Oregon', 'PA': 'Pennsylvania', 'RI': 'Rhode Island', 'SC': 'South Carolina',\n",
    "    'SD': 'South Dakota', 'TN': 'Tennessee', 'TX': 'Texas', 'UT': 'Utah', 'VT': 'Vermont',\n",
    "    'VA': 'Virginia', 'WA': 'Washington', 'WV': 'West Virginia', 'WI': 'Wisconsin', 'WY': 'Wyoming',\n",
    "    'DC': 'District of Columbia'\n",
    "}\n",
    "\n",
    "# Add state names to the comparison dataframe\n",
    "state_comparison['state'] = state_comparison['statecode'].map(state_mapping)\n",
    "\n",
    "# Create choropleth map\n",
    "fig = px.choropleth(state_comparison,\n",
    "                    locations='statecode',\n",
    "                    locationmode='USA-states',\n",
    "                    color='coverage_pct',\n",
    "                    hover_name='state',\n",
    "                    scope='usa',\n",
    "                    color_continuous_scale='YlOrRd',\n",
    "                    labels={'coverage_pct': 'Coverage %'},\n",
    "                    hover_data=['doe_count', 'compstak_count', 'coverage_pct'],\n",
    "                    title='CompStak Coverage of DOE Data by State (%)')\n",
    "\n",
    "fig.update_layout(coloraxis_colorbar=dict(title='Coverage %'))\n",
    "fig.show()"
   ]
  },
  {
   "cell_type": "code",
   "execution_count": 14,
   "id": "3c0ed94b",
   "metadata": {},
   "outputs": [
    {
     "name": "stdout",
     "output_type": "stream",
     "text": [
      "Saved choropleth map to: C:\\Users\\clint\\Desktop\\compstak-analysis\\Images\\Corrected Data\\state_coverage_map.png\n",
      "Saved interactive HTML map to: C:\\Users\\clint\\Desktop\\compstak-analysis\\Images\\Corrected Data\\state_coverage_map.html\n"
     ]
    }
   ],
   "source": [
    "# Save the choropleth map to the output directory\n",
    "# For plotly figures, we need to install the kaleido package for static image export\n",
    "# !pip install -q kaleido\n",
    "\n",
    "choropleth_output_path = os.path.join(output_dir, 'state_coverage_map.png')\n",
    "fig.write_image(choropleth_output_path, width=1200, height=800)\n",
    "print(f\"Saved choropleth map to: {choropleth_output_path}\")\n",
    "\n",
    "# Also save as interactive HTML\n",
    "html_output_path = os.path.join(output_dir, 'state_coverage_map.html')\n",
    "fig.write_html(html_output_path)\n",
    "print(f\"Saved interactive HTML map to: {html_output_path}\")"
   ]
  },
  {
   "cell_type": "code",
   "execution_count": 15,
   "id": "8d79cc55",
   "metadata": {},
   "outputs": [
    {
     "name": "stdout",
     "output_type": "stream",
     "text": [
      "Total DOE records: 2,246,485\n",
      "Total CompStak records: 759,623\n",
      "Overall record coverage: 33.81%\n",
      "\n",
      "DOE records in common states: 2,246,485\n",
      "CompStak records in common states: 759,623\n",
      "Coverage for common states: 33.81%\n"
     ]
    }
   ],
   "source": [
    "# Calculate overall coverage metrics\n",
    "total_doe_records = doe_df.shape[0]\n",
    "total_compstak_records = compstak_df.shape[0]\n",
    "overall_coverage_ratio = total_compstak_records / total_doe_records * 100\n",
    "\n",
    "print(f\"Total DOE records: {total_doe_records:,}\")\n",
    "print(f\"Total CompStak records: {total_compstak_records:,}\")\n",
    "print(f\"Overall record coverage: {overall_coverage_ratio:.2f}%\")\n",
    "\n",
    "# Let's check coverage for states that are in both datasets\n",
    "doe_in_common = doe_df[doe_df['statecode'].isin(states_in_both)]\n",
    "compstak_in_common = compstak_df[compstak_df['statecode'].isin(states_in_both)]\n",
    "\n",
    "common_doe_records = doe_in_common.shape[0]\n",
    "common_compstak_records = compstak_in_common.shape[0]\n",
    "common_coverage_ratio = common_compstak_records / common_doe_records * 100 if common_doe_records > 0 else 0\n",
    "\n",
    "print(f\"\\nDOE records in common states: {common_doe_records:,}\")\n",
    "print(f\"CompStak records in common states: {common_compstak_records:,}\")\n",
    "print(f\"Coverage for common states: {common_coverage_ratio:.2f}%\")"
   ]
  },
  {
   "cell_type": "code",
   "execution_count": 16,
   "id": "120cfc45",
   "metadata": {},
   "outputs": [
    {
     "data": {
      "image/png": "[encoded data removed]",
      "text/plain": [
       "<Figure size 1000x600 with 1 Axes>"
      ]
     },
     "metadata": {},
     "output_type": "display_data"
    },
    {
     "name": "stdout",
     "output_type": "stream",
     "text": [
      "Saved coverage summary chart to: C:\\Users\\clint\\Desktop\\compstak-analysis\\Images\\Corrected Data\\coverage_summary.png\n"
     ]
    }
   ],
   "source": [
    "# Create a summary visualization showing coverage metrics\n",
    "metrics = ['Overall Coverage', 'Common States Coverage']\n",
    "values = [overall_coverage_ratio, common_coverage_ratio]\n",
    "\n",
    "plt.figure(figsize=(10, 6))\n",
    "bars = plt.bar(metrics, values, color=['skyblue', 'lightgreen'])\n",
    "plt.title('CompStak Coverage of DOE Data (%)', fontsize=16)\n",
    "plt.ylabel('Coverage Percentage (%)', fontsize=12)\n",
    "plt.ylim(0, 100)\n",
    "plt.grid(axis='y', linestyle='--', alpha=0.7)\n",
    "\n",
    "# Add value labels on top of bars\n",
    "for bar in bars:\n",
    "    height = bar.get_height()\n",
    "    plt.text(bar.get_x() + bar.get_width()/2., height + 2,\n",
    "            f'{height:.2f}%', ha='center', va='bottom', fontsize=12)\n",
    "\n",
    "plt.tight_layout()\n",
    "summary_output_path = os.path.join(output_dir, 'coverage_summary.png')\n",
    "plt.savefig(summary_output_path, dpi=300, bbox_inches='tight')\n",
    "plt.show()\n",
    "print(f\"Saved coverage summary chart to: {summary_output_path}\")"
   ]
  },
  {
   "cell_type": "markdown",
   "id": "40611700",
   "metadata": {},
   "source": [
    "## Saved Visualizations Summary\n",
    "\n",
    "All visualizations have been saved to: `C:\\Users\\clint\\Desktop\\compstak-analysis\\Images\\Corrected Data`\n",
    "\n",
    "The following files were created:\n",
    "\n",
    "1. `state_overlap_venn.png` - Venn diagram showing state code overlap\n",
    "2. `top15_states_coverage.png` - Bar chart with line showing DOE vs CompStak record counts for top 15 states\n",
    "3. `state_coverage_map.png` - Choropleth map showing coverage by state (static image)\n",
    "4. `state_coverage_map.html` - Interactive HTML version of the choropleth map\n",
    "5. `coverage_summary.png` - Summary chart of overall coverage metrics"
   ]
  }
 ],
 "metadata": {
  "kernelspec": {
   "display_name": "Python 3",
   "language": "python",
   "name": "python3"
  },
  "language_info": {
   "codemirror_mode": {
    "name": "ipython",
    "version": 3
   },
   "file_extension": ".py",
   "mimetype": "text/x-python",
   "name": "python",
   "nbconvert_exporter": "python",
   "pygments_lexer": "ipython3",
   "version": "3.11.9"
  }
 },
 "nbformat": 4,
 "nbformat_minor": 5
}
