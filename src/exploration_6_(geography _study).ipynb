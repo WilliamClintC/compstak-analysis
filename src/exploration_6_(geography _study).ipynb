{
 "cells": [
  {
   "cell_type": "markdown",
   "id": "35953757",
   "metadata": {},
   "source": [
    "**Understanding industry classifications**\n",
    "\n",
    "1. we must first understand what industry classification is best to use and the nuances between each one."
   ]
  },
  {
   "cell_type": "code",
   "execution_count": 1,
   "id": "01105c77",
   "metadata": {},
   "outputs": [
    {
     "name": "stderr",
     "output_type": "stream",
     "text": [
      "C:\\Users\\clint\\AppData\\Local\\Temp\\ipykernel_21912\\2352418797.py:13: DtypeWarning: Columns (8,52,73,77) have mixed types. Specify dtype option on import or set low_memory=False.\n",
      "  sales = pd.read_csv(path + 'university-of-british-columbia-sales-2025-04-02.csv')\n",
      "C:\\Users\\clint\\AppData\\Local\\Temp\\ipykernel_21912\\2352418797.py:14: DtypeWarning: Columns (15,35,37,59,61,67,71,73,76,77,78,80,82,85) have mixed types. Specify dtype option on import or set low_memory=False.\n",
      "  leases = pd.read_csv(path + 'university-of-british-columbia-leases-2025-04-02.csv')\n",
      "C:\\Users\\clint\\AppData\\Local\\Temp\\ipykernel_21912\\2352418797.py:14: DtypeWarning: Columns (15,35,37,59,61,67,71,73,76,77,78,80,82,85) have mixed types. Specify dtype option on import or set low_memory=False.\n",
      "  leases = pd.read_csv(path + 'university-of-british-columbia-leases-2025-04-02.csv')\n"
     ]
    }
   ],
   "source": [
    "import pandas as pd\n",
    "import matplotlib.pyplot as plt\n",
    "import numpy as np\n",
    "\n",
    "# Set paths here C:\\Users\\clint\\Desktop\\compstak-ra\\src\\exploration_1.ipynb\n",
    "#C:\\Users\\clint\\Desktop\\compstak-ra\\data\\data\\university-of-british-columbia-leases-2025-04-02.csv\n",
    "#C:\\Users\\clint\\Desktop\\compstak-ra\\data\\data\\university-of-british-columbia-sales-2025-04-02.csv\n",
    "#C:\\Users\\clint\\Desktop\\compstak-ra\\data\\data\\cb_2018_us_state_5m\\cb_2018_us_state_5m.shp\n",
    "path = 'C:/Users/clint/Desktop/data/data/'\n",
    "path_census = 'C:/Users/clint/Desktop/data/cb_2018_us_state_5m/'\n",
    "\n",
    "# Load the data\n",
    "sales = pd.read_csv(path + 'university-of-british-columbia-sales-2025-04-02.csv')\n",
    "leases = pd.read_csv(path + 'university-of-british-columbia-leases-2025-04-02.csv')"
   ]
  },
  {
   "cell_type": "markdown",
   "id": "39e53b01",
   "metadata": {},
   "source": [
    "# Investigating Property ID and State Consistency\n",
    "We will analyze whether a `Property Id` always corresponds to the same `State` in both the sales and leases datasets."
   ]
  },
  {
   "cell_type": "code",
   "execution_count": 2,
   "id": "bea42d85",
   "metadata": {},
   "outputs": [
    {
     "name": "stdout",
     "output_type": "stream",
     "text": [
      "All Property Ids in sales data are consistent with a single State.\n",
      "All Property Ids in leases data are consistent with a single State.\n"
     ]
    }
   ],
   "source": [
    "# Check if Property Id always corresponds to the same State in sales data\n",
    "sales_property_state_consistency = sales.groupby('Property Id')['State'].nunique()\n",
    "sales_inconsistent_properties = sales_property_state_consistency[sales_property_state_consistency > 1]\n",
    "if sales_inconsistent_properties.empty:\n",
    "    print('All Property Ids in sales data are consistent with a single State.')\n",
    "else:\n",
    "    print('Inconsistent Property Ids in sales data found:', sales_inconsistent_properties)\n",
    "\n",
    "# Check if Property Id always corresponds to the same State in leases data\n",
    "leases_property_state_consistency = leases.groupby('Property Id')['State'].nunique()\n",
    "leases_inconsistent_properties = leases_property_state_consistency[leases_property_state_consistency > 1]\n",
    "if leases_inconsistent_properties.empty:\n",
    "    print('All Property Ids in leases data are consistent with a single State.')\n",
    "else:\n",
    "    print('Inconsistent Property Ids in leases data found:', leases_inconsistent_properties)"
   ]
  },
  {
   "cell_type": "markdown",
   "id": "cd5e30b3",
   "metadata": {},
   "source": [
    "# Combining Sales and Leases Data for State Consistency Check\n",
    "We will combine the sales and leases datasets into one DataFrame and analyze whether a `Property Id` always corresponds to the same `State`."
   ]
  },
  {
   "cell_type": "code",
   "execution_count": 3,
   "id": "808b29a1",
   "metadata": {},
   "outputs": [
    {
     "name": "stdout",
     "output_type": "stream",
     "text": [
      "All Property Ids are consistent with a single State across sales and leases data.\n"
     ]
    }
   ],
   "source": [
    "# Combine sales and leases data\n",
    "sales['Source'] = 'Sales'\n",
    "leases['Source'] = 'Leases'\n",
    "combined_data = pd.concat([sales, leases], ignore_index=True)\n",
    "\n",
    "# Check if Property Id always corresponds to the same State\n",
    "combined_property_state_consistency = combined_data.groupby('Property Id')['State'].unique()\n",
    "inconsistent_properties_combined = combined_property_state_consistency[combined_property_state_consistency.apply(len) > 1]\n",
    "if inconsistent_properties_combined.empty:\n",
    "    print('All Property Ids are consistent with a single State across sales and leases data.')\n",
    "else:\n",
    "    print(f'Total inconsistent Property Ids for State: {len(inconsistent_properties_combined)}')\n",
    "    print('Inconsistent Property Ids found for State:')\n",
    "    for property_id, states in inconsistent_properties_combined.items():\n",
    "        print(f'Property Id {property_id} has multiple States: {list(states)}')"
   ]
  },
  {
   "cell_type": "markdown",
   "id": "598c9348",
   "metadata": {},
   "source": [
    "# Checking Property Type Consistency\n",
    "We will analyze whether a `Property Id` always corresponds to the same `Property Type` in the combined sales and leases dataset."
   ]
  },
  {
   "cell_type": "code",
   "execution_count": 4,
   "id": "efb30c4a",
   "metadata": {},
   "outputs": [
    {
     "name": "stdout",
     "output_type": "stream",
     "text": [
      "Total inconsistent Property Ids for Property Type: 39\n",
      "Inconsistent Property Ids found for Property Type:\n",
      "Property Id 418514 has multiple Property Types: ['Multi-Family', 'Other']\n",
      "Property Id 442121 has multiple Property Types: ['Land', 'Multi-Family']\n",
      "Property Id 470342 has multiple Property Types: [nan, 'Office']\n",
      "Property Id 470385 has multiple Property Types: [nan, 'Office']\n",
      "Property Id 470757 has multiple Property Types: ['Office', nan]\n",
      "Property Id 471077 has multiple Property Types: [nan, 'Office']\n",
      "Property Id 476365 has multiple Property Types: ['Office', 'Land']\n",
      "Property Id 577690 has multiple Property Types: [nan, 'Industrial']\n",
      "Property Id 624813 has multiple Property Types: ['Retail', nan]\n",
      "Property Id 646606 has multiple Property Types: [nan, 'Land']\n",
      "Property Id 665103 has multiple Property Types: ['Other', 'Office']\n",
      "Property Id 1019665 has multiple Property Types: [nan, 'Other']\n",
      "Property Id 1235355 has multiple Property Types: ['Retail', 'Industrial']\n",
      "Property Id 1251623 has multiple Property Types: ['Land', 'Office']\n",
      "Property Id 1375074 has multiple Property Types: ['Land', 'Multi-Family']\n",
      "Property Id 1470728 has multiple Property Types: ['Retail', 'Office']\n",
      "Property Id 1702654 has multiple Property Types: ['Retail', 'Multi-Family']\n",
      "Property Id 1721284 has multiple Property Types: ['Land', 'Industrial']\n",
      "Property Id 1721935 has multiple Property Types: ['Retail', nan]\n",
      "Property Id 1725734 has multiple Property Types: ['Office', 'Retail']\n",
      "Property Id 1768020 has multiple Property Types: ['Land', 'Retail']\n",
      "Property Id 1783304 has multiple Property Types: ['Land', nan]\n",
      "Property Id 1818335 has multiple Property Types: ['Retail', 'Multi-Family']\n",
      "Property Id 1825935 has multiple Property Types: ['Land', 'Multi-Family']\n",
      "Property Id 1832887 has multiple Property Types: ['Land', nan]\n",
      "Property Id 1973729 has multiple Property Types: ['Other', 'Retail']\n",
      "Property Id 1981969 has multiple Property Types: ['Retail', 'Industrial']\n",
      "Property Id 1992092 has multiple Property Types: ['Land', 'Retail']\n",
      "Property Id 2017235 has multiple Property Types: ['Retail', 'Mixed-Use']\n",
      "Property Id 2023360 has multiple Property Types: ['Retail', 'Office']\n",
      "Property Id 2106390 has multiple Property Types: ['Retail', nan]\n",
      "Property Id 2126846 has multiple Property Types: [nan, 'Retail']\n",
      "Property Id 2186407 has multiple Property Types: [nan, 'Other']\n",
      "Property Id 2295396 has multiple Property Types: [nan, 'Land']\n",
      "Property Id 2310705 has multiple Property Types: ['Retail', 'Office']\n",
      "Property Id 2423644 has multiple Property Types: ['Retail', 'Other']\n",
      "Property Id 2720291 has multiple Property Types: ['Land', 'Retail']\n",
      "Property Id 3141000 has multiple Property Types: ['Office', 'Other']\n",
      "Property Id 3587132 has multiple Property Types: ['Retail', 'Mixed-Use']\n"
     ]
    }
   ],
   "source": [
    "# Check if Property Id always corresponds to the same Property Type\n",
    "combined_property_type_consistency = combined_data.groupby('Property Id')['Property Type'].unique()\n",
    "inconsistent_property_types = combined_property_type_consistency[combined_property_type_consistency.apply(len) > 1]\n",
    "if inconsistent_property_types.empty:\n",
    "    print('All Property Ids are consistent with a single Property Type across sales and leases data.')\n",
    "else:\n",
    "    print(f'Total inconsistent Property Ids for Property Type: {len(inconsistent_property_types)}')\n",
    "    print('Inconsistent Property Ids found for Property Type:')\n",
    "    for property_id, property_types in inconsistent_property_types.items():\n",
    "        print(f'Property Id {property_id} has multiple Property Types: {list(property_types)}')"
   ]
  },
  {
   "cell_type": "markdown",
   "id": "ad3f5aa0",
   "metadata": {},
   "source": [
    "# Checking Property Subtype Consistency\n",
    "We will analyze whether a `Property Id` always corresponds to the same `Property Subtype` in the combined sales and leases dataset."
   ]
  },
  {
   "cell_type": "code",
   "execution_count": 5,
   "id": "31dde9ec",
   "metadata": {},
   "outputs": [
    {
     "name": "stdout",
     "output_type": "stream",
     "text": [
      "Total inconsistent Property Ids for Property Subtype: 96\n",
      "Inconsistent Property Ids found for Property Subtype:\n",
      "Property Id 21036 has multiple Property Subtypes: ['General Retail', nan]\n",
      "Property Id 353844 has multiple Property Subtypes: [nan, 'Vacant Land']\n",
      "Property Id 354461 has multiple Property Subtypes: [nan, 'Municipality/Public Service']\n",
      "Property Id 374802 has multiple Property Subtypes: [nan, 'Vacant Land']\n",
      "Property Id 398906 has multiple Property Subtypes: [nan, 'Vacant Land']\n",
      "Property Id 415099 has multiple Property Subtypes: ['General Retail', nan]\n",
      "Property Id 418514 has multiple Property Subtypes: ['Apartments', 'Sports & Recreation']\n",
      "Property Id 420902 has multiple Property Subtypes: [nan, 'Apartments']\n",
      "Property Id 422199 has multiple Property Subtypes: ['Outlet', 'Vacant Land']\n",
      "Property Id 433935 has multiple Property Subtypes: [nan, 'Municipality/Public Service']\n",
      "Property Id 434400 has multiple Property Subtypes: [nan, 'Vacant Land']\n",
      "Property Id 443800 has multiple Property Subtypes: ['Vacant Land', 'Super-Regional Center/Mall']\n",
      "Property Id 444319 has multiple Property Subtypes: ['Apartments', nan]\n",
      "Property Id 445159 has multiple Property Subtypes: ['General Retail', nan]\n",
      "Property Id 448126 has multiple Property Subtypes: ['Apartments', nan]\n",
      "Property Id 449199 has multiple Property Subtypes: ['General Retail', nan]\n",
      "Property Id 466525 has multiple Property Subtypes: ['General Retail', nan]\n",
      "Property Id 476566 has multiple Property Subtypes: ['Parking', 'Apartments']\n",
      "Property Id 485298 has multiple Property Subtypes: [nan, 'Shopping Centers']\n",
      "Property Id 489216 has multiple Property Subtypes: [nan, 'Parking']\n",
      "Property Id 490863 has multiple Property Subtypes: [nan, 'Automotive']\n",
      "Property Id 491210 has multiple Property Subtypes: ['Apartments', 'General Retail']\n",
      "Property Id 491863 has multiple Property Subtypes: ['Apartments', 'Vacant Land']\n",
      "Property Id 496416 has multiple Property Subtypes: [nan, 'Apartments']\n",
      "Property Id 508849 has multiple Property Subtypes: ['General Retail', 'Shopping Centers']\n",
      "Property Id 520174 has multiple Property Subtypes: [nan, 'Vacant Land']\n",
      "Property Id 538162 has multiple Property Subtypes: ['Vacant Land', nan]\n",
      "Property Id 567596 has multiple Property Subtypes: ['Super-Regional Center/Mall', 'Neighborhood Shopping Center']\n",
      "Property Id 581027 has multiple Property Subtypes: [nan, 'General Retail']\n",
      "Property Id 581309 has multiple Property Subtypes: ['Apartments', nan]\n",
      "Property Id 623357 has multiple Property Subtypes: ['Vacant Land', nan]\n",
      "Property Id 624813 has multiple Property Subtypes: ['Condominium', 'Apartments']\n",
      "Property Id 633831 has multiple Property Subtypes: ['Apartments', nan]\n",
      "Property Id 646161 has multiple Property Subtypes: ['General Retail', nan]\n",
      "Property Id 669817 has multiple Property Subtypes: [nan, 'Apartments']\n",
      "Property Id 679028 has multiple Property Subtypes: ['Apartments', nan]\n",
      "Property Id 699484 has multiple Property Subtypes: [nan, 'Apartments']\n",
      "Property Id 702675 has multiple Property Subtypes: ['Apartments', nan]\n",
      "Property Id 703449 has multiple Property Subtypes: [nan, 'Apartments']\n",
      "Property Id 731139 has multiple Property Subtypes: ['Apartments', 'Convenience/Strip Center']\n",
      "Property Id 742440 has multiple Property Subtypes: [nan, 'Apartments']\n",
      "Property Id 745417 has multiple Property Subtypes: ['Vacant Land', nan]\n",
      "Property Id 754857 has multiple Property Subtypes: [nan, 'Apartments']\n",
      "Property Id 755143 has multiple Property Subtypes: ['General Retail', nan]\n",
      "Property Id 757418 has multiple Property Subtypes: ['Apartments', nan]\n",
      "Property Id 849172 has multiple Property Subtypes: ['Flex/R&D', 'Business Park']\n",
      "Property Id 1204302 has multiple Property Subtypes: ['General Retail', nan]\n",
      "Property Id 1211995 has multiple Property Subtypes: [nan, 'Sports & Recreation']\n",
      "Property Id 1212507 has multiple Property Subtypes: ['Special Purpose', nan]\n",
      "Property Id 1235355 has multiple Property Subtypes: ['General Retail', 'Vacant Land']\n",
      "Property Id 1254651 has multiple Property Subtypes: ['Self-Storage', nan]\n",
      "Property Id 1255443 has multiple Property Subtypes: ['Vacant Land', 'Condominium']\n",
      "Property Id 1261872 has multiple Property Subtypes: [nan, 'Mixed-Use']\n",
      "Property Id 1272015 has multiple Property Subtypes: ['Freestanding', 'General Retail']\n",
      "Property Id 1311302 has multiple Property Subtypes: ['General Retail', 'Freestanding']\n",
      "Property Id 1418012 has multiple Property Subtypes: ['Warehouse/Distribution', 'Special Industrial']\n",
      "Property Id 1421693 has multiple Property Subtypes: ['Apartments', nan]\n",
      "Property Id 1431770 has multiple Property Subtypes: [nan, 'Vacant Land']\n",
      "Property Id 1448113 has multiple Property Subtypes: [nan, 'General Retail']\n",
      "Property Id 1449588 has multiple Property Subtypes: ['Apartments', 'Financial Building']\n",
      "Property Id 1451345 has multiple Property Subtypes: [nan, 'Apartments']\n",
      "Property Id 1684081 has multiple Property Subtypes: [nan, 'Light Industrial']\n",
      "Property Id 1705515 has multiple Property Subtypes: ['Manufacturing', 'Light Industrial']\n",
      "Property Id 1721935 has multiple Property Subtypes: ['Day Care Facility', nan]\n",
      "Property Id 1722765 has multiple Property Subtypes: ['Super-Regional Center/Mall', 'Convenience/Strip Center']\n",
      "Property Id 1724884 has multiple Property Subtypes: ['Vacant Land', nan]\n",
      "Property Id 1725903 has multiple Property Subtypes: ['General Retail', 'Community Shopping Center']\n",
      "Property Id 1743582 has multiple Property Subtypes: [nan, 'General Retail']\n",
      "Property Id 1765432 has multiple Property Subtypes: ['Apartments', nan]\n",
      "Property Id 1822722 has multiple Property Subtypes: ['Vacant Land', nan]\n",
      "Property Id 1858406 has multiple Property Subtypes: [nan, 'Apartments']\n",
      "Property Id 1866157 has multiple Property Subtypes: ['Hospitality Related', 'Apartments']\n",
      "Property Id 1922481 has multiple Property Subtypes: [nan, 'Apartments']\n",
      "Property Id 1929300 has multiple Property Subtypes: ['Condominium', nan]\n",
      "Property Id 2049015 has multiple Property Subtypes: ['General Retail', nan]\n",
      "Property Id 2050907 has multiple Property Subtypes: ['Apartments', nan]\n",
      "Property Id 2054074 has multiple Property Subtypes: [nan, 'Super-Regional Center/Mall']\n",
      "Property Id 2057688 has multiple Property Subtypes: [nan, 'Vacant Land']\n",
      "Property Id 2096757 has multiple Property Subtypes: [nan, 'Vacant Land']\n",
      "Property Id 2106390 has multiple Property Subtypes: ['Automotive', nan]\n",
      "Property Id 2144456 has multiple Property Subtypes: ['Parking', 'Restaurant/Bar']\n",
      "Property Id 2266042 has multiple Property Subtypes: ['Apartments', nan]\n",
      "Property Id 2288779 has multiple Property Subtypes: ['Parking', 'Warehouse/Distribution']\n",
      "Property Id 2292241 has multiple Property Subtypes: [nan, 'Warehouse/Distribution']\n",
      "Property Id 2295396 has multiple Property Subtypes: [nan, 'Vacant Land']\n",
      "Property Id 2330278 has multiple Property Subtypes: ['Apartments', nan]\n",
      "Property Id 2331364 has multiple Property Subtypes: ['Vacant Land', 'General Retail']\n",
      "Property Id 2423080 has multiple Property Subtypes: [nan, 'Vacant Land']\n",
      "Property Id 2425229 has multiple Property Subtypes: [nan, 'Restaurant/Bar']\n",
      "Property Id 2720291 has multiple Property Subtypes: ['Vacant Land', 'Mixed-Use']\n",
      "Property Id 3417569 has multiple Property Subtypes: [nan, 'Medical/Healthcare']\n",
      "Property Id 3417659 has multiple Property Subtypes: [nan, 'Mixed-Use']\n",
      "Property Id 3418319 has multiple Property Subtypes: [nan, 'Mixed-Use']\n",
      "Property Id 3464690 has multiple Property Subtypes: ['Warehouse/Distribution', 'Manufacturing']\n",
      "Property Id 3575908 has multiple Property Subtypes: ['Community Shopping Center', 'Vacant Land']\n",
      "Property Id 3587132 has multiple Property Subtypes: ['Apartments', 'Mixed-Use']\n"
     ]
    }
   ],
   "source": [
    "# Check if Property Id always corresponds to the same Property Subtype\n",
    "combined_property_subtype_consistency = combined_data.groupby('Property Id')['Property Subtype'].unique()\n",
    "inconsistent_property_subtypes = combined_property_subtype_consistency[combined_property_subtype_consistency.apply(len) > 1]\n",
    "if inconsistent_property_subtypes.empty:\n",
    "    print('All Property Ids are consistent with a single Property Subtype across sales and leases data.')\n",
    "else:\n",
    "    print(f'Total inconsistent Property Ids for Property Subtype: {len(inconsistent_property_subtypes)}')\n",
    "    print('Inconsistent Property Ids found for Property Subtype:')\n",
    "    for property_id, property_subtypes in inconsistent_property_subtypes.items():\n",
    "        print(f'Property Id {property_id} has multiple Property Subtypes: {list(property_subtypes)}')"
   ]
  },
  {
   "cell_type": "code",
   "execution_count": null,
   "id": "cb3ab314",
   "metadata": {},
   "outputs": [],
   "source": []
  }
 ],
 "metadata": {
  "kernelspec": {
   "display_name": "Python 3",
   "language": "python",
   "name": "python3"
  },
  "language_info": {
   "codemirror_mode": {
    "name": "ipython",
    "version": 3
   },
   "file_extension": ".py",
   "mimetype": "text/x-python",
   "name": "python",
   "nbconvert_exporter": "python",
   "pygments_lexer": "ipython3",
   "version": "3.11.9"
  }
 },
 "nbformat": 4,
 "nbformat_minor": 5
}
