{
 "cells": [
  {
   "cell_type": "code",
   "execution_count": null,
   "id": "bc7fa608",
   "metadata": {},
   "outputs": [],
   "source": [
    "# Install required packages\n",
    "!pip install matplotlib-venn"
   ]
  },
  {
   "cell_type": "code",
   "execution_count": 23,
   "id": "8f830655",
   "metadata": {},
   "outputs": [
    {
     "ename": "ModuleNotFoundError",
     "evalue": "No module named 'matplotlib_venn'",
     "output_type": "error",
     "traceback": [
      "\u001b[1;31m---------------------------------------------------------------------------\u001b[0m",
      "\u001b[1;31mModuleNotFoundError\u001b[0m                       Traceback (most recent call last)",
      "Cell \u001b[1;32mIn[23], line 5\u001b[0m\n\u001b[0;32m      3\u001b[0m \u001b[38;5;28;01mimport\u001b[39;00m \u001b[38;5;21;01mnumpy\u001b[39;00m \u001b[38;5;28;01mas\u001b[39;00m \u001b[38;5;21;01mnp\u001b[39;00m\n\u001b[0;32m      4\u001b[0m \u001b[38;5;28;01mimport\u001b[39;00m \u001b[38;5;21;01mseaborn\u001b[39;00m \u001b[38;5;28;01mas\u001b[39;00m \u001b[38;5;21;01msns\u001b[39;00m\n\u001b[1;32m----> 5\u001b[0m \u001b[38;5;28;01mfrom\u001b[39;00m \u001b[38;5;21;01mmatplotlib_venn\u001b[39;00m \u001b[38;5;28;01mimport\u001b[39;00m venn2\n\u001b[0;32m      7\u001b[0m \u001b[38;5;66;03m# Load the CSV files as DataFrames\u001b[39;00m\n\u001b[0;32m      8\u001b[0m compstak_df \u001b[38;5;241m=\u001b[39m pd\u001b[38;5;241m.\u001b[39mread_csv(\u001b[38;5;124mr\u001b[39m\u001b[38;5;124m'\u001b[39m\u001b[38;5;124mC:\u001b[39m\u001b[38;5;124m\\\u001b[39m\u001b[38;5;124mUsers\u001b[39m\u001b[38;5;124m\\\u001b[39m\u001b[38;5;124mclint\u001b[39m\u001b[38;5;124m\\\u001b[39m\u001b[38;5;124mDesktop\u001b[39m\u001b[38;5;124m\\\u001b[39m\u001b[38;5;124mcompstak-ra\u001b[39m\u001b[38;5;124m\\\u001b[39m\u001b[38;5;124mData\u001b[39m\u001b[38;5;124m\\\u001b[39m\u001b[38;5;124mcompstak.csv\u001b[39m\u001b[38;5;124m'\u001b[39m)\n",
      "\u001b[1;31mModuleNotFoundError\u001b[0m: No module named 'matplotlib_venn'"
     ]
    }
   ],
   "source": [
    "import pandas as pd\n",
    "import matplotlib.pyplot as plt\n",
    "import numpy as np\n",
    "import seaborn as sns\n",
    "from matplotlib_venn import venn2\n",
    "\n",
    "# Load the CSV files as DataFrames\n",
    "compstak_df = pd.read_csv(r'C:\\Users\\clint\\Desktop\\compstak-ra\\Data\\compstak.csv')\n",
    "doe_df = pd.read_csv(r'C:\\Users\\clint\\Desktop\\compstak-ra\\Data\\DOE.csv')"
   ]
  },
  {
   "cell_type": "code",
   "execution_count": null,
   "id": "bffa3a9f",
   "metadata": {},
   "outputs": [
    {
     "name": "stdout",
     "output_type": "stream",
     "text": [
      "Columns in compstak_df:\n",
      " ['Property Type', 'Property Subtype', 'Property Id', 'State']\n",
      "\n",
      "Columns in doe_df:\n",
      " ['statecode', 'reported_propertytype', 'reported_propertytype.1']\n"
     ]
    }
   ],
   "source": [
    "# Display column names in both DataFrames to confirm they exist\n",
    "print(\"Columns in compstak_df:\\n\", compstak_df.columns.tolist())\n",
    "print(\"\\nColumns in doe_df:\\n\", doe_df.columns.tolist())"
   ]
  },
  {
   "cell_type": "code",
   "execution_count": null,
   "id": "d90993d9",
   "metadata": {},
   "outputs": [
    {
     "name": "stdout",
     "output_type": "stream",
     "text": [
      "Unique values in 'Property Type' from compstak_df:\n",
      "['Hotel', 'Industrial', 'Land', 'Mixed-Use', 'Multi-Family', 'Office', 'Other', 'Retail']\n",
      "\n",
      "Number of unique values (excluding NaN): 8\n",
      "\n",
      "Unique values in 'reported_propertytype' from doe_df:\n",
      "['Flex', 'General Retail', 'Health Care', 'Hospitality', 'Industrial', 'Multi-Family', 'Office', 'Retail', 'Specialty', 'Sports & Entertainment', 'Unknown']\n",
      "\n",
      "Number of unique values (excluding NaN): 11\n",
      "['Flex', 'General Retail', 'Health Care', 'Hospitality', 'Industrial', 'Multi-Family', 'Office', 'Retail', 'Specialty', 'Sports & Entertainment', 'Unknown']\n",
      "\n",
      "Number of unique values (excluding NaN): 11\n"
     ]
    }
   ],
   "source": [
    "# Display unique values in each DataFrame\n",
    "print(\"Unique values in 'Property Type' from compstak_df:\")\n",
    "# Convert values to strings before sorting to handle mixed types\n",
    "property_type_values = [str(val) for val in compstak_df['Property Type'].dropna().unique()]\n",
    "print(sorted(property_type_values))\n",
    "print(\"\\nNumber of unique values (excluding NaN):\", len(property_type_values))\n",
    "\n",
    "print(\"\\nUnique values in 'reported_propertytype' from doe_df:\")\n",
    "reported_property_values = [str(val) for val in doe_df['reported_propertytype'].dropna().unique()]\n",
    "print(sorted(reported_property_values))\n",
    "print(\"\\nNumber of unique values (excluding NaN):\", len(reported_property_values))"
   ]
  },
  {
   "cell_type": "code",
   "execution_count": null,
   "id": "dec206c0",
   "metadata": {},
   "outputs": [
    {
     "name": "stdout",
     "output_type": "stream",
     "text": [
      "NaN values in 'Property Type' column of compstak_df: 37020\n",
      "NaN values in 'reported_propertytype' column of doe_df: 0\n"
     ]
    }
   ],
   "source": [
    "# Check for NaN values in the columns\n",
    "print(\"NaN values in 'Property Type' column of compstak_df:\", compstak_df['Property Type'].isna().sum())\n",
    "print(\"NaN values in 'reported_propertytype' column of doe_df:\", doe_df['reported_propertytype'].isna().sum())"
   ]
  },
  {
   "cell_type": "code",
   "execution_count": null,
   "id": "796184fc",
   "metadata": {},
   "outputs": [
    {
     "name": "stdout",
     "output_type": "stream",
     "text": [
      "Are the unique entries the same? False\n",
      "\n",
      "Entries in compstak_df 'Property Type' but not in doe_df 'reported_propertytype':\n",
      "['hotel', 'land', 'mixed-use', 'other']\n",
      "\n",
      "Entries in doe_df 'reported_propertytype' but not in compstak_df 'Property Type':\n",
      "['flex', 'general retail', 'health care', 'hospitality', 'specialty', 'sports & entertainment', 'unknown']\n"
     ]
    }
   ],
   "source": [
    "# Compare unique entries (converting to string and lowercase for fair comparison)\n",
    "unique_property_compstak = {str(val).lower() for val in compstak_df['Property Type'].dropna().unique()}\n",
    "unique_reported_property_doe = {str(val).lower() for val in doe_df['reported_propertytype'].dropna().unique()}\n",
    "\n",
    "# Check if the unique entries are the same (case insensitive)\n",
    "are_entries_same = unique_property_compstak == unique_reported_property_doe\n",
    "\n",
    "print(\"Are the unique entries the same?\", are_entries_same)\n",
    "\n",
    "if not are_entries_same:\n",
    "    print(\"\\nEntries in compstak_df 'Property Type' but not in doe_df 'reported_propertytype':\")\n",
    "    print(sorted(unique_property_compstak - unique_reported_property_doe))\n",
    "    print(\"\\nEntries in doe_df 'reported_propertytype' but not in compstak_df 'Property Type':\")\n",
    "    print(sorted(unique_reported_property_doe - unique_property_compstak))"
   ]
  },
  {
   "cell_type": "code",
   "execution_count": null,
   "id": "8ab413d9",
   "metadata": {},
   "outputs": [
    {
     "name": "stdout",
     "output_type": "stream",
     "text": [
      "Number of overlapping categories: 4\n",
      "\n",
      "Overlapping categories:\n",
      "- industrial\n",
      "- multi-family\n",
      "- office\n",
      "- retail\n",
      "\n",
      "Percentage of CompStak categories that overlap with DOE: 50.00%\n",
      "Percentage of DOE categories that overlap with CompStak: 36.36%\n"
     ]
    }
   ],
   "source": [
    "# Create sets of property types from each dataset (case insensitive)\n",
    "compstak_property_types = {str(val).lower() for val in compstak_df['Property Type'].dropna().unique()}\n",
    "doe_property_types = {str(val).lower() for val in doe_df['reported_propertytype'].dropna().unique()}\n",
    "\n",
    "# Find overlapping categories\n",
    "overlapping_categories = compstak_property_types.intersection(doe_property_types)\n",
    "\n",
    "print(f\"Number of overlapping categories: {len(overlapping_categories)}\")\n",
    "print(\"\\nOverlapping categories:\")\n",
    "for category in sorted(overlapping_categories):\n",
    "    print(f\"- {category}\")\n",
    "\n",
    "# Calculate percentages of overlap\n",
    "compstak_overlap_percentage = (len(overlapping_categories) / len(compstak_property_types)) * 100\n",
    "doe_overlap_percentage = (len(overlapping_categories) / len(doe_property_types)) * 100\n",
    "\n",
    "print(f\"\\nPercentage of CompStak categories that overlap with DOE: {compstak_overlap_percentage:.2f}%\")\n",
    "print(f\"Percentage of DOE categories that overlap with CompStak: {doe_overlap_percentage:.2f}%\")"
   ]
  },
  {
   "cell_type": "code",
   "execution_count": null,
   "id": "d3be41cd",
   "metadata": {},
   "outputs": [
    {
     "ename": "NameError",
     "evalue": "name 'plt' is not defined",
     "output_type": "error",
     "traceback": [
      "\u001b[1;31m---------------------------------------------------------------------------\u001b[0m",
      "\u001b[1;31mNameError\u001b[0m                                 Traceback (most recent call last)",
      "Cell \u001b[1;32mIn[22], line 2\u001b[0m\n\u001b[0;32m      1\u001b[0m \u001b[38;5;66;03m# Create a Venn diagram to visualize overlap between property type categories\u001b[39;00m\n\u001b[1;32m----> 2\u001b[0m \u001b[43mplt\u001b[49m\u001b[38;5;241m.\u001b[39mfigure(figsize\u001b[38;5;241m=\u001b[39m(\u001b[38;5;241m10\u001b[39m, \u001b[38;5;241m6\u001b[39m))\n\u001b[0;32m      3\u001b[0m venn2([compstak_property_types, doe_property_types], \n\u001b[0;32m      4\u001b[0m       set_labels\u001b[38;5;241m=\u001b[39m(\u001b[38;5;124m'\u001b[39m\u001b[38;5;124mCompStak Property Types\u001b[39m\u001b[38;5;124m'\u001b[39m, \u001b[38;5;124m'\u001b[39m\u001b[38;5;124mDOE Property Types\u001b[39m\u001b[38;5;124m'\u001b[39m))\n\u001b[0;32m      6\u001b[0m plt\u001b[38;5;241m.\u001b[39mtitle(\u001b[38;5;124m'\u001b[39m\u001b[38;5;124mOverlap between Property Type Categories\u001b[39m\u001b[38;5;124m'\u001b[39m, fontsize\u001b[38;5;241m=\u001b[39m\u001b[38;5;241m14\u001b[39m)\n",
      "\u001b[1;31mNameError\u001b[0m: name 'plt' is not defined"
     ]
    }
   ],
   "source": [
    "# Create a Venn diagram to visualize overlap between property type categories\n",
    "plt.figure(figsize=(10, 6))\n",
    "venn2([compstak_property_types, doe_property_types], \n",
    "      set_labels=('CompStak Property Types', 'DOE Property Types'))\n",
    "\n",
    "plt.title('Overlap between Property Type Categories', fontsize=14)\n",
    "plt.savefig('../Images/plots/property_type_overlap_venn.png', dpi=300, bbox_inches='tight')\n",
    "plt.show()"
   ]
  },
  {
   "cell_type": "code",
   "execution_count": null,
   "id": "ba169d72",
   "metadata": {},
   "outputs": [
    {
     "data": {
      "application/vnd.microsoft.datawrangler.viewer.v0+json": {
       "columns": [
        {
         "name": "index",
         "rawType": "int64",
         "type": "integer"
        },
        {
         "name": "Category",
         "rawType": "object",
         "type": "string"
        },
        {
         "name": "In CompStak",
         "rawType": "bool",
         "type": "boolean"
        },
        {
         "name": "In DOE",
         "rawType": "bool",
         "type": "boolean"
        },
        {
         "name": "CompStak Count",
         "rawType": "int64",
         "type": "integer"
        },
        {
         "name": "DOE Count",
         "rawType": "int64",
         "type": "integer"
        },
        {
         "name": "Status",
         "rawType": "object",
         "type": "string"
        }
       ],
       "conversionMethod": "pd.DataFrame",
       "ref": "e8473c5d-1317-4adf-a534-3151fcc72b82",
       "rows": [
        [
         "4",
         "hotel",
         "True",
         "False",
         "4969",
         "0",
         "CompStak Only"
        ],
        [
         "6",
         "land",
         "True",
         "False",
         "49983",
         "0",
         "CompStak Only"
        ],
        [
         "7",
         "mixed-use",
         "True",
         "False",
         "3707",
         "0",
         "CompStak Only"
        ],
        [
         "10",
         "other",
         "True",
         "False",
         "9792",
         "0",
         "CompStak Only"
        ],
        [
         "0",
         "flex",
         "False",
         "True",
         "0",
         "78783",
         "DOE Only"
        ],
        [
         "1",
         "general retail",
         "False",
         "True",
         "0",
         "15",
         "DOE Only"
        ],
        [
         "2",
         "health care",
         "False",
         "True",
         "0",
         "30641",
         "DOE Only"
        ],
        [
         "3",
         "hospitality",
         "False",
         "True",
         "0",
         "57189",
         "DOE Only"
        ],
        [
         "12",
         "specialty",
         "False",
         "True",
         "0",
         "161950",
         "DOE Only"
        ],
        [
         "13",
         "sports & entertainment",
         "False",
         "True",
         "0",
         "11966",
         "DOE Only"
        ],
        [
         "14",
         "unknown",
         "False",
         "True",
         "0",
         "6",
         "DOE Only"
        ],
        [
         "5",
         "industrial",
         "True",
         "True",
         "188239",
         "359986",
         "In Both"
        ],
        [
         "8",
         "multi-family",
         "True",
         "True",
         "84091",
         "244647",
         "In Both"
        ],
        [
         "9",
         "office",
         "True",
         "True",
         "141589",
         "388432",
         "In Both"
        ],
        [
         "11",
         "retail",
         "True",
         "True",
         "240233",
         "912870",
         "In Both"
        ]
       ],
       "shape": {
        "columns": 6,
        "rows": 15
       }
      },
      "text/html": [
       "<div>\n",
       "<style scoped>\n",
       "    .dataframe tbody tr th:only-of-type {\n",
       "        vertical-align: middle;\n",
       "    }\n",
       "\n",
       "    .dataframe tbody tr th {\n",
       "        vertical-align: top;\n",
       "    }\n",
       "\n",
       "    .dataframe thead th {\n",
       "        text-align: right;\n",
       "    }\n",
       "</style>\n",
       "<table border=\"1\" class=\"dataframe\">\n",
       "  <thead>\n",
       "    <tr style=\"text-align: right;\">\n",
       "      <th></th>\n",
       "      <th>Category</th>\n",
       "      <th>In CompStak</th>\n",
       "      <th>In DOE</th>\n",
       "      <th>CompStak Count</th>\n",
       "      <th>DOE Count</th>\n",
       "      <th>Status</th>\n",
       "    </tr>\n",
       "  </thead>\n",
       "  <tbody>\n",
       "    <tr>\n",
       "      <th>4</th>\n",
       "      <td>hotel</td>\n",
       "      <td>True</td>\n",
       "      <td>False</td>\n",
       "      <td>4969</td>\n",
       "      <td>0</td>\n",
       "      <td>CompStak Only</td>\n",
       "    </tr>\n",
       "    <tr>\n",
       "      <th>6</th>\n",
       "      <td>land</td>\n",
       "      <td>True</td>\n",
       "      <td>False</td>\n",
       "      <td>49983</td>\n",
       "      <td>0</td>\n",
       "      <td>CompStak Only</td>\n",
       "    </tr>\n",
       "    <tr>\n",
       "      <th>7</th>\n",
       "      <td>mixed-use</td>\n",
       "      <td>True</td>\n",
       "      <td>False</td>\n",
       "      <td>3707</td>\n",
       "      <td>0</td>\n",
       "      <td>CompStak Only</td>\n",
       "    </tr>\n",
       "    <tr>\n",
       "      <th>10</th>\n",
       "      <td>other</td>\n",
       "      <td>True</td>\n",
       "      <td>False</td>\n",
       "      <td>9792</td>\n",
       "      <td>0</td>\n",
       "      <td>CompStak Only</td>\n",
       "    </tr>\n",
       "    <tr>\n",
       "      <th>0</th>\n",
       "      <td>flex</td>\n",
       "      <td>False</td>\n",
       "      <td>True</td>\n",
       "      <td>0</td>\n",
       "      <td>78783</td>\n",
       "      <td>DOE Only</td>\n",
       "    </tr>\n",
       "    <tr>\n",
       "      <th>1</th>\n",
       "      <td>general retail</td>\n",
       "      <td>False</td>\n",
       "      <td>True</td>\n",
       "      <td>0</td>\n",
       "      <td>15</td>\n",
       "      <td>DOE Only</td>\n",
       "    </tr>\n",
       "    <tr>\n",
       "      <th>2</th>\n",
       "      <td>health care</td>\n",
       "      <td>False</td>\n",
       "      <td>True</td>\n",
       "      <td>0</td>\n",
       "      <td>30641</td>\n",
       "      <td>DOE Only</td>\n",
       "    </tr>\n",
       "    <tr>\n",
       "      <th>3</th>\n",
       "      <td>hospitality</td>\n",
       "      <td>False</td>\n",
       "      <td>True</td>\n",
       "      <td>0</td>\n",
       "      <td>57189</td>\n",
       "      <td>DOE Only</td>\n",
       "    </tr>\n",
       "    <tr>\n",
       "      <th>12</th>\n",
       "      <td>specialty</td>\n",
       "      <td>False</td>\n",
       "      <td>True</td>\n",
       "      <td>0</td>\n",
       "      <td>161950</td>\n",
       "      <td>DOE Only</td>\n",
       "    </tr>\n",
       "    <tr>\n",
       "      <th>13</th>\n",
       "      <td>sports &amp; entertainment</td>\n",
       "      <td>False</td>\n",
       "      <td>True</td>\n",
       "      <td>0</td>\n",
       "      <td>11966</td>\n",
       "      <td>DOE Only</td>\n",
       "    </tr>\n",
       "    <tr>\n",
       "      <th>14</th>\n",
       "      <td>unknown</td>\n",
       "      <td>False</td>\n",
       "      <td>True</td>\n",
       "      <td>0</td>\n",
       "      <td>6</td>\n",
       "      <td>DOE Only</td>\n",
       "    </tr>\n",
       "    <tr>\n",
       "      <th>5</th>\n",
       "      <td>industrial</td>\n",
       "      <td>True</td>\n",
       "      <td>True</td>\n",
       "      <td>188239</td>\n",
       "      <td>359986</td>\n",
       "      <td>In Both</td>\n",
       "    </tr>\n",
       "    <tr>\n",
       "      <th>8</th>\n",
       "      <td>multi-family</td>\n",
       "      <td>True</td>\n",
       "      <td>True</td>\n",
       "      <td>84091</td>\n",
       "      <td>244647</td>\n",
       "      <td>In Both</td>\n",
       "    </tr>\n",
       "    <tr>\n",
       "      <th>9</th>\n",
       "      <td>office</td>\n",
       "      <td>True</td>\n",
       "      <td>True</td>\n",
       "      <td>141589</td>\n",
       "      <td>388432</td>\n",
       "      <td>In Both</td>\n",
       "    </tr>\n",
       "    <tr>\n",
       "      <th>11</th>\n",
       "      <td>retail</td>\n",
       "      <td>True</td>\n",
       "      <td>True</td>\n",
       "      <td>240233</td>\n",
       "      <td>912870</td>\n",
       "      <td>In Both</td>\n",
       "    </tr>\n",
       "  </tbody>\n",
       "</table>\n",
       "</div>"
      ],
      "text/plain": [
       "                  Category  In CompStak  In DOE  CompStak Count  DOE Count  \\\n",
       "4                    hotel         True   False            4969          0   \n",
       "6                     land         True   False           49983          0   \n",
       "7                mixed-use         True   False            3707          0   \n",
       "10                   other         True   False            9792          0   \n",
       "0                     flex        False    True               0      78783   \n",
       "1           general retail        False    True               0         15   \n",
       "2              health care        False    True               0      30641   \n",
       "3              hospitality        False    True               0      57189   \n",
       "12               specialty        False    True               0     161950   \n",
       "13  sports & entertainment        False    True               0      11966   \n",
       "14                 unknown        False    True               0          6   \n",
       "5               industrial         True    True          188239     359986   \n",
       "8             multi-family         True    True           84091     244647   \n",
       "9                   office         True    True          141589     388432   \n",
       "11                  retail         True    True          240233     912870   \n",
       "\n",
       "           Status  \n",
       "4   CompStak Only  \n",
       "6   CompStak Only  \n",
       "7   CompStak Only  \n",
       "10  CompStak Only  \n",
       "0        DOE Only  \n",
       "1        DOE Only  \n",
       "2        DOE Only  \n",
       "3        DOE Only  \n",
       "12       DOE Only  \n",
       "13       DOE Only  \n",
       "14       DOE Only  \n",
       "5         In Both  \n",
       "8         In Both  \n",
       "9         In Both  \n",
       "11        In Both  "
      ]
     },
     "metadata": {},
     "output_type": "display_data"
    }
   ],
   "source": [
    "# Create a more detailed analysis of category distribution\n",
    "\n",
    "# Prepare data for visualization\n",
    "category_comparison = pd.DataFrame({\n",
    "    'Category': sorted(compstak_property_types.union(doe_property_types)),\n",
    "    'In CompStak': [cat in compstak_property_types for cat in sorted(compstak_property_types.union(doe_property_types))],\n",
    "    'In DOE': [cat in doe_property_types for cat in sorted(compstak_property_types.union(doe_property_types))]\n",
    "})\n",
    "\n",
    "# Count occurrences of each category in both datasets\n",
    "compstak_counts = compstak_df['Property Type'].str.lower().value_counts().to_dict()\n",
    "doe_counts = doe_df['reported_propertytype'].str.lower().value_counts().to_dict()\n",
    "\n",
    "# Add count columns\n",
    "category_comparison['CompStak Count'] = category_comparison['Category'].apply(lambda x: compstak_counts.get(x, 0))\n",
    "category_comparison['DOE Count'] = category_comparison['Category'].apply(lambda x: doe_counts.get(x, 0))\n",
    "\n",
    "# Add overlap status column\n",
    "category_comparison['Status'] = category_comparison.apply(\n",
    "    lambda row: 'In Both' if row['In CompStak'] and row['In DOE'] else \n",
    "                ('CompStak Only' if row['In CompStak'] else 'DOE Only'), \n",
    "    axis=1\n",
    ")\n",
    "\n",
    "# Display the comparison table\n",
    "display(category_comparison.sort_values('Status'))"
   ]
  },
  {
   "cell_type": "code",
   "execution_count": null,
   "id": "005a29cb",
   "metadata": {},
   "outputs": [],
   "source": [
    "# Create a horizontal bar chart comparing category counts\n",
    "plt.figure(figsize=(12, max(8, len(category_comparison) * 0.4)))\n",
    "\n",
    "# Plot\n",
    "ax = sns.barplot(data=category_comparison, y='Category', x='CompStak Count', color='blue', alpha=0.6, label='CompStak')\n",
    "sns.barplot(data=category_comparison, y='Category', x='DOE Count', color='red', alpha=0.6, label='DOE')\n",
    "\n",
    "# Add labels and title\n",
    "plt.xlabel('Count of Properties')\n",
    "plt.ylabel('Property Type Category')\n",
    "plt.title('Comparison of Property Type Categories between CompStak and DOE')\n",
    "plt.legend()\n",
    "\n",
    "# Color-code the y-axis labels based on overlap status\n",
    "for i, status in enumerate(category_comparison['Status']):\n",
    "    if status == 'In Both':\n",
    "        color = 'purple'\n",
    "    elif status == 'CompStak Only':\n",
    "        color = 'blue'\n",
    "    else:  # DOE Only\n",
    "        color = 'red'\n",
    "    ax.get_yticklabels()[i].set_color(color)\n",
    "\n",
    "plt.tight_layout()\n",
    "plt.savefig('../Images/plots/property_type_comparison_chart.png', dpi=300, bbox_inches='tight')\n",
    "plt.show()"
   ]
  }
 ],
 "metadata": {
  "kernelspec": {
   "display_name": "Python 3",
   "language": "python",
   "name": "python3"
  },
  "language_info": {
   "codemirror_mode": {
    "name": "ipython",
    "version": 3
   },
   "file_extension": ".py",
   "mimetype": "text/x-python",
   "name": "python",
   "nbconvert_exporter": "python",
   "pygments_lexer": "ipython3",
   "version": "3.11.9"
  }
 },
 "nbformat": 4,
 "nbformat_minor": 5
}
