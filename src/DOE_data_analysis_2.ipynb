{
 "cells": [
  {
   "cell_type": "code",
   "execution_count": 17,
   "id": "8f830655",
   "metadata": {},
   "outputs": [],
   "source": [
    "import pandas as pd\n",
    "import matplotlib.pyplot as plt\n",
    "import numpy as np\n",
    "import seaborn as sns\n",
    "from matplotlib_venn import venn2\n",
    "\n",
    "# Load the CSV files as DataFrames\n",
    "compstak_df = pd.read_csv(r'C:\\Users\\clint\\Desktop\\compstak-analysis\\Data\\compstak.csv')\n",
    "doe_df = pd.read_csv(r'C:\\Users\\clint\\Desktop\\compstak-analysis\\Data\\DOE.csv')"
   ]
  },
  {
   "cell_type": "code",
   "execution_count": 18,
   "id": "bffa3a9f",
   "metadata": {},
   "outputs": [
    {
     "name": "stdout",
     "output_type": "stream",
     "text": [
      "Columns in compstak_df:\n",
      " ['Property Type', 'Property Subtype', 'Property Id', 'State']\n",
      "\n",
      "Columns in doe_df:\n",
      " ['statecode', 'reported_propertytype', 'reported_propertysubtype']\n"
     ]
    }
   ],
   "source": [
    "# Display column names in both DataFrames to confirm they exist\n",
    "print(\"Columns in compstak_df:\\n\", compstak_df.columns.tolist())\n",
    "print(\"\\nColumns in doe_df:\\n\", doe_df.columns.tolist())"
   ]
  },
  {
   "cell_type": "code",
   "execution_count": 19,
   "id": "d90993d9",
   "metadata": {},
   "outputs": [
    {
     "name": "stdout",
     "output_type": "stream",
     "text": [
      "Unique values in 'Property Type' from compstak_df:\n",
      "['Hotel', 'Industrial', 'Land', 'Mixed-Use', 'Multi-Family', 'Office', 'Other', 'Retail']\n",
      "\n",
      "Number of unique values (excluding NaN): 8\n",
      "\n",
      "Unique values in 'reported_propertytype' from doe_df:\n",
      "['Flex', 'General Retail', 'Health Care', 'Hospitality', 'Industrial', 'Multi-Family', 'Office', 'Retail', 'Specialty', 'Sports & Entertainment', 'Unknown']\n",
      "\n",
      "Number of unique values (excluding NaN): 11\n"
     ]
    }
   ],
   "source": [
    "# Display unique values in each DataFrame\n",
    "print(\"Unique values in 'Property Type' from compstak_df:\")\n",
    "# Convert values to strings before sorting to handle mixed types\n",
    "property_type_values = [str(val) for val in compstak_df['Property Type'].dropna().unique()]\n",
    "print(sorted(property_type_values))\n",
    "print(\"\\nNumber of unique values (excluding NaN):\", len(property_type_values))\n",
    "\n",
    "print(\"\\nUnique values in 'reported_propertytype' from doe_df:\")\n",
    "reported_property_values = [str(val) for val in doe_df['reported_propertytype'].dropna().unique()]\n",
    "print(sorted(reported_property_values))\n",
    "print(\"\\nNumber of unique values (excluding NaN):\", len(reported_property_values))"
   ]
  },
  {
   "cell_type": "code",
   "execution_count": 20,
   "id": "b18b14b5",
   "metadata": {},
   "outputs": [
    {
     "name": "stdout",
     "output_type": "stream",
     "text": [
      "Unique values in 'Property Subtype' from compstak_df:\n",
      "['Apartments', 'Assembly/Meeting Place', 'Automotive', 'Bank', 'Business Park', 'Communication/Data Center', 'Community Shopping Center', 'Community/Recreation Center', 'Condominium', 'Convenience/Strip Center', 'Creative', 'Day Care Facility', 'Department Store', 'Drive Thru', 'Educational/School', 'Financial Building', 'Flex/R&D', 'Freestanding', 'Fuel & Service Station', 'Funeral/Mortuary', 'General Retail', 'Heavy Industrial', 'Hospital/Healthcare Facility', 'Hospitality Related', 'Housing', 'Industrial Outdoor Storage', 'Inline', 'Life Science/Lab', 'Light Industrial', 'Live/Work', 'Manufacturing', 'Medical/Healthcare', 'Mixed-Use', 'Mobile Home Park', 'Municipality/Public Service', 'Neighborhood Shopping Center', 'Outlet', 'Parking', 'Processing', 'Professional Building', 'Refrigerated/Cold Storage', 'Restaurant/Bar', 'Self-Storage', 'Senior Housing', 'Shopping Centers', 'Showroom', 'Special Industrial', 'Special Purpose', 'Sports & Recreation', 'Street Retail/Storefront', 'Student Housing', 'Super-Regional Center/Mall', 'Transportation', 'Under Construction', 'Vacant Land', 'Warehouse/Distribution']\n",
      "\n",
      "Number of unique values (excluding NaN): 56\n",
      "\n",
      "Unique values in 'reported_propertysubtype' from doe_df:\n",
      "['Airplane Hangar', 'Airport', 'Amusement Park', 'Apartments', 'Assisted Living', 'Auto Dealership', 'Auto Repair', 'Auto Salvage Facility', 'Bank', 'Bar', 'Baseball Field', 'Bowling Alley', 'Car Wash', 'Casino', 'Cement/Gravel Plant', 'Cemetery/Mausoleum', 'Chemical/Oil Refinery', 'Congregate Senior Housing', 'Continuing Care Retirement Community', 'Contractor Storage Yard', 'Convenience Store', 'Correctional Facility', 'Day Care Center', 'Department Store', 'Distribution', 'Dormitory', 'Drive-in Movie', 'Drug Store', 'Fast Food', 'Food Processing', 'Freestanding', 'Funeral Home', 'Garden Center', 'Golf Course/Driving Range', 'Health Club', 'Horse Stables', 'Hospital', 'Hotel', 'Hotel Casino', 'Industrial Live/Work Unit', 'Landfill', 'Light Distribution', 'Light Manufacturing', 'Lodge/Meeting Hall', 'Loft/Creative Space', 'Lumberyard', 'Manufactured Housing/Mobile Home Park', 'Manufacturing', 'Marina', 'Medical', 'Motel', 'Movie Theatre', 'Movie/Radio/TV Studio', 'Office Live/Work Unit', 'Office/Residential', 'Parking Garage', 'Parking Lot', 'Police / Fire Station', 'Post Office', 'Public Library', 'R&D', 'Race Track', 'Radio/TV Transmission Facilities', 'Railroad Yard', 'Recycling Center', 'Refrigeration/Cold Storage', 'Rehabilitation Center', 'Religious Facility', 'Residential Income', 'Restaurant', 'Schools', 'Self-Storage', 'Service', 'Service Station', 'Shelter', 'Shipyard', 'Showroom', 'Single Room Occupancy Hotel', 'Skating Rink', 'Skilled Nursing Facility', 'Sorority / Fraternity House', 'Storefront', 'Storefront Retail/Office', 'Storefront Retail/Residential', 'Supermarket', 'Swimming Pool', 'Telecom Hotel/Data Hosting', 'Theater/Concert Hall', 'Trailer / Camper Park', 'Truck Stop', 'Truck Terminal', 'Utility Sub-Station', 'Veterinarian/Kennel', 'Warehouse', 'Water Retention Facility', 'Water Treatment Facility', 'Winery/Vineyard']\n",
      "\n",
      "Number of unique values (excluding NaN): 97\n"
     ]
    }
   ],
   "source": [
    "# Display unique values in each DataFrame for Property Subtype\n",
    "print(\"Unique values in 'Property Subtype' from compstak_df:\")\n",
    "property_subtype_values = [str(val) for val in compstak_df['Property Subtype'].dropna().unique()]\n",
    "print(sorted(property_subtype_values))\n",
    "print(\"\\nNumber of unique values (excluding NaN):\", len(property_subtype_values))\n",
    "\n",
    "print(\"\\nUnique values in 'reported_propertysubtype' from doe_df:\")\n",
    "reported_propertysubtype_values = [str(val) for val in doe_df['reported_propertysubtype'].dropna().unique()]\n",
    "print(sorted(reported_propertysubtype_values))\n",
    "print(\"\\nNumber of unique values (excluding NaN):\", len(reported_propertysubtype_values))"
   ]
  },
  {
   "cell_type": "code",
   "execution_count": 21,
   "id": "dec206c0",
   "metadata": {},
   "outputs": [
    {
     "name": "stdout",
     "output_type": "stream",
     "text": [
      "NaN values in 'Property Type' column of compstak_df: 37020\n",
      "NaN values in 'reported_propertytype' column of doe_df: 0\n",
      "NaN values in 'Property Subtype' column of compstak_df: 213255\n",
      "NaN values in 'reported_propertysubtype' column of doe_df: 516271\n"
     ]
    }
   ],
   "source": [
    "# Check for NaN values in the columns\n",
    "print(\"NaN values in 'Property Type' column of compstak_df:\", compstak_df['Property Type'].isna().sum())\n",
    "print(\"NaN values in 'reported_propertytype' column of doe_df:\", doe_df['reported_propertytype'].isna().sum())\n",
    "print(\"NaN values in 'Property Subtype' column of compstak_df:\", compstak_df['Property Subtype'].isna().sum())\n",
    "print(\"NaN values in 'reported_propertysubtype' column of doe_df:\", doe_df['reported_propertysubtype'].isna().sum())"
   ]
  },
  {
   "cell_type": "code",
   "execution_count": 22,
   "id": "b0de7f23",
   "metadata": {},
   "outputs": [
    {
     "name": "stdout",
     "output_type": "stream",
     "text": [
      "NaN values in 'Property Subtype': 213255 / 759623\n",
      "Percentage of NaN values in 'Property Subtype': 28.07%\n",
      "NaN values in 'Property Type': 37020 / 759623\n",
      "Percentage of NaN values in 'Property Type': 4.87%\n"
     ]
    }
   ],
   "source": [
    "# Calculate and print percentage of NaN values in 'Property Subtype' column\n",
    "nan_count_subtype = compstak_df['Property Subtype'].isna().sum()\n",
    "total_rows = len(compstak_df)\n",
    "print(f\"NaN values in 'Property Subtype': {nan_count_subtype} / {total_rows}\")\n",
    "percentage_nan_subtype = (nan_count_subtype / total_rows) * 100\n",
    "print(f\"Percentage of NaN values in 'Property Subtype': {percentage_nan_subtype:.2f}%\")\n",
    "\n",
    "# Calculate and print percentage of NaN values in 'Property Type' column\n",
    "nan_count_type = compstak_df['Property Type'].isna().sum()\n",
    "print(f\"NaN values in 'Property Type': {nan_count_type} / {total_rows}\")\n",
    "percentage_nan_type = (nan_count_type / total_rows) * 100\n",
    "print(f\"Percentage of NaN values in 'Property Type': {percentage_nan_type:.2f}%\")"
   ]
  },
  {
   "cell_type": "code",
   "execution_count": 23,
   "id": "796184fc",
   "metadata": {},
   "outputs": [
    {
     "name": "stdout",
     "output_type": "stream",
     "text": [
      "Are the unique entries the same? False\n",
      "\n",
      "Entries in compstak_df 'Property Type' but not in doe_df 'reported_propertytype':\n",
      "['hotel', 'land', 'mixed-use', 'other']\n",
      "\n",
      "Entries in doe_df 'reported_propertytype' but not in compstak_df 'Property Type':\n",
      "['flex', 'general retail', 'health care', 'hospitality', 'specialty', 'sports & entertainment', 'unknown']\n"
     ]
    }
   ],
   "source": [
    "# Compare unique entries (converting to string and lowercase for fair comparison)\n",
    "unique_property_compstak = {str(val).lower() for val in compstak_df['Property Type'].dropna().unique()}\n",
    "unique_reported_property_doe = {str(val).lower() for val in doe_df['reported_propertytype'].dropna().unique()}\n",
    "\n",
    "# Check if the unique entries are the same (case insensitive)\n",
    "are_entries_same = unique_property_compstak == unique_reported_property_doe\n",
    "\n",
    "print(\"Are the unique entries the same?\", are_entries_same)\n",
    "\n",
    "if not are_entries_same:\n",
    "    print(\"\\nEntries in compstak_df 'Property Type' but not in doe_df 'reported_propertytype':\")\n",
    "    print(sorted(unique_property_compstak - unique_reported_property_doe))\n",
    "    print(\"\\nEntries in doe_df 'reported_propertytype' but not in compstak_df 'Property Type':\")\n",
    "    print(sorted(unique_reported_property_doe - unique_property_compstak))"
   ]
  },
  {
   "cell_type": "code",
   "execution_count": 24,
   "id": "8ab413d9",
   "metadata": {},
   "outputs": [
    {
     "name": "stdout",
     "output_type": "stream",
     "text": [
      "Number of overlapping categories: 4\n",
      "\n",
      "Overlapping categories:\n",
      "- industrial\n",
      "- multi-family\n",
      "- office\n",
      "- retail\n",
      "\n",
      "Percentage of CompStak categories that overlap with DOE: 50.00%\n",
      "Percentage of DOE categories that overlap with CompStak: 36.36%\n"
     ]
    }
   ],
   "source": [
    "# Create sets of property types from each dataset (case insensitive)\n",
    "compstak_property_types = {str(val).lower() for val in compstak_df['Property Type'].dropna().unique()}\n",
    "doe_property_types = {str(val).lower() for val in doe_df['reported_propertytype'].dropna().unique()}\n",
    "\n",
    "# Find overlapping categories\n",
    "overlapping_categories = compstak_property_types.intersection(doe_property_types)\n",
    "\n",
    "print(f\"Number of overlapping categories: {len(overlapping_categories)}\")\n",
    "print(\"\\nOverlapping categories:\")\n",
    "for category in sorted(overlapping_categories):\n",
    "    print(f\"- {category}\")\n",
    "\n",
    "# Calculate percentages of overlap\n",
    "compstak_overlap_percentage = (len(overlapping_categories) / len(compstak_property_types)) * 100\n",
    "doe_overlap_percentage = (len(overlapping_categories) / len(doe_property_types)) * 100\n",
    "\n",
    "print(f\"\\nPercentage of CompStak categories that overlap with DOE: {compstak_overlap_percentage:.2f}%\")\n",
    "print(f\"Percentage of DOE categories that overlap with CompStak: {doe_overlap_percentage:.2f}%\")"
   ]
  },
  {
   "cell_type": "code",
   "execution_count": 25,
   "id": "d3be41cd",
   "metadata": {},
   "outputs": [
    {
     "data": {
      "image/png": "[encoded data removed]",
      "text/plain": [
       "<Figure size 1000x600 with 1 Axes>"
      ]
     },
     "metadata": {},
     "output_type": "display_data"
    }
   ],
   "source": [
    "# Create a Venn diagram to visualize overlap between property type categories\n",
    "plt.figure(figsize=(10, 6))\n",
    "venn2([compstak_property_types, doe_property_types], \n",
    "      set_labels=('CompStak Property Types', 'DOE Property Types'))\n",
    "\n",
    "plt.title('Overlap between Property Type Categories', fontsize=14)\n",
    "plt.savefig('../Images/plots/property_type_overlap_venn.png', dpi=300, bbox_inches='tight')\n",
    "plt.show()"
   ]
  },
  {
   "cell_type": "code",
   "execution_count": 26,
   "id": "ba169d72",
   "metadata": {},
   "outputs": [
    {
     "data": {
      "application/vnd.microsoft.datawrangler.viewer.v0+json": {
       "columns": [
        {
         "name": "index",
         "rawType": "int64",
         "type": "integer"
        },
        {
         "name": "Category",
         "rawType": "object",
         "type": "string"
        },
        {
         "name": "In CompStak",
         "rawType": "bool",
         "type": "boolean"
        },
        {
         "name": "In DOE",
         "rawType": "bool",
         "type": "boolean"
        },
        {
         "name": "CompStak Count",
         "rawType": "int64",
         "type": "integer"
        },
        {
         "name": "DOE Count",
         "rawType": "int64",
         "type": "integer"
        },
        {
         "name": "Status",
         "rawType": "object",
         "type": "string"
        }
       ],
       "conversionMethod": "pd.DataFrame",
       "ref": "2c0e1289-7337-4ff4-b165-d869a9664155",
       "rows": [
        [
         "4",
         "hotel",
         "True",
         "False",
         "4969",
         "0",
         "CompStak Only"
        ],
        [
         "6",
         "land",
         "True",
         "False",
         "49983",
         "0",
         "CompStak Only"
        ],
        [
         "7",
         "mixed-use",
         "True",
         "False",
         "3707",
         "0",
         "CompStak Only"
        ],
        [
         "10",
         "other",
         "True",
         "False",
         "9792",
         "0",
         "CompStak Only"
        ],
        [
         "0",
         "flex",
         "False",
         "True",
         "0",
         "78783",
         "DOE Only"
        ],
        [
         "1",
         "general retail",
         "False",
         "True",
         "0",
         "15",
         "DOE Only"
        ],
        [
         "2",
         "health care",
         "False",
         "True",
         "0",
         "30641",
         "DOE Only"
        ],
        [
         "3",
         "hospitality",
         "False",
         "True",
         "0",
         "57189",
         "DOE Only"
        ],
        [
         "12",
         "specialty",
         "False",
         "True",
         "0",
         "161950",
         "DOE Only"
        ],
        [
         "13",
         "sports & entertainment",
         "False",
         "True",
         "0",
         "11966",
         "DOE Only"
        ],
        [
         "14",
         "unknown",
         "False",
         "True",
         "0",
         "6",
         "DOE Only"
        ],
        [
         "5",
         "industrial",
         "True",
         "True",
         "188239",
         "359986",
         "In Both"
        ],
        [
         "8",
         "multi-family",
         "True",
         "True",
         "84091",
         "244647",
         "In Both"
        ],
        [
         "9",
         "office",
         "True",
         "True",
         "141589",
         "388432",
         "In Both"
        ],
        [
         "11",
         "retail",
         "True",
         "True",
         "240233",
         "912870",
         "In Both"
        ]
       ],
       "shape": {
        "columns": 6,
        "rows": 15
       }
      },
      "text/html": [
       "<div>\n",
       "<style scoped>\n",
       "    .dataframe tbody tr th:only-of-type {\n",
       "        vertical-align: middle;\n",
       "    }\n",
       "\n",
       "    .dataframe tbody tr th {\n",
       "        vertical-align: top;\n",
       "    }\n",
       "\n",
       "    .dataframe thead th {\n",
       "        text-align: right;\n",
       "    }\n",
       "</style>\n",
       "<table border=\"1\" class=\"dataframe\">\n",
       "  <thead>\n",
       "    <tr style=\"text-align: right;\">\n",
       "      <th></th>\n",
       "      <th>Category</th>\n",
       "      <th>In CompStak</th>\n",
       "      <th>In DOE</th>\n",
       "      <th>CompStak Count</th>\n",
       "      <th>DOE Count</th>\n",
       "      <th>Status</th>\n",
       "    </tr>\n",
       "  </thead>\n",
       "  <tbody>\n",
       "    <tr>\n",
       "      <th>4</th>\n",
       "      <td>hotel</td>\n",
       "      <td>True</td>\n",
       "      <td>False</td>\n",
       "      <td>4969</td>\n",
       "      <td>0</td>\n",
       "      <td>CompStak Only</td>\n",
       "    </tr>\n",
       "    <tr>\n",
       "      <th>6</th>\n",
       "      <td>land</td>\n",
       "      <td>True</td>\n",
       "      <td>False</td>\n",
       "      <td>49983</td>\n",
       "      <td>0</td>\n",
       "      <td>CompStak Only</td>\n",
       "    </tr>\n",
       "    <tr>\n",
       "      <th>7</th>\n",
       "      <td>mixed-use</td>\n",
       "      <td>True</td>\n",
       "      <td>False</td>\n",
       "      <td>3707</td>\n",
       "      <td>0</td>\n",
       "      <td>CompStak Only</td>\n",
       "    </tr>\n",
       "    <tr>\n",
       "      <th>10</th>\n",
       "      <td>other</td>\n",
       "      <td>True</td>\n",
       "      <td>False</td>\n",
       "      <td>9792</td>\n",
       "      <td>0</td>\n",
       "      <td>CompStak Only</td>\n",
       "    </tr>\n",
       "    <tr>\n",
       "      <th>0</th>\n",
       "      <td>flex</td>\n",
       "      <td>False</td>\n",
       "      <td>True</td>\n",
       "      <td>0</td>\n",
       "      <td>78783</td>\n",
       "      <td>DOE Only</td>\n",
       "    </tr>\n",
       "    <tr>\n",
       "      <th>1</th>\n",
       "      <td>general retail</td>\n",
       "      <td>False</td>\n",
       "      <td>True</td>\n",
       "      <td>0</td>\n",
       "      <td>15</td>\n",
       "      <td>DOE Only</td>\n",
       "    </tr>\n",
       "    <tr>\n",
       "      <th>2</th>\n",
       "      <td>health care</td>\n",
       "      <td>False</td>\n",
       "      <td>True</td>\n",
       "      <td>0</td>\n",
       "      <td>30641</td>\n",
       "      <td>DOE Only</td>\n",
       "    </tr>\n",
       "    <tr>\n",
       "      <th>3</th>\n",
       "      <td>hospitality</td>\n",
       "      <td>False</td>\n",
       "      <td>True</td>\n",
       "      <td>0</td>\n",
       "      <td>57189</td>\n",
       "      <td>DOE Only</td>\n",
       "    </tr>\n",
       "    <tr>\n",
       "      <th>12</th>\n",
       "      <td>specialty</td>\n",
       "      <td>False</td>\n",
       "      <td>True</td>\n",
       "      <td>0</td>\n",
       "      <td>161950</td>\n",
       "      <td>DOE Only</td>\n",
       "    </tr>\n",
       "    <tr>\n",
       "      <th>13</th>\n",
       "      <td>sports &amp; entertainment</td>\n",
       "      <td>False</td>\n",
       "      <td>True</td>\n",
       "      <td>0</td>\n",
       "      <td>11966</td>\n",
       "      <td>DOE Only</td>\n",
       "    </tr>\n",
       "    <tr>\n",
       "      <th>14</th>\n",
       "      <td>unknown</td>\n",
       "      <td>False</td>\n",
       "      <td>True</td>\n",
       "      <td>0</td>\n",
       "      <td>6</td>\n",
       "      <td>DOE Only</td>\n",
       "    </tr>\n",
       "    <tr>\n",
       "      <th>5</th>\n",
       "      <td>industrial</td>\n",
       "      <td>True</td>\n",
       "      <td>True</td>\n",
       "      <td>188239</td>\n",
       "      <td>359986</td>\n",
       "      <td>In Both</td>\n",
       "    </tr>\n",
       "    <tr>\n",
       "      <th>8</th>\n",
       "      <td>multi-family</td>\n",
       "      <td>True</td>\n",
       "      <td>True</td>\n",
       "      <td>84091</td>\n",
       "      <td>244647</td>\n",
       "      <td>In Both</td>\n",
       "    </tr>\n",
       "    <tr>\n",
       "      <th>9</th>\n",
       "      <td>office</td>\n",
       "      <td>True</td>\n",
       "      <td>True</td>\n",
       "      <td>141589</td>\n",
       "      <td>388432</td>\n",
       "      <td>In Both</td>\n",
       "    </tr>\n",
       "    <tr>\n",
       "      <th>11</th>\n",
       "      <td>retail</td>\n",
       "      <td>True</td>\n",
       "      <td>True</td>\n",
       "      <td>240233</td>\n",
       "      <td>912870</td>\n",
       "      <td>In Both</td>\n",
       "    </tr>\n",
       "  </tbody>\n",
       "</table>\n",
       "</div>"
      ],
      "text/plain": [
       "                  Category  In CompStak  In DOE  CompStak Count  DOE Count  \\\n",
       "4                    hotel         True   False            4969          0   \n",
       "6                     land         True   False           49983          0   \n",
       "7                mixed-use         True   False            3707          0   \n",
       "10                   other         True   False            9792          0   \n",
       "0                     flex        False    True               0      78783   \n",
       "1           general retail        False    True               0         15   \n",
       "2              health care        False    True               0      30641   \n",
       "3              hospitality        False    True               0      57189   \n",
       "12               specialty        False    True               0     161950   \n",
       "13  sports & entertainment        False    True               0      11966   \n",
       "14                 unknown        False    True               0          6   \n",
       "5               industrial         True    True          188239     359986   \n",
       "8             multi-family         True    True           84091     244647   \n",
       "9                   office         True    True          141589     388432   \n",
       "11                  retail         True    True          240233     912870   \n",
       "\n",
       "           Status  \n",
       "4   CompStak Only  \n",
       "6   CompStak Only  \n",
       "7   CompStak Only  \n",
       "10  CompStak Only  \n",
       "0        DOE Only  \n",
       "1        DOE Only  \n",
       "2        DOE Only  \n",
       "3        DOE Only  \n",
       "12       DOE Only  \n",
       "13       DOE Only  \n",
       "14       DOE Only  \n",
       "5         In Both  \n",
       "8         In Both  \n",
       "9         In Both  \n",
       "11        In Both  "
      ]
     },
     "metadata": {},
     "output_type": "display_data"
    }
   ],
   "source": [
    "# Create a more detailed analysis of category distribution\n",
    "\n",
    "# Prepare data for visualization\n",
    "category_comparison = pd.DataFrame({\n",
    "    'Category': sorted(compstak_property_types.union(doe_property_types)),\n",
    "    'In CompStak': [cat in compstak_property_types for cat in sorted(compstak_property_types.union(doe_property_types))],\n",
    "    'In DOE': [cat in doe_property_types for cat in sorted(compstak_property_types.union(doe_property_types))]\n",
    "})\n",
    "\n",
    "# Count occurrences of each category in both datasets\n",
    "compstak_counts = compstak_df['Property Type'].str.lower().value_counts().to_dict()\n",
    "doe_counts = doe_df['reported_propertytype'].str.lower().value_counts().to_dict()\n",
    "\n",
    "# Add count columns\n",
    "category_comparison['CompStak Count'] = category_comparison['Category'].apply(lambda x: compstak_counts.get(x, 0))\n",
    "category_comparison['DOE Count'] = category_comparison['Category'].apply(lambda x: doe_counts.get(x, 0))\n",
    "\n",
    "# Add overlap status column\n",
    "category_comparison['Status'] = category_comparison.apply(\n",
    "    lambda row: 'In Both' if row['In CompStak'] and row['In DOE'] else \n",
    "                ('CompStak Only' if row['In CompStak'] else 'DOE Only'), \n",
    "    axis=1\n",
    ")\n",
    "\n",
    "# Display the comparison table\n",
    "display(category_comparison.sort_values('Status'))"
   ]
  },
  {
   "cell_type": "code",
   "execution_count": 27,
   "id": "005a29cb",
   "metadata": {},
   "outputs": [
    {
     "data": {
      "image/png": "[encoded data removed]",
      "text/plain": [
       "<Figure size 1200x800 with 1 Axes>"
      ]
     },
     "metadata": {},
     "output_type": "display_data"
    }
   ],
   "source": [
    "# Create a horizontal bar chart comparing category counts\n",
    "plt.figure(figsize=(12, max(8, len(category_comparison) * 0.4)))\n",
    "\n",
    "# Plot\n",
    "ax = sns.barplot(data=category_comparison, y='Category', x='CompStak Count', color='blue', alpha=0.6, label='CompStak')\n",
    "sns.barplot(data=category_comparison, y='Category', x='DOE Count', color='red', alpha=0.6, label='DOE')\n",
    "\n",
    "# Add labels and title\n",
    "plt.xlabel('Count of Properties')\n",
    "plt.ylabel('Property Type Category')\n",
    "plt.title('Comparison of Property Type Categories between CompStak and DOE')\n",
    "plt.legend()\n",
    "\n",
    "# Color-code the y-axis labels based on overlap status\n",
    "for i, status in enumerate(category_comparison['Status']):\n",
    "    if status == 'In Both':\n",
    "        color = 'purple'\n",
    "    elif status == 'CompStak Only':\n",
    "        color = 'blue'\n",
    "    else:  # DOE Only\n",
    "        color = 'red'\n",
    "    ax.get_yticklabels()[i].set_color(color)\n",
    "\n",
    "plt.tight_layout()\n",
    "plt.savefig('../Images/plots/property_type_comparison_chart.png', dpi=300, bbox_inches='tight')\n",
    "plt.show()"
   ]
  }
 ],
 "metadata": {
  "kernelspec": {
   "display_name": "Python 3",
   "language": "python",
   "name": "python3"
  },
  "language_info": {
   "codemirror_mode": {
    "name": "ipython",
    "version": 3
   },
   "file_extension": ".py",
   "mimetype": "text/x-python",
   "name": "python",
   "nbconvert_exporter": "python",
   "pygments_lexer": "ipython3",
   "version": "3.11.9"
  }
 },
 "nbformat": 4,
 "nbformat_minor": 5
}
