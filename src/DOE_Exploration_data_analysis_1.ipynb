{
 "cells": [
  {
   "cell_type": "code",
   "execution_count": 18,
   "id": "8f830655",
   "metadata": {},
   "outputs": [],
   "source": [
    "import pandas as pd\n",
    "import matplotlib.pyplot as plt\n",
    "import numpy as np\n",
    "import seaborn as sns\n",
    "from matplotlib_venn import venn2\n",
    "import plotly.express as px\n",
    "import os\n"
   ]
  },
  {
   "cell_type": "code",
   "execution_count": 19,
   "id": "261b39c0",
   "metadata": {},
   "outputs": [
    {
     "name": "stdout",
     "output_type": "stream",
     "text": [
      "Output directory created/verified: C:\\Users\\clint\\Desktop\\compstak-analysis\\Images\\Corrected Data\n"
     ]
    }
   ],
   "source": [
    "# Create output directory for saved visualizations if it doesn't exist\n",
    "output_dir = r'C:\\Users\\clint\\Desktop\\compstak-analysis\\Images\\Corrected Data'\n",
    "os.makedirs(output_dir, exist_ok=True)\n",
    "print(f\"Output directory created/verified: {output_dir}\")"
   ]
  },
  {
   "cell_type": "code",
   "execution_count": 20,
   "id": "276133a4",
   "metadata": {},
   "outputs": [],
   "source": [
    "compstak_df = pd.read_csv(r'C:\\Users\\clint\\Desktop\\compstak-analysis\\Data\\compstak_mapped.csv')\n",
    "doe_df = pd.read_csv(r'C:\\Users\\clint\\Desktop\\compstak-analysis\\Data\\DOE_mapped.csv')"
   ]
  },
  {
   "cell_type": "code",
   "execution_count": 21,
   "id": "5aae26ef",
   "metadata": {},
   "outputs": [
    {
     "data": {
      "application/vnd.microsoft.datawrangler.viewer.v0+json": {
       "columns": [
        {
         "name": "index",
         "rawType": "int64",
         "type": "integer"
        },
        {
         "name": "statecode",
         "rawType": "object",
         "type": "string"
        },
        {
         "name": "reported_propertytype",
         "rawType": "object",
         "type": "string"
        },
        {
         "name": "reported_propertysubtype",
         "rawType": "object",
         "type": "unknown"
        },
        {
         "name": "compstak_equivalent_category",
         "rawType": "object",
         "type": "string"
        }
       ],
       "conversionMethod": "pd.DataFrame",
       "ref": "2980a60a-5202-4c1c-aca1-f7920f579100",
       "rows": [
        [
         "0",
         "CT",
         "Flex",
         "Light Manufacturing",
         "Industrial"
        ],
        [
         "1",
         "CT",
         "Industrial",
         "Warehouse",
         "Industrial"
        ],
        [
         "2",
         "CT",
         "Industrial",
         null,
         "Industrial"
        ],
        [
         "3",
         "CT",
         "Multi-Family",
         "Apartments",
         "Multi-Family"
        ],
        [
         "4",
         "CT",
         "Multi-Family",
         "Apartments",
         "Multi-Family"
        ],
        [
         "5",
         "CT",
         "Office",
         "Office Live/Work Unit",
         "Office"
        ],
        [
         "6",
         "CT",
         "Office",
         "Office/Residential",
         "Office"
        ],
        [
         "7",
         "CT",
         "Office",
         null,
         "Office"
        ],
        [
         "8",
         "CT",
         "Office",
         null,
         "Office"
        ],
        [
         "9",
         "CT",
         "Retail",
         "Convenience Store",
         "Retail"
        ],
        [
         "10",
         "CT",
         "Retail",
         "Freestanding",
         "Retail"
        ],
        [
         "11",
         "CT",
         "Retail",
         "Freestanding",
         "Retail"
        ],
        [
         "12",
         "CT",
         "Retail",
         "Freestanding",
         "Retail"
        ],
        [
         "13",
         "CT",
         "Retail",
         "Service Station",
         "Retail"
        ],
        [
         "14",
         "CT",
         "Retail",
         "Service Station",
         "Retail"
        ],
        [
         "15",
         "CT",
         "Retail",
         null,
         "Retail"
        ],
        [
         "16",
         "CT",
         "Retail",
         null,
         "Retail"
        ],
        [
         "17",
         "CT",
         "Specialty",
         "Self-Storage",
         "Other"
        ],
        [
         "18",
         "CT",
         "Flex",
         "Light Manufacturing",
         "Industrial"
        ],
        [
         "19",
         "CT",
         "Flex",
         null,
         "Industrial"
        ],
        [
         "20",
         "CT",
         "Health Care",
         "Rehabilitation Center",
         "Other"
        ],
        [
         "21",
         "CT",
         "Industrial",
         "Distribution",
         "Industrial"
        ],
        [
         "22",
         "CT",
         "Industrial",
         "Distribution",
         "Industrial"
        ],
        [
         "23",
         "CT",
         "Industrial",
         "Manufacturing",
         "Industrial"
        ],
        [
         "24",
         "CT",
         "Industrial",
         "Manufacturing",
         "Industrial"
        ],
        [
         "25",
         "CT",
         "Industrial",
         "Manufacturing",
         "Industrial"
        ],
        [
         "26",
         "CT",
         "Industrial",
         "Manufacturing",
         "Industrial"
        ],
        [
         "27",
         "CT",
         "Industrial",
         "Service",
         "Industrial"
        ],
        [
         "28",
         "CT",
         "Industrial",
         "Service",
         "Industrial"
        ],
        [
         "29",
         "CT",
         "Industrial",
         "Warehouse",
         "Industrial"
        ],
        [
         "30",
         "CT",
         "Industrial",
         "Warehouse",
         "Industrial"
        ],
        [
         "31",
         "CT",
         "Industrial",
         "Warehouse",
         "Industrial"
        ],
        [
         "32",
         "CT",
         "Industrial",
         "Warehouse",
         "Industrial"
        ],
        [
         "33",
         "CT",
         "Industrial",
         "Warehouse",
         "Industrial"
        ],
        [
         "34",
         "CT",
         "Industrial",
         "Warehouse",
         "Industrial"
        ],
        [
         "35",
         "CT",
         "Industrial",
         "Warehouse",
         "Industrial"
        ],
        [
         "36",
         "CT",
         "Industrial",
         "Warehouse",
         "Industrial"
        ],
        [
         "37",
         "CT",
         "Industrial",
         "Warehouse",
         "Industrial"
        ],
        [
         "38",
         "CT",
         "Industrial",
         "Warehouse",
         "Industrial"
        ],
        [
         "39",
         "CT",
         "Industrial",
         "Warehouse",
         "Industrial"
        ],
        [
         "40",
         "CT",
         "Industrial",
         "Warehouse",
         "Industrial"
        ],
        [
         "41",
         "CT",
         "Industrial",
         "Warehouse",
         "Industrial"
        ],
        [
         "42",
         "CT",
         "Industrial",
         "Warehouse",
         "Industrial"
        ],
        [
         "43",
         "CT",
         "Industrial",
         null,
         "Industrial"
        ],
        [
         "44",
         "CT",
         "Industrial",
         null,
         "Industrial"
        ],
        [
         "45",
         "CT",
         "Multi-Family",
         "Apartments",
         "Multi-Family"
        ],
        [
         "46",
         "CT",
         "Multi-Family",
         "Apartments",
         "Multi-Family"
        ],
        [
         "47",
         "CT",
         "Multi-Family",
         "Apartments",
         "Multi-Family"
        ],
        [
         "48",
         "CT",
         "Multi-Family",
         "Apartments",
         "Multi-Family"
        ],
        [
         "49",
         "CT",
         "Multi-Family",
         "Apartments",
         "Multi-Family"
        ]
       ],
       "shape": {
        "columns": 4,
        "rows": 2246485
       }
      },
      "text/html": [
       "<div>\n",
       "<style scoped>\n",
       "    .dataframe tbody tr th:only-of-type {\n",
       "        vertical-align: middle;\n",
       "    }\n",
       "\n",
       "    .dataframe tbody tr th {\n",
       "        vertical-align: top;\n",
       "    }\n",
       "\n",
       "    .dataframe thead th {\n",
       "        text-align: right;\n",
       "    }\n",
       "</style>\n",
       "<table border=\"1\" class=\"dataframe\">\n",
       "  <thead>\n",
       "    <tr style=\"text-align: right;\">\n",
       "      <th></th>\n",
       "      <th>statecode</th>\n",
       "      <th>reported_propertytype</th>\n",
       "      <th>reported_propertysubtype</th>\n",
       "      <th>compstak_equivalent_category</th>\n",
       "    </tr>\n",
       "  </thead>\n",
       "  <tbody>\n",
       "    <tr>\n",
       "      <th>0</th>\n",
       "      <td>CT</td>\n",
       "      <td>Flex</td>\n",
       "      <td>Light Manufacturing</td>\n",
       "      <td>Industrial</td>\n",
       "    </tr>\n",
       "    <tr>\n",
       "      <th>1</th>\n",
       "      <td>CT</td>\n",
       "      <td>Industrial</td>\n",
       "      <td>Warehouse</td>\n",
       "      <td>Industrial</td>\n",
       "    </tr>\n",
       "    <tr>\n",
       "      <th>2</th>\n",
       "      <td>CT</td>\n",
       "      <td>Industrial</td>\n",
       "      <td>NaN</td>\n",
       "      <td>Industrial</td>\n",
       "    </tr>\n",
       "    <tr>\n",
       "      <th>3</th>\n",
       "      <td>CT</td>\n",
       "      <td>Multi-Family</td>\n",
       "      <td>Apartments</td>\n",
       "      <td>Multi-Family</td>\n",
       "    </tr>\n",
       "    <tr>\n",
       "      <th>4</th>\n",
       "      <td>CT</td>\n",
       "      <td>Multi-Family</td>\n",
       "      <td>Apartments</td>\n",
       "      <td>Multi-Family</td>\n",
       "    </tr>\n",
       "    <tr>\n",
       "      <th>...</th>\n",
       "      <td>...</td>\n",
       "      <td>...</td>\n",
       "      <td>...</td>\n",
       "      <td>...</td>\n",
       "    </tr>\n",
       "    <tr>\n",
       "      <th>2246480</th>\n",
       "      <td>WI</td>\n",
       "      <td>Retail</td>\n",
       "      <td>Storefront Retail/Office</td>\n",
       "      <td>Retail</td>\n",
       "    </tr>\n",
       "    <tr>\n",
       "      <th>2246481</th>\n",
       "      <td>WI</td>\n",
       "      <td>Retail</td>\n",
       "      <td>Storefront Retail/Office</td>\n",
       "      <td>Retail</td>\n",
       "    </tr>\n",
       "    <tr>\n",
       "      <th>2246482</th>\n",
       "      <td>WI</td>\n",
       "      <td>Retail</td>\n",
       "      <td>NaN</td>\n",
       "      <td>Retail</td>\n",
       "    </tr>\n",
       "    <tr>\n",
       "      <th>2246483</th>\n",
       "      <td>WI</td>\n",
       "      <td>Retail</td>\n",
       "      <td>NaN</td>\n",
       "      <td>Retail</td>\n",
       "    </tr>\n",
       "    <tr>\n",
       "      <th>2246484</th>\n",
       "      <td>WI</td>\n",
       "      <td>Specialty</td>\n",
       "      <td>Post Office</td>\n",
       "      <td>Other</td>\n",
       "    </tr>\n",
       "  </tbody>\n",
       "</table>\n",
       "<p>2246485 rows × 4 columns</p>\n",
       "</div>"
      ],
      "text/plain": [
       "        statecode reported_propertytype  reported_propertysubtype  \\\n",
       "0              CT                  Flex       Light Manufacturing   \n",
       "1              CT            Industrial                 Warehouse   \n",
       "2              CT            Industrial                       NaN   \n",
       "3              CT          Multi-Family                Apartments   \n",
       "4              CT          Multi-Family                Apartments   \n",
       "...           ...                   ...                       ...   \n",
       "2246480        WI                Retail  Storefront Retail/Office   \n",
       "2246481        WI                Retail  Storefront Retail/Office   \n",
       "2246482        WI                Retail                       NaN   \n",
       "2246483        WI                Retail                       NaN   \n",
       "2246484        WI             Specialty               Post Office   \n",
       "\n",
       "        compstak_equivalent_category  \n",
       "0                         Industrial  \n",
       "1                         Industrial  \n",
       "2                         Industrial  \n",
       "3                       Multi-Family  \n",
       "4                       Multi-Family  \n",
       "...                              ...  \n",
       "2246480                       Retail  \n",
       "2246481                       Retail  \n",
       "2246482                       Retail  \n",
       "2246483                       Retail  \n",
       "2246484                        Other  \n",
       "\n",
       "[2246485 rows x 4 columns]"
      ]
     },
     "execution_count": 21,
     "metadata": {},
     "output_type": "execute_result"
    }
   ],
   "source": [
    "doe_df"
   ]
  },
  {
   "cell_type": "code",
   "execution_count": 22,
   "id": "f9624a5c",
   "metadata": {},
   "outputs": [
    {
     "name": "stdout",
     "output_type": "stream",
     "text": [
      "ComptStak DF columns: ['Property Type', 'Property Subtype', 'Property Id', 'statecode', 'DOE_Compliant_Property_Type']\n",
      "DOE DF columns: ['statecode', 'reported_propertytype', 'reported_propertysubtype', 'compstak_equivalent_category']\n"
     ]
    }
   ],
   "source": [
    "# Rename 'State' column to 'statecode' in compstak_df for consistent analysis\n",
    "compstak_df = compstak_df.rename(columns={'State': 'statecode'})\n",
    "\n",
    "# Verify column names in both dataframes\n",
    "print(\"ComptStak DF columns:\", compstak_df.columns.tolist())\n",
    "print(\"DOE DF columns:\", doe_df.columns.tolist())"
   ]
  },
  {
   "cell_type": "code",
   "execution_count": 23,
   "id": "086c71f7",
   "metadata": {},
   "outputs": [],
   "source": [
    "internet_data = {\n",
    "    'Retail': 1070000,       # 1.07 million brick-and-mortar retail establishments as of 2023\n",
    "    'Industrial': 350000,     # Includes warehouses, manufacturing facilities, etc.\n",
    "    'Office': 569311,         # Includes Class A, B, and C office buildings as of 2018\n",
    "    'Multi-Family': 5200000,  # Includes duplexes, triplexes, and apartment buildings\n",
    "    'Hotel': 116873,         # Number of hotels and motels as of 2025\n",
    "    'Mixed-Use': 580000,     # Buildings combining residential with commercial use (apartments within)\n",
    "    'Land': 13100000,        # Total commercial land parcels across all U.S. states\n",
    "    'Other': None,            # Includes education, medical, religious facilities (included in total)\n",
    "}"
   ]
  },
  {
   "cell_type": "code",
   "execution_count": 24,
   "id": "e4dd22ff",
   "metadata": {},
   "outputs": [],
   "source": [
    "us_commercial_properties = {\n",
    "    'CA': 917860, 'TX': 733648, 'FL': 735652, 'NY': 536608, 'IL': 519616,\n",
    "    'PA': 438648, 'OH': 407557, 'GA': 444143, 'NC': 313187, 'MI': 369983,\n",
    "    'WA': 246208, 'AZ': 272797, 'MA': 371710, 'VA': 267936, 'CO': 224418,\n",
    "    'IN': 428138, 'TN': 270544, 'MO': 192733, 'WI': 190274, 'MN': 160773,\n",
    "    'AL': 323716, 'SC': 189736, 'KY': 76415, 'OR': 145157, 'OK': 144752,\n",
    "    'CT': 138387, 'IA': 81338, 'MS': 131969, 'AR': 122634, 'KS': 90904,\n",
    "    'NV': 113336, 'UT': 102769, 'NM': 57693, 'NE': 55961, 'WV': 54143,\n",
    "    'ID': 41460, 'HI': 26275, 'ME': 73831, 'NH': 60537, 'RI': 48317,\n",
    "    'MT': 43219, 'DE': 36816, 'SD': 34215, 'ND': 32846, 'AK': 22410,\n",
    "    'VT': 21740, 'WY': 20549, 'DC': 35878\n",
    "}"
   ]
  },
  {
   "cell_type": "markdown",
   "id": "f632b147",
   "metadata": {},
   "source": [
    "# Analysis of DOE Data Coverage\n",
    "\n",
    "Compare the DOE dataset with reference data on property types and state-level commercial property counts."
   ]
  },
  {
   "cell_type": "code",
   "execution_count": 25,
   "id": "8336d12a",
   "metadata": {},
   "outputs": [
    {
     "data": {
      "application/vnd.microsoft.datawrangler.viewer.v0+json": {
       "columns": [
        {
         "name": "index",
         "rawType": "int64",
         "type": "integer"
        },
        {
         "name": "Property_Type",
         "rawType": "object",
         "type": "string"
        },
        {
         "name": "DOE_Count",
         "rawType": "int64",
         "type": "integer"
        },
        {
         "name": "Internet_Count",
         "rawType": "float64",
         "type": "float"
        },
        {
         "name": "Coverage_Percentage",
         "rawType": "float64",
         "type": "float"
        }
       ],
       "conversionMethod": "pd.DataFrame",
       "ref": "ece9d47f-9721-4d98-a6cf-02b619a7c07d",
       "rows": [
        [
         "0",
         "Retail",
         "931077",
         "1070000.0",
         "87.02"
        ],
        [
         "1",
         "Industrial",
         "438534",
         "350000.0",
         "125.3"
        ],
        [
         "2",
         "Office",
         "388432",
         "569311.0",
         "68.23"
        ],
        [
         "3",
         "Multi-Family",
         "253361",
         "5200000.0",
         "4.87"
        ],
        [
         "4",
         "Other",
         "161804",
         null,
         null
        ],
        [
         "5",
         "Hotel",
         "73277",
         "116873.0",
         "62.7"
        ]
       ],
       "shape": {
        "columns": 4,
        "rows": 6
       }
      },
      "text/html": [
       "<div>\n",
       "<style scoped>\n",
       "    .dataframe tbody tr th:only-of-type {\n",
       "        vertical-align: middle;\n",
       "    }\n",
       "\n",
       "    .dataframe tbody tr th {\n",
       "        vertical-align: top;\n",
       "    }\n",
       "\n",
       "    .dataframe thead th {\n",
       "        text-align: right;\n",
       "    }\n",
       "</style>\n",
       "<table border=\"1\" class=\"dataframe\">\n",
       "  <thead>\n",
       "    <tr style=\"text-align: right;\">\n",
       "      <th></th>\n",
       "      <th>Property_Type</th>\n",
       "      <th>DOE_Count</th>\n",
       "      <th>Internet_Count</th>\n",
       "      <th>Coverage_Percentage</th>\n",
       "    </tr>\n",
       "  </thead>\n",
       "  <tbody>\n",
       "    <tr>\n",
       "      <th>0</th>\n",
       "      <td>Retail</td>\n",
       "      <td>931077</td>\n",
       "      <td>1070000.0</td>\n",
       "      <td>87.02</td>\n",
       "    </tr>\n",
       "    <tr>\n",
       "      <th>1</th>\n",
       "      <td>Industrial</td>\n",
       "      <td>438534</td>\n",
       "      <td>350000.0</td>\n",
       "      <td>125.30</td>\n",
       "    </tr>\n",
       "    <tr>\n",
       "      <th>2</th>\n",
       "      <td>Office</td>\n",
       "      <td>388432</td>\n",
       "      <td>569311.0</td>\n",
       "      <td>68.23</td>\n",
       "    </tr>\n",
       "    <tr>\n",
       "      <th>3</th>\n",
       "      <td>Multi-Family</td>\n",
       "      <td>253361</td>\n",
       "      <td>5200000.0</td>\n",
       "      <td>4.87</td>\n",
       "    </tr>\n",
       "    <tr>\n",
       "      <th>4</th>\n",
       "      <td>Other</td>\n",
       "      <td>161804</td>\n",
       "      <td>NaN</td>\n",
       "      <td>NaN</td>\n",
       "    </tr>\n",
       "    <tr>\n",
       "      <th>5</th>\n",
       "      <td>Hotel</td>\n",
       "      <td>73277</td>\n",
       "      <td>116873.0</td>\n",
       "      <td>62.70</td>\n",
       "    </tr>\n",
       "  </tbody>\n",
       "</table>\n",
       "</div>"
      ],
      "text/plain": [
       "  Property_Type  DOE_Count  Internet_Count  Coverage_Percentage\n",
       "0        Retail     931077       1070000.0                87.02\n",
       "1    Industrial     438534        350000.0               125.30\n",
       "2        Office     388432        569311.0                68.23\n",
       "3  Multi-Family     253361       5200000.0                 4.87\n",
       "4         Other     161804             NaN                  NaN\n",
       "5         Hotel      73277        116873.0                62.70"
      ]
     },
     "execution_count": 25,
     "metadata": {},
     "output_type": "execute_result"
    }
   ],
   "source": [
    "# Analyze DOE data by property type and compare to internet data\n",
    "# First, count properties by type in DOE dataset\n",
    "doe_property_counts = doe_df['compstak_equivalent_category'].value_counts().reset_index()\n",
    "doe_property_counts.columns = ['Property_Type', 'DOE_Count']\n",
    "\n",
    "# Create comparison DataFrame with internet data\n",
    "internet_data_df = pd.DataFrame(list(internet_data.items()), columns=['Property_Type', 'Internet_Count'])\n",
    "\n",
    "# Merge the two datasets\n",
    "property_comparison = doe_property_counts.merge(internet_data_df, on='Property_Type', how='left')\n",
    "\n",
    "# Calculate coverage percentage where Internet_Count is available\n",
    "property_comparison['Coverage_Percentage'] = (property_comparison['DOE_Count'] / property_comparison['Internet_Count'] * 100).round(2)\n",
    "\n",
    "# Fill NaN values in Coverage_Percentage for rows where Internet_Count is None\n",
    "property_comparison.loc[property_comparison['Internet_Count'].isna(), 'Coverage_Percentage'] = None\n",
    "\n",
    "property_comparison"
   ]
  },
  {
   "cell_type": "code",
   "execution_count": 26,
   "id": "4a1ea635",
   "metadata": {},
   "outputs": [
    {
     "data": {
      "image/png": "[encoded data removed]",
      "text/plain": [
       "<Figure size 1200x800 with 1 Axes>"
      ]
     },
     "metadata": {},
     "output_type": "display_data"
    }
   ],
   "source": [
    "# Visualize property type comparison\n",
    "# Filter out property types with None values in Internet_Count\n",
    "plot_data = property_comparison.dropna(subset=['Internet_Count']).copy()\n",
    "\n",
    "# Create a bar chart comparing DOE counts with internet data counts\n",
    "fig, ax = plt.subplots(figsize=(12, 8))\n",
    "\n",
    "# Set width of bars\n",
    "bar_width = 0.35\n",
    "index = np.arange(len(plot_data))\n",
    "\n",
    "# Create bars\n",
    "bar1 = ax.bar(index, plot_data['DOE_Count'], bar_width, label='DOE Dataset')\n",
    "bar2 = ax.bar(index + bar_width, plot_data['Internet_Count'], bar_width, label='Internet Reference Data')\n",
    "\n",
    "# Add labels and title\n",
    "ax.set_xlabel('Property Type')\n",
    "ax.set_ylabel('Count (log scale)')\n",
    "ax.set_title('Comparison of DOE Dataset vs Internet Reference Data by Property Type')\n",
    "ax.set_xticks(index + bar_width / 2)\n",
    "ax.set_xticklabels(plot_data['Property_Type'])\n",
    "ax.set_yscale('log')  # Log scale for better visualization of large differences\n",
    "ax.legend()\n",
    "\n",
    "# Add coverage percentage as text on the bars\n",
    "for i, row in plot_data.iterrows():\n",
    "    ax.text(i, row['DOE_Count'] * 1.1, f\"{row['Coverage_Percentage']}%\", \n",
    "            ha='center', va='bottom', rotation=0, fontweight='bold')\n",
    "\n",
    "plt.tight_layout()\n",
    "plt.savefig(os.path.join(output_dir, 'property_type_comparison.png'), dpi=300)\n",
    "plt.show()"
   ]
  },
  {
   "cell_type": "code",
   "execution_count": 27,
   "id": "9ff44534",
   "metadata": {},
   "outputs": [
    {
     "data": {
      "application/vnd.microsoft.datawrangler.viewer.v0+json": {
       "columns": [
        {
         "name": "index",
         "rawType": "int64",
         "type": "integer"
        },
        {
         "name": "State",
         "rawType": "object",
         "type": "string"
        },
        {
         "name": "DOE_Count",
         "rawType": "int64",
         "type": "integer"
        },
        {
         "name": "Reference_Count",
         "rawType": "int64",
         "type": "integer"
        },
        {
         "name": "Coverage_Percentage",
         "rawType": "float64",
         "type": "float"
        }
       ],
       "conversionMethod": "pd.DataFrame",
       "ref": "b0f1ad40-c041-4f6c-9994-0d128734b2dd",
       "rows": [
        [
         "35",
         "ID",
         "15224",
         "41460",
         "36.72"
        ],
        [
         "22",
         "KY",
         "26124",
         "76415",
         "34.19"
        ],
        [
         "26",
         "IA",
         "24466",
         "81338",
         "30.08"
        ],
        [
         "19",
         "MN",
         "45863",
         "160773",
         "28.53"
        ],
        [
         "25",
         "CT",
         "38398",
         "138387",
         "27.75"
        ],
        [
         "6",
         "OH",
         "109843",
         "407557",
         "26.95"
        ],
        [
         "18",
         "WI",
         "50419",
         "190274",
         "26.5"
        ],
        [
         "0",
         "CA",
         "238844",
         "917860",
         "26.02"
        ],
        [
         "34",
         "WV",
         "13711",
         "54143",
         "25.32"
        ],
        [
         "8",
         "NC",
         "79107",
         "313187",
         "25.26"
        ],
        [
         "17",
         "MO",
         "46087",
         "192733",
         "23.91"
        ],
        [
         "39",
         "RI",
         "11449",
         "48317",
         "23.7"
        ],
        [
         "33",
         "NE",
         "13145",
         "55961",
         "23.49"
        ],
        [
         "23",
         "OR",
         "33979",
         "145157",
         "23.41"
        ],
        [
         "29",
         "KS",
         "21008",
         "90904",
         "23.11"
        ],
        [
         "31",
         "UT",
         "23016",
         "102769",
         "22.4"
        ],
        [
         "38",
         "NH",
         "13552",
         "60537",
         "22.39"
        ],
        [
         "36",
         "HI",
         "5842",
         "26275",
         "22.23"
        ],
        [
         "21",
         "SC",
         "41308",
         "189736",
         "21.77"
        ],
        [
         "1",
         "TX",
         "157912",
         "733648",
         "21.52"
        ],
        [
         "24",
         "OK",
         "31074",
         "144752",
         "21.47"
        ],
        [
         "10",
         "WA",
         "52239",
         "246208",
         "21.22"
        ],
        [
         "3",
         "NY",
         "113724",
         "536608",
         "21.19"
        ],
        [
         "46",
         "WY",
         "4297",
         "20549",
         "20.91"
        ],
        [
         "9",
         "MI",
         "76260",
         "369983",
         "20.61"
        ],
        [
         "5",
         "PA",
         "90276",
         "438648",
         "20.58"
        ],
        [
         "2",
         "FL",
         "145821",
         "735652",
         "19.82"
        ],
        [
         "45",
         "VT",
         "4180",
         "21740",
         "19.23"
        ],
        [
         "37",
         "ME",
         "14193",
         "73831",
         "19.22"
        ],
        [
         "40",
         "MT",
         "8204",
         "43219",
         "18.98"
        ],
        [
         "13",
         "VA",
         "50694",
         "267936",
         "18.92"
        ],
        [
         "32",
         "NM",
         "10902",
         "57693",
         "18.9"
        ],
        [
         "14",
         "CO",
         "42236",
         "224418",
         "18.82"
        ],
        [
         "28",
         "AR",
         "22621",
         "122634",
         "18.45"
        ],
        [
         "16",
         "TN",
         "49409",
         "270544",
         "18.26"
        ],
        [
         "43",
         "ND",
         "5793",
         "32846",
         "17.64"
        ],
        [
         "7",
         "GA",
         "74036",
         "444143",
         "16.67"
        ],
        [
         "12",
         "MA",
         "61761",
         "371710",
         "16.62"
        ],
        [
         "44",
         "AK",
         "3716",
         "22410",
         "16.58"
        ],
        [
         "42",
         "SD",
         "5530",
         "34215",
         "16.16"
        ],
        [
         "4",
         "IL",
         "83364",
         "519616",
         "16.04"
        ],
        [
         "41",
         "DE",
         "5469",
         "36816",
         "14.85"
        ],
        [
         "27",
         "MS",
         "18001",
         "131969",
         "13.64"
        ],
        [
         "30",
         "NV",
         "15179",
         "113336",
         "13.39"
        ],
        [
         "47",
         "DC",
         "4440",
         "35878",
         "12.38"
        ],
        [
         "15",
         "IN",
         "52899",
         "428138",
         "12.36"
        ],
        [
         "11",
         "AZ",
         "33274",
         "272797",
         "12.2"
        ],
        [
         "20",
         "AL",
         "36340",
         "323716",
         "11.23"
        ]
       ],
       "shape": {
        "columns": 4,
        "rows": 48
       }
      },
      "text/html": [
       "<div>\n",
       "<style scoped>\n",
       "    .dataframe tbody tr th:only-of-type {\n",
       "        vertical-align: middle;\n",
       "    }\n",
       "\n",
       "    .dataframe tbody tr th {\n",
       "        vertical-align: top;\n",
       "    }\n",
       "\n",
       "    .dataframe thead th {\n",
       "        text-align: right;\n",
       "    }\n",
       "</style>\n",
       "<table border=\"1\" class=\"dataframe\">\n",
       "  <thead>\n",
       "    <tr style=\"text-align: right;\">\n",
       "      <th></th>\n",
       "      <th>State</th>\n",
       "      <th>DOE_Count</th>\n",
       "      <th>Reference_Count</th>\n",
       "      <th>Coverage_Percentage</th>\n",
       "    </tr>\n",
       "  </thead>\n",
       "  <tbody>\n",
       "    <tr>\n",
       "      <th>35</th>\n",
       "      <td>ID</td>\n",
       "      <td>15224</td>\n",
       "      <td>41460</td>\n",
       "      <td>36.72</td>\n",
       "    </tr>\n",
       "    <tr>\n",
       "      <th>22</th>\n",
       "      <td>KY</td>\n",
       "      <td>26124</td>\n",
       "      <td>76415</td>\n",
       "      <td>34.19</td>\n",
       "    </tr>\n",
       "    <tr>\n",
       "      <th>26</th>\n",
       "      <td>IA</td>\n",
       "      <td>24466</td>\n",
       "      <td>81338</td>\n",
       "      <td>30.08</td>\n",
       "    </tr>\n",
       "    <tr>\n",
       "      <th>19</th>\n",
       "      <td>MN</td>\n",
       "      <td>45863</td>\n",
       "      <td>160773</td>\n",
       "      <td>28.53</td>\n",
       "    </tr>\n",
       "    <tr>\n",
       "      <th>25</th>\n",
       "      <td>CT</td>\n",
       "      <td>38398</td>\n",
       "      <td>138387</td>\n",
       "      <td>27.75</td>\n",
       "    </tr>\n",
       "    <tr>\n",
       "      <th>6</th>\n",
       "      <td>OH</td>\n",
       "      <td>109843</td>\n",
       "      <td>407557</td>\n",
       "      <td>26.95</td>\n",
       "    </tr>\n",
       "    <tr>\n",
       "      <th>18</th>\n",
       "      <td>WI</td>\n",
       "      <td>50419</td>\n",
       "      <td>190274</td>\n",
       "      <td>26.50</td>\n",
       "    </tr>\n",
       "    <tr>\n",
       "      <th>0</th>\n",
       "      <td>CA</td>\n",
       "      <td>238844</td>\n",
       "      <td>917860</td>\n",
       "      <td>26.02</td>\n",
       "    </tr>\n",
       "    <tr>\n",
       "      <th>34</th>\n",
       "      <td>WV</td>\n",
       "      <td>13711</td>\n",
       "      <td>54143</td>\n",
       "      <td>25.32</td>\n",
       "    </tr>\n",
       "    <tr>\n",
       "      <th>8</th>\n",
       "      <td>NC</td>\n",
       "      <td>79107</td>\n",
       "      <td>313187</td>\n",
       "      <td>25.26</td>\n",
       "    </tr>\n",
       "    <tr>\n",
       "      <th>17</th>\n",
       "      <td>MO</td>\n",
       "      <td>46087</td>\n",
       "      <td>192733</td>\n",
       "      <td>23.91</td>\n",
       "    </tr>\n",
       "    <tr>\n",
       "      <th>39</th>\n",
       "      <td>RI</td>\n",
       "      <td>11449</td>\n",
       "      <td>48317</td>\n",
       "      <td>23.70</td>\n",
       "    </tr>\n",
       "    <tr>\n",
       "      <th>33</th>\n",
       "      <td>NE</td>\n",
       "      <td>13145</td>\n",
       "      <td>55961</td>\n",
       "      <td>23.49</td>\n",
       "    </tr>\n",
       "    <tr>\n",
       "      <th>23</th>\n",
       "      <td>OR</td>\n",
       "      <td>33979</td>\n",
       "      <td>145157</td>\n",
       "      <td>23.41</td>\n",
       "    </tr>\n",
       "    <tr>\n",
       "      <th>29</th>\n",
       "      <td>KS</td>\n",
       "      <td>21008</td>\n",
       "      <td>90904</td>\n",
       "      <td>23.11</td>\n",
       "    </tr>\n",
       "    <tr>\n",
       "      <th>31</th>\n",
       "      <td>UT</td>\n",
       "      <td>23016</td>\n",
       "      <td>102769</td>\n",
       "      <td>22.40</td>\n",
       "    </tr>\n",
       "    <tr>\n",
       "      <th>38</th>\n",
       "      <td>NH</td>\n",
       "      <td>13552</td>\n",
       "      <td>60537</td>\n",
       "      <td>22.39</td>\n",
       "    </tr>\n",
       "    <tr>\n",
       "      <th>36</th>\n",
       "      <td>HI</td>\n",
       "      <td>5842</td>\n",
       "      <td>26275</td>\n",
       "      <td>22.23</td>\n",
       "    </tr>\n",
       "    <tr>\n",
       "      <th>21</th>\n",
       "      <td>SC</td>\n",
       "      <td>41308</td>\n",
       "      <td>189736</td>\n",
       "      <td>21.77</td>\n",
       "    </tr>\n",
       "    <tr>\n",
       "      <th>1</th>\n",
       "      <td>TX</td>\n",
       "      <td>157912</td>\n",
       "      <td>733648</td>\n",
       "      <td>21.52</td>\n",
       "    </tr>\n",
       "    <tr>\n",
       "      <th>24</th>\n",
       "      <td>OK</td>\n",
       "      <td>31074</td>\n",
       "      <td>144752</td>\n",
       "      <td>21.47</td>\n",
       "    </tr>\n",
       "    <tr>\n",
       "      <th>10</th>\n",
       "      <td>WA</td>\n",
       "      <td>52239</td>\n",
       "      <td>246208</td>\n",
       "      <td>21.22</td>\n",
       "    </tr>\n",
       "    <tr>\n",
       "      <th>3</th>\n",
       "      <td>NY</td>\n",
       "      <td>113724</td>\n",
       "      <td>536608</td>\n",
       "      <td>21.19</td>\n",
       "    </tr>\n",
       "    <tr>\n",
       "      <th>46</th>\n",
       "      <td>WY</td>\n",
       "      <td>4297</td>\n",
       "      <td>20549</td>\n",
       "      <td>20.91</td>\n",
       "    </tr>\n",
       "    <tr>\n",
       "      <th>9</th>\n",
       "      <td>MI</td>\n",
       "      <td>76260</td>\n",
       "      <td>369983</td>\n",
       "      <td>20.61</td>\n",
       "    </tr>\n",
       "    <tr>\n",
       "      <th>5</th>\n",
       "      <td>PA</td>\n",
       "      <td>90276</td>\n",
       "      <td>438648</td>\n",
       "      <td>20.58</td>\n",
       "    </tr>\n",
       "    <tr>\n",
       "      <th>2</th>\n",
       "      <td>FL</td>\n",
       "      <td>145821</td>\n",
       "      <td>735652</td>\n",
       "      <td>19.82</td>\n",
       "    </tr>\n",
       "    <tr>\n",
       "      <th>45</th>\n",
       "      <td>VT</td>\n",
       "      <td>4180</td>\n",
       "      <td>21740</td>\n",
       "      <td>19.23</td>\n",
       "    </tr>\n",
       "    <tr>\n",
       "      <th>37</th>\n",
       "      <td>ME</td>\n",
       "      <td>14193</td>\n",
       "      <td>73831</td>\n",
       "      <td>19.22</td>\n",
       "    </tr>\n",
       "    <tr>\n",
       "      <th>40</th>\n",
       "      <td>MT</td>\n",
       "      <td>8204</td>\n",
       "      <td>43219</td>\n",
       "      <td>18.98</td>\n",
       "    </tr>\n",
       "    <tr>\n",
       "      <th>13</th>\n",
       "      <td>VA</td>\n",
       "      <td>50694</td>\n",
       "      <td>267936</td>\n",
       "      <td>18.92</td>\n",
       "    </tr>\n",
       "    <tr>\n",
       "      <th>32</th>\n",
       "      <td>NM</td>\n",
       "      <td>10902</td>\n",
       "      <td>57693</td>\n",
       "      <td>18.90</td>\n",
       "    </tr>\n",
       "    <tr>\n",
       "      <th>14</th>\n",
       "      <td>CO</td>\n",
       "      <td>42236</td>\n",
       "      <td>224418</td>\n",
       "      <td>18.82</td>\n",
       "    </tr>\n",
       "    <tr>\n",
       "      <th>28</th>\n",
       "      <td>AR</td>\n",
       "      <td>22621</td>\n",
       "      <td>122634</td>\n",
       "      <td>18.45</td>\n",
       "    </tr>\n",
       "    <tr>\n",
       "      <th>16</th>\n",
       "      <td>TN</td>\n",
       "      <td>49409</td>\n",
       "      <td>270544</td>\n",
       "      <td>18.26</td>\n",
       "    </tr>\n",
       "    <tr>\n",
       "      <th>43</th>\n",
       "      <td>ND</td>\n",
       "      <td>5793</td>\n",
       "      <td>32846</td>\n",
       "      <td>17.64</td>\n",
       "    </tr>\n",
       "    <tr>\n",
       "      <th>7</th>\n",
       "      <td>GA</td>\n",
       "      <td>74036</td>\n",
       "      <td>444143</td>\n",
       "      <td>16.67</td>\n",
       "    </tr>\n",
       "    <tr>\n",
       "      <th>12</th>\n",
       "      <td>MA</td>\n",
       "      <td>61761</td>\n",
       "      <td>371710</td>\n",
       "      <td>16.62</td>\n",
       "    </tr>\n",
       "    <tr>\n",
       "      <th>44</th>\n",
       "      <td>AK</td>\n",
       "      <td>3716</td>\n",
       "      <td>22410</td>\n",
       "      <td>16.58</td>\n",
       "    </tr>\n",
       "    <tr>\n",
       "      <th>42</th>\n",
       "      <td>SD</td>\n",
       "      <td>5530</td>\n",
       "      <td>34215</td>\n",
       "      <td>16.16</td>\n",
       "    </tr>\n",
       "    <tr>\n",
       "      <th>4</th>\n",
       "      <td>IL</td>\n",
       "      <td>83364</td>\n",
       "      <td>519616</td>\n",
       "      <td>16.04</td>\n",
       "    </tr>\n",
       "    <tr>\n",
       "      <th>41</th>\n",
       "      <td>DE</td>\n",
       "      <td>5469</td>\n",
       "      <td>36816</td>\n",
       "      <td>14.85</td>\n",
       "    </tr>\n",
       "    <tr>\n",
       "      <th>27</th>\n",
       "      <td>MS</td>\n",
       "      <td>18001</td>\n",
       "      <td>131969</td>\n",
       "      <td>13.64</td>\n",
       "    </tr>\n",
       "    <tr>\n",
       "      <th>30</th>\n",
       "      <td>NV</td>\n",
       "      <td>15179</td>\n",
       "      <td>113336</td>\n",
       "      <td>13.39</td>\n",
       "    </tr>\n",
       "    <tr>\n",
       "      <th>47</th>\n",
       "      <td>DC</td>\n",
       "      <td>4440</td>\n",
       "      <td>35878</td>\n",
       "      <td>12.38</td>\n",
       "    </tr>\n",
       "    <tr>\n",
       "      <th>15</th>\n",
       "      <td>IN</td>\n",
       "      <td>52899</td>\n",
       "      <td>428138</td>\n",
       "      <td>12.36</td>\n",
       "    </tr>\n",
       "    <tr>\n",
       "      <th>11</th>\n",
       "      <td>AZ</td>\n",
       "      <td>33274</td>\n",
       "      <td>272797</td>\n",
       "      <td>12.20</td>\n",
       "    </tr>\n",
       "    <tr>\n",
       "      <th>20</th>\n",
       "      <td>AL</td>\n",
       "      <td>36340</td>\n",
       "      <td>323716</td>\n",
       "      <td>11.23</td>\n",
       "    </tr>\n",
       "  </tbody>\n",
       "</table>\n",
       "</div>"
      ],
      "text/plain": [
       "   State  DOE_Count  Reference_Count  Coverage_Percentage\n",
       "35    ID      15224            41460                36.72\n",
       "22    KY      26124            76415                34.19\n",
       "26    IA      24466            81338                30.08\n",
       "19    MN      45863           160773                28.53\n",
       "25    CT      38398           138387                27.75\n",
       "6     OH     109843           407557                26.95\n",
       "18    WI      50419           190274                26.50\n",
       "0     CA     238844           917860                26.02\n",
       "34    WV      13711            54143                25.32\n",
       "8     NC      79107           313187                25.26\n",
       "17    MO      46087           192733                23.91\n",
       "39    RI      11449            48317                23.70\n",
       "33    NE      13145            55961                23.49\n",
       "23    OR      33979           145157                23.41\n",
       "29    KS      21008            90904                23.11\n",
       "31    UT      23016           102769                22.40\n",
       "38    NH      13552            60537                22.39\n",
       "36    HI       5842            26275                22.23\n",
       "21    SC      41308           189736                21.77\n",
       "1     TX     157912           733648                21.52\n",
       "24    OK      31074           144752                21.47\n",
       "10    WA      52239           246208                21.22\n",
       "3     NY     113724           536608                21.19\n",
       "46    WY       4297            20549                20.91\n",
       "9     MI      76260           369983                20.61\n",
       "5     PA      90276           438648                20.58\n",
       "2     FL     145821           735652                19.82\n",
       "45    VT       4180            21740                19.23\n",
       "37    ME      14193            73831                19.22\n",
       "40    MT       8204            43219                18.98\n",
       "13    VA      50694           267936                18.92\n",
       "32    NM      10902            57693                18.90\n",
       "14    CO      42236           224418                18.82\n",
       "28    AR      22621           122634                18.45\n",
       "16    TN      49409           270544                18.26\n",
       "43    ND       5793            32846                17.64\n",
       "7     GA      74036           444143                16.67\n",
       "12    MA      61761           371710                16.62\n",
       "44    AK       3716            22410                16.58\n",
       "42    SD       5530            34215                16.16\n",
       "4     IL      83364           519616                16.04\n",
       "41    DE       5469            36816                14.85\n",
       "27    MS      18001           131969                13.64\n",
       "30    NV      15179           113336                13.39\n",
       "47    DC       4440            35878                12.38\n",
       "15    IN      52899           428138                12.36\n",
       "11    AZ      33274           272797                12.20\n",
       "20    AL      36340           323716                11.23"
      ]
     },
     "execution_count": 27,
     "metadata": {},
     "output_type": "execute_result"
    }
   ],
   "source": [
    "# Analyze DOE data by state and compare to reference state data\n",
    "# Count properties by state in DOE dataset\n",
    "doe_state_counts = doe_df['statecode'].value_counts().reset_index()\n",
    "doe_state_counts.columns = ['State', 'DOE_Count']\n",
    "\n",
    "# Create comparison DataFrame with internet data\n",
    "state_data_df = pd.DataFrame(list(us_commercial_properties.items()), columns=['State', 'Reference_Count'])\n",
    "\n",
    "# Merge the two datasets\n",
    "state_comparison = doe_state_counts.merge(state_data_df, on='State', how='right')\n",
    "\n",
    "# Calculate coverage percentage\n",
    "state_comparison['Coverage_Percentage'] = (state_comparison['DOE_Count'] / state_comparison['Reference_Count'] * 100).round(2)\n",
    "\n",
    "# Fill NaN values for states not in DOE dataset\n",
    "state_comparison['DOE_Count'] = state_comparison['DOE_Count'].fillna(0)\n",
    "state_comparison['Coverage_Percentage'] = state_comparison['Coverage_Percentage'].fillna(0)\n",
    "\n",
    "# Sort by coverage percentage for better visualization\n",
    "state_comparison = state_comparison.sort_values('Coverage_Percentage', ascending=False)\n",
    "\n",
    "state_comparison"
   ]
  },
  {
   "cell_type": "code",
   "execution_count": 28,
   "id": "f58e7941",
   "metadata": {},
   "outputs": [
    {
     "data": {
      "application/vnd.plotly.v1+json": {
       "config": {
        "plotlyServerURL": "https://plot.ly"
       },
       "data": [
        {
         "coloraxis": "coloraxis",
         "customdata": [
          [
           "ID",
           15224,
           41460,
           36.72
          ],
          [
           "KY",
           26124,
           76415,
           34.19
          ],
          [
           "IA",
           24466,
           81338,
           30.08
          ],
          [
           "MN",
           45863,
           160773,
           28.53
          ],
          [
           "CT",
           38398,
           138387,
           27.75
          ],
          [
           "OH",
           109843,
           407557,
           26.95
          ],
          [
           "WI",
           50419,
           190274,
           26.5
          ],
          [
           "CA",
           238844,
           917860,
           26.02
          ],
          [
           "WV",
           13711,
           54143,
           25.32
          ],
          [
           "NC",
           79107,
           313187,
           25.26
          ],
          [
           "MO",
           46087,
           192733,
           23.91
          ],
          [
           "RI",
           11449,
           48317,
           23.7
          ],
          [
           "NE",
           13145,
           55961,
           23.49
          ],
          [
           "OR",
           33979,
           145157,
           23.41
          ],
          [
           "KS",
           21008,
           90904,
           23.11
          ],
          [
           "UT",
           23016,
           102769,
           22.4
          ],
          [
           "NH",
           13552,
           60537,
           22.39
          ],
          [
           "HI",
           5842,
           26275,
           22.23
          ],
          [
           "SC",
           41308,
           189736,
           21.77
          ],
          [
           "TX",
           157912,
           733648,
           21.52
          ],
          [
           "OK",
           31074,
           144752,
           21.47
          ],
          [
           "WA",
           52239,
           246208,
           21.22
          ],
          [
           "NY",
           113724,
           536608,
           21.19
          ],
          [
           "WY",
           4297,
           20549,
           20.91
          ],
          [
           "MI",
           76260,
           369983,
           20.61
          ],
          [
           "PA",
           90276,
           438648,
           20.58
          ],
          [
           "FL",
           145821,
           735652,
           19.82
          ],
          [
           "VT",
           4180,
           21740,
           19.23
          ],
          [
           "ME",
           14193,
           73831,
           19.22
          ],
          [
           "MT",
           8204,
           43219,
           18.98
          ],
          [
           "VA",
           50694,
           267936,
           18.92
          ],
          [
           "NM",
           10902,
           57693,
           18.9
          ],
          [
           "CO",
           42236,
           224418,
           18.82
          ],
          [
           "AR",
           22621,
           122634,
           18.45
          ],
          [
           "TN",
           49409,
           270544,
           18.26
          ],
          [
           "ND",
           5793,
           32846,
           17.64
          ],
          [
           "GA",
           74036,
           444143,
           16.67
          ],
          [
           "MA",
           61761,
           371710,
           16.62
          ],
          [
           "AK",
           3716,
           22410,
           16.58
          ],
          [
           "SD",
           5530,
           34215,
           16.16
          ],
          [
           "IL",
           83364,
           519616,
           16.04
          ],
          [
           "DE",
           5469,
           36816,
           14.85
          ],
          [
           "MS",
           18001,
           131969,
           13.64
          ],
          [
           "NV",
           15179,
           113336,
           13.39
          ],
          [
           "DC",
           4440,
           35878,
           12.38
          ],
          [
           "IN",
           52899,
           428138,
           12.36
          ],
          [
           "AZ",
           33274,
           272797,
           12.2
          ],
          [
           "AL",
           36340,
           323716,
           11.23
          ]
         ],
         "geo": "geo",
         "hovertemplate": "State=%{customdata[0]}<br>DOE_Count=%{customdata[1]}<br>Reference_Count=%{customdata[2]}<br>Coverage %=%{z}<extra></extra>",
         "locationmode": "USA-states",
         "locations": [
          "ID",
          "KY",
          "IA",
          "MN",
          "CT",
          "OH",
          "WI",
          "CA",
          "WV",
          "NC",
          "MO",
          "RI",
          "NE",
          "OR",
          "KS",
          "UT",
          "NH",
          "HI",
          "SC",
          "TX",
          "OK",
          "WA",
          "NY",
          "WY",
          "MI",
          "PA",
          "FL",
          "VT",
          "ME",
          "MT",
          "VA",
          "NM",
          "CO",
          "AR",
          "TN",
          "ND",
          "GA",
          "MA",
          "AK",
          "SD",
          "IL",
          "DE",
          "MS",
          "NV",
          "DC",
          "IN",
          "AZ",
          "AL"
         ],
         "name": "",
         "type": "choropleth",
         "z": [
          36.72,
          34.19,
          30.08,
          28.53,
          27.75,
          26.95,
          26.5,
          26.02,
          25.32,
          25.26,
          23.91,
          23.7,
          23.49,
          23.41,
          23.11,
          22.4,
          22.39,
          22.23,
          21.77,
          21.52,
          21.47,
          21.22,
          21.19,
          20.91,
          20.61,
          20.58,
          19.82,
          19.23,
          19.22,
          18.98,
          18.92,
          18.9,
          18.82,
          18.45,
          18.26,
          17.64,
          16.67,
          16.62,
          16.58,
          16.16,
          16.04,
          14.85,
          13.64,
          13.39,
          12.38,
          12.36,
          12.2,
          11.23
         ]
        }
       ],
       "layout": {
        "coloraxis": {
         "colorbar": {
          "title": {
           "text": "Coverage %"
          }
         },
         "colorscale": [
          [
           0,
           "#440154"
          ],
          [
           0.1111111111111111,
           "#482878"
          ],
          [
           0.2222222222222222,
           "#3e4989"
          ],
          [
           0.3333333333333333,
           "#31688e"
          ],
          [
           0.4444444444444444,
           "#26828e"
          ],
          [
           0.5555555555555556,
           "#1f9e89"
          ],
          [
           0.6666666666666666,
           "#35b779"
          ],
          [
           0.7777777777777778,
           "#6ece58"
          ],
          [
           0.8888888888888888,
           "#b5de2b"
          ],
          [
           1,
           "#fde725"
          ]
         ]
        },
        "geo": {
         "center": {},
         "domain": {
          "x": [
           0,
           1
          ],
          "y": [
           0,
           1
          ]
         },
         "scope": "usa"
        },
        "legend": {
         "tracegroupgap": 0
        },
        "template": {
         "data": {
          "bar": [
           {
            "error_x": {
             "color": "#2a3f5f"
            },
            "error_y": {
             "color": "#2a3f5f"
            },
            "marker": {
             "line": {
              "color": "#E5ECF6",
              "width": 0.5
             },
             "pattern": {
              "fillmode": "overlay",
              "size": 10,
              "solidity": 0.2
             }
            },
            "type": "bar"
           }
          ],
          "barpolar": [
           {
            "marker": {
             "line": {
              "color": "#E5ECF6",
              "width": 0.5
             },
             "pattern": {
              "fillmode": "overlay",
              "size": 10,
              "solidity": 0.2
             }
            },
            "type": "barpolar"
           }
          ],
          "carpet": [
           {
            "aaxis": {
             "endlinecolor": "#2a3f5f",
             "gridcolor": "white",
             "linecolor": "white",
             "minorgridcolor": "white",
             "startlinecolor": "#2a3f5f"
            },
            "baxis": {
             "endlinecolor": "#2a3f5f",
             "gridcolor": "white",
             "linecolor": "white",
             "minorgridcolor": "white",
             "startlinecolor": "#2a3f5f"
            },
            "type": "carpet"
           }
          ],
          "choropleth": [
           {
            "colorbar": {
             "outlinewidth": 0,
             "ticks": ""
            },
            "type": "choropleth"
           }
          ],
          "contour": [
           {
            "colorbar": {
             "outlinewidth": 0,
             "ticks": ""
            },
            "colorscale": [
             [
              0,
              "#0d0887"
             ],
             [
              0.1111111111111111,
              "#46039f"
             ],
             [
              0.2222222222222222,
              "#7201a8"
             ],
             [
              0.3333333333333333,
              "#9c179e"
             ],
             [
              0.4444444444444444,
              "#bd3786"
             ],
             [
              0.5555555555555556,
              "#d8576b"
             ],
             [
              0.6666666666666666,
              "#ed7953"
             ],
             [
              0.7777777777777778,
              "#fb9f3a"
             ],
             [
              0.8888888888888888,
              "#fdca26"
             ],
             [
              1,
              "#f0f921"
             ]
            ],
            "type": "contour"
           }
          ],
          "contourcarpet": [
           {
            "colorbar": {
             "outlinewidth": 0,
             "ticks": ""
            },
            "type": "contourcarpet"
           }
          ],
          "heatmap": [
           {
            "colorbar": {
             "outlinewidth": 0,
             "ticks": ""
            },
            "colorscale": [
             [
              0,
              "#0d0887"
             ],
             [
              0.1111111111111111,
              "#46039f"
             ],
             [
              0.2222222222222222,
              "#7201a8"
             ],
             [
              0.3333333333333333,
              "#9c179e"
             ],
             [
              0.4444444444444444,
              "#bd3786"
             ],
             [
              0.5555555555555556,
              "#d8576b"
             ],
             [
              0.6666666666666666,
              "#ed7953"
             ],
             [
              0.7777777777777778,
              "#fb9f3a"
             ],
             [
              0.8888888888888888,
              "#fdca26"
             ],
             [
              1,
              "#f0f921"
             ]
            ],
            "type": "heatmap"
           }
          ],
          "heatmapgl": [
           {
            "colorbar": {
             "outlinewidth": 0,
             "ticks": ""
            },
            "colorscale": [
             [
              0,
              "#0d0887"
             ],
             [
              0.1111111111111111,
              "#46039f"
             ],
             [
              0.2222222222222222,
              "#7201a8"
             ],
             [
              0.3333333333333333,
              "#9c179e"
             ],
             [
              0.4444444444444444,
              "#bd3786"
             ],
             [
              0.5555555555555556,
              "#d8576b"
             ],
             [
              0.6666666666666666,
              "#ed7953"
             ],
             [
              0.7777777777777778,
              "#fb9f3a"
             ],
             [
              0.8888888888888888,
              "#fdca26"
             ],
             [
              1,
              "#f0f921"
             ]
            ],
            "type": "heatmapgl"
           }
          ],
          "histogram": [
           {
            "marker": {
             "pattern": {
              "fillmode": "overlay",
              "size": 10,
              "solidity": 0.2
             }
            },
            "type": "histogram"
           }
          ],
          "histogram2d": [
           {
            "colorbar": {
             "outlinewidth": 0,
             "ticks": ""
            },
            "colorscale": [
             [
              0,
              "#0d0887"
             ],
             [
              0.1111111111111111,
              "#46039f"
             ],
             [
              0.2222222222222222,
              "#7201a8"
             ],
             [
              0.3333333333333333,
              "#9c179e"
             ],
             [
              0.4444444444444444,
              "#bd3786"
             ],
             [
              0.5555555555555556,
              "#d8576b"
             ],
             [
              0.6666666666666666,
              "#ed7953"
             ],
             [
              0.7777777777777778,
              "#fb9f3a"
             ],
             [
              0.8888888888888888,
              "#fdca26"
             ],
             [
              1,
              "#f0f921"
             ]
            ],
            "type": "histogram2d"
           }
          ],
          "histogram2dcontour": [
           {
            "colorbar": {
             "outlinewidth": 0,
             "ticks": ""
            },
            "colorscale": [
             [
              0,
              "#0d0887"
             ],
             [
              0.1111111111111111,
              "#46039f"
             ],
             [
              0.2222222222222222,
              "#7201a8"
             ],
             [
              0.3333333333333333,
              "#9c179e"
             ],
             [
              0.4444444444444444,
              "#bd3786"
             ],
             [
              0.5555555555555556,
              "#d8576b"
             ],
             [
              0.6666666666666666,
              "#ed7953"
             ],
             [
              0.7777777777777778,
              "#fb9f3a"
             ],
             [
              0.8888888888888888,
              "#fdca26"
             ],
             [
              1,
              "#f0f921"
             ]
            ],
            "type": "histogram2dcontour"
           }
          ],
          "mesh3d": [
           {
            "colorbar": {
             "outlinewidth": 0,
             "ticks": ""
            },
            "type": "mesh3d"
           }
          ],
          "parcoords": [
           {
            "line": {
             "colorbar": {
              "outlinewidth": 0,
              "ticks": ""
             }
            },
            "type": "parcoords"
           }
          ],
          "pie": [
           {
            "automargin": true,
            "type": "pie"
           }
          ],
          "scatter": [
           {
            "fillpattern": {
             "fillmode": "overlay",
             "size": 10,
             "solidity": 0.2
            },
            "type": "scatter"
           }
          ],
          "scatter3d": [
           {
            "line": {
             "colorbar": {
              "outlinewidth": 0,
              "ticks": ""
             }
            },
            "marker": {
             "colorbar": {
              "outlinewidth": 0,
              "ticks": ""
             }
            },
            "type": "scatter3d"
           }
          ],
          "scattercarpet": [
           {
            "marker": {
             "colorbar": {
              "outlinewidth": 0,
              "ticks": ""
             }
            },
            "type": "scattercarpet"
           }
          ],
          "scattergeo": [
           {
            "marker": {
             "colorbar": {
              "outlinewidth": 0,
              "ticks": ""
             }
            },
            "type": "scattergeo"
           }
          ],
          "scattergl": [
           {
            "marker": {
             "colorbar": {
              "outlinewidth": 0,
              "ticks": ""
             }
            },
            "type": "scattergl"
           }
          ],
          "scattermapbox": [
           {
            "marker": {
             "colorbar": {
              "outlinewidth": 0,
              "ticks": ""
             }
            },
            "type": "scattermapbox"
           }
          ],
          "scatterpolar": [
           {
            "marker": {
             "colorbar": {
              "outlinewidth": 0,
              "ticks": ""
             }
            },
            "type": "scatterpolar"
           }
          ],
          "scatterpolargl": [
           {
            "marker": {
             "colorbar": {
              "outlinewidth": 0,
              "ticks": ""
             }
            },
            "type": "scatterpolargl"
           }
          ],
          "scatterternary": [
           {
            "marker": {
             "colorbar": {
              "outlinewidth": 0,
              "ticks": ""
             }
            },
            "type": "scatterternary"
           }
          ],
          "surface": [
           {
            "colorbar": {
             "outlinewidth": 0,
             "ticks": ""
            },
            "colorscale": [
             [
              0,
              "#0d0887"
             ],
             [
              0.1111111111111111,
              "#46039f"
             ],
             [
              0.2222222222222222,
              "#7201a8"
             ],
             [
              0.3333333333333333,
              "#9c179e"
             ],
             [
              0.4444444444444444,
              "#bd3786"
             ],
             [
              0.5555555555555556,
              "#d8576b"
             ],
             [
              0.6666666666666666,
              "#ed7953"
             ],
             [
              0.7777777777777778,
              "#fb9f3a"
             ],
             [
              0.8888888888888888,
              "#fdca26"
             ],
             [
              1,
              "#f0f921"
             ]
            ],
            "type": "surface"
           }
          ],
          "table": [
           {
            "cells": {
             "fill": {
              "color": "#EBF0F8"
             },
             "line": {
              "color": "white"
             }
            },
            "header": {
             "fill": {
              "color": "#C8D4E3"
             },
             "line": {
              "color": "white"
             }
            },
            "type": "table"
           }
          ]
         },
         "layout": {
          "annotationdefaults": {
           "arrowcolor": "#2a3f5f",
           "arrowhead": 0,
           "arrowwidth": 1
          },
          "autotypenumbers": "strict",
          "coloraxis": {
           "colorbar": {
            "outlinewidth": 0,
            "ticks": ""
           }
          },
          "colorscale": {
           "diverging": [
            [
             0,
             "#8e0152"
            ],
            [
             0.1,
             "#c51b7d"
            ],
            [
             0.2,
             "#de77ae"
            ],
            [
             0.3,
             "#f1b6da"
            ],
            [
             0.4,
             "#fde0ef"
            ],
            [
             0.5,
             "#f7f7f7"
            ],
            [
             0.6,
             "#e6f5d0"
            ],
            [
             0.7,
             "#b8e186"
            ],
            [
             0.8,
             "#7fbc41"
            ],
            [
             0.9,
             "#4d9221"
            ],
            [
             1,
             "#276419"
            ]
           ],
           "sequential": [
            [
             0,
             "#0d0887"
            ],
            [
             0.1111111111111111,
             "#46039f"
            ],
            [
             0.2222222222222222,
             "#7201a8"
            ],
            [
             0.3333333333333333,
             "#9c179e"
            ],
            [
             0.4444444444444444,
             "#bd3786"
            ],
            [
             0.5555555555555556,
             "#d8576b"
            ],
            [
             0.6666666666666666,
             "#ed7953"
            ],
            [
             0.7777777777777778,
             "#fb9f3a"
            ],
            [
             0.8888888888888888,
             "#fdca26"
            ],
            [
             1,
             "#f0f921"
            ]
           ],
           "sequentialminus": [
            [
             0,
             "#0d0887"
            ],
            [
             0.1111111111111111,
             "#46039f"
            ],
            [
             0.2222222222222222,
             "#7201a8"
            ],
            [
             0.3333333333333333,
             "#9c179e"
            ],
            [
             0.4444444444444444,
             "#bd3786"
            ],
            [
             0.5555555555555556,
             "#d8576b"
            ],
            [
             0.6666666666666666,
             "#ed7953"
            ],
            [
             0.7777777777777778,
             "#fb9f3a"
            ],
            [
             0.8888888888888888,
             "#fdca26"
            ],
            [
             1,
             "#f0f921"
            ]
           ]
          },
          "colorway": [
           "#636efa",
           "#EF553B",
           "#00cc96",
           "#ab63fa",
           "#FFA15A",
           "#19d3f3",
           "#FF6692",
           "#B6E880",
           "#FF97FF",
           "#FECB52"
          ],
          "font": {
           "color": "#2a3f5f"
          },
          "geo": {
           "bgcolor": "white",
           "lakecolor": "white",
           "landcolor": "#E5ECF6",
           "showlakes": true,
           "showland": true,
           "subunitcolor": "white"
          },
          "hoverlabel": {
           "align": "left"
          },
          "hovermode": "closest",
          "mapbox": {
           "style": "light"
          },
          "paper_bgcolor": "white",
          "plot_bgcolor": "#E5ECF6",
          "polar": {
           "angularaxis": {
            "gridcolor": "white",
            "linecolor": "white",
            "ticks": ""
           },
           "bgcolor": "#E5ECF6",
           "radialaxis": {
            "gridcolor": "white",
            "linecolor": "white",
            "ticks": ""
           }
          },
          "scene": {
           "xaxis": {
            "backgroundcolor": "#E5ECF6",
            "gridcolor": "white",
            "gridwidth": 2,
            "linecolor": "white",
            "showbackground": true,
            "ticks": "",
            "zerolinecolor": "white"
           },
           "yaxis": {
            "backgroundcolor": "#E5ECF6",
            "gridcolor": "white",
            "gridwidth": 2,
            "linecolor": "white",
            "showbackground": true,
            "ticks": "",
            "zerolinecolor": "white"
           },
           "zaxis": {
            "backgroundcolor": "#E5ECF6",
            "gridcolor": "white",
            "gridwidth": 2,
            "linecolor": "white",
            "showbackground": true,
            "ticks": "",
            "zerolinecolor": "white"
           }
          },
          "shapedefaults": {
           "line": {
            "color": "#2a3f5f"
           }
          },
          "ternary": {
           "aaxis": {
            "gridcolor": "white",
            "linecolor": "white",
            "ticks": ""
           },
           "baxis": {
            "gridcolor": "white",
            "linecolor": "white",
            "ticks": ""
           },
           "bgcolor": "#E5ECF6",
           "caxis": {
            "gridcolor": "white",
            "linecolor": "white",
            "ticks": ""
           }
          },
          "title": {
           "x": 0.05
          },
          "xaxis": {
           "automargin": true,
           "gridcolor": "white",
           "linecolor": "white",
           "ticks": "",
           "title": {
            "standoff": 15
           },
           "zerolinecolor": "white",
           "zerolinewidth": 2
          },
          "yaxis": {
           "automargin": true,
           "gridcolor": "white",
           "linecolor": "white",
           "ticks": "",
           "title": {
            "standoff": 15
           },
           "zerolinecolor": "white",
           "zerolinewidth": 2
          }
         }
        },
        "title": {
         "text": "DOE Dataset Coverage Percentage by State"
        }
       }
      }
     },
     "metadata": {},
     "output_type": "display_data"
    }
   ],
   "source": [
    "# Create a choropleth map of DOE dataset coverage by state\n",
    "fig = px.choropleth(state_comparison,\n",
    "                    locations='State',\n",
    "                    locationmode='USA-states',\n",
    "                    color='Coverage_Percentage',\n",
    "                    scope='usa',\n",
    "                    color_continuous_scale='Viridis',\n",
    "                    title='DOE Dataset Coverage Percentage by State',\n",
    "                    labels={'Coverage_Percentage': 'Coverage %'},\n",
    "                    hover_data=['State', 'DOE_Count', 'Reference_Count', 'Coverage_Percentage']\n",
    "                   )\n",
    "\n",
    "fig.update_layout(coloraxis_colorbar=dict(title=\"Coverage %\"))\n",
    "fig.write_image(os.path.join(output_dir, 'state_coverage_map.png'), width=1200, height=800)\n",
    "fig.show()"
   ]
  },
  {
   "cell_type": "code",
   "execution_count": 29,
   "id": "cbad43a6",
   "metadata": {},
   "outputs": [
    {
     "name": "stdout",
     "output_type": "stream",
     "text": [
      "Total properties in DOE dataset: 2,246,485\n",
      "Total commercial properties in reference data: 10,369,436\n",
      "Overall DOE dataset coverage: 21.66%\n",
      "\n",
      "Top 5 States by Coverage Percentage:\n",
      "ID: 36.72% (15,224 / 41,460)\n",
      "KY: 34.19% (26,124 / 76,415)\n",
      "IA: 30.08% (24,466 / 81,338)\n",
      "MN: 28.53% (45,863 / 160,773)\n",
      "CT: 27.75% (38,398 / 138,387)\n",
      "\n",
      "Bottom 5 States by Coverage Percentage:\n",
      "AL: 11.23% (36,340 / 323,716)\n",
      "AZ: 12.20% (33,274 / 272,797)\n",
      "IN: 12.36% (52,899 / 428,138)\n",
      "DC: 12.38% (4,440 / 35,878)\n",
      "NV: 13.39% (15,179 / 113,336)\n"
     ]
    }
   ],
   "source": [
    "# Calculate overall coverage statistics\n",
    "total_doe_properties = doe_df.shape[0]\n",
    "total_reference_properties = sum(value for value in us_commercial_properties.values())\n",
    "overall_coverage = (total_doe_properties / total_reference_properties) * 100\n",
    "\n",
    "print(f\"Total properties in DOE dataset: {total_doe_properties:,}\")\n",
    "print(f\"Total commercial properties in reference data: {total_reference_properties:,}\")\n",
    "print(f\"Overall DOE dataset coverage: {overall_coverage:.2f}%\")\n",
    "\n",
    "# Calculate top 5 states by coverage percentage\n",
    "top_states = state_comparison.head(5)\n",
    "print(\"\\nTop 5 States by Coverage Percentage:\")\n",
    "for _, row in top_states.iterrows():\n",
    "    print(f\"{row['State']}: {row['Coverage_Percentage']:.2f}% ({row['DOE_Count']:,} / {row['Reference_Count']:,})\")\n",
    "\n",
    "# Calculate top 5 states with lowest coverage\n",
    "bottom_states = state_comparison.tail(5)\n",
    "print(\"\\nBottom 5 States by Coverage Percentage:\")\n",
    "for _, row in bottom_states.iloc[::-1].iterrows():\n",
    "    print(f\"{row['State']}: {row['Coverage_Percentage']:.2f}% ({row['DOE_Count']:,} / {row['Reference_Count']:,})\")"
   ]
  },
  {
   "cell_type": "code",
   "execution_count": 30,
   "id": "a6d8b126",
   "metadata": {},
   "outputs": [
    {
     "ename": "ValueError",
     "evalue": "Grouper for 'statecode' not 1-dimensional",
     "output_type": "error",
     "traceback": [
      "\u001b[1;31m---------------------------------------------------------------------------\u001b[0m",
      "\u001b[1;31mValueError\u001b[0m                                Traceback (most recent call last)",
      "Cell \u001b[1;32mIn[30], line 8\u001b[0m\n\u001b[0;32m      5\u001b[0m top_states_df \u001b[38;5;241m=\u001b[39m doe_df[doe_df[\u001b[38;5;124m'\u001b[39m\u001b[38;5;124mstatecode\u001b[39m\u001b[38;5;124m'\u001b[39m]\u001b[38;5;241m.\u001b[39misin(top_5_states)]\n\u001b[0;32m      7\u001b[0m \u001b[38;5;66;03m# Create pivot table of property types by state\u001b[39;00m\n\u001b[1;32m----> 8\u001b[0m property_state_pivot \u001b[38;5;241m=\u001b[39m \u001b[43mpd\u001b[49m\u001b[38;5;241;43m.\u001b[39;49m\u001b[43mpivot_table\u001b[49m\u001b[43m(\u001b[49m\u001b[43mtop_states_df\u001b[49m\u001b[43m,\u001b[49m\u001b[43m \u001b[49m\n\u001b[0;32m      9\u001b[0m \u001b[43m                                      \u001b[49m\u001b[43mvalues\u001b[49m\u001b[38;5;241;43m=\u001b[39;49m\u001b[38;5;124;43m'\u001b[39;49m\u001b[38;5;124;43mstatecode\u001b[39;49m\u001b[38;5;124;43m'\u001b[39;49m\u001b[43m,\u001b[49m\u001b[43m \u001b[49m\n\u001b[0;32m     10\u001b[0m \u001b[43m                                      \u001b[49m\u001b[43mindex\u001b[49m\u001b[38;5;241;43m=\u001b[39;49m\u001b[43m[\u001b[49m\u001b[38;5;124;43m'\u001b[39;49m\u001b[38;5;124;43mcompstak_equivalent_category\u001b[39;49m\u001b[38;5;124;43m'\u001b[39;49m\u001b[43m]\u001b[49m\u001b[43m,\u001b[49m\u001b[43m \u001b[49m\n\u001b[0;32m     11\u001b[0m \u001b[43m                                      \u001b[49m\u001b[43mcolumns\u001b[49m\u001b[38;5;241;43m=\u001b[39;49m\u001b[38;5;124;43m'\u001b[39;49m\u001b[38;5;124;43mstatecode\u001b[39;49m\u001b[38;5;124;43m'\u001b[39;49m\u001b[43m,\u001b[49m\u001b[43m \u001b[49m\n\u001b[0;32m     12\u001b[0m \u001b[43m                                      \u001b[49m\u001b[43maggfunc\u001b[49m\u001b[38;5;241;43m=\u001b[39;49m\u001b[38;5;124;43m'\u001b[39;49m\u001b[38;5;124;43mcount\u001b[39;49m\u001b[38;5;124;43m'\u001b[39;49m\u001b[43m,\u001b[49m\n\u001b[0;32m     13\u001b[0m \u001b[43m                                      \u001b[49m\u001b[43mfill_value\u001b[49m\u001b[38;5;241;43m=\u001b[39;49m\u001b[38;5;241;43m0\u001b[39;49m\u001b[43m)\u001b[49m\n\u001b[0;32m     15\u001b[0m \u001b[38;5;66;03m# Add a total column\u001b[39;00m\n\u001b[0;32m     16\u001b[0m property_state_pivot[\u001b[38;5;124m'\u001b[39m\u001b[38;5;124mTotal\u001b[39m\u001b[38;5;124m'\u001b[39m] \u001b[38;5;241m=\u001b[39m property_state_pivot\u001b[38;5;241m.\u001b[39msum(axis\u001b[38;5;241m=\u001b[39m\u001b[38;5;241m1\u001b[39m)\n",
      "File \u001b[1;32m~\\AppData\\Local\\Packages\\PythonSoftwareFoundation.Python.3.11_qbz5n2kfra8p0\\LocalCache\\local-packages\\Python311\\site-packages\\pandas\\core\\reshape\\pivot.py:102\u001b[0m, in \u001b[0;36mpivot_table\u001b[1;34m(data, values, index, columns, aggfunc, fill_value, margins, dropna, margins_name, observed, sort)\u001b[0m\n\u001b[0;32m     99\u001b[0m     table \u001b[38;5;241m=\u001b[39m concat(pieces, keys\u001b[38;5;241m=\u001b[39mkeys, axis\u001b[38;5;241m=\u001b[39m\u001b[38;5;241m1\u001b[39m)\n\u001b[0;32m    100\u001b[0m     \u001b[38;5;28;01mreturn\u001b[39;00m table\u001b[38;5;241m.\u001b[39m__finalize__(data, method\u001b[38;5;241m=\u001b[39m\u001b[38;5;124m\"\u001b[39m\u001b[38;5;124mpivot_table\u001b[39m\u001b[38;5;124m\"\u001b[39m)\n\u001b[1;32m--> 102\u001b[0m table \u001b[38;5;241m=\u001b[39m \u001b[43m__internal_pivot_table\u001b[49m\u001b[43m(\u001b[49m\n\u001b[0;32m    103\u001b[0m \u001b[43m    \u001b[49m\u001b[43mdata\u001b[49m\u001b[43m,\u001b[49m\n\u001b[0;32m    104\u001b[0m \u001b[43m    \u001b[49m\u001b[43mvalues\u001b[49m\u001b[43m,\u001b[49m\n\u001b[0;32m    105\u001b[0m \u001b[43m    \u001b[49m\u001b[43mindex\u001b[49m\u001b[43m,\u001b[49m\n\u001b[0;32m    106\u001b[0m \u001b[43m    \u001b[49m\u001b[43mcolumns\u001b[49m\u001b[43m,\u001b[49m\n\u001b[0;32m    107\u001b[0m \u001b[43m    \u001b[49m\u001b[43maggfunc\u001b[49m\u001b[43m,\u001b[49m\n\u001b[0;32m    108\u001b[0m \u001b[43m    \u001b[49m\u001b[43mfill_value\u001b[49m\u001b[43m,\u001b[49m\n\u001b[0;32m    109\u001b[0m \u001b[43m    \u001b[49m\u001b[43mmargins\u001b[49m\u001b[43m,\u001b[49m\n\u001b[0;32m    110\u001b[0m \u001b[43m    \u001b[49m\u001b[43mdropna\u001b[49m\u001b[43m,\u001b[49m\n\u001b[0;32m    111\u001b[0m \u001b[43m    \u001b[49m\u001b[43mmargins_name\u001b[49m\u001b[43m,\u001b[49m\n\u001b[0;32m    112\u001b[0m \u001b[43m    \u001b[49m\u001b[43mobserved\u001b[49m\u001b[43m,\u001b[49m\n\u001b[0;32m    113\u001b[0m \u001b[43m    \u001b[49m\u001b[43msort\u001b[49m\u001b[43m,\u001b[49m\n\u001b[0;32m    114\u001b[0m \u001b[43m\u001b[49m\u001b[43m)\u001b[49m\n\u001b[0;32m    115\u001b[0m \u001b[38;5;28;01mreturn\u001b[39;00m table\u001b[38;5;241m.\u001b[39m__finalize__(data, method\u001b[38;5;241m=\u001b[39m\u001b[38;5;124m\"\u001b[39m\u001b[38;5;124mpivot_table\u001b[39m\u001b[38;5;124m\"\u001b[39m)\n",
      "File \u001b[1;32m~\\AppData\\Local\\Packages\\PythonSoftwareFoundation.Python.3.11_qbz5n2kfra8p0\\LocalCache\\local-packages\\Python311\\site-packages\\pandas\\core\\reshape\\pivot.py:172\u001b[0m, in \u001b[0;36m__internal_pivot_table\u001b[1;34m(data, values, index, columns, aggfunc, fill_value, margins, dropna, margins_name, observed, sort)\u001b[0m\n\u001b[0;32m    169\u001b[0m     values \u001b[38;5;241m=\u001b[39m \u001b[38;5;28mlist\u001b[39m(values)\n\u001b[0;32m    171\u001b[0m observed_bool \u001b[38;5;241m=\u001b[39m \u001b[38;5;28;01mFalse\u001b[39;00m \u001b[38;5;28;01mif\u001b[39;00m observed \u001b[38;5;129;01mis\u001b[39;00m lib\u001b[38;5;241m.\u001b[39mno_default \u001b[38;5;28;01melse\u001b[39;00m observed\n\u001b[1;32m--> 172\u001b[0m grouped \u001b[38;5;241m=\u001b[39m \u001b[43mdata\u001b[49m\u001b[38;5;241;43m.\u001b[39;49m\u001b[43mgroupby\u001b[49m\u001b[43m(\u001b[49m\u001b[43mkeys\u001b[49m\u001b[43m,\u001b[49m\u001b[43m \u001b[49m\u001b[43mobserved\u001b[49m\u001b[38;5;241;43m=\u001b[39;49m\u001b[43mobserved_bool\u001b[49m\u001b[43m,\u001b[49m\u001b[43m \u001b[49m\u001b[43msort\u001b[49m\u001b[38;5;241;43m=\u001b[39;49m\u001b[43msort\u001b[49m\u001b[43m,\u001b[49m\u001b[43m \u001b[49m\u001b[43mdropna\u001b[49m\u001b[38;5;241;43m=\u001b[39;49m\u001b[43mdropna\u001b[49m\u001b[43m)\u001b[49m\n\u001b[0;32m    173\u001b[0m \u001b[38;5;28;01mif\u001b[39;00m observed \u001b[38;5;129;01mis\u001b[39;00m lib\u001b[38;5;241m.\u001b[39mno_default \u001b[38;5;129;01mand\u001b[39;00m \u001b[38;5;28many\u001b[39m(\n\u001b[0;32m    174\u001b[0m     ping\u001b[38;5;241m.\u001b[39m_passed_categorical \u001b[38;5;28;01mfor\u001b[39;00m ping \u001b[38;5;129;01min\u001b[39;00m grouped\u001b[38;5;241m.\u001b[39m_grouper\u001b[38;5;241m.\u001b[39mgroupings\n\u001b[0;32m    175\u001b[0m ):\n\u001b[0;32m    176\u001b[0m     warnings\u001b[38;5;241m.\u001b[39mwarn(\n\u001b[0;32m    177\u001b[0m         \u001b[38;5;124m\"\u001b[39m\u001b[38;5;124mThe default value of observed=False is deprecated and will change \u001b[39m\u001b[38;5;124m\"\u001b[39m\n\u001b[0;32m    178\u001b[0m         \u001b[38;5;124m\"\u001b[39m\u001b[38;5;124mto observed=True in a future version of pandas. Specify \u001b[39m\u001b[38;5;124m\"\u001b[39m\n\u001b[1;32m   (...)\u001b[0m\n\u001b[0;32m    181\u001b[0m         stacklevel\u001b[38;5;241m=\u001b[39mfind_stack_level(),\n\u001b[0;32m    182\u001b[0m     )\n",
      "File \u001b[1;32m~\\AppData\\Local\\Packages\\PythonSoftwareFoundation.Python.3.11_qbz5n2kfra8p0\\LocalCache\\local-packages\\Python311\\site-packages\\pandas\\core\\frame.py:9183\u001b[0m, in \u001b[0;36mDataFrame.groupby\u001b[1;34m(self, by, axis, level, as_index, sort, group_keys, observed, dropna)\u001b[0m\n\u001b[0;32m   9180\u001b[0m \u001b[38;5;28;01mif\u001b[39;00m level \u001b[38;5;129;01mis\u001b[39;00m \u001b[38;5;28;01mNone\u001b[39;00m \u001b[38;5;129;01mand\u001b[39;00m by \u001b[38;5;129;01mis\u001b[39;00m \u001b[38;5;28;01mNone\u001b[39;00m:\n\u001b[0;32m   9181\u001b[0m     \u001b[38;5;28;01mraise\u001b[39;00m \u001b[38;5;167;01mTypeError\u001b[39;00m(\u001b[38;5;124m\"\u001b[39m\u001b[38;5;124mYou have to supply one of \u001b[39m\u001b[38;5;124m'\u001b[39m\u001b[38;5;124mby\u001b[39m\u001b[38;5;124m'\u001b[39m\u001b[38;5;124m and \u001b[39m\u001b[38;5;124m'\u001b[39m\u001b[38;5;124mlevel\u001b[39m\u001b[38;5;124m'\u001b[39m\u001b[38;5;124m\"\u001b[39m)\n\u001b[1;32m-> 9183\u001b[0m \u001b[38;5;28;01mreturn\u001b[39;00m \u001b[43mDataFrameGroupBy\u001b[49m\u001b[43m(\u001b[49m\n\u001b[0;32m   9184\u001b[0m \u001b[43m    \u001b[49m\u001b[43mobj\u001b[49m\u001b[38;5;241;43m=\u001b[39;49m\u001b[38;5;28;43mself\u001b[39;49m\u001b[43m,\u001b[49m\n\u001b[0;32m   9185\u001b[0m \u001b[43m    \u001b[49m\u001b[43mkeys\u001b[49m\u001b[38;5;241;43m=\u001b[39;49m\u001b[43mby\u001b[49m\u001b[43m,\u001b[49m\n\u001b[0;32m   9186\u001b[0m \u001b[43m    \u001b[49m\u001b[43maxis\u001b[49m\u001b[38;5;241;43m=\u001b[39;49m\u001b[43maxis\u001b[49m\u001b[43m,\u001b[49m\n\u001b[0;32m   9187\u001b[0m \u001b[43m    \u001b[49m\u001b[43mlevel\u001b[49m\u001b[38;5;241;43m=\u001b[39;49m\u001b[43mlevel\u001b[49m\u001b[43m,\u001b[49m\n\u001b[0;32m   9188\u001b[0m \u001b[43m    \u001b[49m\u001b[43mas_index\u001b[49m\u001b[38;5;241;43m=\u001b[39;49m\u001b[43mas_index\u001b[49m\u001b[43m,\u001b[49m\n\u001b[0;32m   9189\u001b[0m \u001b[43m    \u001b[49m\u001b[43msort\u001b[49m\u001b[38;5;241;43m=\u001b[39;49m\u001b[43msort\u001b[49m\u001b[43m,\u001b[49m\n\u001b[0;32m   9190\u001b[0m \u001b[43m    \u001b[49m\u001b[43mgroup_keys\u001b[49m\u001b[38;5;241;43m=\u001b[39;49m\u001b[43mgroup_keys\u001b[49m\u001b[43m,\u001b[49m\n\u001b[0;32m   9191\u001b[0m \u001b[43m    \u001b[49m\u001b[43mobserved\u001b[49m\u001b[38;5;241;43m=\u001b[39;49m\u001b[43mobserved\u001b[49m\u001b[43m,\u001b[49m\n\u001b[0;32m   9192\u001b[0m \u001b[43m    \u001b[49m\u001b[43mdropna\u001b[49m\u001b[38;5;241;43m=\u001b[39;49m\u001b[43mdropna\u001b[49m\u001b[43m,\u001b[49m\n\u001b[0;32m   9193\u001b[0m \u001b[43m\u001b[49m\u001b[43m)\u001b[49m\n",
      "File \u001b[1;32m~\\AppData\\Local\\Packages\\PythonSoftwareFoundation.Python.3.11_qbz5n2kfra8p0\\LocalCache\\local-packages\\Python311\\site-packages\\pandas\\core\\groupby\\groupby.py:1329\u001b[0m, in \u001b[0;36mGroupBy.__init__\u001b[1;34m(self, obj, keys, axis, level, grouper, exclusions, selection, as_index, sort, group_keys, observed, dropna)\u001b[0m\n\u001b[0;32m   1326\u001b[0m \u001b[38;5;28mself\u001b[39m\u001b[38;5;241m.\u001b[39mdropna \u001b[38;5;241m=\u001b[39m dropna\n\u001b[0;32m   1328\u001b[0m \u001b[38;5;28;01mif\u001b[39;00m grouper \u001b[38;5;129;01mis\u001b[39;00m \u001b[38;5;28;01mNone\u001b[39;00m:\n\u001b[1;32m-> 1329\u001b[0m     grouper, exclusions, obj \u001b[38;5;241m=\u001b[39m \u001b[43mget_grouper\u001b[49m\u001b[43m(\u001b[49m\n\u001b[0;32m   1330\u001b[0m \u001b[43m        \u001b[49m\u001b[43mobj\u001b[49m\u001b[43m,\u001b[49m\n\u001b[0;32m   1331\u001b[0m \u001b[43m        \u001b[49m\u001b[43mkeys\u001b[49m\u001b[43m,\u001b[49m\n\u001b[0;32m   1332\u001b[0m \u001b[43m        \u001b[49m\u001b[43maxis\u001b[49m\u001b[38;5;241;43m=\u001b[39;49m\u001b[43maxis\u001b[49m\u001b[43m,\u001b[49m\n\u001b[0;32m   1333\u001b[0m \u001b[43m        \u001b[49m\u001b[43mlevel\u001b[49m\u001b[38;5;241;43m=\u001b[39;49m\u001b[43mlevel\u001b[49m\u001b[43m,\u001b[49m\n\u001b[0;32m   1334\u001b[0m \u001b[43m        \u001b[49m\u001b[43msort\u001b[49m\u001b[38;5;241;43m=\u001b[39;49m\u001b[43msort\u001b[49m\u001b[43m,\u001b[49m\n\u001b[0;32m   1335\u001b[0m \u001b[43m        \u001b[49m\u001b[43mobserved\u001b[49m\u001b[38;5;241;43m=\u001b[39;49m\u001b[38;5;28;43;01mFalse\u001b[39;49;00m\u001b[43m \u001b[49m\u001b[38;5;28;43;01mif\u001b[39;49;00m\u001b[43m \u001b[49m\u001b[43mobserved\u001b[49m\u001b[43m \u001b[49m\u001b[38;5;129;43;01mis\u001b[39;49;00m\u001b[43m \u001b[49m\u001b[43mlib\u001b[49m\u001b[38;5;241;43m.\u001b[39;49m\u001b[43mno_default\u001b[49m\u001b[43m \u001b[49m\u001b[38;5;28;43;01melse\u001b[39;49;00m\u001b[43m \u001b[49m\u001b[43mobserved\u001b[49m\u001b[43m,\u001b[49m\n\u001b[0;32m   1336\u001b[0m \u001b[43m        \u001b[49m\u001b[43mdropna\u001b[49m\u001b[38;5;241;43m=\u001b[39;49m\u001b[38;5;28;43mself\u001b[39;49m\u001b[38;5;241;43m.\u001b[39;49m\u001b[43mdropna\u001b[49m\u001b[43m,\u001b[49m\n\u001b[0;32m   1337\u001b[0m \u001b[43m    \u001b[49m\u001b[43m)\u001b[49m\n\u001b[0;32m   1339\u001b[0m \u001b[38;5;28;01mif\u001b[39;00m observed \u001b[38;5;129;01mis\u001b[39;00m lib\u001b[38;5;241m.\u001b[39mno_default:\n\u001b[0;32m   1340\u001b[0m     \u001b[38;5;28;01mif\u001b[39;00m \u001b[38;5;28many\u001b[39m(ping\u001b[38;5;241m.\u001b[39m_passed_categorical \u001b[38;5;28;01mfor\u001b[39;00m ping \u001b[38;5;129;01min\u001b[39;00m grouper\u001b[38;5;241m.\u001b[39mgroupings):\n",
      "File \u001b[1;32m~\\AppData\\Local\\Packages\\PythonSoftwareFoundation.Python.3.11_qbz5n2kfra8p0\\LocalCache\\local-packages\\Python311\\site-packages\\pandas\\core\\groupby\\grouper.py:1038\u001b[0m, in \u001b[0;36mget_grouper\u001b[1;34m(obj, key, axis, level, sort, observed, validate, dropna)\u001b[0m\n\u001b[0;32m   1034\u001b[0m     in_axis, name, gpr \u001b[38;5;241m=\u001b[39m \u001b[38;5;28;01mTrue\u001b[39;00m, gpr, obj[gpr]\n\u001b[0;32m   1035\u001b[0m     \u001b[38;5;28;01mif\u001b[39;00m gpr\u001b[38;5;241m.\u001b[39mndim \u001b[38;5;241m!=\u001b[39m \u001b[38;5;241m1\u001b[39m:\n\u001b[0;32m   1036\u001b[0m         \u001b[38;5;66;03m# non-unique columns; raise here to get the name in the\u001b[39;00m\n\u001b[0;32m   1037\u001b[0m         \u001b[38;5;66;03m# exception message\u001b[39;00m\n\u001b[1;32m-> 1038\u001b[0m         \u001b[38;5;28;01mraise\u001b[39;00m \u001b[38;5;167;01mValueError\u001b[39;00m(\u001b[38;5;124mf\u001b[39m\u001b[38;5;124m\"\u001b[39m\u001b[38;5;124mGrouper for \u001b[39m\u001b[38;5;124m'\u001b[39m\u001b[38;5;132;01m{\u001b[39;00mname\u001b[38;5;132;01m}\u001b[39;00m\u001b[38;5;124m'\u001b[39m\u001b[38;5;124m not 1-dimensional\u001b[39m\u001b[38;5;124m\"\u001b[39m)\n\u001b[0;32m   1039\u001b[0m     exclusions\u001b[38;5;241m.\u001b[39madd(name)\n\u001b[0;32m   1040\u001b[0m \u001b[38;5;28;01melif\u001b[39;00m obj\u001b[38;5;241m.\u001b[39m_is_level_reference(gpr, axis\u001b[38;5;241m=\u001b[39maxis):\n",
      "\u001b[1;31mValueError\u001b[0m: Grouper for 'statecode' not 1-dimensional"
     ]
    }
   ],
   "source": [
    "# Create a summary table with property types as rows and top 5 states as columns\n",
    "# This shows the distribution of property types in the top covered states\n",
    "\n",
    "top_5_states = state_comparison.head(5)['State'].tolist()\n",
    "top_states_df = doe_df[doe_df['statecode'].isin(top_5_states)]\n",
    "\n",
    "# Create pivot table of property types by state\n",
    "property_state_pivot = pd.pivot_table(top_states_df, \n",
    "                                      values='statecode', \n",
    "                                      index=['compstak_equivalent_category'], \n",
    "                                      columns='statecode', \n",
    "                                      aggfunc='count',\n",
    "                                      fill_value=0)\n",
    "\n",
    "# Add a total column\n",
    "property_state_pivot['Total'] = property_state_pivot.sum(axis=1)\n",
    "\n",
    "# Calculate percentage for each property type\n",
    "total_all = property_state_pivot['Total'].sum()\n",
    "property_state_pivot['Percentage'] = (property_state_pivot['Total'] / total_all * 100).round(1)\n",
    "\n",
    "# Sort by total count descending\n",
    "property_state_pivot = property_state_pivot.sort_values('Total', ascending=False)\n",
    "\n",
    "property_state_pivot"
   ]
  }
 ],
 "metadata": {
  "kernelspec": {
   "display_name": "Python 3",
   "language": "python",
   "name": "python3"
  },
  "language_info": {
   "codemirror_mode": {
    "name": "ipython",
    "version": 3
   },
   "file_extension": ".py",
   "mimetype": "text/x-python",
   "name": "python",
   "nbconvert_exporter": "python",
   "pygments_lexer": "ipython3",
   "version": "3.11.9"
  }
 },
 "nbformat": 4,
 "nbformat_minor": 5
}
