{
 "cells": [
  {
   "cell_type": "code",
   "execution_count": 18,
   "id": "8f830655",
   "metadata": {},
   "outputs": [],
   "source": [
    "import pandas as pd\n",
    "import matplotlib.pyplot as plt\n",
    "import numpy as np\n",
    "import seaborn as sns\n",
    "from matplotlib_venn import venn2\n",
    "import plotly.express as px\n",
    "import plotly.graph_objects as go\n",
    "\n",
    "# Load the CSV files as DataFrames\n",
    "compstak_df = pd.read_csv(r'C:\\Users\\clint\\Desktop\\compstak-analysis\\Data\\compstak.csv')"
   ]
  },
  {
   "cell_type": "code",
   "execution_count": 19,
   "id": "276133a4",
   "metadata": {},
   "outputs": [],
   "source": [
    "doe_df = pd.read_csv(r'C:\\Users\\clint\\Desktop\\compstak-analysis\\src\\DOE.csv')"
   ]
  },
  {
   "cell_type": "code",
   "execution_count": 20,
   "id": "80a746f6",
   "metadata": {},
   "outputs": [
    {
     "data": {
      "application/vnd.microsoft.datawrangler.viewer.v0+json": {
       "columns": [
        {
         "name": "index",
         "rawType": "int64",
         "type": "integer"
        },
        {
         "name": "Property Type",
         "rawType": "object",
         "type": "unknown"
        },
        {
         "name": "Property Subtype",
         "rawType": "object",
         "type": "unknown"
        },
        {
         "name": "Property Id",
         "rawType": "int64",
         "type": "integer"
        },
        {
         "name": "State",
         "rawType": "object",
         "type": "string"
        }
       ],
       "conversionMethod": "pd.DataFrame",
       "ref": "ffbb0272-f0c0-495f-91a7-3f52a40a49e4",
       "rows": [
        [
         "0",
         "Retail",
         "Parking",
         "1",
         "NY"
        ],
        [
         "1",
         "Retail",
         "Apartments",
         "2",
         "NY"
        ],
        [
         "2",
         "Office",
         null,
         "3",
         "NY"
        ],
        [
         "3",
         "Retail",
         null,
         "4",
         "NY"
        ],
        [
         "4",
         "Office",
         "Mixed-Use",
         "5",
         "NY"
        ],
        [
         "5",
         "Office",
         "Creative",
         "6",
         "NY"
        ],
        [
         "6",
         "Office",
         null,
         "7",
         "NY"
        ],
        [
         "7",
         "Office",
         "Apartments",
         "9",
         "NY"
        ],
        [
         "8",
         "Office",
         "Medical/Healthcare",
         "10",
         "NY"
        ],
        [
         "9",
         "Retail",
         "Mixed-Use",
         "11",
         "NY"
        ],
        [
         "10",
         "Office",
         "Mixed-Use",
         "12",
         "NY"
        ],
        [
         "11",
         "Retail",
         "General Retail",
         "13",
         "NY"
        ],
        [
         "12",
         "Multi-Family",
         "Condominium",
         "14",
         "NY"
        ],
        [
         "13",
         "Office",
         "Medical/Healthcare",
         "15",
         "NY"
        ],
        [
         "14",
         "Retail",
         "Apartments",
         "16",
         "NY"
        ],
        [
         "15",
         "Mixed-Use",
         "Street Retail/Storefront",
         "17",
         "NY"
        ],
        [
         "16",
         "Office",
         "Mixed-Use",
         "18",
         "NY"
        ],
        [
         "17",
         "Office",
         "Mixed-Use",
         "19",
         "NY"
        ],
        [
         "18",
         "Multi-Family",
         "Condominium",
         "20",
         "NY"
        ],
        [
         "19",
         "Office",
         "Mixed-Use",
         "21",
         "NY"
        ],
        [
         "20",
         "Office",
         null,
         "22",
         "NY"
        ],
        [
         "21",
         "Retail",
         null,
         "23",
         "NY"
        ],
        [
         "22",
         "Office",
         null,
         "24",
         "NY"
        ],
        [
         "23",
         "Retail",
         "General Retail",
         "25",
         "NY"
        ],
        [
         "24",
         "Office",
         "General Retail",
         "26",
         "NY"
        ],
        [
         "25",
         "Office",
         null,
         "27",
         "NY"
        ],
        [
         "26",
         "Office",
         "Sports & Recreation",
         "28",
         "NY"
        ],
        [
         "27",
         "Office",
         "Apartments",
         "29",
         "NY"
        ],
        [
         "28",
         "Office",
         "Medical/Healthcare",
         "30",
         "NY"
        ],
        [
         "29",
         "Office",
         "Medical/Healthcare",
         "31",
         "NY"
        ],
        [
         "30",
         "Office",
         "General Retail",
         "33",
         "NY"
        ],
        [
         "31",
         "Office",
         null,
         "34",
         "NY"
        ],
        [
         "32",
         "Office",
         null,
         "35",
         "NY"
        ],
        [
         "33",
         "Office",
         "Mixed-Use",
         "36",
         "NY"
        ],
        [
         "34",
         "Office",
         "Medical/Healthcare",
         "37",
         "NY"
        ],
        [
         "35",
         "Office",
         null,
         "38",
         "NY"
        ],
        [
         "36",
         "Mixed-Use",
         "Mixed-Use",
         "39",
         "NY"
        ],
        [
         "37",
         "Mixed-Use",
         "Condominium",
         "40",
         "NY"
        ],
        [
         "38",
         "Retail",
         "Mixed-Use",
         "41",
         "NY"
        ],
        [
         "39",
         "Office",
         "Mixed-Use",
         "42",
         "NY"
        ],
        [
         "40",
         "Office",
         null,
         "43",
         "NY"
        ],
        [
         "41",
         "Retail",
         "General Retail",
         "44",
         "NY"
        ],
        [
         "42",
         "Multi-Family",
         "Apartments",
         "45",
         "NY"
        ],
        [
         "43",
         "Retail",
         "Street Retail/Storefront",
         "46",
         "NY"
        ],
        [
         "44",
         "Office",
         "Financial Building",
         "47",
         "NY"
        ],
        [
         "45",
         "Office",
         null,
         "48",
         "NY"
        ],
        [
         "46",
         "Office",
         null,
         "49",
         "NY"
        ],
        [
         "47",
         "Retail",
         "Apartments",
         "50",
         "NY"
        ],
        [
         "48",
         "Office",
         null,
         "51",
         "NY"
        ],
        [
         "49",
         "Retail",
         "General Retail",
         "52",
         "NY"
        ]
       ],
       "shape": {
        "columns": 4,
        "rows": 759623
       }
      },
      "text/html": [
       "<div>\n",
       "<style scoped>\n",
       "    .dataframe tbody tr th:only-of-type {\n",
       "        vertical-align: middle;\n",
       "    }\n",
       "\n",
       "    .dataframe tbody tr th {\n",
       "        vertical-align: top;\n",
       "    }\n",
       "\n",
       "    .dataframe thead th {\n",
       "        text-align: right;\n",
       "    }\n",
       "</style>\n",
       "<table border=\"1\" class=\"dataframe\">\n",
       "  <thead>\n",
       "    <tr style=\"text-align: right;\">\n",
       "      <th></th>\n",
       "      <th>Property Type</th>\n",
       "      <th>Property Subtype</th>\n",
       "      <th>Property Id</th>\n",
       "      <th>State</th>\n",
       "    </tr>\n",
       "  </thead>\n",
       "  <tbody>\n",
       "    <tr>\n",
       "      <th>0</th>\n",
       "      <td>Retail</td>\n",
       "      <td>Parking</td>\n",
       "      <td>1</td>\n",
       "      <td>NY</td>\n",
       "    </tr>\n",
       "    <tr>\n",
       "      <th>1</th>\n",
       "      <td>Retail</td>\n",
       "      <td>Apartments</td>\n",
       "      <td>2</td>\n",
       "      <td>NY</td>\n",
       "    </tr>\n",
       "    <tr>\n",
       "      <th>2</th>\n",
       "      <td>Office</td>\n",
       "      <td>NaN</td>\n",
       "      <td>3</td>\n",
       "      <td>NY</td>\n",
       "    </tr>\n",
       "    <tr>\n",
       "      <th>3</th>\n",
       "      <td>Retail</td>\n",
       "      <td>NaN</td>\n",
       "      <td>4</td>\n",
       "      <td>NY</td>\n",
       "    </tr>\n",
       "    <tr>\n",
       "      <th>4</th>\n",
       "      <td>Office</td>\n",
       "      <td>Mixed-Use</td>\n",
       "      <td>5</td>\n",
       "      <td>NY</td>\n",
       "    </tr>\n",
       "    <tr>\n",
       "      <th>...</th>\n",
       "      <td>...</td>\n",
       "      <td>...</td>\n",
       "      <td>...</td>\n",
       "      <td>...</td>\n",
       "    </tr>\n",
       "    <tr>\n",
       "      <th>759618</th>\n",
       "      <td>NaN</td>\n",
       "      <td>NaN</td>\n",
       "      <td>3611385</td>\n",
       "      <td>NY</td>\n",
       "    </tr>\n",
       "    <tr>\n",
       "      <th>759619</th>\n",
       "      <td>Industrial</td>\n",
       "      <td>Flex/R&amp;D</td>\n",
       "      <td>3611389</td>\n",
       "      <td>FL</td>\n",
       "    </tr>\n",
       "    <tr>\n",
       "      <th>759620</th>\n",
       "      <td>Industrial</td>\n",
       "      <td>Flex/R&amp;D</td>\n",
       "      <td>3611390</td>\n",
       "      <td>FL</td>\n",
       "    </tr>\n",
       "    <tr>\n",
       "      <th>759621</th>\n",
       "      <td>NaN</td>\n",
       "      <td>NaN</td>\n",
       "      <td>3611391</td>\n",
       "      <td>CA</td>\n",
       "    </tr>\n",
       "    <tr>\n",
       "      <th>759622</th>\n",
       "      <td>NaN</td>\n",
       "      <td>NaN</td>\n",
       "      <td>3611399</td>\n",
       "      <td>NY</td>\n",
       "    </tr>\n",
       "  </tbody>\n",
       "</table>\n",
       "<p>759623 rows × 4 columns</p>\n",
       "</div>"
      ],
      "text/plain": [
       "       Property Type Property Subtype  Property Id State\n",
       "0             Retail          Parking            1    NY\n",
       "1             Retail       Apartments            2    NY\n",
       "2             Office              NaN            3    NY\n",
       "3             Retail              NaN            4    NY\n",
       "4             Office        Mixed-Use            5    NY\n",
       "...              ...              ...          ...   ...\n",
       "759618           NaN              NaN      3611385    NY\n",
       "759619    Industrial         Flex/R&D      3611389    FL\n",
       "759620    Industrial         Flex/R&D      3611390    FL\n",
       "759621           NaN              NaN      3611391    CA\n",
       "759622           NaN              NaN      3611399    NY\n",
       "\n",
       "[759623 rows x 4 columns]"
      ]
     },
     "execution_count": 20,
     "metadata": {},
     "output_type": "execute_result"
    }
   ],
   "source": [
    "compstak_df"
   ]
  },
  {
   "cell_type": "code",
   "execution_count": 21,
   "id": "35815930",
   "metadata": {},
   "outputs": [
    {
     "data": {
      "application/vnd.microsoft.datawrangler.viewer.v0+json": {
       "columns": [
        {
         "name": "index",
         "rawType": "int64",
         "type": "integer"
        },
        {
         "name": "statecode",
         "rawType": "object",
         "type": "string"
        },
        {
         "name": "reported_propertytype",
         "rawType": "object",
         "type": "string"
        },
        {
         "name": "reported_propertysubtype",
         "rawType": "object",
         "type": "unknown"
        },
        {
         "name": "compstak_equivalent_category",
         "rawType": "object",
         "type": "string"
        }
       ],
       "conversionMethod": "pd.DataFrame",
       "ref": "74cef558-8ac2-43db-ac37-ba514d93017f",
       "rows": [
        [
         "0",
         "CT",
         "Flex",
         "Light Manufacturing",
         "Industrial"
        ],
        [
         "1",
         "CT",
         "Industrial",
         "Warehouse",
         "Industrial"
        ],
        [
         "2",
         "CT",
         "Industrial",
         null,
         "Industrial"
        ],
        [
         "3",
         "CT",
         "Multi-Family",
         "Apartments",
         "Multi-Family"
        ],
        [
         "4",
         "CT",
         "Multi-Family",
         "Apartments",
         "Multi-Family"
        ],
        [
         "5",
         "CT",
         "Office",
         "Office Live/Work Unit",
         "Office"
        ],
        [
         "6",
         "CT",
         "Office",
         "Office/Residential",
         "Office"
        ],
        [
         "7",
         "CT",
         "Office",
         null,
         "Office"
        ],
        [
         "8",
         "CT",
         "Office",
         null,
         "Office"
        ],
        [
         "9",
         "CT",
         "Retail",
         "Convenience Store",
         "Retail"
        ],
        [
         "10",
         "CT",
         "Retail",
         "Freestanding",
         "Retail"
        ],
        [
         "11",
         "CT",
         "Retail",
         "Freestanding",
         "Retail"
        ],
        [
         "12",
         "CT",
         "Retail",
         "Freestanding",
         "Retail"
        ],
        [
         "13",
         "CT",
         "Retail",
         "Service Station",
         "Retail"
        ],
        [
         "14",
         "CT",
         "Retail",
         "Service Station",
         "Retail"
        ],
        [
         "15",
         "CT",
         "Retail",
         null,
         "Retail"
        ],
        [
         "16",
         "CT",
         "Retail",
         null,
         "Retail"
        ],
        [
         "17",
         "CT",
         "Specialty",
         "Self-Storage",
         "Other"
        ],
        [
         "18",
         "CT",
         "Flex",
         "Light Manufacturing",
         "Industrial"
        ],
        [
         "19",
         "CT",
         "Flex",
         null,
         "Industrial"
        ],
        [
         "20",
         "CT",
         "Health Care",
         "Rehabilitation Center",
         "Other"
        ],
        [
         "21",
         "CT",
         "Industrial",
         "Distribution",
         "Industrial"
        ],
        [
         "22",
         "CT",
         "Industrial",
         "Distribution",
         "Industrial"
        ],
        [
         "23",
         "CT",
         "Industrial",
         "Manufacturing",
         "Industrial"
        ],
        [
         "24",
         "CT",
         "Industrial",
         "Manufacturing",
         "Industrial"
        ],
        [
         "25",
         "CT",
         "Industrial",
         "Manufacturing",
         "Industrial"
        ],
        [
         "26",
         "CT",
         "Industrial",
         "Manufacturing",
         "Industrial"
        ],
        [
         "27",
         "CT",
         "Industrial",
         "Service",
         "Industrial"
        ],
        [
         "28",
         "CT",
         "Industrial",
         "Service",
         "Industrial"
        ],
        [
         "29",
         "CT",
         "Industrial",
         "Warehouse",
         "Industrial"
        ],
        [
         "30",
         "CT",
         "Industrial",
         "Warehouse",
         "Industrial"
        ],
        [
         "31",
         "CT",
         "Industrial",
         "Warehouse",
         "Industrial"
        ],
        [
         "32",
         "CT",
         "Industrial",
         "Warehouse",
         "Industrial"
        ],
        [
         "33",
         "CT",
         "Industrial",
         "Warehouse",
         "Industrial"
        ],
        [
         "34",
         "CT",
         "Industrial",
         "Warehouse",
         "Industrial"
        ],
        [
         "35",
         "CT",
         "Industrial",
         "Warehouse",
         "Industrial"
        ],
        [
         "36",
         "CT",
         "Industrial",
         "Warehouse",
         "Industrial"
        ],
        [
         "37",
         "CT",
         "Industrial",
         "Warehouse",
         "Industrial"
        ],
        [
         "38",
         "CT",
         "Industrial",
         "Warehouse",
         "Industrial"
        ],
        [
         "39",
         "CT",
         "Industrial",
         "Warehouse",
         "Industrial"
        ],
        [
         "40",
         "CT",
         "Industrial",
         "Warehouse",
         "Industrial"
        ],
        [
         "41",
         "CT",
         "Industrial",
         "Warehouse",
         "Industrial"
        ],
        [
         "42",
         "CT",
         "Industrial",
         "Warehouse",
         "Industrial"
        ],
        [
         "43",
         "CT",
         "Industrial",
         null,
         "Industrial"
        ],
        [
         "44",
         "CT",
         "Industrial",
         null,
         "Industrial"
        ],
        [
         "45",
         "CT",
         "Multi-Family",
         "Apartments",
         "Multi-Family"
        ],
        [
         "46",
         "CT",
         "Multi-Family",
         "Apartments",
         "Multi-Family"
        ],
        [
         "47",
         "CT",
         "Multi-Family",
         "Apartments",
         "Multi-Family"
        ],
        [
         "48",
         "CT",
         "Multi-Family",
         "Apartments",
         "Multi-Family"
        ],
        [
         "49",
         "CT",
         "Multi-Family",
         "Apartments",
         "Multi-Family"
        ]
       ],
       "shape": {
        "columns": 4,
        "rows": 2246485
       }
      },
      "text/html": [
       "<div>\n",
       "<style scoped>\n",
       "    .dataframe tbody tr th:only-of-type {\n",
       "        vertical-align: middle;\n",
       "    }\n",
       "\n",
       "    .dataframe tbody tr th {\n",
       "        vertical-align: top;\n",
       "    }\n",
       "\n",
       "    .dataframe thead th {\n",
       "        text-align: right;\n",
       "    }\n",
       "</style>\n",
       "<table border=\"1\" class=\"dataframe\">\n",
       "  <thead>\n",
       "    <tr style=\"text-align: right;\">\n",
       "      <th></th>\n",
       "      <th>statecode</th>\n",
       "      <th>reported_propertytype</th>\n",
       "      <th>reported_propertysubtype</th>\n",
       "      <th>compstak_equivalent_category</th>\n",
       "    </tr>\n",
       "  </thead>\n",
       "  <tbody>\n",
       "    <tr>\n",
       "      <th>0</th>\n",
       "      <td>CT</td>\n",
       "      <td>Flex</td>\n",
       "      <td>Light Manufacturing</td>\n",
       "      <td>Industrial</td>\n",
       "    </tr>\n",
       "    <tr>\n",
       "      <th>1</th>\n",
       "      <td>CT</td>\n",
       "      <td>Industrial</td>\n",
       "      <td>Warehouse</td>\n",
       "      <td>Industrial</td>\n",
       "    </tr>\n",
       "    <tr>\n",
       "      <th>2</th>\n",
       "      <td>CT</td>\n",
       "      <td>Industrial</td>\n",
       "      <td>NaN</td>\n",
       "      <td>Industrial</td>\n",
       "    </tr>\n",
       "    <tr>\n",
       "      <th>3</th>\n",
       "      <td>CT</td>\n",
       "      <td>Multi-Family</td>\n",
       "      <td>Apartments</td>\n",
       "      <td>Multi-Family</td>\n",
       "    </tr>\n",
       "    <tr>\n",
       "      <th>4</th>\n",
       "      <td>CT</td>\n",
       "      <td>Multi-Family</td>\n",
       "      <td>Apartments</td>\n",
       "      <td>Multi-Family</td>\n",
       "    </tr>\n",
       "    <tr>\n",
       "      <th>...</th>\n",
       "      <td>...</td>\n",
       "      <td>...</td>\n",
       "      <td>...</td>\n",
       "      <td>...</td>\n",
       "    </tr>\n",
       "    <tr>\n",
       "      <th>2246480</th>\n",
       "      <td>WI</td>\n",
       "      <td>Retail</td>\n",
       "      <td>Storefront Retail/Office</td>\n",
       "      <td>Retail</td>\n",
       "    </tr>\n",
       "    <tr>\n",
       "      <th>2246481</th>\n",
       "      <td>WI</td>\n",
       "      <td>Retail</td>\n",
       "      <td>Storefront Retail/Office</td>\n",
       "      <td>Retail</td>\n",
       "    </tr>\n",
       "    <tr>\n",
       "      <th>2246482</th>\n",
       "      <td>WI</td>\n",
       "      <td>Retail</td>\n",
       "      <td>NaN</td>\n",
       "      <td>Retail</td>\n",
       "    </tr>\n",
       "    <tr>\n",
       "      <th>2246483</th>\n",
       "      <td>WI</td>\n",
       "      <td>Retail</td>\n",
       "      <td>NaN</td>\n",
       "      <td>Retail</td>\n",
       "    </tr>\n",
       "    <tr>\n",
       "      <th>2246484</th>\n",
       "      <td>WI</td>\n",
       "      <td>Specialty</td>\n",
       "      <td>Post Office</td>\n",
       "      <td>Other</td>\n",
       "    </tr>\n",
       "  </tbody>\n",
       "</table>\n",
       "<p>2246485 rows × 4 columns</p>\n",
       "</div>"
      ],
      "text/plain": [
       "        statecode reported_propertytype  reported_propertysubtype  \\\n",
       "0              CT                  Flex       Light Manufacturing   \n",
       "1              CT            Industrial                 Warehouse   \n",
       "2              CT            Industrial                       NaN   \n",
       "3              CT          Multi-Family                Apartments   \n",
       "4              CT          Multi-Family                Apartments   \n",
       "...           ...                   ...                       ...   \n",
       "2246480        WI                Retail  Storefront Retail/Office   \n",
       "2246481        WI                Retail  Storefront Retail/Office   \n",
       "2246482        WI                Retail                       NaN   \n",
       "2246483        WI                Retail                       NaN   \n",
       "2246484        WI             Specialty               Post Office   \n",
       "\n",
       "        compstak_equivalent_category  \n",
       "0                         Industrial  \n",
       "1                         Industrial  \n",
       "2                         Industrial  \n",
       "3                       Multi-Family  \n",
       "4                       Multi-Family  \n",
       "...                              ...  \n",
       "2246480                       Retail  \n",
       "2246481                       Retail  \n",
       "2246482                       Retail  \n",
       "2246483                       Retail  \n",
       "2246484                        Other  \n",
       "\n",
       "[2246485 rows x 4 columns]"
      ]
     },
     "execution_count": 21,
     "metadata": {},
     "output_type": "execute_result"
    }
   ],
   "source": [
    "doe_df"
   ]
  },
  {
   "cell_type": "code",
   "execution_count": 22,
   "id": "2b280343",
   "metadata": {},
   "outputs": [
    {
     "data": {
      "text/plain": [
       "array(['Street Retail/Storefront', 'Mixed-Use', 'Condominium',\n",
       "       'Educational/School', nan, 'General Retail', 'Apartments',\n",
       "       'Super-Regional Center/Mall', 'Shopping Centers',\n",
       "       'Medical/Healthcare', 'Community/Recreation Center',\n",
       "       'Business Park', 'Flex/R&D', 'Hospitality Related',\n",
       "       'Department Store', 'Parking', 'Life Science/Lab',\n",
       "       'Warehouse/Distribution', 'Municipality/Public Service',\n",
       "       'Sports & Recreation', 'Restaurant/Bar', 'Student Housing',\n",
       "       'Creative', 'Vacant Land', 'Self-Storage',\n",
       "       'Neighborhood Shopping Center', 'Special Purpose',\n",
       "       'Financial Building', 'Assembly/Meeting Place',\n",
       "       'Convenience/Strip Center', 'Community Shopping Center',\n",
       "       'Fuel & Service Station', 'Light Industrial',\n",
       "       'Refrigerated/Cold Storage', 'Automotive', 'Freestanding',\n",
       "       'Special Industrial', 'Manufacturing', 'Showroom',\n",
       "       'Mobile Home Park'], dtype=object)"
      ]
     },
     "execution_count": 22,
     "metadata": {},
     "output_type": "execute_result"
    }
   ],
   "source": [
    "#show me Mixed-Use propety type entries in the compstak_df show me unique entries in property subtype\n",
    "mixed_use_df = compstak_df[compstak_df['Property Type'] == 'Mixed-Use']\n",
    "mixed_use_df['Property Subtype'].unique()\n"
   ]
  },
  {
   "cell_type": "code",
   "execution_count": 23,
   "id": "2b3f0e04",
   "metadata": {},
   "outputs": [
    {
     "data": {
      "text/plain": [
       "array(['Vacant Land', 'Hospitality Related', 'Flex/R&D', nan,\n",
       "       'Light Industrial', 'Financial Building',\n",
       "       'Super-Regional Center/Mall', 'Parking', 'Apartments',\n",
       "       'Communication/Data Center', 'General Retail', 'Life Science/Lab',\n",
       "       'Warehouse/Distribution', 'Automotive', 'Showroom',\n",
       "       'Fuel & Service Station', 'Medical/Healthcare', 'Condominium',\n",
       "       'Freestanding', 'Mixed-Use', 'Restaurant/Bar', 'Transportation',\n",
       "       'Industrial Outdoor Storage', 'Self-Storage', 'Special Industrial',\n",
       "       'Neighborhood Shopping Center', 'Community Shopping Center',\n",
       "       'Heavy Industrial', 'Educational/School', 'Outlet',\n",
       "       'Department Store', 'Municipality/Public Service',\n",
       "       'Sports & Recreation', 'Manufacturing', 'Mobile Home Park',\n",
       "       'Convenience/Strip Center', 'Drive Thru', 'Funeral/Mortuary',\n",
       "       'Shopping Centers', 'Student Housing', 'Assembly/Meeting Place',\n",
       "       'Bank', 'Business Park', 'Special Purpose', 'Under Construction',\n",
       "       'Day Care Facility', 'Processing', 'Hospital/Healthcare Facility',\n",
       "       'Professional Building', 'Refrigerated/Cold Storage', 'Creative',\n",
       "       'Senior Housing', 'Street Retail/Storefront', 'Housing',\n",
       "       'Community/Recreation Center'], dtype=object)"
      ]
     },
     "execution_count": 23,
     "metadata": {},
     "output_type": "execute_result"
    }
   ],
   "source": [
    "\n",
    "mixed_use_df = compstak_df[compstak_df['Property Type'] == 'Land']\n",
    "mixed_use_df['Property Subtype'].unique()"
   ]
  },
  {
   "cell_type": "code",
   "execution_count": 24,
   "id": "43d7beb2",
   "metadata": {},
   "outputs": [],
   "source": [
    "doe_df.loc[\n",
    "    (doe_df['compstak_equivalent_category'] == 'Unmapped') & \n",
    "    (doe_df['reported_propertytype'] == 'Specialty'), \n",
    "    'compstak_equivalent_category'\n",
    "] = 'Other'\n"
   ]
  },
  {
   "cell_type": "code",
   "execution_count": 25,
   "id": "57d8c670",
   "metadata": {},
   "outputs": [],
   "source": [
    "doe_df.loc[\n",
    "    (doe_df['reported_propertytype'] == 'Flex') & \n",
    "    (doe_df['compstak_equivalent_category'] == 'Unmapped'), \n",
    "    'compstak_equivalent_category'\n",
    "] = 'Industrial'"
   ]
  },
  {
   "cell_type": "code",
   "execution_count": 26,
   "id": "0f6b4f57",
   "metadata": {},
   "outputs": [],
   "source": [
    "doe_df.loc[\n",
    "    (doe_df['reported_propertytype'] == 'Health Care') & \n",
    "    (doe_df['compstak_equivalent_category'] == 'Unmapped'), \n",
    "    'compstak_equivalent_category'\n",
    "] = 'Other'"
   ]
  },
  {
   "cell_type": "code",
   "execution_count": 27,
   "id": "e2fe2806",
   "metadata": {},
   "outputs": [
    {
     "data": {
      "text/plain": [
       "array(['Industrial', 'Multi-Family', 'Office', 'Retail', 'Other', 'Hotel'],\n",
       "      dtype=object)"
      ]
     },
     "execution_count": 27,
     "metadata": {},
     "output_type": "execute_result"
    }
   ],
   "source": [
    "unique_categories = doe_df['compstak_equivalent_category'].unique()\n",
    "unique_categories"
   ]
  },
  {
   "cell_type": "code",
   "execution_count": 28,
   "id": "95fa57db",
   "metadata": {},
   "outputs": [
    {
     "data": {
      "text/plain": [
       "array([], dtype=object)"
      ]
     },
     "execution_count": 28,
     "metadata": {},
     "output_type": "execute_result"
    }
   ],
   "source": [
    "# show me all unique entries in unmapped_rows reported_propertytype\n",
    "unmapped_rows = doe_df[doe_df['compstak_equivalent_category'] == 'Unmapped']\n",
    "unmapped_rows['reported_propertytype'].unique()"
   ]
  },
  {
   "cell_type": "code",
   "execution_count": 29,
   "id": "93bb7bec",
   "metadata": {},
   "outputs": [
    {
     "data": {
      "application/vnd.microsoft.datawrangler.viewer.v0+json": {
       "columns": [
        {
         "name": "index",
         "rawType": "int64",
         "type": "integer"
        },
        {
         "name": "statecode",
         "rawType": "object",
         "type": "string"
        },
        {
         "name": "reported_propertytype",
         "rawType": "object",
         "type": "string"
        },
        {
         "name": "reported_propertysubtype",
         "rawType": "object",
         "type": "string"
        },
        {
         "name": "compstak_equivalent_category",
         "rawType": "object",
         "type": "string"
        }
       ],
       "conversionMethod": "pd.DataFrame",
       "ref": "14ca36e6-20ea-486e-9d19-4dba3e383bcd",
       "rows": [],
       "shape": {
        "columns": 4,
        "rows": 0
       }
      },
      "text/html": [
       "<div>\n",
       "<style scoped>\n",
       "    .dataframe tbody tr th:only-of-type {\n",
       "        vertical-align: middle;\n",
       "    }\n",
       "\n",
       "    .dataframe tbody tr th {\n",
       "        vertical-align: top;\n",
       "    }\n",
       "\n",
       "    .dataframe thead th {\n",
       "        text-align: right;\n",
       "    }\n",
       "</style>\n",
       "<table border=\"1\" class=\"dataframe\">\n",
       "  <thead>\n",
       "    <tr style=\"text-align: right;\">\n",
       "      <th></th>\n",
       "      <th>statecode</th>\n",
       "      <th>reported_propertytype</th>\n",
       "      <th>reported_propertysubtype</th>\n",
       "      <th>compstak_equivalent_category</th>\n",
       "    </tr>\n",
       "  </thead>\n",
       "  <tbody>\n",
       "  </tbody>\n",
       "</table>\n",
       "</div>"
      ],
      "text/plain": [
       "Empty DataFrame\n",
       "Columns: [statecode, reported_propertytype, reported_propertysubtype, compstak_equivalent_category]\n",
       "Index: []"
      ]
     },
     "execution_count": 29,
     "metadata": {},
     "output_type": "execute_result"
    }
   ],
   "source": [
    "unmapped_rows = doe_df[doe_df['compstak_equivalent_category'] == 'Unmapped']\n",
    "unmapped_rows"
   ]
  },
  {
   "cell_type": "code",
   "execution_count": 30,
   "id": "f15dd557",
   "metadata": {},
   "outputs": [
    {
     "name": "stdout",
     "output_type": "stream",
     "text": [
      "DOE dataset size: 2246485 rows\n",
      "CompStak dataset size: 759623 rows\n",
      "DOE unique categories: 6\n",
      "CompStak unique property types: 8\n",
      "Number of common categories: 6\n"
     ]
    },
    {
     "data": {
      "application/vnd.plotly.v1+json": {
       "config": {
        "plotlyServerURL": "https://plot.ly"
       },
       "data": [
        {
         "branchvalues": "total",
         "ids": [
          "Retail",
          "Retail_Retail",
          "Industrial",
          "Industrial_Industrial",
          "Office",
          "Office_Office",
          "Multi-Family",
          "Multi-Family_Multi-Family",
          "Other",
          "Other_Other",
          "Hotel",
          "Hotel_Hotel"
         ],
         "labels": [
          "Retail",
          "Retail",
          "Industrial",
          "Industrial",
          "Office",
          "Office",
          "Multi-Family",
          "Multi-Family",
          "Other",
          "Other",
          "Hotel",
          "Hotel"
         ],
         "parents": [
          "",
          "Retail",
          "",
          "Industrial",
          "",
          "Office",
          "",
          "Multi-Family",
          "",
          "Other",
          "",
          "Hotel"
         ],
         "type": "sunburst",
         "values": [
          931077,
          240233,
          438534,
          188239,
          388432,
          141589,
          253361,
          84091,
          161804,
          9792,
          73277,
          4969
         ]
        }
       ],
       "layout": {
        "margin": {
         "b": 30,
         "l": 0,
         "r": 0,
         "t": 30
        },
        "template": {
         "data": {
          "bar": [
           {
            "error_x": {
             "color": "#2a3f5f"
            },
            "error_y": {
             "color": "#2a3f5f"
            },
            "marker": {
             "line": {
              "color": "#E5ECF6",
              "width": 0.5
             },
             "pattern": {
              "fillmode": "overlay",
              "size": 10,
              "solidity": 0.2
             }
            },
            "type": "bar"
           }
          ],
          "barpolar": [
           {
            "marker": {
             "line": {
              "color": "#E5ECF6",
              "width": 0.5
             },
             "pattern": {
              "fillmode": "overlay",
              "size": 10,
              "solidity": 0.2
             }
            },
            "type": "barpolar"
           }
          ],
          "carpet": [
           {
            "aaxis": {
             "endlinecolor": "#2a3f5f",
             "gridcolor": "white",
             "linecolor": "white",
             "minorgridcolor": "white",
             "startlinecolor": "#2a3f5f"
            },
            "baxis": {
             "endlinecolor": "#2a3f5f",
             "gridcolor": "white",
             "linecolor": "white",
             "minorgridcolor": "white",
             "startlinecolor": "#2a3f5f"
            },
            "type": "carpet"
           }
          ],
          "choropleth": [
           {
            "colorbar": {
             "outlinewidth": 0,
             "ticks": ""
            },
            "type": "choropleth"
           }
          ],
          "contour": [
           {
            "colorbar": {
             "outlinewidth": 0,
             "ticks": ""
            },
            "colorscale": [
             [
              0,
              "#0d0887"
             ],
             [
              0.1111111111111111,
              "#46039f"
             ],
             [
              0.2222222222222222,
              "#7201a8"
             ],
             [
              0.3333333333333333,
              "#9c179e"
             ],
             [
              0.4444444444444444,
              "#bd3786"
             ],
             [
              0.5555555555555556,
              "#d8576b"
             ],
             [
              0.6666666666666666,
              "#ed7953"
             ],
             [
              0.7777777777777778,
              "#fb9f3a"
             ],
             [
              0.8888888888888888,
              "#fdca26"
             ],
             [
              1,
              "#f0f921"
             ]
            ],
            "type": "contour"
           }
          ],
          "contourcarpet": [
           {
            "colorbar": {
             "outlinewidth": 0,
             "ticks": ""
            },
            "type": "contourcarpet"
           }
          ],
          "heatmap": [
           {
            "colorbar": {
             "outlinewidth": 0,
             "ticks": ""
            },
            "colorscale": [
             [
              0,
              "#0d0887"
             ],
             [
              0.1111111111111111,
              "#46039f"
             ],
             [
              0.2222222222222222,
              "#7201a8"
             ],
             [
              0.3333333333333333,
              "#9c179e"
             ],
             [
              0.4444444444444444,
              "#bd3786"
             ],
             [
              0.5555555555555556,
              "#d8576b"
             ],
             [
              0.6666666666666666,
              "#ed7953"
             ],
             [
              0.7777777777777778,
              "#fb9f3a"
             ],
             [
              0.8888888888888888,
              "#fdca26"
             ],
             [
              1,
              "#f0f921"
             ]
            ],
            "type": "heatmap"
           }
          ],
          "heatmapgl": [
           {
            "colorbar": {
             "outlinewidth": 0,
             "ticks": ""
            },
            "colorscale": [
             [
              0,
              "#0d0887"
             ],
             [
              0.1111111111111111,
              "#46039f"
             ],
             [
              0.2222222222222222,
              "#7201a8"
             ],
             [
              0.3333333333333333,
              "#9c179e"
             ],
             [
              0.4444444444444444,
              "#bd3786"
             ],
             [
              0.5555555555555556,
              "#d8576b"
             ],
             [
              0.6666666666666666,
              "#ed7953"
             ],
             [
              0.7777777777777778,
              "#fb9f3a"
             ],
             [
              0.8888888888888888,
              "#fdca26"
             ],
             [
              1,
              "#f0f921"
             ]
            ],
            "type": "heatmapgl"
           }
          ],
          "histogram": [
           {
            "marker": {
             "pattern": {
              "fillmode": "overlay",
              "size": 10,
              "solidity": 0.2
             }
            },
            "type": "histogram"
           }
          ],
          "histogram2d": [
           {
            "colorbar": {
             "outlinewidth": 0,
             "ticks": ""
            },
            "colorscale": [
             [
              0,
              "#0d0887"
             ],
             [
              0.1111111111111111,
              "#46039f"
             ],
             [
              0.2222222222222222,
              "#7201a8"
             ],
             [
              0.3333333333333333,
              "#9c179e"
             ],
             [
              0.4444444444444444,
              "#bd3786"
             ],
             [
              0.5555555555555556,
              "#d8576b"
             ],
             [
              0.6666666666666666,
              "#ed7953"
             ],
             [
              0.7777777777777778,
              "#fb9f3a"
             ],
             [
              0.8888888888888888,
              "#fdca26"
             ],
             [
              1,
              "#f0f921"
             ]
            ],
            "type": "histogram2d"
           }
          ],
          "histogram2dcontour": [
           {
            "colorbar": {
             "outlinewidth": 0,
             "ticks": ""
            },
            "colorscale": [
             [
              0,
              "#0d0887"
             ],
             [
              0.1111111111111111,
              "#46039f"
             ],
             [
              0.2222222222222222,
              "#7201a8"
             ],
             [
              0.3333333333333333,
              "#9c179e"
             ],
             [
              0.4444444444444444,
              "#bd3786"
             ],
             [
              0.5555555555555556,
              "#d8576b"
             ],
             [
              0.6666666666666666,
              "#ed7953"
             ],
             [
              0.7777777777777778,
              "#fb9f3a"
             ],
             [
              0.8888888888888888,
              "#fdca26"
             ],
             [
              1,
              "#f0f921"
             ]
            ],
            "type": "histogram2dcontour"
           }
          ],
          "mesh3d": [
           {
            "colorbar": {
             "outlinewidth": 0,
             "ticks": ""
            },
            "type": "mesh3d"
           }
          ],
          "parcoords": [
           {
            "line": {
             "colorbar": {
              "outlinewidth": 0,
              "ticks": ""
             }
            },
            "type": "parcoords"
           }
          ],
          "pie": [
           {
            "automargin": true,
            "type": "pie"
           }
          ],
          "scatter": [
           {
            "fillpattern": {
             "fillmode": "overlay",
             "size": 10,
             "solidity": 0.2
            },
            "type": "scatter"
           }
          ],
          "scatter3d": [
           {
            "line": {
             "colorbar": {
              "outlinewidth": 0,
              "ticks": ""
             }
            },
            "marker": {
             "colorbar": {
              "outlinewidth": 0,
              "ticks": ""
             }
            },
            "type": "scatter3d"
           }
          ],
          "scattercarpet": [
           {
            "marker": {
             "colorbar": {
              "outlinewidth": 0,
              "ticks": ""
             }
            },
            "type": "scattercarpet"
           }
          ],
          "scattergeo": [
           {
            "marker": {
             "colorbar": {
              "outlinewidth": 0,
              "ticks": ""
             }
            },
            "type": "scattergeo"
           }
          ],
          "scattergl": [
           {
            "marker": {
             "colorbar": {
              "outlinewidth": 0,
              "ticks": ""
             }
            },
            "type": "scattergl"
           }
          ],
          "scattermapbox": [
           {
            "marker": {
             "colorbar": {
              "outlinewidth": 0,
              "ticks": ""
             }
            },
            "type": "scattermapbox"
           }
          ],
          "scatterpolar": [
           {
            "marker": {
             "colorbar": {
              "outlinewidth": 0,
              "ticks": ""
             }
            },
            "type": "scatterpolar"
           }
          ],
          "scatterpolargl": [
           {
            "marker": {
             "colorbar": {
              "outlinewidth": 0,
              "ticks": ""
             }
            },
            "type": "scatterpolargl"
           }
          ],
          "scatterternary": [
           {
            "marker": {
             "colorbar": {
              "outlinewidth": 0,
              "ticks": ""
             }
            },
            "type": "scatterternary"
           }
          ],
          "surface": [
           {
            "colorbar": {
             "outlinewidth": 0,
             "ticks": ""
            },
            "colorscale": [
             [
              0,
              "#0d0887"
             ],
             [
              0.1111111111111111,
              "#46039f"
             ],
             [
              0.2222222222222222,
              "#7201a8"
             ],
             [
              0.3333333333333333,
              "#9c179e"
             ],
             [
              0.4444444444444444,
              "#bd3786"
             ],
             [
              0.5555555555555556,
              "#d8576b"
             ],
             [
              0.6666666666666666,
              "#ed7953"
             ],
             [
              0.7777777777777778,
              "#fb9f3a"
             ],
             [
              0.8888888888888888,
              "#fdca26"
             ],
             [
              1,
              "#f0f921"
             ]
            ],
            "type": "surface"
           }
          ],
          "table": [
           {
            "cells": {
             "fill": {
              "color": "#EBF0F8"
             },
             "line": {
              "color": "white"
             }
            },
            "header": {
             "fill": {
              "color": "#C8D4E3"
             },
             "line": {
              "color": "white"
             }
            },
            "type": "table"
           }
          ]
         },
         "layout": {
          "annotationdefaults": {
           "arrowcolor": "#2a3f5f",
           "arrowhead": 0,
           "arrowwidth": 1
          },
          "autotypenumbers": "strict",
          "coloraxis": {
           "colorbar": {
            "outlinewidth": 0,
            "ticks": ""
           }
          },
          "colorscale": {
           "diverging": [
            [
             0,
             "#8e0152"
            ],
            [
             0.1,
             "#c51b7d"
            ],
            [
             0.2,
             "#de77ae"
            ],
            [
             0.3,
             "#f1b6da"
            ],
            [
             0.4,
             "#fde0ef"
            ],
            [
             0.5,
             "#f7f7f7"
            ],
            [
             0.6,
             "#e6f5d0"
            ],
            [
             0.7,
             "#b8e186"
            ],
            [
             0.8,
             "#7fbc41"
            ],
            [
             0.9,
             "#4d9221"
            ],
            [
             1,
             "#276419"
            ]
           ],
           "sequential": [
            [
             0,
             "#0d0887"
            ],
            [
             0.1111111111111111,
             "#46039f"
            ],
            [
             0.2222222222222222,
             "#7201a8"
            ],
            [
             0.3333333333333333,
             "#9c179e"
            ],
            [
             0.4444444444444444,
             "#bd3786"
            ],
            [
             0.5555555555555556,
             "#d8576b"
            ],
            [
             0.6666666666666666,
             "#ed7953"
            ],
            [
             0.7777777777777778,
             "#fb9f3a"
            ],
            [
             0.8888888888888888,
             "#fdca26"
            ],
            [
             1,
             "#f0f921"
            ]
           ],
           "sequentialminus": [
            [
             0,
             "#0d0887"
            ],
            [
             0.1111111111111111,
             "#46039f"
            ],
            [
             0.2222222222222222,
             "#7201a8"
            ],
            [
             0.3333333333333333,
             "#9c179e"
            ],
            [
             0.4444444444444444,
             "#bd3786"
            ],
            [
             0.5555555555555556,
             "#d8576b"
            ],
            [
             0.6666666666666666,
             "#ed7953"
            ],
            [
             0.7777777777777778,
             "#fb9f3a"
            ],
            [
             0.8888888888888888,
             "#fdca26"
            ],
            [
             1,
             "#f0f921"
            ]
           ]
          },
          "colorway": [
           "#636efa",
           "#EF553B",
           "#00cc96",
           "#ab63fa",
           "#FFA15A",
           "#19d3f3",
           "#FF6692",
           "#B6E880",
           "#FF97FF",
           "#FECB52"
          ],
          "font": {
           "color": "#2a3f5f"
          },
          "geo": {
           "bgcolor": "white",
           "lakecolor": "white",
           "landcolor": "#E5ECF6",
           "showlakes": true,
           "showland": true,
           "subunitcolor": "white"
          },
          "hoverlabel": {
           "align": "left"
          },
          "hovermode": "closest",
          "mapbox": {
           "style": "light"
          },
          "paper_bgcolor": "white",
          "plot_bgcolor": "#E5ECF6",
          "polar": {
           "angularaxis": {
            "gridcolor": "white",
            "linecolor": "white",
            "ticks": ""
           },
           "bgcolor": "#E5ECF6",
           "radialaxis": {
            "gridcolor": "white",
            "linecolor": "white",
            "ticks": ""
           }
          },
          "scene": {
           "xaxis": {
            "backgroundcolor": "#E5ECF6",
            "gridcolor": "white",
            "gridwidth": 2,
            "linecolor": "white",
            "showbackground": true,
            "ticks": "",
            "zerolinecolor": "white"
           },
           "yaxis": {
            "backgroundcolor": "#E5ECF6",
            "gridcolor": "white",
            "gridwidth": 2,
            "linecolor": "white",
            "showbackground": true,
            "ticks": "",
            "zerolinecolor": "white"
           },
           "zaxis": {
            "backgroundcolor": "#E5ECF6",
            "gridcolor": "white",
            "gridwidth": 2,
            "linecolor": "white",
            "showbackground": true,
            "ticks": "",
            "zerolinecolor": "white"
           }
          },
          "shapedefaults": {
           "line": {
            "color": "#2a3f5f"
           }
          },
          "ternary": {
           "aaxis": {
            "gridcolor": "white",
            "linecolor": "white",
            "ticks": ""
           },
           "baxis": {
            "gridcolor": "white",
            "linecolor": "white",
            "ticks": ""
           },
           "bgcolor": "#E5ECF6",
           "caxis": {
            "gridcolor": "white",
            "linecolor": "white",
            "ticks": ""
           }
          },
          "title": {
           "x": 0.05
          },
          "xaxis": {
           "automargin": true,
           "gridcolor": "white",
           "linecolor": "white",
           "ticks": "",
           "title": {
            "standoff": 15
           },
           "zerolinecolor": "white",
           "zerolinewidth": 2
          },
          "yaxis": {
           "automargin": true,
           "gridcolor": "white",
           "linecolor": "white",
           "ticks": "",
           "title": {
            "standoff": 15
           },
           "zerolinecolor": "white",
           "zerolinewidth": 2
          }
         }
        },
        "title": {
         "text": "CompStak Coverage by Property Type"
        }
       }
      }
     },
     "metadata": {},
     "output_type": "display_data"
    }
   ],
   "source": [
    "# Create the sunburst visualization without requiring a full merge\n",
    "# First, count the occurrences of each category in both datasets\n",
    "doe_category_counts = doe_df['compstak_equivalent_category'].value_counts().reset_index()\n",
    "doe_category_counts.columns = ['compstak_equivalent_category', 'count']\n",
    "compstak_property_counts = compstak_df['Property Type'].value_counts().reset_index()\n",
    "compstak_property_counts.columns = ['Property Type', 'count']\n",
    "\n",
    "# Print the size of each dataset to understand the dimensions\n",
    "print(f\"DOE dataset size: {len(doe_df)} rows\")\n",
    "print(f\"CompStak dataset size: {len(compstak_df)} rows\")\n",
    "print(f\"DOE unique categories: {len(doe_category_counts)}\")\n",
    "print(f\"CompStak unique property types: {len(compstak_property_counts)}\")\n",
    "\n",
    "# Find common categories between the two datasets\n",
    "doe_category_counts['compstak_equivalent_category'] = doe_category_counts['compstak_equivalent_category'].astype(str)\n",
    "compstak_property_counts['Property Type'] = compstak_property_counts['Property Type'].astype(str)\n",
    "\n",
    "# Create a small mapping dataframe of common categories\n",
    "common_categories = set(doe_category_counts['compstak_equivalent_category']).intersection(\n",
    "    set(compstak_property_counts['Property Type'])\n",
    ")\n",
    "print(f\"Number of common categories: {len(common_categories)}\")\n",
    "\n",
    "# Create a dataframe for visualization with hierarchy information\n",
    "sunburst_data = []\n",
    "\n",
    "# Add DOE categories as first level\n",
    "for _, row in doe_category_counts.iterrows():\n",
    "    category = row['compstak_equivalent_category']\n",
    "    count = row['count']\n",
    "    # First level - DOE category\n",
    "    sunburst_data.append({\n",
    "        'id': category,\n",
    "        'parent': '',\n",
    "        'value': count,\n",
    "        'label': category\n",
    "    })\n",
    "    \n",
    "    # Check if this category exists in CompStak\n",
    "    if category in common_categories:\n",
    "        # Add CompStak entries as second level\n",
    "        matching_compstak = compstak_property_counts[compstak_property_counts['Property Type'] == category]\n",
    "        for _, cs_row in matching_compstak.iterrows():\n",
    "            sunburst_data.append({\n",
    "                'id': f\"{category}_{cs_row['Property Type']}\",\n",
    "                'parent': category,\n",
    "                'value': cs_row['count'],\n",
    "                'label': cs_row['Property Type']\n",
    "            })\n",
    "\n",
    "# Create DataFrame from the assembled data\n",
    "sunburst_df = pd.DataFrame(sunburst_data)\n",
    "\n",
    "# Create sunburst chart using the prepared data\n",
    "fig = go.Figure(go.Sunburst(\n",
    "    ids=sunburst_df['id'],\n",
    "    labels=sunburst_df['label'],\n",
    "    parents=sunburst_df['parent'],\n",
    "    values=sunburst_df['value'],\n",
    "    branchvalues='total'\n",
    "))\n",
    "\n",
    "fig.update_layout(\n",
    "    title='CompStak Coverage by Property Type',\n",
    "    margin=dict(t=30, b=30, l=0, r=0)\n",
    ")\n",
    "\n",
    "fig.show()\n",
    "\n",
    "# Save the figure\n",
    "fig.write_html(\"../Images/plots/category_sunburst.html\")\n",
    "fig.write_image(\"../Images/plots/category_sunburst.png\")"
   ]
  },
  {
   "cell_type": "code",
   "execution_count": 31,
   "id": "27755c75",
   "metadata": {},
   "outputs": [
    {
     "name": "stdout",
     "output_type": "stream",
     "text": [
      "Mixed-Use and Land properties with subtypes: 31195\n",
      "Mixed-Use and Land properties without subtypes (classified as Other): 22495\n",
      "Other properties with subtypes: 515173\n",
      "Properties that defaulted to original Property Type: 191894\n",
      "Properties that defaulted to 'Other' due to null Property Type: 27790\n",
      "\n",
      "First few rows with DOE-compliant property types:\n"
     ]
    },
    {
     "data": {
      "text/plain": [
       "<bound method NDFrame.head of        Property Type Property Subtype  Property Id State  \\\n",
       "0             Retail          Parking            1    NY   \n",
       "1             Retail       Apartments            2    NY   \n",
       "2             Office              NaN            3    NY   \n",
       "3             Retail              NaN            4    NY   \n",
       "4             Office        Mixed-Use            5    NY   \n",
       "...              ...              ...          ...   ...   \n",
       "759618           NaN              NaN      3611385    NY   \n",
       "759619    Industrial         Flex/R&D      3611389    FL   \n",
       "759620    Industrial         Flex/R&D      3611390    FL   \n",
       "759621           NaN              NaN      3611391    CA   \n",
       "759622           NaN              NaN      3611399    NY   \n",
       "\n",
       "       DOE_Compliant_Property_Type  \n",
       "0                            Other  \n",
       "1                     Multi-Family  \n",
       "2                           Office  \n",
       "3                           Retail  \n",
       "4                            Other  \n",
       "...                            ...  \n",
       "759618                       Other  \n",
       "759619                  Industrial  \n",
       "759620                  Industrial  \n",
       "759621                       Other  \n",
       "759622                       Other  \n",
       "\n",
       "[759623 rows x 5 columns]>"
      ]
     },
     "execution_count": 31,
     "metadata": {},
     "output_type": "execute_result"
    }
   ],
   "source": [
    "# Define the mapping from CompStak property subtypes to DOE-compliant property types\n",
    "property_to_doe_mapping = {\n",
    "    # Retail\n",
    "    'Street Retail/Storefront': 'Retail',\n",
    "    'General Retail': 'Retail',\n",
    "    'Super-Regional Center/Mall': 'Retail',\n",
    "    'Shopping Centers': 'Retail',\n",
    "    'Neighborhood Shopping Center': 'Retail',\n",
    "    'Convenience/Strip Center': 'Retail',\n",
    "    'Community Shopping Center': 'Retail',\n",
    "    'Department Store': 'Retail',\n",
    "    'Restaurant/Bar': 'Retail',\n",
    "    'Fuel & Service Station': 'Retail',\n",
    "    'Freestanding': 'Retail',\n",
    "    'Automotive': 'Retail',\n",
    "    'Outlet': 'Retail',\n",
    "    'Drive Thru': 'Retail',\n",
    "     'Showroom': 'Retail',\n",
    "\n",
    "    # Industrial\n",
    "    'Warehouse/Distribution': 'Industrial',\n",
    "    'Light Industrial': 'Industrial',\n",
    "    'Heavy Industrial': 'Industrial',\n",
    "    'Refrigerated/Cold Storage': 'Industrial',\n",
    "    'Manufacturing': 'Industrial',\n",
    "    'Special Industrial': 'Industrial',\n",
    "    'Industrial Outdoor Storage': 'Industrial',\n",
    "    'Flex/R&D': 'Industrial',\n",
    "    'Processing': 'Industrial',\n",
    "    'Life Science/Lab': 'Industrial',\n",
    "\n",
    "    # Office\n",
    "    'Business Park': 'Office',\n",
    "    'Professional Building': 'Office',\n",
    "    'Financial Building': 'Office',\n",
    "    'Bank': 'Office',\n",
    "    'Creative': 'Office',\n",
    "\n",
    "    # Multi-Family\n",
    "    'Apartments': 'Multi-Family',\n",
    "    'Student Housing': 'Multi-Family',\n",
    "    'Mobile Home Park': 'Multi-Family',\n",
    "    'Condominium': 'Multi-Family',\n",
    "    'Senior Housing': 'Multi-Family',\n",
    "    'Housing': 'Multi-Family',\n",
    "\n",
    "    # Hotel\n",
    "    'Hospitality Related': 'Hotel',\n",
    "\n",
    "    # Other\n",
    "    'Self-Storage': 'Other',\n",
    "    'Vacant Land': 'Other',\n",
    "    'Mixed-Use': 'Other',\n",
    "    'Medical/Healthcare': 'Other',\n",
    "    'Hospital/Healthcare Facility': 'Other',\n",
    "    'Day Care Facility': 'Other',\n",
    "    'Parking': 'Other',\n",
    "    'Funeral/Mortuary': 'Other',\n",
    "    'Communication/Data Center': 'Other',\n",
    "    'Assembly/Meeting Place': 'Other',\n",
    "    'Municipality/Public Service': 'Other',\n",
    "    'Educational/School': 'Other',\n",
    "    'Community/Recreation Center': 'Other',\n",
    "    'Sports & Recreation': 'Other',\n",
    "    'Transportation': 'Other',\n",
    "    'Special Purpose': 'Other',\n",
    "    'Live/Work': 'Other',\n",
    "    'Under Construction': 'Other'\n",
    "}\n",
    "\n",
    "# Create a copy of the dataframe to preserve the original\n",
    "compstak_mapped_df = compstak_df.copy()\n",
    "\n",
    "# Initialize the DOE_Compliant_Property_Type column with NaN values\n",
    "compstak_mapped_df['DOE_Compliant_Property_Type'] = pd.NA\n",
    "\n",
    "# Step 1: For Mixed-Use and Land property types, look at the property subtype\n",
    "mixed_use_land_mask = compstak_mapped_df['Property Type'].isin(['Mixed-Use', 'Land'])\n",
    "has_subtype_mask = ~compstak_mapped_df['Property Subtype'].isna()\n",
    "\n",
    "# For Mixed-Use and Land properties that have a subtype, map based on the subtype\n",
    "mixed_use_land_with_subtype = mixed_use_land_mask & has_subtype_mask\n",
    "compstak_mapped_df.loc[mixed_use_land_with_subtype, 'DOE_Compliant_Property_Type'] = \\\n",
    "    compstak_mapped_df.loc[mixed_use_land_with_subtype, 'Property Subtype'].map(property_to_doe_mapping)\n",
    "\n",
    "# Step 2: For Mixed-Use and Land properties without a subtype, classify them as 'Other'\n",
    "mixed_use_land_without_subtype = mixed_use_land_mask & ~has_subtype_mask\n",
    "compstak_mapped_df.loc[mixed_use_land_without_subtype, 'DOE_Compliant_Property_Type'] = 'Other'\n",
    "\n",
    "# Step 3: For all other property types, map directly using Property Subtype if available\n",
    "other_types_with_subtype = ~mixed_use_land_mask & has_subtype_mask\n",
    "compstak_mapped_df.loc[other_types_with_subtype, 'DOE_Compliant_Property_Type'] = \\\n",
    "    compstak_mapped_df.loc[other_types_with_subtype, 'Property Subtype'].map(property_to_doe_mapping)\n",
    "\n",
    "# Step 4: For entries where mapping by subtype didn't work or subtype is missing,\n",
    "# use the original Property Type\n",
    "remaining_unmapped = compstak_mapped_df['DOE_Compliant_Property_Type'].isna()\n",
    "compstak_mapped_df.loc[remaining_unmapped, 'DOE_Compliant_Property_Type'] = \\\n",
    "    compstak_mapped_df.loc[remaining_unmapped, 'Property Type']\n",
    "\n",
    "# Step 5: Handle entries where Property Type is also NaN (fallback to 'Other')\n",
    "null_property_type = compstak_mapped_df['DOE_Compliant_Property_Type'].isna()\n",
    "compstak_mapped_df.loc[null_property_type, 'DOE_Compliant_Property_Type'] = 'Other'\n",
    "\n",
    "# Print some statistics about the mapping\n",
    "print(f\"Mixed-Use and Land properties with subtypes: {mixed_use_land_with_subtype.sum()}\")\n",
    "print(f\"Mixed-Use and Land properties without subtypes (classified as Other): {mixed_use_land_without_subtype.sum()}\")\n",
    "print(f\"Other properties with subtypes: {other_types_with_subtype.sum()}\")\n",
    "print(f\"Properties that defaulted to original Property Type: {remaining_unmapped.sum()}\")\n",
    "print(f\"Properties that defaulted to 'Other' due to null Property Type: {null_property_type.sum()}\")\n",
    "\n",
    "# Display the first few rows of the dataframe with the new column\n",
    "print(\"\\nFirst few rows with DOE-compliant property types:\")\n",
    "compstak_mapped_df.head"
   ]
  },
  {
   "cell_type": "code",
   "execution_count": 32,
   "id": "1682cabc",
   "metadata": {},
   "outputs": [
    {
     "name": "stdout",
     "output_type": "stream",
     "text": [
      "DOE-Compliant Distribution for Mixed-Use properties:\n",
      "DOE_Compliant_Property_Type\n",
      "Other           3405\n",
      "Retail           130\n",
      "Multi-Family     122\n",
      "Industrial        30\n",
      "Hotel             11\n",
      "Office             9\n",
      "Name: count, dtype: int64\n",
      "\n",
      "DOE-Compliant Distribution for Land properties:\n",
      "DOE_Compliant_Property_Type\n",
      "Other           40041\n",
      "Retail           3904\n",
      "Multi-Family     3123\n",
      "Industrial       2208\n",
      "Hotel             403\n",
      "Office            304\n",
      "Name: count, dtype: int64\n"
     ]
    },
    {
     "data": {
      "image/png": "[encoded data removed]",
      "text/plain": [
       "<Figure size 1800x900 with 2 Axes>"
      ]
     },
     "metadata": {},
     "output_type": "display_data"
    },
    {
     "name": "stdout",
     "output_type": "stream",
     "text": [
      "\n",
      "Overall Distribution of DOE-compliant property types after enhanced mapping:\n",
      "DOE_Compliant_Property_Type\n",
      "Retail          195522\n",
      "Industrial      183106\n",
      "Other           167732\n",
      "Multi-Family    114427\n",
      "Office           88768\n",
      "Hotel            10068\n",
      "Name: count, dtype: int64\n"
     ]
    }
   ],
   "source": [
    "# Analyze the distribution of DOE-compliant property types for Mixed-Use and Land properties\n",
    "mixed_use_mapping = compstak_mapped_df[compstak_mapped_df['Property Type'] == 'Mixed-Use']['DOE_Compliant_Property_Type'].value_counts()\n",
    "land_mapping = compstak_mapped_df[compstak_mapped_df['Property Type'] == 'Land']['DOE_Compliant_Property_Type'].value_counts()\n",
    "\n",
    "print(\"DOE-Compliant Distribution for Mixed-Use properties:\")\n",
    "print(mixed_use_mapping)\n",
    "\n",
    "print(\"\\nDOE-Compliant Distribution for Land properties:\")\n",
    "print(land_mapping)\n",
    "\n",
    "# Visualize the redistribution of Mixed-Use and Land properties\n",
    "fig, (ax1, ax2) = plt.subplots(1, 2, figsize=(18, 9))\n",
    "\n",
    "# Mixed-Use distribution\n",
    "if len(mixed_use_mapping) > 0:\n",
    "    mixed_use_mapping.plot.pie(ax=ax1, autopct='%1.1f%%', shadow=True)\n",
    "    ax1.set_title('DOE-Compliant Distribution of Mixed-Use Properties', fontsize=14)\n",
    "    ax1.set_ylabel('')\n",
    "else:\n",
    "    ax1.text(0.5, 0.5, 'No Mixed-Use properties found', ha='center', va='center', fontsize=14)\n",
    "    ax1.axis('off')\n",
    "\n",
    "# Land distribution\n",
    "if len(land_mapping) > 0:\n",
    "    land_mapping.plot.pie(ax=ax2, autopct='%1.1f%%', shadow=True)\n",
    "    ax2.set_title('DOE-Compliant Distribution of Land Properties', fontsize=14)\n",
    "    ax2.set_ylabel('')\n",
    "else:\n",
    "    ax2.text(0.5, 0.5, 'No Land properties found', ha='center', va='center', fontsize=14)\n",
    "    ax2.axis('off')\n",
    "\n",
    "plt.tight_layout()\n",
    "plt.savefig('../Images/plots/mixed_use_land_doe_distribution.png', dpi=300, bbox_inches='tight')\n",
    "plt.show()\n",
    "\n",
    "# Compare the overall distribution before and after the enhanced mapping\n",
    "doe_compliant_counts = compstak_mapped_df['DOE_Compliant_Property_Type'].value_counts()\n",
    "print(\"\\nOverall Distribution of DOE-compliant property types after enhanced mapping:\")\n",
    "print(doe_compliant_counts)"
   ]
  },
  {
   "cell_type": "code",
   "execution_count": 33,
   "id": "1b1b1ed4",
   "metadata": {},
   "outputs": [
    {
     "name": "stdout",
     "output_type": "stream",
     "text": [
      "Successfully saved DOE-mapped ComptStak data to: C:\\Users\\clint\\Desktop\\compstak-analysis\\Data\\compstak_mapped.csv\n",
      "Total rows: 759623\n"
     ]
    }
   ],
   "source": [
    "# Save the mapped ComptStak DataFrame to CSV\n",
    "output_filepath = r'C:\\Users\\clint\\Desktop\\compstak-analysis\\Data\\compstak_mapped.csv'\n",
    "compstak_mapped_df.to_csv(output_filepath, index=False)\n",
    "print(f\"Successfully saved DOE-mapped ComptStak data to: {output_filepath}\")\n",
    "print(f\"Total rows: {len(compstak_mapped_df)}\")"
   ]
  },
  {
   "cell_type": "code",
   "execution_count": 34,
   "id": "7ab3fbde",
   "metadata": {},
   "outputs": [
    {
     "name": "stdout",
     "output_type": "stream",
     "text": [
      "Successfully saved DOE mapped data to: C:\\Users\\clint\\Desktop\\compstak-analysis\\Data\\DOE_mapped.csv\n",
      "Total rows: 2246485\n"
     ]
    }
   ],
   "source": [
    "# Save the DOE DataFrame to CSV\n",
    "doe_output_filepath = r'C:\\Users\\clint\\Desktop\\compstak-analysis\\Data\\DOE_mapped.csv'\n",
    "doe_df.to_csv(doe_output_filepath, index=False)\n",
    "print(f\"Successfully saved DOE mapped data to: {doe_output_filepath}\")\n",
    "print(f\"Total rows: {len(doe_df)}\")"
   ]
  },
  {
   "cell_type": "code",
   "execution_count": null,
   "id": "d72a6e5e",
   "metadata": {},
   "outputs": [],
   "source": []
  }
 ],
 "metadata": {
  "kernelspec": {
   "display_name": "Python 3",
   "language": "python",
   "name": "python3"
  },
  "language_info": {
   "codemirror_mode": {
    "name": "ipython",
    "version": 3
   },
   "file_extension": ".py",
   "mimetype": "text/x-python",
   "name": "python",
   "nbconvert_exporter": "python",
   "pygments_lexer": "ipython3",
   "version": "3.11.9"
  }
 },
 "nbformat": 4,
 "nbformat_minor": 5
}
